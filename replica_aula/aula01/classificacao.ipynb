{
 "cells": [
  {
   "cell_type": "markdown",
   "metadata": {},
   "source": [
    "# Replicando exercicios Teoricos e exemplos\n",
    "\n",
    "#O Objeto é ler o arquivo sobre coração e fazer uma analise sobre doença"
   ]
  },
  {
   "cell_type": "code",
   "execution_count": 4,
   "metadata": {},
   "outputs": [
    {
     "name": "stdout",
     "output_type": "stream",
     "text": [
      "Collecting pandas\n",
      "  Downloading pandas-2.0.3-cp38-cp38-manylinux_2_17_x86_64.manylinux2014_x86_64.whl (12.4 MB)\n",
      "\u001b[K     |████████████████████████████████| 12.4 MB 6.9 MB/s eta 0:00:01    |██████████████████▍             | 7.1 MB 5.3 MB/s eta 0:00:01     |███████████████████████████████▍| 12.1 MB 5.3 MB/s eta 0:00:01\n",
      "\u001b[?25hCollecting tzdata>=2022.1\n",
      "  Downloading tzdata-2023.3-py2.py3-none-any.whl (341 kB)\n",
      "\u001b[K     |████████████████████████████████| 341 kB 6.3 MB/s eta 0:00:01\n",
      "\u001b[?25hRequirement already satisfied: python-dateutil>=2.8.2 in /home/evans/.local/lib/python3.8/site-packages (from pandas) (2.8.2)\n",
      "Requirement already satisfied: numpy>=1.20.3; python_version < \"3.10\" in /home/evans/.local/lib/python3.8/site-packages (from pandas) (1.24.4)\n",
      "Collecting pytz>=2020.1\n",
      "  Downloading pytz-2023.3.post1-py2.py3-none-any.whl (502 kB)\n",
      "\u001b[K     |████████████████████████████████| 502 kB 5.6 MB/s eta 0:00:01\n",
      "\u001b[?25hRequirement already satisfied: six>=1.5 in /usr/lib/python3/dist-packages (from python-dateutil>=2.8.2->pandas) (1.14.0)\n",
      "Installing collected packages: tzdata, pytz, pandas\n",
      "Successfully installed pandas-2.0.3 pytz-2023.3.post1 tzdata-2023.3\n",
      "Collecting seaborn\n",
      "  Downloading seaborn-0.13.0-py3-none-any.whl (294 kB)\n",
      "\u001b[K     |████████████████████████████████| 294 kB 1.3 MB/s eta 0:00:01\n",
      "\u001b[?25hRequirement already satisfied: numpy!=1.24.0,>=1.20 in /home/evans/.local/lib/python3.8/site-packages (from seaborn) (1.24.4)\n",
      "Collecting matplotlib!=3.6.1,>=3.3\n",
      "  Downloading matplotlib-3.7.3-cp38-cp38-manylinux_2_12_x86_64.manylinux2010_x86_64.whl (9.2 MB)\n",
      "\u001b[K     |████████████████████████████████| 9.2 MB 7.3 MB/s eta 0:00:01\n",
      "\u001b[?25hRequirement already satisfied: pandas>=1.2 in /home/evans/.local/lib/python3.8/site-packages (from seaborn) (2.0.3)\n",
      "Collecting contourpy>=1.0.1\n",
      "  Downloading contourpy-1.1.1-cp38-cp38-manylinux_2_17_x86_64.manylinux2014_x86_64.whl (301 kB)\n",
      "\u001b[K     |████████████████████████████████| 301 kB 46.6 MB/s eta 0:00:01\n",
      "\u001b[?25hCollecting importlib-resources>=3.2.0; python_version < \"3.10\"\n",
      "  Downloading importlib_resources-6.1.0-py3-none-any.whl (33 kB)\n",
      "Requirement already satisfied: pillow>=6.2.0 in /usr/lib/python3/dist-packages (from matplotlib!=3.6.1,>=3.3->seaborn) (7.0.0)\n",
      "Requirement already satisfied: packaging>=20.0 in /home/evans/.local/lib/python3.8/site-packages (from matplotlib!=3.6.1,>=3.3->seaborn) (23.1)\n",
      "Collecting kiwisolver>=1.0.1\n",
      "  Downloading kiwisolver-1.4.5-cp38-cp38-manylinux_2_5_x86_64.manylinux1_x86_64.whl (1.2 MB)\n",
      "\u001b[K     |████████████████████████████████| 1.2 MB 1.6 MB/s eta 0:00:01\n",
      "\u001b[?25hCollecting cycler>=0.10\n",
      "  Downloading cycler-0.12.1-py3-none-any.whl (8.3 kB)\n",
      "Collecting pyparsing>=2.3.1\n",
      "  Downloading pyparsing-3.1.1-py3-none-any.whl (103 kB)\n",
      "\u001b[K     |████████████████████████████████| 103 kB 3.9 MB/s eta 0:00:01\n",
      "\u001b[?25hCollecting fonttools>=4.22.0\n",
      "  Downloading fonttools-4.43.1-cp38-cp38-manylinux_2_17_x86_64.manylinux2014_x86_64.whl (4.6 MB)\n",
      "\u001b[K     |████████████████████████████████| 4.6 MB 4.5 MB/s eta 0:00:01\n",
      "\u001b[?25hRequirement already satisfied: python-dateutil>=2.7 in /home/evans/.local/lib/python3.8/site-packages (from matplotlib!=3.6.1,>=3.3->seaborn) (2.8.2)\n",
      "Requirement already satisfied: pytz>=2020.1 in /home/evans/.local/lib/python3.8/site-packages (from pandas>=1.2->seaborn) (2023.3.post1)\n",
      "Requirement already satisfied: tzdata>=2022.1 in /home/evans/.local/lib/python3.8/site-packages (from pandas>=1.2->seaborn) (2023.3)\n",
      "Requirement already satisfied: zipp>=3.1.0; python_version < \"3.10\" in /home/evans/.local/lib/python3.8/site-packages (from importlib-resources>=3.2.0; python_version < \"3.10\"->matplotlib!=3.6.1,>=3.3->seaborn) (3.16.2)\n",
      "Requirement already satisfied: six>=1.5 in /usr/lib/python3/dist-packages (from python-dateutil>=2.7->matplotlib!=3.6.1,>=3.3->seaborn) (1.14.0)\n",
      "Installing collected packages: contourpy, importlib-resources, kiwisolver, cycler, pyparsing, fonttools, matplotlib, seaborn\n",
      "Successfully installed contourpy-1.1.1 cycler-0.12.1 fonttools-4.43.1 importlib-resources-6.1.0 kiwisolver-1.4.5 matplotlib-3.7.3 pyparsing-3.1.1 seaborn-0.13.0\n"
     ]
    }
   ],
   "source": [
    "!pip install pandas\n",
    "!pip install seaborn\n",
    "\n",
    "import numpy as np\n",
    "import pandas as pd\n",
    "import seaborn as sea"
   ]
  },
  {
   "cell_type": "code",
   "execution_count": 12,
   "metadata": {},
   "outputs": [
    {
     "data": {
      "text/plain": [
       "age           int64\n",
       "sex           int64\n",
       "cp            int64\n",
       "trestbps      int64\n",
       "chol          int64\n",
       "fbs           int64\n",
       "restecg       int64\n",
       "thalach       int64\n",
       "exang         int64\n",
       "oldpeak     float64\n",
       "slope         int64\n",
       "ca            int64\n",
       "thal          int64\n",
       "target        int64\n",
       "dtype: object"
      ]
     },
     "execution_count": 12,
     "metadata": {},
     "output_type": "execute_result"
    }
   ],
   "source": [
    "df = pd.read_csv(\"../../Datasets/heart.csv\")\n",
    "df\n",
    "df.dtypes"
   ]
  },
  {
   "cell_type": "markdown",
   "metadata": {},
   "source": [
    "Check list \n",
    "\n",
    "1 Leitura e Carregamento de Dados:\n",
    "     Usar bibliotecas como Pandas para carregar dados de diferentes fontes (CSV, Excel, SQL, etc.).\n",
    "2 Padronização:\n",
    "     Padronizar as colunas de valores, deixar todas como tipo flutuante.\n",
    "3 Duplicados:\n",
    "     Checar se exeistem dados duplicados.\n",
    "\n",
    "4 Dados faltantes:\n",
    "    Checar se existem dados faltantes e substituí-los ou removê-los.\n",
    "5 Tratamento de Dados Categóricos:\n",
    "    Converter variáveis categóricas em numéricas usando codificação one-hot (pandas get_dummies) ou Label Encoding (scikit-learn LabelEncoder).\n",
    "6 Redução de Dimensionalidade:\n",
    "    Usar técnicas como PCA (Análise de Componentes Principais) para reduzir a dimensionalidade de dados.\n",
    "7 Estatisticas:\n",
    "    Usar a função describe nos dados\n",
    "8 Medidas Básicas:\n",
    "    Criar um dataframe com as medidas básicas de cada coluna (média, mediana, variância e desvio padrão).\n",
    "9 Detectar e remover outliers:\n",
    "    Criar uma função que detecte e remova os outliers dos dados usando o método de intervalo interquartil (IQR).\n",
    "10 Correlação:\n",
    "    Verificar a correlação entre as variáveis.\n",
    "11 Normalização:\n",
    "    Normalizar dados numéricos para terem média zero e desvio padrão 1 usando StandardScaler do scikit-learn.\n"
   ]
  },
  {
   "cell_type": "code",
   "execution_count": 10,
   "metadata": {},
   "outputs": [
    {
     "data": {
      "text/plain": [
       "age           int64\n",
       "sex           int64\n",
       "cp            int64\n",
       "trestbps      int64\n",
       "chol          int64\n",
       "fbs           int64\n",
       "restecg       int64\n",
       "thalach       int64\n",
       "exang         int64\n",
       "oldpeak     float64\n",
       "slope         int64\n",
       "ca            int64\n",
       "thal          int64\n",
       "target        int64\n",
       "dtype: object"
      ]
     },
     "execution_count": 10,
     "metadata": {},
     "output_type": "execute_result"
    }
   ],
   "source": [
    "# 2 - padronizando os valores \n",
    "    # verificar/deixar todos os valores no mesmo tipo \n",
    "df['oldpeak'] = df['oldpeak'].apply(lambda x: float(str(x))).replace(',','.')\n",
    "df.dtypes"
   ]
  },
  {
   "cell_type": "code",
   "execution_count": 20,
   "metadata": {},
   "outputs": [
    {
     "name": "stdout",
     "output_type": "stream",
     "text": [
      "Valores duplicados:  0\n",
      "Valores duplicados final:  0\n"
     ]
    }
   ],
   "source": [
    "# 3 - Verificar elementos duplicados\n",
    "\n",
    "print(\"Valores duplicados: \", df.duplicated().sum())\n",
    "duplicatedRowDF  = df[df.duplicated()]\n",
    "duplicatedRowDF\n",
    "\n",
    "#removendo duplicados:\n",
    "df.drop_duplicates(keep='first',inplace=True)\n",
    "print(\"Valores duplicados final: \", df.duplicated().sum())\n"
   ]
  },
  {
   "cell_type": "code",
   "execution_count": 21,
   "metadata": {},
   "outputs": [
    {
     "name": "stdout",
     "output_type": "stream",
     "text": [
      "Dados nulos:  age         0\n",
      "sex         0\n",
      "cp          0\n",
      "trestbps    0\n",
      "chol        0\n",
      "fbs         0\n",
      "restecg     0\n",
      "thalach     0\n",
      "exang       0\n",
      "oldpeak     0\n",
      "slope       0\n",
      "ca          0\n",
      "thal        0\n",
      "target      0\n",
      "dtype: int64\n",
      "Dados NA:  age         0\n",
      "sex         0\n",
      "cp          0\n",
      "trestbps    0\n",
      "chol        0\n",
      "fbs         0\n",
      "restecg     0\n",
      "thalach     0\n",
      "exang       0\n",
      "oldpeak     0\n",
      "slope       0\n",
      "ca          0\n",
      "thal        0\n",
      "target      0\n",
      "dtype: int64\n"
     ]
    }
   ],
   "source": [
    "# 4 - Checar se há dados faltantes ou inexistentes\n",
    "\n",
    "print(\"Dados nulos: \", df.isnull().sum())\n",
    "print(\"Dados NA: \", df.isna().sum())\n",
    "\n",
    "\n",
    "#caso houvesse poderiamos verificar as condições\n",
    "#1 - remove-los todos se, caso tenhamos uma base grande\n",
    "#2 - para valores numéricos, substituir pela média, mediana ou moda"
   ]
  },
  {
   "cell_type": "code",
   "execution_count": 25,
   "metadata": {},
   "outputs": [
    {
     "name": "stdout",
     "output_type": "stream",
     "text": [
      "Collecting scikit-learn\n",
      "  Downloading scikit_learn-1.3.1-cp38-cp38-manylinux_2_17_x86_64.manylinux2014_x86_64.whl (11.1 MB)\n",
      "\u001b[K     |████████████████████████████████| 11.1 MB 8.3 MB/s eta 0:00:01    |████▉                           | 1.7 MB 2.4 MB/s eta 0:00:04\n",
      "\u001b[?25hCollecting scipy>=1.5.0\n",
      "  Downloading scipy-1.10.1-cp38-cp38-manylinux_2_17_x86_64.manylinux2014_x86_64.whl (34.5 MB)\n",
      "\u001b[K     |████████████████████████████████| 34.5 MB 41 kB/s  eta 0:00:012\n",
      "\u001b[?25hRequirement already satisfied: numpy<2.0,>=1.17.3 in /home/evans/.local/lib/python3.8/site-packages (from scikit-learn) (1.24.4)\n",
      "Collecting threadpoolctl>=2.0.0\n",
      "  Downloading threadpoolctl-3.2.0-py3-none-any.whl (15 kB)\n",
      "Collecting joblib>=1.1.1\n",
      "  Downloading joblib-1.3.2-py3-none-any.whl (302 kB)\n",
      "\u001b[K     |████████████████████████████████| 302 kB 4.7 MB/s eta 0:00:01\n",
      "\u001b[?25hInstalling collected packages: scipy, threadpoolctl, joblib, scikit-learn\n",
      "Successfully installed joblib-1.3.2 scikit-learn-1.3.1 scipy-1.10.1 threadpoolctl-3.2.0\n"
     ]
    }
   ],
   "source": [
    "# 5 tratando e convertendo variaveis categoricas, se houver\n",
    "# transformando em numericas usando encoderLabel\n",
    "\n",
    "\n",
    "\n",
    "# instalando e importando \n",
    "!pip3 install scikit-learn\n",
    "from sklearn.preprocessing import LabelEncoder \n",
    "\n",
    "\n",
    "# Inicialiando o Label Encoder\n",
    "\n",
    "label_encoder = LabelEncoder()\n",
    "\n",
    "#criando uma copia do df\n",
    "df_encoder = df.copy()\n",
    "\n",
    "\n",
    "# transformando as colunas do tipo objeto em categorias\n",
    "#porem nesse df nao há esse tipo, só quis exemplificar o jeito\n",
    "for col in df.columns:\n",
    "    if df_encoder[col].dtype == 'object':\n",
    "        df_encoder[col] = label_encoder.fit_transform(df_encoder[col])\n",
    "\n"
   ]
  },
  {
   "cell_type": "code",
   "execution_count": null,
   "metadata": {},
   "outputs": [],
   "source": []
  }
 ],
 "metadata": {
  "kernelspec": {
   "display_name": "Python 3 (ipykernel)",
   "language": "python",
   "name": "python3"
  },
  "language_info": {
   "codemirror_mode": {
    "name": "ipython",
    "version": 3
   },
   "file_extension": ".py",
   "mimetype": "text/x-python",
   "name": "python",
   "nbconvert_exporter": "python",
   "pygments_lexer": "ipython3",
   "version": "3.8.10"
  },
  "orig_nbformat": 4
 },
 "nbformat": 4,
 "nbformat_minor": 2
}
