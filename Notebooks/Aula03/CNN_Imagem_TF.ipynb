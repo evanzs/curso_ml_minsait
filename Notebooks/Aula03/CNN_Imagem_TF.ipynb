{
 "cells": [
  {
   "cell_type": "code",
   "execution_count": 144,
   "metadata": {},
   "outputs": [],
   "source": [
    "import tensorflow as tf\n",
    "import matplotlib.pyplot as plt\n",
    "import numpy as np\n",
    "from sklearn.preprocessing import OneHotEncoder\n",
    "#configurando para rodar em CPU\n",
    "tf.config.set_visible_devices([],'GPU')"
   ]
  },
  {
   "cell_type": "markdown",
   "metadata": {},
   "source": [
    "### Prática\n",
    "1. Aquisição e pré-processamento dos dados\n",
    "2. Treinamento\n",
    "* Implementar arquitetura\n",
    "* Definir otimizadores, métricas e regularizadores\n",
    "3. Teste (avaliação de desempenho)"
   ]
  },
  {
   "cell_type": "markdown",
   "metadata": {},
   "source": [
    "# Classificação"
   ]
  },
  {
   "cell_type": "markdown",
   "metadata": {},
   "source": [
    "#### 1. Aquisição dos dados"
   ]
  },
  {
   "cell_type": "code",
   "execution_count": 145,
   "metadata": {},
   "outputs": [],
   "source": [
    "(x_train, y_train), (x_test, y_test) = tf.keras.datasets.mnist.load_data()"
   ]
  },
  {
   "cell_type": "code",
   "execution_count": 146,
   "metadata": {},
   "outputs": [
    {
     "name": "stdout",
     "output_type": "stream",
     "text": [
      "(60000, 28, 28)\n",
      "(10000, 28, 28)\n",
      "(10000,)\n"
     ]
    }
   ],
   "source": [
    "print(x_train.shape)\n",
    "print(x_test.shape)\n",
    "print(y_test.shape)"
   ]
  },
  {
   "cell_type": "code",
   "execution_count": 147,
   "metadata": {},
   "outputs": [
    {
     "data": {
      "text/plain": [
       "array([[  0,   0,   0,   0,   0,   0,   0,   0,   0,   0,   0,   0,   0,\n",
       "          0,   0,   0,   0,   0,   0,   0,   0,   0,   0,   0,   0,   0,\n",
       "          0,   0],\n",
       "       [  0,   0,   0,   0,   0,   0,   0,   0,   0,   0,   0,   0,   0,\n",
       "          0,   0,   0,   0,   0,   0,   0,   0,   0,   0,   0,   0,   0,\n",
       "          0,   0],\n",
       "       [  0,   0,   0,   0,   0,   0,   0,   0,   0,   0,   0,   0,   0,\n",
       "          0,   0,   0,   0,   0,   0,   0,   0,   0,   0,   0,   0,   0,\n",
       "          0,   0],\n",
       "       [  0,   0,   0,   0,   0,   0,   0,   0,   0,   0,   0,   0,   0,\n",
       "          0,   0,   0,   0,   0,   0,   0,   0,   0,   0,   0,   0,   0,\n",
       "          0,   0],\n",
       "       [  0,   0,   0,   0,   0,   0,   0,   0,   0,   0,   0,   0,   0,\n",
       "          0,   0,   0,   0,   0,   0,   0,   0,   0,   0,   0,   0,   0,\n",
       "          0,   0],\n",
       "       [  0,   0,   0,   0,   0,   0,   0,   0,   0,   0,   0,   0,   3,\n",
       "         18,  18,  18, 126, 136, 175,  26, 166, 255, 247, 127,   0,   0,\n",
       "          0,   0],\n",
       "       [  0,   0,   0,   0,   0,   0,   0,   0,  30,  36,  94, 154, 170,\n",
       "        253, 253, 253, 253, 253, 225, 172, 253, 242, 195,  64,   0,   0,\n",
       "          0,   0],\n",
       "       [  0,   0,   0,   0,   0,   0,   0,  49, 238, 253, 253, 253, 253,\n",
       "        253, 253, 253, 253, 251,  93,  82,  82,  56,  39,   0,   0,   0,\n",
       "          0,   0],\n",
       "       [  0,   0,   0,   0,   0,   0,   0,  18, 219, 253, 253, 253, 253,\n",
       "        253, 198, 182, 247, 241,   0,   0,   0,   0,   0,   0,   0,   0,\n",
       "          0,   0],\n",
       "       [  0,   0,   0,   0,   0,   0,   0,   0,  80, 156, 107, 253, 253,\n",
       "        205,  11,   0,  43, 154,   0,   0,   0,   0,   0,   0,   0,   0,\n",
       "          0,   0],\n",
       "       [  0,   0,   0,   0,   0,   0,   0,   0,   0,  14,   1, 154, 253,\n",
       "         90,   0,   0,   0,   0,   0,   0,   0,   0,   0,   0,   0,   0,\n",
       "          0,   0],\n",
       "       [  0,   0,   0,   0,   0,   0,   0,   0,   0,   0,   0, 139, 253,\n",
       "        190,   2,   0,   0,   0,   0,   0,   0,   0,   0,   0,   0,   0,\n",
       "          0,   0],\n",
       "       [  0,   0,   0,   0,   0,   0,   0,   0,   0,   0,   0,  11, 190,\n",
       "        253,  70,   0,   0,   0,   0,   0,   0,   0,   0,   0,   0,   0,\n",
       "          0,   0],\n",
       "       [  0,   0,   0,   0,   0,   0,   0,   0,   0,   0,   0,   0,  35,\n",
       "        241, 225, 160, 108,   1,   0,   0,   0,   0,   0,   0,   0,   0,\n",
       "          0,   0],\n",
       "       [  0,   0,   0,   0,   0,   0,   0,   0,   0,   0,   0,   0,   0,\n",
       "         81, 240, 253, 253, 119,  25,   0,   0,   0,   0,   0,   0,   0,\n",
       "          0,   0],\n",
       "       [  0,   0,   0,   0,   0,   0,   0,   0,   0,   0,   0,   0,   0,\n",
       "          0,  45, 186, 253, 253, 150,  27,   0,   0,   0,   0,   0,   0,\n",
       "          0,   0],\n",
       "       [  0,   0,   0,   0,   0,   0,   0,   0,   0,   0,   0,   0,   0,\n",
       "          0,   0,  16,  93, 252, 253, 187,   0,   0,   0,   0,   0,   0,\n",
       "          0,   0],\n",
       "       [  0,   0,   0,   0,   0,   0,   0,   0,   0,   0,   0,   0,   0,\n",
       "          0,   0,   0,   0, 249, 253, 249,  64,   0,   0,   0,   0,   0,\n",
       "          0,   0],\n",
       "       [  0,   0,   0,   0,   0,   0,   0,   0,   0,   0,   0,   0,   0,\n",
       "          0,  46, 130, 183, 253, 253, 207,   2,   0,   0,   0,   0,   0,\n",
       "          0,   0],\n",
       "       [  0,   0,   0,   0,   0,   0,   0,   0,   0,   0,   0,   0,  39,\n",
       "        148, 229, 253, 253, 253, 250, 182,   0,   0,   0,   0,   0,   0,\n",
       "          0,   0],\n",
       "       [  0,   0,   0,   0,   0,   0,   0,   0,   0,   0,  24, 114, 221,\n",
       "        253, 253, 253, 253, 201,  78,   0,   0,   0,   0,   0,   0,   0,\n",
       "          0,   0],\n",
       "       [  0,   0,   0,   0,   0,   0,   0,   0,  23,  66, 213, 253, 253,\n",
       "        253, 253, 198,  81,   2,   0,   0,   0,   0,   0,   0,   0,   0,\n",
       "          0,   0],\n",
       "       [  0,   0,   0,   0,   0,   0,  18, 171, 219, 253, 253, 253, 253,\n",
       "        195,  80,   9,   0,   0,   0,   0,   0,   0,   0,   0,   0,   0,\n",
       "          0,   0],\n",
       "       [  0,   0,   0,   0,  55, 172, 226, 253, 253, 253, 253, 244, 133,\n",
       "         11,   0,   0,   0,   0,   0,   0,   0,   0,   0,   0,   0,   0,\n",
       "          0,   0],\n",
       "       [  0,   0,   0,   0, 136, 253, 253, 253, 212, 135, 132,  16,   0,\n",
       "          0,   0,   0,   0,   0,   0,   0,   0,   0,   0,   0,   0,   0,\n",
       "          0,   0],\n",
       "       [  0,   0,   0,   0,   0,   0,   0,   0,   0,   0,   0,   0,   0,\n",
       "          0,   0,   0,   0,   0,   0,   0,   0,   0,   0,   0,   0,   0,\n",
       "          0,   0],\n",
       "       [  0,   0,   0,   0,   0,   0,   0,   0,   0,   0,   0,   0,   0,\n",
       "          0,   0,   0,   0,   0,   0,   0,   0,   0,   0,   0,   0,   0,\n",
       "          0,   0],\n",
       "       [  0,   0,   0,   0,   0,   0,   0,   0,   0,   0,   0,   0,   0,\n",
       "          0,   0,   0,   0,   0,   0,   0,   0,   0,   0,   0,   0,   0,\n",
       "          0,   0]], dtype=uint8)"
      ]
     },
     "execution_count": 147,
     "metadata": {},
     "output_type": "execute_result"
    }
   ],
   "source": [
    "x_train[0]"
   ]
  },
  {
   "cell_type": "code",
   "execution_count": 148,
   "metadata": {},
   "outputs": [
    {
     "data": {
      "image/png": "[encoded data removed]",
      "text/plain": [
       "<Figure size 432x288 with 1 Axes>"
      ]
     },
     "metadata": {
      "needs_background": "light"
     },
     "output_type": "display_data"
    }
   ],
   "source": [
    "# Escolhendo uma imagem para plotar\n",
    "sample = 10\n",
    "image = x_train[sample]\n",
    "\n",
    "# Plotando a imagem\n",
    "fig = plt.figure\n",
    "plt.imshow(image, cmap='gray')\n",
    "plt.show()"
   ]
  },
  {
   "cell_type": "markdown",
   "metadata": {},
   "source": [
    "#### 2. Pré-processamento"
   ]
  },
  {
   "cell_type": "markdown",
   "metadata": {},
   "source": [
    "#### Normalização"
   ]
  },
  {
   "cell_type": "code",
   "execution_count": 149,
   "metadata": {},
   "outputs": [],
   "source": [
    "m = np.max(x_train)\n",
    "x_train = x_train/m\n",
    "x_test = x_test/m"
   ]
  },
  {
   "cell_type": "markdown",
   "metadata": {},
   "source": [
    "#### One hot encoder na variável alvo"
   ]
  },
  {
   "cell_type": "code",
   "execution_count": 150,
   "metadata": {},
   "outputs": [
    {
     "data": {
      "text/plain": [
       "array([5, 0, 4, ..., 5, 6, 8], dtype=uint8)"
      ]
     },
     "execution_count": 150,
     "metadata": {},
     "output_type": "execute_result"
    }
   ],
   "source": [
    "y_train"
   ]
  },
  {
   "cell_type": "code",
   "execution_count": 151,
   "metadata": {},
   "outputs": [],
   "source": [
    "hot = OneHotEncoder()\n",
    "y_train = hot.fit_transform(y_train.reshape(-1, 1)).toarray()\n",
    "y_test = hot.transform(y_test.reshape(-1, 1)).toarray()"
   ]
  },
  {
   "cell_type": "code",
   "execution_count": 152,
   "metadata": {},
   "outputs": [
    {
     "data": {
      "text/plain": [
       "array([[0., 0., 0., ..., 0., 0., 0.],\n",
       "       [1., 0., 0., ..., 0., 0., 0.],\n",
       "       [0., 0., 0., ..., 0., 0., 0.],\n",
       "       ...,\n",
       "       [0., 0., 0., ..., 0., 0., 0.],\n",
       "       [0., 0., 0., ..., 0., 0., 0.],\n",
       "       [0., 0., 0., ..., 0., 1., 0.]])"
      ]
     },
     "execution_count": 152,
     "metadata": {},
     "output_type": "execute_result"
    }
   ],
   "source": [
    "y_train"
   ]
  },
  {
   "cell_type": "markdown",
   "metadata": {},
   "source": [
    "#### 3. Particionamento de base de dados"
   ]
  },
  {
   "cell_type": "code",
   "execution_count": 153,
   "metadata": {},
   "outputs": [
    {
     "data": {
      "text/plain": [
       "((48000, 28, 28),\n",
       " (12000, 28, 28),\n",
       " (10000, 28, 28),\n",
       " (48000, 10),\n",
       " (12000, 10),\n",
       " (10000, 10))"
      ]
     },
     "execution_count": 153,
     "metadata": {},
     "output_type": "execute_result"
    }
   ],
   "source": [
    "from sklearn.model_selection import train_test_split\n",
    "\n",
    "x_treino, x_val, y_treino, y_val = train_test_split(x_train, y_train, test_size = 0.2, random_state = 13)\n",
    "\n",
    "x_treino.shape, x_val.shape, x_test.shape, y_treino.shape, y_val.shape, y_test.shape, "
   ]
  },
  {
   "cell_type": "code",
   "execution_count": 154,
   "metadata": {},
   "outputs": [],
   "source": [
    "from keras.layers import Dense, Activation, Dropout, Flatten,  Conv2D,MaxPool2D, Conv1D\n",
    "from keras.models import Sequential\n",
    "from keras.callbacks import EarlyStopping"
   ]
  },
  {
   "cell_type": "markdown",
   "metadata": {},
   "source": [
    "#### 4. Treinamento - definição de arquitetura\n",
    "1. Definir quantas camadas são necessárias par o problema\n",
    "2. A quantidade de neurônios em cada camada\n",
    "3. A função de ativação de cada camada\n",
    "4. A função de ativação da saída\n",
    "* softmax (saída não binária)\n",
    "* sigmoid (saída binária)"
   ]
  },
  {
   "cell_type": "code",
   "execution_count": 13,
   "metadata": {
    "notebookRunGroups": {
     "groupValue": "1"
    }
   },
   "outputs": [],
   "source": [
    "rede_simples = Sequential()\n",
    "rede_simples.add(Conv2D(filters=1,kernel_size=3,activation='relu',input_shape=[28,28,1]))\n",
    "# rede_simples.add(MaxPool2D(pool_size=(2,2)))\n",
    "rede_simples.add(Flatten())\n",
    "rede_simples.add(Dense(25,activation='relu'))\n",
    "rede_simples.add(Dense(10,activation='softmax'))"
   ]
  },
  {
   "cell_type": "markdown",
   "metadata": {},
   "source": [
    "### 5. Definir otimizadores"
   ]
  },
  {
   "cell_type": "code",
   "execution_count": 14,
   "metadata": {
    "notebookRunGroups": {
     "groupValue": "1"
    }
   },
   "outputs": [],
   "source": [
    "rede_simples.compile(loss = 'categorical_crossentropy', optimizer = 'Adam', metrics=['accuracy'])"
   ]
  },
  {
   "cell_type": "markdown",
   "metadata": {},
   "source": [
    "#### 6. Treinamento\n",
    "\n",
    "1. Adicionar conjuntos de treinamento e validação\n",
    "2. Determinar a quantidade de épocas"
   ]
  },
  {
   "cell_type": "code",
   "execution_count": 155,
   "metadata": {},
   "outputs": [],
   "source": [
    "x_treino = np.expand_dims(x_treino,axis=-1)\n",
    "x_val = np.expand_dims(x_val,axis=-1)"
   ]
  },
  {
   "cell_type": "code",
   "execution_count": 16,
   "metadata": {
    "notebookRunGroups": {
     "groupValue": "1"
    }
   },
   "outputs": [
    {
     "name": "stdout",
     "output_type": "stream",
     "text": [
      "Epoch 1/100\n",
      "1500/1500 [==============================] - 6s 3ms/step - loss: 0.4604 - accuracy: 0.8630 - val_loss: 0.2779 - val_accuracy: 0.9201\n",
      "Epoch 2/100\n",
      "1500/1500 [==============================] - 5s 3ms/step - loss: 0.2380 - accuracy: 0.9302 - val_loss: 0.2146 - val_accuracy: 0.9374\n",
      "Epoch 3/100\n",
      "1500/1500 [==============================] - 5s 3ms/step - loss: 0.1958 - accuracy: 0.9420 - val_loss: 0.1968 - val_accuracy: 0.9425\n",
      "Epoch 4/100\n",
      "1500/1500 [==============================] - 5s 3ms/step - loss: 0.1694 - accuracy: 0.9492 - val_loss: 0.1842 - val_accuracy: 0.9467\n",
      "Epoch 5/100\n",
      "1500/1500 [==============================] - 5s 3ms/step - loss: 0.1518 - accuracy: 0.9543 - val_loss: 0.1754 - val_accuracy: 0.9469\n",
      "Epoch 6/100\n",
      "1500/1500 [==============================] - 5s 3ms/step - loss: 0.1385 - accuracy: 0.9592 - val_loss: 0.1769 - val_accuracy: 0.9453\n",
      "Epoch 7/100\n",
      "1500/1500 [==============================] - 4s 3ms/step - loss: 0.1257 - accuracy: 0.9619 - val_loss: 0.1639 - val_accuracy: 0.9512\n",
      "Epoch 8/100\n",
      "1500/1500 [==============================] - 5s 3ms/step - loss: 0.1167 - accuracy: 0.9652 - val_loss: 0.1563 - val_accuracy: 0.9535\n",
      "Epoch 9/100\n",
      "1500/1500 [==============================] - 4s 3ms/step - loss: 0.1073 - accuracy: 0.9675 - val_loss: 0.1595 - val_accuracy: 0.9495\n",
      "Epoch 10/100\n",
      "1500/1500 [==============================] - 5s 3ms/step - loss: 0.0995 - accuracy: 0.9701 - val_loss: 0.1566 - val_accuracy: 0.9531\n",
      "Epoch 11/100\n",
      "1500/1500 [==============================] - 5s 3ms/step - loss: 0.0929 - accuracy: 0.9710 - val_loss: 0.1494 - val_accuracy: 0.9569\n",
      "Epoch 12/100\n",
      "1500/1500 [==============================] - 5s 3ms/step - loss: 0.0879 - accuracy: 0.9734 - val_loss: 0.1536 - val_accuracy: 0.9561accuracy: 0.97 - ETA: 0s - loss: 0.087\n",
      "Epoch 13/100\n",
      "1500/1500 [==============================] - 5s 3ms/step - loss: 0.0826 - accuracy: 0.9743 - val_loss: 0.1561 - val_accuracy: 0.9571\n",
      "Epoch 14/100\n",
      "1500/1500 [==============================] - 5s 3ms/step - loss: 0.0785 - accuracy: 0.9757 - val_loss: 0.1538 - val_accuracy: 0.9573\n",
      "Epoch 15/100\n",
      "1500/1500 [==============================] - 5s 3ms/step - loss: 0.0727 - accuracy: 0.9776 - val_loss: 0.1593 - val_accuracy: 0.9564\n",
      "Epoch 16/100\n",
      "1500/1500 [==============================] - 5s 3ms/step - loss: 0.0699 - accuracy: 0.9781 - val_loss: 0.1646 - val_accuracy: 0.9550\n",
      "Epoch 17/100\n",
      "1500/1500 [==============================] - 5s 3ms/step - loss: 0.0665 - accuracy: 0.9789 - val_loss: 0.1731 - val_accuracy: 0.9549\n",
      "Epoch 18/100\n",
      "1500/1500 [==============================] - 5s 3ms/step - loss: 0.0627 - accuracy: 0.9795 - val_loss: 0.1703 - val_accuracy: 0.9532\n",
      "Epoch 19/100\n",
      "1500/1500 [==============================] - 5s 3ms/step - loss: 0.0610 - accuracy: 0.9805 - val_loss: 0.1717 - val_accuracy: 0.9563\n",
      "Epoch 20/100\n",
      "1500/1500 [==============================] - 5s 3ms/step - loss: 0.0570 - accuracy: 0.9821 - val_loss: 0.1856 - val_accuracy: 0.9532\n",
      "Epoch 21/100\n",
      "1500/1500 [==============================] - 5s 3ms/step - loss: 0.0551 - accuracy: 0.9823 - val_loss: 0.1789 - val_accuracy: 0.9563\n",
      "Epoch 22/100\n",
      "1500/1500 [==============================] - 5s 3ms/step - loss: 0.0508 - accuracy: 0.9833 - val_loss: 0.1783 - val_accuracy: 0.9557\n",
      "Epoch 23/100\n",
      "1500/1500 [==============================] - 5s 3ms/step - loss: 0.0496 - accuracy: 0.9841 - val_loss: 0.1870 - val_accuracy: 0.9578\n",
      "Epoch 24/100\n",
      "1500/1500 [==============================] - 5s 4ms/step - loss: 0.0477 - accuracy: 0.9845 - val_loss: 0.1870 - val_accuracy: 0.9579\n",
      "Epoch 25/100\n",
      "1500/1500 [==============================] - 5s 3ms/step - loss: 0.0453 - accuracy: 0.9852 - val_loss: 0.1944 - val_accuracy: 0.9562\n",
      "Epoch 26/100\n",
      "1500/1500 [==============================] - 6s 4ms/step - loss: 0.0449 - accuracy: 0.9851 - val_loss: 0.1952 - val_accuracy: 0.9568\n",
      "Epoch 27/100\n",
      "1500/1500 [==============================] - 5s 3ms/step - loss: 0.0411 - accuracy: 0.9869 - val_loss: 0.2057 - val_accuracy: 0.9552\n",
      "Epoch 28/100\n",
      "1500/1500 [==============================] - 5s 3ms/step - loss: 0.0404 - accuracy: 0.9858 - val_loss: 0.2144 - val_accuracy: 0.9538\n",
      "Epoch 29/100\n",
      "1500/1500 [==============================] - 5s 3ms/step - loss: 0.0401 - accuracy: 0.9873 - val_loss: 0.2306 - val_accuracy: 0.9528\n",
      "Epoch 30/100\n",
      "1500/1500 [==============================] - 5s 3ms/step - loss: 0.0366 - accuracy: 0.9884 - val_loss: 0.2054 - val_accuracy: 0.9568\n",
      "Epoch 31/100\n",
      "1500/1500 [==============================] - 5s 3ms/step - loss: 0.0356 - accuracy: 0.9883 - val_loss: 0.2174 - val_accuracy: 0.9547\n",
      "Epoch 32/100\n",
      "1500/1500 [==============================] - 5s 3ms/step - loss: 0.0364 - accuracy: 0.9880 - val_loss: 0.2171 - val_accuracy: 0.9555\n",
      "Epoch 33/100\n",
      "1500/1500 [==============================] - 5s 3ms/step - loss: 0.0328 - accuracy: 0.9888 - val_loss: 0.2323 - val_accuracy: 0.9552\n",
      "Epoch 34/100\n",
      "1500/1500 [==============================] - 5s 3ms/step - loss: 0.0320 - accuracy: 0.9895 - val_loss: 0.2320 - val_accuracy: 0.9565\n",
      "Epoch 35/100\n",
      "1500/1500 [==============================] - 5s 4ms/step - loss: 0.0321 - accuracy: 0.9892 - val_loss: 0.2316 - val_accuracy: 0.9563\n",
      "Epoch 36/100\n",
      "1500/1500 [==============================] - 6s 4ms/step - loss: 0.0296 - accuracy: 0.9900 - val_loss: 0.2419 - val_accuracy: 0.9557\n",
      "Epoch 37/100\n",
      "1500/1500 [==============================] - 5s 3ms/step - loss: 0.0290 - accuracy: 0.9905 - val_loss: 0.2502 - val_accuracy: 0.9551\n",
      "Epoch 38/100\n",
      "1500/1500 [==============================] - 6s 4ms/step - loss: 0.0281 - accuracy: 0.9905 - val_loss: 0.2460 - val_accuracy: 0.9546\n",
      "Epoch 39/100\n",
      "1500/1500 [==============================] - 5s 3ms/step - loss: 0.0261 - accuracy: 0.9913 - val_loss: 0.2596 - val_accuracy: 0.9530\n",
      "Epoch 40/100\n",
      "1500/1500 [==============================] - 5s 3ms/step - loss: 0.0257 - accuracy: 0.9912 - val_loss: 0.2609 - val_accuracy: 0.9553\n",
      "Epoch 41/100\n",
      "1500/1500 [==============================] - 5s 4ms/step - loss: 0.0265 - accuracy: 0.9911 - val_loss: 0.2596 - val_accuracy: 0.9556\n",
      "Epoch 42/100\n",
      "1500/1500 [==============================] - 5s 3ms/step - loss: 0.0224 - accuracy: 0.9922 - val_loss: 0.2759 - val_accuracy: 0.9536\n",
      "Epoch 43/100\n",
      "1500/1500 [==============================] - 6s 4ms/step - loss: 0.0241 - accuracy: 0.9918 - val_loss: 0.2937 - val_accuracy: 0.9528\n",
      "Epoch 44/100\n",
      "1500/1500 [==============================] - 5s 3ms/step - loss: 0.0223 - accuracy: 0.9928 - val_loss: 0.2752 - val_accuracy: 0.9538\n",
      "Epoch 45/100\n",
      "1500/1500 [==============================] - 5s 3ms/step - loss: 0.0221 - accuracy: 0.9924 - val_loss: 0.2965 - val_accuracy: 0.9517\n",
      "Epoch 46/100\n",
      "1500/1500 [==============================] - 5s 3ms/step - loss: 0.0230 - accuracy: 0.9923 - val_loss: 0.3021 - val_accuracy: 0.9543\n",
      "Epoch 47/100\n",
      "1500/1500 [==============================] - 5s 3ms/step - loss: 0.0209 - accuracy: 0.9933 - val_loss: 0.3084 - val_accuracy: 0.9508\n",
      "Epoch 48/100\n",
      "1500/1500 [==============================] - 5s 3ms/step - loss: 0.0205 - accuracy: 0.9928 - val_loss: 0.3031 - val_accuracy: 0.9540\n",
      "Epoch 49/100\n",
      "1500/1500 [==============================] - 5s 3ms/step - loss: 0.0192 - accuracy: 0.9932 - val_loss: 0.3060 - val_accuracy: 0.9527\n",
      "Epoch 50/100\n",
      "1500/1500 [==============================] - 5s 3ms/step - loss: 0.0186 - accuracy: 0.9937 - val_loss: 0.3189 - val_accuracy: 0.9538\n",
      "Epoch 51/100\n",
      "1500/1500 [==============================] - 5s 3ms/step - loss: 0.0191 - accuracy: 0.9937 - val_loss: 0.3266 - val_accuracy: 0.9523\n",
      "Epoch 52/100\n",
      "1500/1500 [==============================] - 5s 3ms/step - loss: 0.0181 - accuracy: 0.9939 - val_loss: 0.3161 - val_accuracy: 0.9543\n",
      "Epoch 53/100\n",
      "1500/1500 [==============================] - 5s 3ms/step - loss: 0.0175 - accuracy: 0.9941 - val_loss: 0.3353 - val_accuracy: 0.9507\n",
      "Epoch 54/100\n",
      "1500/1500 [==============================] - 5s 3ms/step - loss: 0.0166 - accuracy: 0.9939 - val_loss: 0.3286 - val_accuracy: 0.9517\n",
      "Epoch 55/100\n",
      "1500/1500 [==============================] - 5s 3ms/step - loss: 0.0178 - accuracy: 0.9939 - val_loss: 0.3520 - val_accuracy: 0.9528\n",
      "Epoch 56/100\n",
      "1500/1500 [==============================] - 5s 3ms/step - loss: 0.0163 - accuracy: 0.9945 - val_loss: 0.3442 - val_accuracy: 0.9534\n",
      "Epoch 57/100\n",
      "1500/1500 [==============================] - 5s 3ms/step - loss: 0.0145 - accuracy: 0.9950 - val_loss: 0.3540 - val_accuracy: 0.9538\n",
      "Epoch 58/100\n",
      "1500/1500 [==============================] - 4s 3ms/step - loss: 0.0167 - accuracy: 0.9941 - val_loss: 0.3454 - val_accuracy: 0.9526\n",
      "Epoch 59/100\n",
      "1500/1500 [==============================] - 4s 3ms/step - loss: 0.0140 - accuracy: 0.9954 - val_loss: 0.3526 - val_accuracy: 0.9540\n",
      "Epoch 60/100\n",
      "1500/1500 [==============================] - 5s 3ms/step - loss: 0.0144 - accuracy: 0.9953 - val_loss: 0.3557 - val_accuracy: 0.9530\n",
      "Epoch 61/100\n",
      "1500/1500 [==============================] - 5s 3ms/step - loss: 0.0154 - accuracy: 0.9951 - val_loss: 0.3787 - val_accuracy: 0.9519\n",
      "Epoch 62/100\n",
      "1500/1500 [==============================] - 5s 3ms/step - loss: 0.0146 - accuracy: 0.9950 - val_loss: 0.3654 - val_accuracy: 0.9532\n",
      "Epoch 63/100\n",
      "1500/1500 [==============================] - 5s 3ms/step - loss: 0.0142 - accuracy: 0.9952 - val_loss: 0.3569 - val_accuracy: 0.9530\n",
      "Epoch 64/100\n",
      "1500/1500 [==============================] - 5s 3ms/step - loss: 0.0142 - accuracy: 0.9952 - val_loss: 0.3745 - val_accuracy: 0.9542\n",
      "Epoch 65/100\n",
      "1500/1500 [==============================] - 5s 3ms/step - loss: 0.0126 - accuracy: 0.9959 - val_loss: 0.3865 - val_accuracy: 0.9515\n",
      "Epoch 66/100\n",
      "1500/1500 [==============================] - 5s 3ms/step - loss: 0.0137 - accuracy: 0.9956 - val_loss: 0.3832 - val_accuracy: 0.9512\n",
      "Epoch 67/100\n",
      "1500/1500 [==============================] - 5s 3ms/step - loss: 0.0140 - accuracy: 0.9950 - val_loss: 0.4114 - val_accuracy: 0.9521\n",
      "Epoch 68/100\n",
      "1500/1500 [==============================] - 5s 3ms/step - loss: 0.0123 - accuracy: 0.9955 - val_loss: 0.3979 - val_accuracy: 0.9528\n",
      "Epoch 69/100\n",
      "1500/1500 [==============================] - 6s 4ms/step - loss: 0.0118 - accuracy: 0.9961 - val_loss: 0.3848 - val_accuracy: 0.9532\n",
      "Epoch 70/100\n",
      "1500/1500 [==============================] - 4s 3ms/step - loss: 0.0119 - accuracy: 0.9958 - val_loss: 0.4014 - val_accuracy: 0.9523\n",
      "Epoch 71/100\n",
      "1500/1500 [==============================] - 4s 3ms/step - loss: 0.0136 - accuracy: 0.9954 - val_loss: 0.4049 - val_accuracy: 0.9528\n",
      "Epoch 72/100\n",
      "1500/1500 [==============================] - 5s 3ms/step - loss: 0.0122 - accuracy: 0.9960 - val_loss: 0.4147 - val_accuracy: 0.9520\n",
      "Epoch 73/100\n",
      "1500/1500 [==============================] - 5s 3ms/step - loss: 0.0134 - accuracy: 0.9955 - val_loss: 0.3962 - val_accuracy: 0.9524\n",
      "Epoch 74/100\n",
      "1500/1500 [==============================] - 5s 3ms/step - loss: 0.0104 - accuracy: 0.9965 - val_loss: 0.4170 - val_accuracy: 0.9523\n",
      "Epoch 75/100\n",
      "1500/1500 [==============================] - 5s 3ms/step - loss: 0.0104 - accuracy: 0.9965 - val_loss: 0.4418 - val_accuracy: 0.9517\n",
      "Epoch 76/100\n",
      "1500/1500 [==============================] - 5s 3ms/step - loss: 0.0119 - accuracy: 0.9954 - val_loss: 0.4265 - val_accuracy: 0.9518\n",
      "Epoch 77/100\n",
      "1500/1500 [==============================] - 5s 3ms/step - loss: 0.0099 - accuracy: 0.9964 - val_loss: 0.4422 - val_accuracy: 0.9515\n",
      "Epoch 78/100\n",
      "1500/1500 [==============================] - 5s 3ms/step - loss: 0.0098 - accuracy: 0.9964 - val_loss: 0.4484 - val_accuracy: 0.9519\n",
      "Epoch 79/100\n",
      "1500/1500 [==============================] - 5s 3ms/step - loss: 0.0106 - accuracy: 0.9961 - val_loss: 0.4469 - val_accuracy: 0.9505\n",
      "Epoch 80/100\n",
      "1500/1500 [==============================] - 5s 3ms/step - loss: 0.0093 - accuracy: 0.9969 - val_loss: 0.4471 - val_accuracy: 0.9527\n",
      "Epoch 81/100\n",
      "1500/1500 [==============================] - 5s 3ms/step - loss: 0.0114 - accuracy: 0.9960 - val_loss: 0.4467 - val_accuracy: 0.9526\n",
      "Epoch 82/100\n",
      "1500/1500 [==============================] - 4s 3ms/step - loss: 0.0098 - accuracy: 0.9962 - val_loss: 0.4439 - val_accuracy: 0.9537\n",
      "Epoch 83/100\n",
      "1500/1500 [==============================] - 5s 3ms/step - loss: 0.0075 - accuracy: 0.9976 - val_loss: 0.4727 - val_accuracy: 0.9527\n",
      "Epoch 84/100\n",
      "1500/1500 [==============================] - 5s 3ms/step - loss: 0.0093 - accuracy: 0.9965 - val_loss: 0.4410 - val_accuracy: 0.9512\n",
      "Epoch 85/100\n",
      "1500/1500 [==============================] - 5s 3ms/step - loss: 0.0083 - accuracy: 0.9971 - val_loss: 0.4697 - val_accuracy: 0.9524\n",
      "Epoch 86/100\n",
      "1500/1500 [==============================] - 5s 3ms/step - loss: 0.0102 - accuracy: 0.9964 - val_loss: 0.4768 - val_accuracy: 0.9530\n",
      "Epoch 87/100\n",
      "1500/1500 [==============================] - 5s 3ms/step - loss: 0.0106 - accuracy: 0.9965 - val_loss: 0.4786 - val_accuracy: 0.9508\n",
      "Epoch 88/100\n",
      "1500/1500 [==============================] - 5s 3ms/step - loss: 0.0092 - accuracy: 0.9969 - val_loss: 0.4846 - val_accuracy: 0.9531\n",
      "Epoch 89/100\n",
      "1500/1500 [==============================] - 5s 3ms/step - loss: 0.0090 - accuracy: 0.9969 - val_loss: 0.4857 - val_accuracy: 0.9517\n",
      "Epoch 90/100\n",
      "1500/1500 [==============================] - 5s 3ms/step - loss: 0.0087 - accuracy: 0.9969 - val_loss: 0.4819 - val_accuracy: 0.9537\n",
      "Epoch 91/100\n",
      "1500/1500 [==============================] - 5s 3ms/step - loss: 0.0103 - accuracy: 0.9964 - val_loss: 0.5022 - val_accuracy: 0.9534\n",
      "Epoch 92/100\n",
      "1500/1500 [==============================] - 5s 3ms/step - loss: 0.0096 - accuracy: 0.9966 - val_loss: 0.4775 - val_accuracy: 0.9527\n",
      "Epoch 93/100\n",
      "1500/1500 [==============================] - 5s 3ms/step - loss: 0.0077 - accuracy: 0.9972 - val_loss: 0.4979 - val_accuracy: 0.9503\n",
      "Epoch 94/100\n",
      "1500/1500 [==============================] - 4s 3ms/step - loss: 0.0087 - accuracy: 0.9970 - val_loss: 0.4938 - val_accuracy: 0.9532\n",
      "Epoch 95/100\n",
      "1500/1500 [==============================] - 5s 3ms/step - loss: 0.0081 - accuracy: 0.9973 - val_loss: 0.5212 - val_accuracy: 0.9518\n",
      "Epoch 96/100\n",
      "1500/1500 [==============================] - 5s 3ms/step - loss: 0.0074 - accuracy: 0.9974 - val_loss: 0.5089 - val_accuracy: 0.9523\n",
      "Epoch 97/100\n",
      "1500/1500 [==============================] - 5s 3ms/step - loss: 0.0114 - accuracy: 0.9961 - val_loss: 0.4931 - val_accuracy: 0.9542\n",
      "Epoch 98/100\n",
      "1500/1500 [==============================] - 5s 3ms/step - loss: 0.0077 - accuracy: 0.9973 - val_loss: 0.4979 - val_accuracy: 0.9548\n",
      "Epoch 99/100\n",
      "1500/1500 [==============================] - 5s 3ms/step - loss: 0.0062 - accuracy: 0.9979 - val_loss: 0.5178 - val_accuracy: 0.9519\n",
      "Epoch 100/100\n",
      "1500/1500 [==============================] - 5s 3ms/step - loss: 0.0102 - accuracy: 0.9969 - val_loss: 0.5507 - val_accuracy: 0.9507\n"
     ]
    }
   ],
   "source": [
    "#### 6. Treinamento\n",
    "\n",
    "historico = rede_simples.fit(x_treino, \n",
    "                             y_treino, \n",
    "                             epochs = 100, \n",
    "                             verbose = 1,\n",
    "                             validation_data = (x_val, y_val))"
   ]
  },
  {
   "cell_type": "markdown",
   "metadata": {},
   "source": [
    "##### 7. Avaliação do modelo"
   ]
  },
  {
   "cell_type": "code",
   "execution_count": 18,
   "metadata": {},
   "outputs": [
    {
     "data": {
      "text/plain": [
       "0.9549"
      ]
     },
     "execution_count": 18,
     "metadata": {},
     "output_type": "execute_result"
    }
   ],
   "source": [
    "from sklearn.metrics import confusion_matrix\n",
    "from sklearn.metrics import accuracy_score\n",
    "\n",
    "x_test = np.expand_dims(x_test,axis=-1)\n",
    "pred_simples = rede_simples.predict(x_test)\n",
    "\n",
    "accuracy_score(y_test.argmax(1), pred_simples.argmax(1))"
   ]
  },
  {
   "cell_type": "code",
   "execution_count": 19,
   "metadata": {},
   "outputs": [
    {
     "data": {
      "image/png": "[encoded data removed]",
      "text/plain": [
       "<Figure size 432x288 with 1 Axes>"
      ]
     },
     "metadata": {
      "needs_background": "light"
     },
     "output_type": "display_data"
    }
   ],
   "source": [
    "loss = historico.history['loss']\n",
    "val_loss = historico.history['val_loss']\n",
    "epochs = range(len(loss))\n",
    "plt.figure()\n",
    "plt.plot(epochs, loss, 'bo', label = 'Training loss')\n",
    "plt.plot(epochs, val_loss, 'b', label = 'Validation loss')\n",
    "plt.title('Training and validation loss')\n",
    "plt.legend()\n",
    "plt.show()"
   ]
  },
  {
   "cell_type": "markdown",
   "metadata": {},
   "source": [
    "#### 8. Regularização\n",
    "1. Early Stopping: determinar quando encerrar o treinamento\n",
    "2. Dropout: selecionar neurônios aleatoriamente para o treinamento"
   ]
  },
  {
   "cell_type": "code",
   "execution_count": 20,
   "metadata": {},
   "outputs": [
    {
     "name": "stdout",
     "output_type": "stream",
     "text": [
      "Epoch 1/150\n",
      "1500/1500 [==============================] - 5s 3ms/step - loss: 0.0081 - accuracy: 0.9971 - val_loss: 0.5146 - val_accuracy: 0.9518\n",
      "Epoch 2/150\n",
      "1500/1500 [==============================] - 4s 3ms/step - loss: 0.0086 - accuracy: 0.9972 - val_loss: 0.5128 - val_accuracy: 0.9534\n",
      "Epoch 3/150\n",
      "1500/1500 [==============================] - 4s 3ms/step - loss: 0.0080 - accuracy: 0.9975 - val_loss: 0.5183 - val_accuracy: 0.9513\n",
      "Epoch 4/150\n",
      "1500/1500 [==============================] - 4s 3ms/step - loss: 0.0062 - accuracy: 0.9980 - val_loss: 0.5249 - val_accuracy: 0.9536\n",
      "Epoch 5/150\n",
      "1500/1500 [==============================] - 4s 3ms/step - loss: 0.0093 - accuracy: 0.9969 - val_loss: 0.5239 - val_accuracy: 0.9528\n",
      "Epoch 6/150\n",
      "1500/1500 [==============================] - 4s 3ms/step - loss: 0.0064 - accuracy: 0.9982 - val_loss: 0.5344 - val_accuracy: 0.9528\n",
      "Epoch 7/150\n",
      "1500/1500 [==============================] - 5s 3ms/step - loss: 0.0070 - accuracy: 0.9974 - val_loss: 0.5289 - val_accuracy: 0.9523\n",
      "Epoch 8/150\n",
      "1500/1500 [==============================] - 5s 3ms/step - loss: 0.0091 - accuracy: 0.9973 - val_loss: 0.5673 - val_accuracy: 0.9509\n",
      "Epoch 9/150\n",
      "1500/1500 [==============================] - 5s 3ms/step - loss: 0.0075 - accuracy: 0.9974 - val_loss: 0.5583 - val_accuracy: 0.9532\n",
      "Epoch 10/150\n",
      "1500/1500 [==============================] - 5s 3ms/step - loss: 0.0040 - accuracy: 0.9987 - val_loss: 0.5495 - val_accuracy: 0.9519\n",
      "Epoch 11/150\n",
      "1500/1500 [==============================] - 4s 3ms/step - loss: 0.0103 - accuracy: 0.9964 - val_loss: 0.5357 - val_accuracy: 0.9524\n",
      "Epoch 12/150\n",
      "1500/1500 [==============================] - 5s 3ms/step - loss: 0.0069 - accuracy: 0.9977 - val_loss: 0.5475 - val_accuracy: 0.9526\n",
      "Epoch 00012: early stopping\n"
     ]
    }
   ],
   "source": [
    "es = EarlyStopping(monitor = 'val_loss', min_delta = 0.001, patience = 10, verbose = 1, mode = 'auto')\n",
    "\n",
    "# Setamos os pesos iniciais iguais à versão antes do treinamento pra ter um comparativo mais real.\n",
    "#rede_simples.set_weights(pesos_iniciais)\n",
    "\n",
    "historico = rede_simples.fit(x_treino, \n",
    "                             y_treino, \n",
    "                             epochs = 150, \n",
    "                             verbose = 1,\n",
    "                             validation_data = (x_val, y_val),\n",
    "                             callbacks = [es])"
   ]
  },
  {
   "cell_type": "code",
   "execution_count": 21,
   "metadata": {},
   "outputs": [
    {
     "data": {
      "image/png": "[encoded data removed]",
      "text/plain": [
       "<Figure size 432x288 with 1 Axes>"
      ]
     },
     "metadata": {
      "needs_background": "light"
     },
     "output_type": "display_data"
    }
   ],
   "source": [
    "loss = historico.history['loss']\n",
    "val_loss = historico.history['val_loss']\n",
    "epochs = range(len(loss))\n",
    "plt.figure()\n",
    "plt.plot(epochs, loss, 'bo', label = 'Training loss')\n",
    "plt.plot(epochs, val_loss, 'b', label = 'Validation loss')\n",
    "plt.title('Training and validation loss')\n",
    "plt.legend()\n",
    "plt.show()"
   ]
  },
  {
   "cell_type": "code",
   "execution_count": 22,
   "metadata": {},
   "outputs": [
    {
     "data": {
      "text/plain": [
       "0.9572"
      ]
     },
     "execution_count": 22,
     "metadata": {},
     "output_type": "execute_result"
    }
   ],
   "source": [
    "from sklearn.metrics import confusion_matrix\n",
    "from sklearn.metrics import accuracy_score\n",
    "\n",
    "pred_es = rede_simples.predict(x_test)\n",
    "\n",
    "accuracy_score(y_test.argmax(1), pred_es.argmax(1))"
   ]
  },
  {
   "cell_type": "code",
   "execution_count": 23,
   "metadata": {},
   "outputs": [
    {
     "data": {
      "text/plain": [
       "array([[ 957,    0,    5,    1,    0,    2,    5,    3,    6,    1],\n",
       "       [   0, 1115,    4,    4,    1,    2,    1,    4,    4,    0],\n",
       "       [   7,    2,  990,    9,    7,    1,    3,    5,    8,    0],\n",
       "       [   0,    0,   11,  968,    1,    6,    0,   10,   12,    2],\n",
       "       [   3,    0,    8,    1,  940,    2,    8,    1,    1,   18],\n",
       "       [   6,    1,    2,   25,    3,  806,   19,    3,   18,    9],\n",
       "       [   8,    1,    2,    1,    9,    8,  921,    1,    7,    0],\n",
       "       [   1,    4,   16,    7,    5,    1,    0,  978,    5,   11],\n",
       "       [   2,    2,    3,    4,    3,    4,    9,    3,  938,    6],\n",
       "       [   4,    2,    1,    5,   13,    5,    0,   13,    7,  959]],\n",
       "      dtype=int64)"
      ]
     },
     "execution_count": 23,
     "metadata": {},
     "output_type": "execute_result"
    }
   ],
   "source": [
    "confusion_matrix(y_test.argmax(1), pred_es.argmax(1))"
   ]
  },
  {
   "cell_type": "markdown",
   "metadata": {},
   "source": [
    "### Regularização - Dropout\n",
    "\n",
    "* Alterna quais neurônios vão otimizar os pesos a cada rodada do treinamento"
   ]
  },
  {
   "cell_type": "code",
   "execution_count": 156,
   "metadata": {},
   "outputs": [],
   "source": [
    "rede_dropout = Sequential()\n",
    "rede_dropout.add(Conv2D(filters=1,kernel_size=3,activation='relu',input_shape=[28,28,1]))\n",
    "rede_dropout.add(Dropout(0.3))\n",
    "rede_dropout.add(MaxPool2D(pool_size=(2,2)))\n",
    "rede_dropout.add(Flatten())\n",
    "rede_dropout.add(Dense(25,activation='relu'))\n",
    "rede_dropout.add(Dropout(0.3))\n",
    "rede_dropout.add(Dense(10,activation='softmax'))\n",
    "\n",
    "rede_dropout.compile(loss = 'categorical_crossentropy', optimizer = 'Adam', metrics=['accuracy'])\n"
   ]
  },
  {
   "cell_type": "code",
   "execution_count": 157,
   "metadata": {},
   "outputs": [
    {
     "name": "stdout",
     "output_type": "stream",
     "text": [
      "Epoch 1/150\n",
      "1500/1500 [==============================] - 6s 4ms/step - loss: 0.7616 - accuracy: 0.7541 - val_loss: 0.3854 - val_accuracy: 0.8992\n",
      "Epoch 2/150\n",
      "1500/1500 [==============================] - 6s 4ms/step - loss: 0.4783 - accuracy: 0.8518 - val_loss: 0.3089 - val_accuracy: 0.9183\n",
      "Epoch 3/150\n",
      "1500/1500 [==============================] - 6s 4ms/step - loss: 0.4379 - accuracy: 0.8614 - val_loss: 0.2906 - val_accuracy: 0.9245\n",
      "Epoch 4/150\n",
      "1500/1500 [==============================] - 6s 4ms/step - loss: 0.4133 - accuracy: 0.8681 - val_loss: 0.2701 - val_accuracy: 0.9302\n",
      "Epoch 5/150\n",
      "1500/1500 [==============================] - 6s 4ms/step - loss: 0.3945 - accuracy: 0.8740 - val_loss: 0.2450 - val_accuracy: 0.9337\n",
      "Epoch 6/150\n",
      "1500/1500 [==============================] - 6s 4ms/step - loss: 0.3866 - accuracy: 0.8774 - val_loss: 0.2426 - val_accuracy: 0.9333\n",
      "Epoch 7/150\n",
      "1500/1500 [==============================] - 6s 4ms/step - loss: 0.3795 - accuracy: 0.8782 - val_loss: 0.2445 - val_accuracy: 0.9364\n",
      "Epoch 8/150\n",
      "1500/1500 [==============================] - 6s 4ms/step - loss: 0.3685 - accuracy: 0.8801 - val_loss: 0.2537 - val_accuracy: 0.9332\n",
      "Epoch 9/150\n",
      "1500/1500 [==============================] - 6s 4ms/step - loss: 0.3733 - accuracy: 0.8816 - val_loss: 0.2455 - val_accuracy: 0.9382\n",
      "Epoch 10/150\n",
      "1500/1500 [==============================] - 6s 4ms/step - loss: 0.3657 - accuracy: 0.8823 - val_loss: 0.2394 - val_accuracy: 0.9373\n",
      "Epoch 11/150\n",
      "1500/1500 [==============================] - 6s 4ms/step - loss: 0.3602 - accuracy: 0.8841 - val_loss: 0.2348 - val_accuracy: 0.9366\n",
      "Epoch 12/150\n",
      "1500/1500 [==============================] - 7s 4ms/step - loss: 0.3560 - accuracy: 0.8857 - val_loss: 0.2339 - val_accuracy: 0.9363\n",
      "Epoch 13/150\n",
      "1500/1500 [==============================] - 6s 4ms/step - loss: 0.3543 - accuracy: 0.8863 - val_loss: 0.2287 - val_accuracy: 0.9397\n",
      "Epoch 14/150\n",
      "1500/1500 [==============================] - 6s 4ms/step - loss: 0.3453 - accuracy: 0.8900 - val_loss: 0.2282 - val_accuracy: 0.9397\n",
      "Epoch 15/150\n",
      "1500/1500 [==============================] - 6s 4ms/step - loss: 0.3441 - accuracy: 0.8910 - val_loss: 0.2277 - val_accuracy: 0.9418\n",
      "Epoch 16/150\n",
      "1500/1500 [==============================] - 6s 4ms/step - loss: 0.3445 - accuracy: 0.8909 - val_loss: 0.2154 - val_accuracy: 0.9393\n",
      "Epoch 17/150\n",
      "1500/1500 [==============================] - 6s 4ms/step - loss: 0.3439 - accuracy: 0.8890 - val_loss: 0.2232 - val_accuracy: 0.9406\n",
      "Epoch 18/150\n",
      "1500/1500 [==============================] - 6s 4ms/step - loss: 0.3388 - accuracy: 0.8911 - val_loss: 0.2159 - val_accuracy: 0.9424\n",
      "Epoch 19/150\n",
      "1500/1500 [==============================] - 6s 4ms/step - loss: 0.3369 - accuracy: 0.8936 - val_loss: 0.2103 - val_accuracy: 0.9427\n",
      "Epoch 20/150\n",
      "1500/1500 [==============================] - 7s 4ms/step - loss: 0.3373 - accuracy: 0.8927 - val_loss: 0.2189 - val_accuracy: 0.9408\n",
      "Epoch 21/150\n",
      "1500/1500 [==============================] - 6s 4ms/step - loss: 0.3360 - accuracy: 0.8927 - val_loss: 0.2069 - val_accuracy: 0.9443\n",
      "Epoch 22/150\n",
      "1500/1500 [==============================] - 6s 4ms/step - loss: 0.3307 - accuracy: 0.8936 - val_loss: 0.2105 - val_accuracy: 0.9416\n",
      "Epoch 23/150\n",
      "1500/1500 [==============================] - 6s 4ms/step - loss: 0.3311 - accuracy: 0.8934 - val_loss: 0.2115 - val_accuracy: 0.9415\n",
      "Epoch 24/150\n",
      "1500/1500 [==============================] - 6s 4ms/step - loss: 0.3335 - accuracy: 0.8941 - val_loss: 0.2075 - val_accuracy: 0.9419\n",
      "Epoch 25/150\n",
      "1500/1500 [==============================] - 6s 4ms/step - loss: 0.3360 - accuracy: 0.8924 - val_loss: 0.2099 - val_accuracy: 0.9433\n",
      "Epoch 26/150\n",
      "1500/1500 [==============================] - 6s 4ms/step - loss: 0.3304 - accuracy: 0.8940 - val_loss: 0.2159 - val_accuracy: 0.9428\n",
      "Epoch 27/150\n",
      "1500/1500 [==============================] - 6s 4ms/step - loss: 0.3239 - accuracy: 0.8968 - val_loss: 0.2040 - val_accuracy: 0.9445\n",
      "Epoch 28/150\n",
      "1500/1500 [==============================] - 6s 4ms/step - loss: 0.3286 - accuracy: 0.8963 - val_loss: 0.2019 - val_accuracy: 0.9444\n",
      "Epoch 29/150\n",
      "1500/1500 [==============================] - 6s 4ms/step - loss: 0.3203 - accuracy: 0.8969 - val_loss: 0.2010 - val_accuracy: 0.9447\n",
      "Epoch 30/150\n",
      "1500/1500 [==============================] - 6s 4ms/step - loss: 0.3231 - accuracy: 0.8971 - val_loss: 0.2050 - val_accuracy: 0.9452\n",
      "Epoch 31/150\n",
      "1500/1500 [==============================] - 6s 4ms/step - loss: 0.3210 - accuracy: 0.8978 - val_loss: 0.1968 - val_accuracy: 0.9463\n",
      "Epoch 32/150\n",
      "1500/1500 [==============================] - 6s 4ms/step - loss: 0.3218 - accuracy: 0.8982 - val_loss: 0.2039 - val_accuracy: 0.9429\n",
      "Epoch 33/150\n",
      "1500/1500 [==============================] - 6s 4ms/step - loss: 0.3183 - accuracy: 0.8974 - val_loss: 0.1956 - val_accuracy: 0.9452\n",
      "Epoch 34/150\n",
      "1500/1500 [==============================] - 6s 4ms/step - loss: 0.3263 - accuracy: 0.8969 - val_loss: 0.2074 - val_accuracy: 0.9436\n",
      "Epoch 35/150\n",
      "1500/1500 [==============================] - 6s 4ms/step - loss: 0.3240 - accuracy: 0.8967 - val_loss: 0.1989 - val_accuracy: 0.9467\n",
      "Epoch 36/150\n",
      "1500/1500 [==============================] - 6s 4ms/step - loss: 0.3236 - accuracy: 0.8962 - val_loss: 0.1928 - val_accuracy: 0.9448\n",
      "Epoch 37/150\n",
      "1500/1500 [==============================] - 6s 4ms/step - loss: 0.3246 - accuracy: 0.8962 - val_loss: 0.2009 - val_accuracy: 0.9458\n",
      "Epoch 38/150\n",
      "1500/1500 [==============================] - 6s 4ms/step - loss: 0.3243 - accuracy: 0.8967 - val_loss: 0.2065 - val_accuracy: 0.9425\n",
      "Epoch 39/150\n",
      "1500/1500 [==============================] - 6s 4ms/step - loss: 0.3194 - accuracy: 0.8991 - val_loss: 0.1997 - val_accuracy: 0.9442\n",
      "Epoch 40/150\n",
      "1500/1500 [==============================] - 6s 4ms/step - loss: 0.3196 - accuracy: 0.8992 - val_loss: 0.2081 - val_accuracy: 0.9442\n",
      "Epoch 41/150\n",
      "1500/1500 [==============================] - 6s 4ms/step - loss: 0.3182 - accuracy: 0.8978 - val_loss: 0.2046 - val_accuracy: 0.9441\n",
      "Epoch 42/150\n",
      "1500/1500 [==============================] - 6s 4ms/step - loss: 0.3161 - accuracy: 0.8984 - val_loss: 0.2008 - val_accuracy: 0.9432\n",
      "Epoch 43/150\n",
      "1500/1500 [==============================] - 6s 4ms/step - loss: 0.3204 - accuracy: 0.8971 - val_loss: 0.2050 - val_accuracy: 0.9430\n",
      "Epoch 44/150\n",
      "1500/1500 [==============================] - 6s 4ms/step - loss: 0.3150 - accuracy: 0.9007 - val_loss: 0.2080 - val_accuracy: 0.9442\n",
      "Epoch 45/150\n",
      "1500/1500 [==============================] - 6s 4ms/step - loss: 0.3154 - accuracy: 0.8995 - val_loss: 0.2004 - val_accuracy: 0.9428\n",
      "Epoch 46/150\n",
      "1500/1500 [==============================] - 6s 4ms/step - loss: 0.3130 - accuracy: 0.8999 - val_loss: 0.1937 - val_accuracy: 0.9456\n",
      "Epoch 00046: early stopping\n"
     ]
    }
   ],
   "source": [
    "historico = rede_dropout.fit(x_treino, \n",
    "                             y_treino, \n",
    "                             epochs = 150, \n",
    "                             verbose = 1,\n",
    "                             validation_data = (x_val, y_val),\n",
    "                             callbacks = [es])"
   ]
  },
  {
   "cell_type": "code",
   "execution_count": 158,
   "metadata": {},
   "outputs": [
    {
     "data": {
      "image/png": "[encoded data removed]",
      "text/plain": [
       "<Figure size 432x288 with 1 Axes>"
      ]
     },
     "metadata": {
      "needs_background": "light"
     },
     "output_type": "display_data"
    }
   ],
   "source": [
    "loss = historico.history['loss']\n",
    "val_loss = historico.history['val_loss']\n",
    "epochs = range(len(loss))\n",
    "plt.figure()\n",
    "plt.plot(epochs, loss, 'bo', label = 'Training loss')\n",
    "plt.plot(epochs, val_loss, 'b', label = 'Validation loss')\n",
    "plt.title('Training and validation loss')\n",
    "plt.legend()\n",
    "plt.show()"
   ]
  },
  {
   "cell_type": "code",
   "execution_count": 27,
   "metadata": {},
   "outputs": [
    {
     "data": {
      "text/plain": [
       "0.9573"
      ]
     },
     "execution_count": 27,
     "metadata": {},
     "output_type": "execute_result"
    }
   ],
   "source": [
    "pred_dropout = rede_dropout.predict(x_test)\n",
    "\n",
    "accuracy_score(y_test.argmax(1), pred_dropout.argmax(1))"
   ]
  },
  {
   "cell_type": "code",
   "execution_count": 28,
   "metadata": {},
   "outputs": [
    {
     "data": {
      "text/plain": [
       "array([[ 965,    0,    2,    0,    1,    1,    5,    4,    2,    0],\n",
       "       [   0, 1116,    4,    0,    1,    2,    7,    0,    5,    0],\n",
       "       [   8,    1,  978,   14,    4,    1,    5,   10,   10,    1],\n",
       "       [   0,    1,    6,  957,    0,   21,    1,   10,   11,    3],\n",
       "       [   0,    1,    5,    0,  947,    0,    6,    1,    2,   20],\n",
       "       [   6,    0,    0,   15,    2,  831,    8,    4,   18,    8],\n",
       "       [  11,    3,    1,    0,    4,    4,  932,    0,    3,    0],\n",
       "       [   3,    8,   16,   15,    2,    0,    0,  963,    3,   18],\n",
       "       [   7,    2,    8,    5,    7,    1,    3,    3,  932,    6],\n",
       "       [   4,    5,    0,   12,   17,    7,    0,    8,    4,  952]],\n",
       "      dtype=int64)"
      ]
     },
     "execution_count": 28,
     "metadata": {},
     "output_type": "execute_result"
    }
   ],
   "source": [
    "confusion_matrix(y_test.argmax(1), pred_dropout.argmax(1))"
   ]
  },
  {
   "cell_type": "markdown",
   "metadata": {},
   "source": [
    "# Regressão"
   ]
  },
  {
   "cell_type": "code",
   "execution_count": 67,
   "metadata": {},
   "outputs": [],
   "source": [
    "(x_train, y_train), (x_test, y_test) = tf.keras.datasets.boston_housing.load_data()"
   ]
  },
  {
   "cell_type": "code",
   "execution_count": 68,
   "metadata": {},
   "outputs": [],
   "source": [
    "mean = x_train.mean(axis=0)\n",
    "x_train -= mean\n",
    "std = x_train.std(axis=0)\n",
    "x_train /= std\n",
    "\n",
    "x_test -= mean\n",
    "x_test /= std"
   ]
  },
  {
   "cell_type": "code",
   "execution_count": 51,
   "metadata": {},
   "outputs": [
    {
     "data": {
      "text/plain": [
       "((323, 13), (81, 13), (102, 13), (323,), (81,), (102,))"
      ]
     },
     "execution_count": 51,
     "metadata": {},
     "output_type": "execute_result"
    }
   ],
   "source": [
    "from sklearn.model_selection import train_test_split\n",
    "\n",
    "x_treino, x_val, y_treino, y_val = train_test_split(x_train, y_train, test_size = 0.2, random_state = 13)\n",
    "\n",
    "x_treino.shape, x_val.shape, x_test.shape, y_treino.shape, y_val.shape, y_test.shape, "
   ]
  },
  {
   "cell_type": "code",
   "execution_count": 134,
   "metadata": {},
   "outputs": [],
   "source": [
    "model = Sequential()\n",
    "model.add(Conv1D(3,1, activation='relu', input_shape=(len(x_train[1]),1)))\n",
    "model.add(Dense(64, activation='relu'))\n",
    "model.add(Dense(1))\n",
    "\n",
    "model.compile(optimizer='rmsprop',\n",
    "              loss='mse',\n",
    "              metrics=['mae'])"
   ]
  },
  {
   "cell_type": "code",
   "execution_count": 135,
   "metadata": {},
   "outputs": [
    {
     "name": "stdout",
     "output_type": "stream",
     "text": [
      "Model: \"sequential_24\"\n",
      "_________________________________________________________________\n",
      "Layer (type)                 Output Shape              Param #   \n",
      "=================================================================\n",
      "conv1d_22 (Conv1D)           (None, 13, 3)             6         \n",
      "_________________________________________________________________\n",
      "dense_32 (Dense)             (None, 13, 64)            256       \n",
      "_________________________________________________________________\n",
      "dense_33 (Dense)             (None, 13, 1)             65        \n",
      "=================================================================\n",
      "Total params: 327\n",
      "Trainable params: 327\n",
      "Non-trainable params: 0\n",
      "_________________________________________________________________\n"
     ]
    }
   ],
   "source": [
    "model.summary()"
   ]
  },
  {
   "cell_type": "code",
   "execution_count": 127,
   "metadata": {},
   "outputs": [],
   "source": [
    "x_treino = np.expand_dims(x_treino,axis=1)"
   ]
  },
  {
   "cell_type": "code",
   "execution_count": 69,
   "metadata": {},
   "outputs": [],
   "source": [
    "x_train = np.expand_dims(x_train,axis=-1)"
   ]
  },
  {
   "cell_type": "code",
   "execution_count": null,
   "metadata": {},
   "outputs": [],
   "source": [
    "valid = (x_val,y_val)"
   ]
  },
  {
   "cell_type": "code",
   "execution_count": 136,
   "metadata": {},
   "outputs": [
    {
     "name": "stdout",
     "output_type": "stream",
     "text": [
      "Epoch 1/150\n",
      "6/6 [==============================] - 1s 23ms/step - loss: 567.6996 - mae: 21.9914 - val_loss: 635.4394 - val_mae: 23.4742\n",
      "Epoch 2/150\n",
      "6/6 [==============================] - 0s 4ms/step - loss: 562.4835 - mae: 21.8726 - val_loss: 630.8491 - val_mae: 23.3767\n",
      "Epoch 3/150\n",
      "6/6 [==============================] - 0s 5ms/step - loss: 558.2338 - mae: 21.7768 - val_loss: 626.2439 - val_mae: 23.2784\n",
      "Epoch 4/150\n",
      "6/6 [==============================] - 0s 4ms/step - loss: 553.9417 - mae: 21.6766 - val_loss: 621.9752 - val_mae: 23.1869\n",
      "Epoch 5/150\n",
      "6/6 [==============================] - 0s 4ms/step - loss: 549.8588 - mae: 21.5828 - val_loss: 617.4418 - val_mae: 23.0892\n",
      "Epoch 6/150\n",
      "6/6 [==============================] - 0s 4ms/step - loss: 545.5451 - mae: 21.4812 - val_loss: 612.4454 - val_mae: 22.9811\n",
      "Epoch 7/150\n",
      "6/6 [==============================] - 0s 5ms/step - loss: 540.8054 - mae: 21.3722 - val_loss: 607.0807 - val_mae: 22.8643\n",
      "Epoch 8/150\n",
      "6/6 [==============================] - 0s 4ms/step - loss: 535.7786 - mae: 21.2534 - val_loss: 601.8362 - val_mae: 22.7495\n",
      "Epoch 9/150\n",
      "6/6 [==============================] - 0s 4ms/step - loss: 530.8029 - mae: 21.1345 - val_loss: 596.6349 - val_mae: 22.6350\n",
      "Epoch 10/150\n",
      "6/6 [==============================] - 0s 4ms/step - loss: 525.7914 - mae: 21.0165 - val_loss: 590.9434 - val_mae: 22.5093\n",
      "Epoch 11/150\n",
      "6/6 [==============================] - 0s 4ms/step - loss: 520.3600 - mae: 20.8877 - val_loss: 584.5659 - val_mae: 22.3676\n",
      "Epoch 12/150\n",
      "6/6 [==============================] - 0s 4ms/step - loss: 514.4357 - mae: 20.7424 - val_loss: 578.1090 - val_mae: 22.2230\n",
      "Epoch 13/150\n",
      "6/6 [==============================] - 0s 4ms/step - loss: 508.3859 - mae: 20.5966 - val_loss: 572.2573 - val_mae: 22.0911\n",
      "Epoch 14/150\n",
      "6/6 [==============================] - 0s 4ms/step - loss: 502.7382 - mae: 20.4596 - val_loss: 565.8170 - val_mae: 21.9449\n",
      "Epoch 15/150\n",
      "6/6 [==============================] - 0s 5ms/step - loss: 496.5791 - mae: 20.3092 - val_loss: 558.3626 - val_mae: 21.7745\n",
      "Epoch 16/150\n",
      "6/6 [==============================] - 0s 4ms/step - loss: 489.6405 - mae: 20.1377 - val_loss: 551.1631 - val_mae: 21.6085\n",
      "Epoch 17/150\n",
      "6/6 [==============================] - 0s 5ms/step - loss: 482.8741 - mae: 19.9646 - val_loss: 543.9456 - val_mae: 21.4407\n",
      "Epoch 18/150\n",
      "6/6 [==============================] - 0s 4ms/step - loss: 475.9955 - mae: 19.7931 - val_loss: 536.0222 - val_mae: 21.2550\n",
      "Epoch 19/150\n",
      "6/6 [==============================] - 0s 4ms/step - loss: 468.5444 - mae: 19.6047 - val_loss: 527.3618 - val_mae: 21.0500\n",
      "Epoch 20/150\n",
      "6/6 [==============================] - 0s 4ms/step - loss: 460.5121 - mae: 19.4009 - val_loss: 518.5109 - val_mae: 20.8384\n",
      "Epoch 21/150\n",
      "6/6 [==============================] - 0s 4ms/step - loss: 452.3864 - mae: 19.1883 - val_loss: 510.5676 - val_mae: 20.6482\n",
      "Epoch 22/150\n",
      "6/6 [==============================] - 0s 4ms/step - loss: 444.8603 - mae: 18.9916 - val_loss: 501.2787 - val_mae: 20.4238\n",
      "Epoch 23/150\n",
      "6/6 [==============================] - 0s 9ms/step - loss: 436.3214 - mae: 18.7666 - val_loss: 492.3827 - val_mae: 20.2069\n",
      "Epoch 24/150\n",
      "6/6 [==============================] - 0s 5ms/step - loss: 428.0039 - mae: 18.5457 - val_loss: 483.6934 - val_mae: 19.9928\n",
      "Epoch 25/150\n",
      "6/6 [==============================] - 0s 5ms/step - loss: 419.8037 - mae: 18.3259 - val_loss: 474.1530 - val_mae: 19.7552\n",
      "Epoch 26/150\n",
      "6/6 [==============================] - 0s 5ms/step - loss: 410.9224 - mae: 18.0849 - val_loss: 464.5519 - val_mae: 19.5128\n",
      "Epoch 27/150\n",
      "6/6 [==============================] - 0s 5ms/step - loss: 402.0219 - mae: 17.8377 - val_loss: 453.7607 - val_mae: 19.2372\n",
      "Epoch 28/150\n",
      "6/6 [==============================] - 0s 7ms/step - loss: 392.2140 - mae: 17.5656 - val_loss: 443.8521 - val_mae: 18.9806\n",
      "Epoch 29/150\n",
      "6/6 [==============================] - 0s 5ms/step - loss: 383.0589 - mae: 17.3052 - val_loss: 433.8315 - val_mae: 18.7192\n",
      "Epoch 30/150\n",
      "6/6 [==============================] - 0s 5ms/step - loss: 373.7859 - mae: 17.0408 - val_loss: 422.8025 - val_mae: 18.4275\n",
      "Epoch 31/150\n",
      "6/6 [==============================] - 0s 4ms/step - loss: 363.7406 - mae: 16.7505 - val_loss: 411.1002 - val_mae: 18.1129\n",
      "Epoch 32/150\n",
      "6/6 [==============================] - 0s 5ms/step - loss: 353.2899 - mae: 16.4440 - val_loss: 400.9337 - val_mae: 17.8363\n",
      "Epoch 33/150\n",
      "6/6 [==============================] - 0s 5ms/step - loss: 343.9426 - mae: 16.1639 - val_loss: 390.6397 - val_mae: 17.5518\n",
      "Epoch 34/150\n",
      "6/6 [==============================] - 0s 4ms/step - loss: 334.4865 - mae: 15.8757 - val_loss: 378.9690 - val_mae: 17.2218\n",
      "Epoch 35/150\n",
      "6/6 [==============================] - 0s 4ms/step - loss: 324.0825 - mae: 15.5562 - val_loss: 368.4948 - val_mae: 16.9230\n",
      "Epoch 36/150\n",
      "6/6 [==============================] - 0s 4ms/step - loss: 314.5065 - mae: 15.2597 - val_loss: 357.7288 - val_mae: 16.6119\n",
      "Epoch 37/150\n",
      "6/6 [==============================] - ETA: 0s - loss: 262.9639 - mae: 13.75 - 0s 5ms/step - loss: 304.7379 - mae: 14.9558 - val_loss: 346.3464 - val_mae: 16.2765\n",
      "Epoch 38/150\n",
      "6/6 [==============================] - 0s 4ms/step - loss: 294.5862 - mae: 14.6277 - val_loss: 335.2039 - val_mae: 15.9416\n",
      "Epoch 39/150\n",
      "6/6 [==============================] - 0s 5ms/step - loss: 284.6345 - mae: 14.2976 - val_loss: 323.2300 - val_mae: 15.5745\n",
      "Epoch 40/150\n",
      "6/6 [==============================] - 0s 5ms/step - loss: 274.0581 - mae: 13.9530 - val_loss: 312.1847 - val_mae: 15.2297\n",
      "Epoch 41/150\n",
      "6/6 [==============================] - 0s 5ms/step - loss: 264.2891 - mae: 13.6148 - val_loss: 300.1407 - val_mae: 14.8447\n",
      "Epoch 42/150\n",
      "6/6 [==============================] - 0s 5ms/step - loss: 253.8362 - mae: 13.2588 - val_loss: 289.3385 - val_mae: 14.4902\n",
      "Epoch 43/150\n",
      "6/6 [==============================] - 0s 4ms/step - loss: 244.3826 - mae: 12.9326 - val_loss: 278.2584 - val_mae: 14.1177\n",
      "Epoch 44/150\n",
      "6/6 [==============================] - 0s 4ms/step - loss: 234.6806 - mae: 12.5929 - val_loss: 268.8584 - val_mae: 13.7955\n",
      "Epoch 45/150\n",
      "6/6 [==============================] - 0s 5ms/step - loss: 226.4620 - mae: 12.2919 - val_loss: 257.4854 - val_mae: 13.3981\n",
      "Epoch 46/150\n",
      "6/6 [==============================] - 0s 4ms/step - loss: 216.8004 - mae: 11.9438 - val_loss: 246.7423 - val_mae: 13.0148\n",
      "Epoch 47/150\n",
      "6/6 [==============================] - 0s 4ms/step - loss: 207.7150 - mae: 11.6017 - val_loss: 236.5459 - val_mae: 12.6444\n",
      "Epoch 48/150\n",
      "6/6 [==============================] - 0s 4ms/step - loss: 199.0946 - mae: 11.2769 - val_loss: 226.6819 - val_mae: 12.2787\n",
      "Epoch 49/150\n",
      "6/6 [==============================] - ETA: 0s - loss: 228.6677 - mae: 12.10 - 0s 5ms/step - loss: 190.8417 - mae: 10.9605 - val_loss: 216.3538 - val_mae: 11.8907\n",
      "Epoch 50/150\n",
      "6/6 [==============================] - 0s 11ms/step - loss: 182.3027 - mae: 10.6272 - val_loss: 204.7091 - val_mae: 11.4400\n",
      "Epoch 51/150\n",
      "6/6 [==============================] - 0s 5ms/step - loss: 173.4020 - mae: 10.2668 - val_loss: 196.5286 - val_mae: 11.1175\n",
      "Epoch 52/150\n",
      "6/6 [==============================] - 0s 6ms/step - loss: 166.7440 - mae: 9.9878 - val_loss: 188.2782 - val_mae: 10.7863\n",
      "Epoch 53/150\n",
      "6/6 [==============================] - 0s 5ms/step - loss: 160.1239 - mae: 9.7169 - val_loss: 180.9861 - val_mae: 10.4915\n",
      "Epoch 54/150\n",
      "6/6 [==============================] - 0s 5ms/step - loss: 154.2908 - mae: 9.4652 - val_loss: 172.7795 - val_mae: 10.1516\n",
      "Epoch 55/150\n",
      "6/6 [==============================] - 0s 5ms/step - loss: 148.0592 - mae: 9.1970 - val_loss: 165.0517 - val_mae: 9.8246\n",
      "Epoch 56/150\n",
      "6/6 [==============================] - 0s 4ms/step - loss: 142.3262 - mae: 8.9430 - val_loss: 157.4978 - val_mae: 9.4990\n",
      "Epoch 57/150\n",
      "6/6 [==============================] - 0s 5ms/step - loss: 136.9268 - mae: 8.6967 - val_loss: 151.5731 - val_mae: 9.2459\n",
      "Epoch 58/150\n",
      "6/6 [==============================] - 0s 4ms/step - loss: 132.6557 - mae: 8.5009 - val_loss: 145.1481 - val_mae: 8.9663\n",
      "Epoch 59/150\n",
      "6/6 [==============================] - 0s 4ms/step - loss: 128.3124 - mae: 8.2920 - val_loss: 140.4225 - val_mae: 8.7604\n",
      "Epoch 60/150\n",
      "6/6 [==============================] - 0s 4ms/step - loss: 125.0982 - mae: 8.1415 - val_loss: 137.0464 - val_mae: 8.6070\n",
      "Epoch 61/150\n",
      "6/6 [==============================] - 0s 4ms/step - loss: 122.7963 - mae: 8.0252 - val_loss: 131.0942 - val_mae: 8.3394\n",
      "Epoch 62/150\n",
      "6/6 [==============================] - 0s 4ms/step - loss: 119.3723 - mae: 7.8433 - val_loss: 127.8280 - val_mae: 8.1882\n",
      "Epoch 63/150\n",
      "6/6 [==============================] - 0s 4ms/step - loss: 117.3271 - mae: 7.7395 - val_loss: 125.0833 - val_mae: 8.0599\n",
      "Epoch 64/150\n",
      "6/6 [==============================] - 0s 4ms/step - loss: 115.5397 - mae: 7.6484 - val_loss: 122.0140 - val_mae: 7.9163\n",
      "Epoch 65/150\n",
      "6/6 [==============================] - 0s 4ms/step - loss: 113.7690 - mae: 7.5528 - val_loss: 119.6217 - val_mae: 7.8053\n",
      "Epoch 66/150\n",
      "6/6 [==============================] - 0s 4ms/step - loss: 112.2663 - mae: 7.4896 - val_loss: 116.0222 - val_mae: 7.6379\n",
      "Epoch 67/150\n",
      "6/6 [==============================] - 0s 4ms/step - loss: 110.7426 - mae: 7.3962 - val_loss: 114.7991 - val_mae: 7.5826\n",
      "Epoch 68/150\n",
      "6/6 [==============================] - 0s 4ms/step - loss: 109.7594 - mae: 7.3551 - val_loss: 112.5556 - val_mae: 7.4819\n",
      "Epoch 69/150\n",
      "6/6 [==============================] - 0s 5ms/step - loss: 108.5909 - mae: 7.2942 - val_loss: 111.3862 - val_mae: 7.4303\n",
      "Epoch 70/150\n",
      "6/6 [==============================] - 0s 4ms/step - loss: 107.7071 - mae: 7.2574 - val_loss: 110.7290 - val_mae: 7.3980\n",
      "Epoch 71/150\n",
      "6/6 [==============================] - 0s 5ms/step - loss: 106.9969 - mae: 7.2283 - val_loss: 110.5714 - val_mae: 7.3861\n",
      "Epoch 72/150\n",
      "6/6 [==============================] - 0s 4ms/step - loss: 106.1254 - mae: 7.1956 - val_loss: 108.5144 - val_mae: 7.2972\n",
      "Epoch 73/150\n",
      "6/6 [==============================] - 0s 5ms/step - loss: 105.1834 - mae: 7.1514 - val_loss: 107.6122 - val_mae: 7.2584\n",
      "Epoch 74/150\n",
      "6/6 [==============================] - 0s 4ms/step - loss: 104.4404 - mae: 7.1230 - val_loss: 107.2557 - val_mae: 7.2410\n",
      "Epoch 75/150\n",
      "6/6 [==============================] - 0s 4ms/step - loss: 103.6568 - mae: 7.0942 - val_loss: 105.3707 - val_mae: 7.1590\n",
      "Epoch 76/150\n",
      "6/6 [==============================] - 0s 11ms/step - loss: 102.7843 - mae: 7.0588 - val_loss: 105.0344 - val_mae: 7.1399\n",
      "Epoch 77/150\n",
      "6/6 [==============================] - 0s 6ms/step - loss: 101.9486 - mae: 7.0267 - val_loss: 104.1693 - val_mae: 7.0968\n",
      "Epoch 78/150\n",
      "6/6 [==============================] - 0s 4ms/step - loss: 100.9874 - mae: 6.9870 - val_loss: 103.8543 - val_mae: 7.0800\n",
      "Epoch 79/150\n",
      "6/6 [==============================] - 0s 4ms/step - loss: 100.3924 - mae: 6.9625 - val_loss: 103.2371 - val_mae: 7.0500\n",
      "Epoch 80/150\n",
      "6/6 [==============================] - 0s 4ms/step - loss: 99.7208 - mae: 6.9359 - val_loss: 103.0342 - val_mae: 7.0353\n",
      "Epoch 81/150\n",
      "6/6 [==============================] - 0s 4ms/step - loss: 99.1003 - mae: 6.9124 - val_loss: 102.8856 - val_mae: 7.0240\n",
      "Epoch 82/150\n",
      "6/6 [==============================] - 0s 4ms/step - loss: 98.5712 - mae: 6.8897 - val_loss: 100.4591 - val_mae: 6.9300\n",
      "Epoch 83/150\n",
      "6/6 [==============================] - 0s 4ms/step - loss: 97.7532 - mae: 6.8665 - val_loss: 99.8447 - val_mae: 6.9033\n",
      "Epoch 84/150\n",
      "6/6 [==============================] - 0s 4ms/step - loss: 97.1734 - mae: 6.8424 - val_loss: 99.7394 - val_mae: 6.8933\n",
      "Epoch 85/150\n",
      "6/6 [==============================] - 0s 4ms/step - loss: 96.6997 - mae: 6.8255 - val_loss: 98.1902 - val_mae: 6.8347\n",
      "Epoch 86/150\n",
      "6/6 [==============================] - 0s 4ms/step - loss: 96.0611 - mae: 6.8050 - val_loss: 98.3311 - val_mae: 6.8266\n",
      "Epoch 87/150\n",
      "6/6 [==============================] - 0s 4ms/step - loss: 95.4701 - mae: 6.7765 - val_loss: 96.7837 - val_mae: 6.7805\n",
      "Epoch 88/150\n",
      "6/6 [==============================] - 0s 4ms/step - loss: 94.8974 - mae: 6.7704 - val_loss: 97.1745 - val_mae: 6.7797\n",
      "Epoch 89/150\n",
      "6/6 [==============================] - 0s 5ms/step - loss: 94.5071 - mae: 6.7435 - val_loss: 97.3909 - val_mae: 6.7761\n",
      "Epoch 90/150\n",
      "6/6 [==============================] - 0s 4ms/step - loss: 94.0929 - mae: 6.7229 - val_loss: 96.2902 - val_mae: 6.7408\n",
      "Epoch 91/150\n",
      "6/6 [==============================] - 0s 4ms/step - loss: 93.6635 - mae: 6.7154 - val_loss: 96.6888 - val_mae: 6.7423\n",
      "Epoch 92/150\n",
      "6/6 [==============================] - 0s 4ms/step - loss: 93.3074 - mae: 6.6941 - val_loss: 96.3774 - val_mae: 6.7263\n",
      "Epoch 93/150\n",
      "6/6 [==============================] - 0s 4ms/step - loss: 92.8687 - mae: 6.6759 - val_loss: 95.8198 - val_mae: 6.7044\n",
      "Epoch 94/150\n",
      "6/6 [==============================] - 0s 4ms/step - loss: 92.4624 - mae: 6.6640 - val_loss: 95.9938 - val_mae: 6.7016\n",
      "Epoch 95/150\n",
      "6/6 [==============================] - 0s 4ms/step - loss: 92.1518 - mae: 6.6430 - val_loss: 94.2399 - val_mae: 6.6496\n",
      "Epoch 96/150\n",
      "6/6 [==============================] - 0s 4ms/step - loss: 91.5691 - mae: 6.6438 - val_loss: 94.4558 - val_mae: 6.6462\n",
      "Epoch 97/150\n",
      "6/6 [==============================] - 0s 4ms/step - loss: 91.1784 - mae: 6.6209 - val_loss: 94.6255 - val_mae: 6.6425\n",
      "Epoch 98/150\n",
      "6/6 [==============================] - 0s 4ms/step - loss: 90.9069 - mae: 6.6012 - val_loss: 92.8470 - val_mae: 6.5943\n",
      "Epoch 99/150\n",
      "6/6 [==============================] - 0s 4ms/step - loss: 90.4293 - mae: 6.6090 - val_loss: 91.5302 - val_mae: 6.5707\n",
      "Epoch 100/150\n",
      "6/6 [==============================] - 0s 5ms/step - loss: 90.2429 - mae: 6.6311 - val_loss: 91.6628 - val_mae: 6.5617\n",
      "Epoch 101/150\n",
      "6/6 [==============================] - 0s 4ms/step - loss: 89.8189 - mae: 6.6074 - val_loss: 92.3942 - val_mae: 6.5697\n",
      "Epoch 102/150\n",
      "6/6 [==============================] - 0s 4ms/step - loss: 89.6331 - mae: 6.5789 - val_loss: 91.3577 - val_mae: 6.5476\n",
      "Epoch 103/150\n",
      "6/6 [==============================] - 0s 4ms/step - loss: 89.3690 - mae: 6.5871 - val_loss: 92.0462 - val_mae: 6.5520\n",
      "Epoch 104/150\n",
      "6/6 [==============================] - 0s 4ms/step - loss: 89.1596 - mae: 6.5589 - val_loss: 91.6510 - val_mae: 6.5404\n",
      "Epoch 105/150\n",
      "6/6 [==============================] - 0s 4ms/step - loss: 88.9601 - mae: 6.5602 - val_loss: 92.0108 - val_mae: 6.5409\n",
      "Epoch 106/150\n",
      "6/6 [==============================] - 0s 4ms/step - loss: 88.8600 - mae: 6.5411 - val_loss: 92.2693 - val_mae: 6.5400\n",
      "Epoch 107/150\n",
      "6/6 [==============================] - 0s 4ms/step - loss: 88.5332 - mae: 6.5188 - val_loss: 90.5649 - val_mae: 6.5027\n",
      "Epoch 108/150\n",
      "6/6 [==============================] - 0s 6ms/step - loss: 88.1744 - mae: 6.5387 - val_loss: 90.6100 - val_mae: 6.4988\n",
      "Epoch 109/150\n",
      "6/6 [==============================] - 0s 11ms/step - loss: 87.9646 - mae: 6.5290 - val_loss: 91.1675 - val_mae: 6.5023\n",
      "Epoch 110/150\n",
      "6/6 [==============================] - 0s 4ms/step - loss: 87.8174 - mae: 6.5051 - val_loss: 91.7958 - val_mae: 6.5106\n",
      "Epoch 111/150\n",
      "6/6 [==============================] - 0s 4ms/step - loss: 87.7339 - mae: 6.4839 - val_loss: 91.2251 - val_mae: 6.4966\n",
      "Epoch 112/150\n",
      "6/6 [==============================] - 0s 4ms/step - loss: 87.4921 - mae: 6.4834 - val_loss: 89.3927 - val_mae: 6.4627\n",
      "Epoch 113/150\n",
      "6/6 [==============================] - 0s 4ms/step - loss: 87.1328 - mae: 6.5172 - val_loss: 89.6778 - val_mae: 6.4623\n",
      "Epoch 114/150\n",
      "6/6 [==============================] - 0s 5ms/step - loss: 87.0556 - mae: 6.5057 - val_loss: 90.4079 - val_mae: 6.4700\n",
      "Epoch 115/150\n",
      "6/6 [==============================] - 0s 4ms/step - loss: 86.9680 - mae: 6.4731 - val_loss: 89.1897 - val_mae: 6.4476\n",
      "Epoch 116/150\n",
      "6/6 [==============================] - 0s 4ms/step - loss: 86.6698 - mae: 6.4968 - val_loss: 88.4016 - val_mae: 6.4392\n",
      "Epoch 117/150\n",
      "6/6 [==============================] - 0s 5ms/step - loss: 86.5364 - mae: 6.5191 - val_loss: 88.3249 - val_mae: 6.4338\n",
      "Epoch 118/150\n",
      "6/6 [==============================] - 0s 4ms/step - loss: 86.3733 - mae: 6.5145 - val_loss: 88.8980 - val_mae: 6.4320\n",
      "Epoch 119/150\n",
      "6/6 [==============================] - 0s 4ms/step - loss: 86.2772 - mae: 6.4853 - val_loss: 88.4043 - val_mae: 6.4206\n",
      "Epoch 120/150\n",
      "6/6 [==============================] - 0s 4ms/step - loss: 86.0664 - mae: 6.4853 - val_loss: 89.0681 - val_mae: 6.4230\n",
      "Epoch 121/150\n",
      "6/6 [==============================] - 0s 5ms/step - loss: 85.9114 - mae: 6.4591 - val_loss: 88.4025 - val_mae: 6.4117\n",
      "Epoch 122/150\n",
      "6/6 [==============================] - 0s 4ms/step - loss: 85.7752 - mae: 6.4861 - val_loss: 88.4416 - val_mae: 6.4076\n",
      "Epoch 123/150\n",
      "6/6 [==============================] - 0s 5ms/step - loss: 85.5945 - mae: 6.4567 - val_loss: 87.2236 - val_mae: 6.3978\n",
      "Epoch 124/150\n",
      "6/6 [==============================] - 0s 4ms/step - loss: 85.4458 - mae: 6.4884 - val_loss: 86.6230 - val_mae: 6.3972\n",
      "Epoch 125/150\n",
      "6/6 [==============================] - 0s 5ms/step - loss: 85.2989 - mae: 6.5113 - val_loss: 86.7855 - val_mae: 6.3882\n",
      "Epoch 126/150\n",
      "6/6 [==============================] - 0s 4ms/step - loss: 85.1733 - mae: 6.5072 - val_loss: 86.1054 - val_mae: 6.3927\n",
      "Epoch 127/150\n",
      "6/6 [==============================] - 0s 5ms/step - loss: 84.9961 - mae: 6.5228 - val_loss: 86.6971 - val_mae: 6.3800\n",
      "Epoch 128/150\n",
      "6/6 [==============================] - 0s 7ms/step - loss: 84.8280 - mae: 6.4845 - val_loss: 87.5583 - val_mae: 6.3782\n",
      "Epoch 129/150\n",
      "6/6 [==============================] - 0s 17ms/step - loss: 84.7917 - mae: 6.4384 - val_loss: 86.7529 - val_mae: 6.3717\n",
      "Epoch 130/150\n",
      "6/6 [==============================] - 0s 5ms/step - loss: 84.6055 - mae: 6.4635 - val_loss: 85.7751 - val_mae: 6.3847\n",
      "Epoch 131/150\n",
      "6/6 [==============================] - 0s 6ms/step - loss: 84.7247 - mae: 6.5253 - val_loss: 85.8555 - val_mae: 6.3798\n",
      "Epoch 132/150\n",
      "6/6 [==============================] - 0s 4ms/step - loss: 84.5599 - mae: 6.5118 - val_loss: 86.0661 - val_mae: 6.3703\n",
      "Epoch 133/150\n",
      "6/6 [==============================] - 0s 4ms/step - loss: 84.4489 - mae: 6.4838 - val_loss: 86.9829 - val_mae: 6.3618\n",
      "Epoch 134/150\n",
      "6/6 [==============================] - 0s 4ms/step - loss: 84.3248 - mae: 6.4422 - val_loss: 87.4116 - val_mae: 6.3645\n",
      "Epoch 135/150\n",
      "6/6 [==============================] - 0s 4ms/step - loss: 84.2841 - mae: 6.4250 - val_loss: 87.0681 - val_mae: 6.3595\n",
      "Epoch 136/150\n",
      "6/6 [==============================] - 0s 4ms/step - loss: 84.1659 - mae: 6.4313 - val_loss: 86.9911 - val_mae: 6.3576\n",
      "Epoch 137/150\n",
      "6/6 [==============================] - 0s 4ms/step - loss: 84.1356 - mae: 6.4298 - val_loss: 87.0659 - val_mae: 6.3569\n",
      "Epoch 138/150\n",
      "6/6 [==============================] - 0s 10ms/step - loss: 84.0727 - mae: 6.4123 - val_loss: 86.2291 - val_mae: 6.3521\n",
      "Epoch 139/150\n",
      "6/6 [==============================] - ETA: 0s - loss: 73.0312 - mae: 6.28 - 0s 5ms/step - loss: 83.9638 - mae: 6.4533 - val_loss: 85.4325 - val_mae: 6.3578\n",
      "Epoch 140/150\n",
      "6/6 [==============================] - 0s 4ms/step - loss: 83.8582 - mae: 6.4783 - val_loss: 86.5658 - val_mae: 6.3478\n",
      "Epoch 141/150\n",
      "6/6 [==============================] - 0s 5ms/step - loss: 83.7107 - mae: 6.4201 - val_loss: 86.9459 - val_mae: 6.3470\n",
      "Epoch 142/150\n",
      "6/6 [==============================] - 0s 4ms/step - loss: 83.6931 - mae: 6.4105 - val_loss: 86.2624 - val_mae: 6.3461\n",
      "Epoch 143/150\n",
      "6/6 [==============================] - 0s 5ms/step - loss: 83.6537 - mae: 6.4363 - val_loss: 87.0847 - val_mae: 6.3470\n",
      "Epoch 144/150\n",
      "6/6 [==============================] - 0s 4ms/step - loss: 83.6739 - mae: 6.4007 - val_loss: 85.9031 - val_mae: 6.3442\n",
      "Epoch 145/150\n",
      "6/6 [==============================] - 0s 4ms/step - loss: 83.5505 - mae: 6.4426 - val_loss: 85.2660 - val_mae: 6.3500\n",
      "Epoch 146/150\n",
      "6/6 [==============================] - 0s 5ms/step - loss: 83.5128 - mae: 6.4707 - val_loss: 85.1145 - val_mae: 6.3518\n",
      "Epoch 147/150\n",
      "6/6 [==============================] - ETA: 0s - loss: 82.8903 - mae: 6.20 - 0s 4ms/step - loss: 83.6697 - mae: 6.4872 - val_loss: 86.2563 - val_mae: 6.3387\n",
      "Epoch 148/150\n",
      "6/6 [==============================] - 0s 4ms/step - loss: 83.4053 - mae: 6.4185 - val_loss: 86.6985 - val_mae: 6.3376\n",
      "Epoch 149/150\n",
      "6/6 [==============================] - 0s 4ms/step - loss: 83.4474 - mae: 6.4086 - val_loss: 87.3046 - val_mae: 6.3402\n",
      "Epoch 150/150\n",
      "6/6 [==============================] - 0s 5ms/step - loss: 83.4663 - mae: 6.3844 - val_loss: 87.9810 - val_mae: 6.3494\n"
     ]
    }
   ],
   "source": [
    "es = EarlyStopping(monitor = 'val_loss', min_delta = 0.001, patience = 10, verbose = 1, mode = 'auto')\n",
    "callbacks = [es]\n",
    "historico = model.fit(x_train, \n",
    "                             y_train, \n",
    "                             epochs = 150, \n",
    "                             batch_size=64,\n",
    "                             verbose = 1,\n",
    "                             validation_split = 0.2 ,\n",
    "                             shuffle=True,\n",
    "                             callbacks = callbacks)"
   ]
  },
  {
   "cell_type": "code",
   "execution_count": 76,
   "metadata": {},
   "outputs": [],
   "source": [
    "x_test = np.expand_dims(x_test, axis=-1)"
   ]
  },
  {
   "cell_type": "code",
   "execution_count": 86,
   "metadata": {},
   "outputs": [
    {
     "data": {
      "text/plain": [
       "(102, 13, 1)"
      ]
     },
     "execution_count": 86,
     "metadata": {},
     "output_type": "execute_result"
    }
   ],
   "source": [
    "x_test.shape"
   ]
  },
  {
   "cell_type": "code",
   "execution_count": 137,
   "metadata": {},
   "outputs": [],
   "source": [
    "pred_simples = model.predict(x_test)"
   ]
  },
  {
   "cell_type": "code",
   "execution_count": 139,
   "metadata": {},
   "outputs": [
    {
     "data": {
      "text/plain": [
       "6.251049916884478"
      ]
     },
     "execution_count": 139,
     "metadata": {},
     "output_type": "execute_result"
    }
   ],
   "source": [
    "from sklearn.metrics import mean_absolute_error\n",
    "\n",
    "mean_absolute_error(y_test, np.mean(pred_simples,axis=1))"
   ]
  },
  {
   "cell_type": "code",
   "execution_count": 140,
   "metadata": {},
   "outputs": [
    {
     "data": {
      "text/html": [
       "<div>\n",
       "<style scoped>\n",
       "    .dataframe tbody tr th:only-of-type {\n",
       "        vertical-align: middle;\n",
       "    }\n",
       "\n",
       "    .dataframe tbody tr th {\n",
       "        vertical-align: top;\n",
       "    }\n",
       "\n",
       "    .dataframe thead th {\n",
       "        text-align: right;\n",
       "    }\n",
       "</style>\n",
       "<table border=\"1\" class=\"dataframe\">\n",
       "  <thead>\n",
       "    <tr style=\"text-align: right;\">\n",
       "      <th></th>\n",
       "      <th>y_test</th>\n",
       "      <th>y_pred</th>\n",
       "    </tr>\n",
       "  </thead>\n",
       "  <tbody>\n",
       "    <tr>\n",
       "      <th>0</th>\n",
       "      <td>7.2</td>\n",
       "      <td>21.015167</td>\n",
       "    </tr>\n",
       "    <tr>\n",
       "      <th>1</th>\n",
       "      <td>18.8</td>\n",
       "      <td>21.172346</td>\n",
       "    </tr>\n",
       "    <tr>\n",
       "      <th>2</th>\n",
       "      <td>19.0</td>\n",
       "      <td>21.469160</td>\n",
       "    </tr>\n",
       "    <tr>\n",
       "      <th>3</th>\n",
       "      <td>27.0</td>\n",
       "      <td>21.902241</td>\n",
       "    </tr>\n",
       "    <tr>\n",
       "      <th>4</th>\n",
       "      <td>22.2</td>\n",
       "      <td>21.707869</td>\n",
       "    </tr>\n",
       "    <tr>\n",
       "      <th>...</th>\n",
       "      <td>...</td>\n",
       "      <td>...</td>\n",
       "    </tr>\n",
       "    <tr>\n",
       "      <th>97</th>\n",
       "      <td>21.9</td>\n",
       "      <td>21.073530</td>\n",
       "    </tr>\n",
       "    <tr>\n",
       "      <th>98</th>\n",
       "      <td>24.1</td>\n",
       "      <td>22.059984</td>\n",
       "    </tr>\n",
       "    <tr>\n",
       "      <th>99</th>\n",
       "      <td>50.0</td>\n",
       "      <td>21.910994</td>\n",
       "    </tr>\n",
       "    <tr>\n",
       "      <th>100</th>\n",
       "      <td>26.7</td>\n",
       "      <td>21.599499</td>\n",
       "    </tr>\n",
       "    <tr>\n",
       "      <th>101</th>\n",
       "      <td>25.0</td>\n",
       "      <td>21.603239</td>\n",
       "    </tr>\n",
       "  </tbody>\n",
       "</table>\n",
       "<p>102 rows × 2 columns</p>\n",
       "</div>"
      ],
      "text/plain": [
       "     y_test     y_pred\n",
       "0       7.2  21.015167\n",
       "1      18.8  21.172346\n",
       "2      19.0  21.469160\n",
       "3      27.0  21.902241\n",
       "4      22.2  21.707869\n",
       "..      ...        ...\n",
       "97     21.9  21.073530\n",
       "98     24.1  22.059984\n",
       "99     50.0  21.910994\n",
       "100    26.7  21.599499\n",
       "101    25.0  21.603239\n",
       "\n",
       "[102 rows x 2 columns]"
      ]
     },
     "execution_count": 140,
     "metadata": {},
     "output_type": "execute_result"
    }
   ],
   "source": [
    "import pandas as pd\n",
    "\n",
    "resultado = pd.DataFrame()\n",
    "resultado['y_test'] = y_test\n",
    "resultado['y_pred'] = np.mean(pred_simples,axis=1)\n",
    "\n",
    "resultado"
   ]
  }
 ],
 "metadata": {
  "kernelspec": {
   "display_name": "valor_venal",
   "language": "python",
   "name": "python3"
  },
  "language_info": {
   "codemirror_mode": {
    "name": "ipython",
    "version": 3
   },
   "file_extension": ".py",
   "mimetype": "text/x-python",
   "name": "python",
   "nbconvert_exporter": "python",
   "pygments_lexer": "ipython3",
   "version": "3.7.13"
  }
 },
 "nbformat": 4,
 "nbformat_minor": 2
}
