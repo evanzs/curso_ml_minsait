{
 "cells": [
  {
   "cell_type": "code",
   "execution_count": 1,
   "metadata": {},
   "outputs": [
    {
     "name": "stdout",
     "output_type": "stream",
     "text": [
      "The console stream is logged into C:\\Users\\dpatricio\\sg_logs\\console.log\n"
     ]
    },
    {
     "name": "stderr",
     "output_type": "stream",
     "text": [
      "[2023-11-07 14:15:35] INFO - crash_tips_setup.py - Crash tips is enabled. You can set your environment variable to CRASH_HANDLER=FALSE to disable it\n",
      "[2023-11-07 14:15:38] WARNING - __init__.py - Failed to import pytorch_quantization\n",
      "[2023-11-07 14:15:39,069] torch.distributed.elastic.multiprocessing.redirects: [WARNING] NOTE: Redirects are currently not supported in Windows or MacOs.\n",
      "[2023-11-07 14:16:54] WARNING - calibrator.py - Failed to import pytorch_quantization\n",
      "[2023-11-07 14:16:54] WARNING - export.py - Failed to import pytorch_quantization\n",
      "[2023-11-07 14:16:54] WARNING - selective_quantization_utils.py - Failed to import pytorch_quantization\n",
      "[2023-11-07 14:16:54] WARNING - env_sanity_check.py - \u001b[31mFailed to verify operating system: Deci officially supports only Linux kernels. Some features may not work as expected.\u001b[0m\n"
     ]
    }
   ],
   "source": [
    "import super_gradients"
   ]
  },
  {
   "cell_type": "code",
   "execution_count": 2,
   "metadata": {},
   "outputs": [],
   "source": [
    "from super_gradients.training import models\n",
    "from super_gradients.common.object_names import Models"
   ]
  },
  {
   "cell_type": "code",
   "execution_count": 4,
   "metadata": {},
   "outputs": [
    {
     "name": "stderr",
     "output_type": "stream",
     "text": [
      "Downloading: \"https://sghub.deci.ai/models/yolox_n_coco.pth\" to C:\\Users\\dpatricio/.cache\\torch\\hub\\checkpoints\\yolox_n_coco.pth\n",
      "100%|██████████| 11.1M/11.1M [00:01<00:00, 7.00MB/s]\n",
      "[2023-11-07 14:26:00] INFO - checkpoint_utils.py - Successfully loaded pretrained weights for architecture yolox_n\n"
     ]
    }
   ],
   "source": [
    "model = models.get(Models.YOLOX_N, num_classes=2,pretrained_weights='coco')"
   ]
  },
  {
   "cell_type": "code",
   "execution_count": 5,
   "metadata": {
    "notebookRunGroups": {
     "groupValue": "1"
    }
   },
   "outputs": [],
   "source": [
    "import torch\n",
    "from torch.utils.data import Dataset\n",
    "import json\n",
    "import os\n",
    "from PIL import Image\n",
    "from torchvision import transforms, utils\n",
    "import numpy as np\n",
    "import glob\n",
    "import random\n",
    "\n",
    "\n",
    "class CustomDataset(Dataset):\n",
    "    \"\"\"\n",
    "    A PyTorch Dataset class to be used in a PyTorch DataLoader to create batches.\n",
    "    \"\"\"\n",
    "\n",
    "    def __init__(self, data_folder, split, keep_difficult=False):\n",
    "        \"\"\"\n",
    "        :param data_folder: folder where data files are stored\n",
    "        :param split: split, one of 'TRAIN' or 'TEST'\n",
    "        :param keep_difficult: keep or discard objects that are considered difficult to detect?\n",
    "        \"\"\"\n",
    "        self.split = split.lower()\n",
    "\n",
    "        assert self.split in {'train', 'test'}\n",
    "\n",
    "        self.data_folder = data_folder\n",
    "        self.keep_difficult = keep_difficult\n",
    "\n",
    "        # Read data files\n",
    "        # with open(os.path.join(data_folder, self.split + '.txt'), 'r') as j:\n",
    "        #     self.images = j.readlines()\n",
    "        self.images = glob.glob(data_folder+\"images/\"+self.split+\"/\"+\"*.jpg\")\n",
    "        self.images = [i.replace(\"\\\\\",\"/\") for i in self.images]\n",
    "        self.images = random.sample(self.images,20)\n",
    "\n",
    "    def __getitem__(self, i):\n",
    "        # Read image and label\n",
    "        image = Image.open(self.images[i].replace(\"\\n\",\"\").replace(\"\\\\\",\"/\"), mode='r').resize((320, 320))\n",
    "        image = image.convert(\"RGB\")\n",
    "        # image_tensor = torch.tensor(np.expand_dims(image,axis=-1)).permute(2, 0, 1).float()\n",
    "        image_tensor = torch.tensor(np.array(image)).permute(2, 0, 1).float()\n",
    "        labels = np.loadtxt(self.images[i].replace(\"jpg\",\"txt\").replace(\"images\", \"labels\"))\n",
    "        if len(labels.shape) == 1:\n",
    "            labels = np.transpose(np.expand_dims(labels,axis=-1))\n",
    "        return image_tensor, torch.tensor(labels,dtype=torch.float)\n",
    "        \n",
    "\n",
    "    def __len__(self):\n",
    "        return len(self.images)"
   ]
  },
  {
   "cell_type": "code",
   "execution_count": 6,
   "metadata": {
    "notebookRunGroups": {
     "groupValue": "1"
    }
   },
   "outputs": [],
   "source": [
    "train_dataset = CustomDataset(\"dataset_deteccao/axial_t1wce_2_class_corrigida/\",split=\"train\")\n",
    "val_dataset = CustomDataset(\"dataset_deteccao/axial_t1wce_2_class_corrigida/\",split=\"test\")"
   ]
  },
  {
   "cell_type": "code",
   "execution_count": 7,
   "metadata": {
    "notebookRunGroups": {
     "groupValue": "1"
    }
   },
   "outputs": [],
   "source": [
    "from torch.utils.data import Dataset, DataLoader\n",
    "from super_gradients.training.utils.collate_fn.detection_collate_fn import DetectionCollateFN\n",
    "\n",
    "train_dataloader = DataLoader(train_dataset, batch_size=4, shuffle=True, num_workers=0, collate_fn=DetectionCollateFN())\n",
    "val_dataloader = DataLoader(val_dataset, batch_size=4, shuffle=False, num_workers=0, collate_fn=DetectionCollateFN())"
   ]
  },
  {
   "cell_type": "code",
   "execution_count": 43,
   "metadata": {},
   "outputs": [
    {
     "name": "stdout",
     "output_type": "stream",
     "text": [
      "Training parameters:\n",
      "{\n",
      "    \"resume\"    : null,\n",
      "    \"run_id\"    : null,\n",
      "    \"resume_path\"       : null,\n",
      "    \"resume_from_remote_sg_logger\"      : false,\n",
      "    \"ckpt_name\" : \"ckpt_latest.pth\",\n",
      "    \"lr_mode\"   : \"CosineLRScheduler\",\n",
      "    \"lr_schedule_function\"  : null,\n",
      "    \"lr_warmup_epochs\"  : 5,\n",
      "    \"lr_warmup_steps\"   : 0,\n",
      "    \"lr_cooldown_epochs\": 15,\n",
      "    \"warmup_initial_lr\" : null,\n",
      "    \"step_lr_update_freq\"   : null,\n",
      "    \"cosine_final_lr_ratio\" : 0.05,\n",
      "    \"warmup_mode\"       : \"LinearEpochLRWarmup\",\n",
      "    \"lr_updates\": [],\n",
      "    \"pre_prediction_callback\"   : null,\n",
      "    \"optimizer\" : \"SGD\",\n",
      "    \"optimizer_params\"  : {\"momentum\": 0.9, \"weight_decay\": 0.0005, \"nesterov\": true},\n",
      "    \"load_opt_params\"   : true,\n",
      "    \"zero_weight_decay_on_bias_and_bn\"  : true,\n",
      "    \"loss\"      : \"YoloXDetectionLoss\",\n",
      "    \"criterion_params\"  : {\"strides\": [8, 16, 32], \"num_classes\": 80},\n",
      "    \"ema\"       : true,\n",
      "    \"ema_params\": {\"decay\": 0.9999, \"decay_type\": \"exp\", \"beta\": 15},\n",
      "    \"train_metrics_list\": [],\n",
      "    \"valid_metrics_list\":\n",
      "        [\n",
      "            {\n",
      "                \"DetectionMetrics\":\n",
      "                    {\"normalize_targets\": true, \"post_prediction_callback\": YoloXPostPredictionCallback(), \"num_cls\": 80}\n",
      "            }\n",
      "        ],\n",
      "    \"metric_to_watch\"   : \"mAP@0.50:0.95\",\n",
      "    \"greater_metric_to_watch_is_better\" : true,\n",
      "    \"launch_tensorboard\": false,\n",
      "    \"tensorboard_port\"  : null,\n",
      "    \"tb_files_user_prompt\"  : false,\n",
      "    \"save_tensorboard_to_s3\": false,\n",
      "    \"precise_bn\": false,\n",
      "    \"precise_bn_batch_size\" : null,\n",
      "    \"sync_bn\"   : false,\n",
      "    \"silent_mode\"       : false,\n",
      "    \"mixed_precision\"   : true,\n",
      "    \"save_ckpt_epoch_list\"  : [285],\n",
      "    \"average_best_models\"   : true,\n",
      "    \"dataset_statistics\": false,\n",
      "    \"batch_accumulate\"  : 1,\n",
      "    \"run_validation_freq\"   : 1,\n",
      "    \"run_test_freq\"     : 1,\n",
      "    \"save_model\": true,\n",
      "    \"seed\"      : 42,\n",
      "    \"phase_callbacks\"   : [{\"YoloXTrainingStageSwitchCallback\": {\"next_stage_start_epoch\": 285}}],\n",
      "    \"log_installed_packages\": true,\n",
      "    \"clip_grad_norm\"    : null,\n",
      "    \"ckpt_best_name\"    : \"ckpt_best.pth\",\n",
      "    \"max_train_batches\" : null,\n",
      "    \"max_valid_batches\" : null,\n",
      "    \"sg_logger\" : \"base_sg_logger\",\n",
      "    \"sg_logger_params\":\n",
      "        {\n",
      "            \"tb_files_user_prompt\"      : false,\n",
      "            \"launch_tensorboard\": false,\n",
      "            \"tensorboard_port\"  : null,\n",
      "            \"save_checkpoints_remote\"   : false,\n",
      "            \"save_tensorboard_remote\"   : false,\n",
      "            \"save_logs_remote\"  : false,\n",
      "            \"monitor_system\"    : true\n",
      "        },\n",
      "    \"torch_compile\"     : false,\n",
      "    \"torch_compile_loss\": false,\n",
      "    \"torch_compile_options\":\n",
      "        {\n",
      "            \"mode\"      : \"reduce-overhead\",\n",
      "            \"fullgraph\" : false,\n",
      "            \"dynamic\"   : false,\n",
      "            \"backend\"   : \"inductor\",\n",
      "            \"options\"   : null,\n",
      "            \"disable\"   : false\n",
      "        },\n",
      "    \"_convert_\" : \"all\",\n",
      "    \"max_epochs\": 300,\n",
      "    \"initial_lr\": 0.02\n",
      "}\n"
     ]
    }
   ],
   "source": [
    "from super_gradients.training import training_hyperparams\n",
    "\n",
    "from prettyformatter import pprint\n",
    "\n",
    "train_params = training_hyperparams.get('coco2017_yolox.yaml')\n",
    "print('Training parameters:')\n",
    "pprint(train_params, json=True)"
   ]
  },
  {
   "cell_type": "code",
   "execution_count": 44,
   "metadata": {},
   "outputs": [],
   "source": [
    "train_params['max_epochs'] = 10\n",
    "# train_params['lr_warmup_epochs'] = 0\n",
    "# train_params['lr_cooldown_epochs'] = 0\n",
    "train_params['criterion_params']['num_classes'] = 2\n",
    "train_params['valid_metrics_list'][0]['DetectionMetrics']['num_cls'] =2\n",
    "# train_params['average_best_models'] = False\n",
    "# train_params['initial_lr'] = 0.01\n",
    "# train_params['cosine_final_lr_ratio'] = 0.9\n",
    "# train_params['mixed_precision'] = False\n",
    "# train_params['phase_callbacks'] = []\n",
    "# train_params['lr_warmup_steps'] = 10\n",
    "# train_params['valid_metrics_list'] = [{\"DetectionMetrics\": {\"post_prediction_callback\": super_gradients.training.utils.ssd_utils.SSDPostPredictCallback(), \"num_cls\": 3}}]"
   ]
  },
  {
   "cell_type": "code",
   "execution_count": 45,
   "metadata": {},
   "outputs": [
    {
     "name": "stdout",
     "output_type": "stream",
     "text": [
      "{\n",
      "    \"resume\"    : null,\n",
      "    \"run_id\"    : null,\n",
      "    \"resume_path\"       : null,\n",
      "    \"resume_from_remote_sg_logger\"      : false,\n",
      "    \"ckpt_name\" : \"ckpt_latest.pth\",\n",
      "    \"lr_mode\"   : \"CosineLRScheduler\",\n",
      "    \"lr_schedule_function\"  : null,\n",
      "    \"lr_warmup_epochs\"  : 5,\n",
      "    \"lr_warmup_steps\"   : 0,\n",
      "    \"lr_cooldown_epochs\": 15,\n",
      "    \"warmup_initial_lr\" : null,\n",
      "    \"step_lr_update_freq\"   : null,\n",
      "    \"cosine_final_lr_ratio\" : 0.05,\n",
      "    \"warmup_mode\"       : \"LinearEpochLRWarmup\",\n",
      "    \"lr_updates\": [],\n",
      "    \"pre_prediction_callback\"   : null,\n",
      "    \"optimizer\" : \"SGD\",\n",
      "    \"optimizer_params\"  : {\"momentum\": 0.9, \"weight_decay\": 0.0005, \"nesterov\": true},\n",
      "    \"load_opt_params\"   : true,\n",
      "    \"zero_weight_decay_on_bias_and_bn\"  : true,\n",
      "    \"loss\"      : \"YoloXDetectionLoss\",\n",
      "    \"criterion_params\"  : {\"strides\": [8, 16, 32], \"num_classes\": 2},\n",
      "    \"ema\"       : true,\n",
      "    \"ema_params\": {\"decay\": 0.9999, \"decay_type\": \"exp\", \"beta\": 15},\n",
      "    \"train_metrics_list\": [],\n",
      "    \"valid_metrics_list\":\n",
      "        [\n",
      "            {\n",
      "                \"DetectionMetrics\":\n",
      "                    {\"normalize_targets\": true, \"post_prediction_callback\": YoloXPostPredictionCallback(), \"num_cls\": 2}\n",
      "            }\n",
      "        ],\n",
      "    \"metric_to_watch\"   : \"mAP@0.50:0.95\",\n",
      "    \"greater_metric_to_watch_is_better\" : true,\n",
      "    \"launch_tensorboard\": false,\n",
      "    \"tensorboard_port\"  : null,\n",
      "    \"tb_files_user_prompt\"  : false,\n",
      "    \"save_tensorboard_to_s3\": false,\n",
      "    \"precise_bn\": false,\n",
      "    \"precise_bn_batch_size\" : null,\n",
      "    \"sync_bn\"   : false,\n",
      "    \"silent_mode\"       : false,\n",
      "    \"mixed_precision\"   : true,\n",
      "    \"save_ckpt_epoch_list\"  : [285],\n",
      "    \"average_best_models\"   : true,\n",
      "    \"dataset_statistics\": false,\n",
      "    \"batch_accumulate\"  : 1,\n",
      "    \"run_validation_freq\"   : 1,\n",
      "    \"run_test_freq\"     : 1,\n",
      "    \"save_model\": true,\n",
      "    \"seed\"      : 42,\n",
      "    \"phase_callbacks\"   : [{\"YoloXTrainingStageSwitchCallback\": {\"next_stage_start_epoch\": 285}}],\n",
      "    \"log_installed_packages\": true,\n",
      "    \"clip_grad_norm\"    : null,\n",
      "    \"ckpt_best_name\"    : \"ckpt_best.pth\",\n",
      "    \"max_train_batches\" : null,\n",
      "    \"max_valid_batches\" : null,\n",
      "    \"sg_logger\" : \"base_sg_logger\",\n",
      "    \"sg_logger_params\":\n",
      "        {\n",
      "            \"tb_files_user_prompt\"      : false,\n",
      "            \"launch_tensorboard\": false,\n",
      "            \"tensorboard_port\"  : null,\n",
      "            \"save_checkpoints_remote\"   : false,\n",
      "            \"save_tensorboard_remote\"   : false,\n",
      "            \"save_logs_remote\"  : false,\n",
      "            \"monitor_system\"    : true\n",
      "        },\n",
      "    \"torch_compile\"     : false,\n",
      "    \"torch_compile_loss\": false,\n",
      "    \"torch_compile_options\":\n",
      "        {\n",
      "            \"mode\"      : \"reduce-overhead\",\n",
      "            \"fullgraph\" : false,\n",
      "            \"dynamic\"   : false,\n",
      "            \"backend\"   : \"inductor\",\n",
      "            \"options\"   : null,\n",
      "            \"disable\"   : false\n",
      "        },\n",
      "    \"_convert_\" : \"all\",\n",
      "    \"max_epochs\": 10,\n",
      "    \"initial_lr\": 0.02\n",
      "}\n"
     ]
    }
   ],
   "source": [
    "pprint(train_params, json=True)"
   ]
  },
  {
   "cell_type": "code",
   "execution_count": 10,
   "metadata": {},
   "outputs": [],
   "source": [
    "from super_gradients.training import Trainer, MultiGPUMode"
   ]
  },
  {
   "cell_type": "code",
   "execution_count": 11,
   "metadata": {},
   "outputs": [],
   "source": [
    "CHECKPOINT_DIR = '.'"
   ]
  },
  {
   "cell_type": "code",
   "execution_count": 12,
   "metadata": {},
   "outputs": [
    {
     "name": "stderr",
     "output_type": "stream",
     "text": [
      "[2023-11-07 14:26:42] WARNING - distributed_training_utils.py - CUDA device is not available on your device... Moving to CPU.\n"
     ]
    }
   ],
   "source": [
    "super_gradients.setup_device(num_gpus=0)"
   ]
  },
  {
   "cell_type": "code",
   "execution_count": 52,
   "metadata": {},
   "outputs": [],
   "source": [
    "from super_gradients.training.processing import ImagePermute, ComposeProcessing\n",
    "\n",
    "image_processor = ComposeProcessing(\n",
    "    [\n",
    "        # Resize(320),\n",
    "        ImagePermute(permutation=(2, 0, 1)),\n",
    "    ]\n",
    ")\n"
   ]
  },
  {
   "cell_type": "code",
   "execution_count": 53,
   "metadata": {},
   "outputs": [],
   "source": [
    "model.set_dataset_processing_params(iou=0.5,class_names=['negative','positive'],conf=0.5,image_processor=image_processor)"
   ]
  },
  {
   "cell_type": "code",
   "execution_count": 54,
   "metadata": {},
   "outputs": [],
   "source": [
    "trainer = Trainer(experiment_name='transfer_learning_object_detection_yolo_x_n', ckpt_root_dir=CHECKPOINT_DIR)"
   ]
  },
  {
   "cell_type": "code",
   "execution_count": 55,
   "metadata": {
    "notebookRunGroups": {
     "groupValue": "1"
    }
   },
   "outputs": [
    {
     "name": "stderr",
     "output_type": "stream",
     "text": [
      "[2023-11-07 16:30:14] INFO - sg_trainer.py - Starting a new run with `run_id=RUN_20231107_163014_800986`\n",
      "[2023-11-07 16:30:14] INFO - sg_trainer.py - Checkpoints directory: .\\transfer_learning_object_detection_yolo_x_n\\RUN_20231107_163014_800986\n"
     ]
    },
    {
     "name": "stdout",
     "output_type": "stream",
     "text": [
      "The console stream is now moved to .\\transfer_learning_object_detection_yolo_x_n\\RUN_20231107_163014_800986/console_Nov07_16_30_15.txt\n"
     ]
    },
    {
     "name": "stderr",
     "output_type": "stream",
     "text": [
      "[2023-11-07 16:30:16] INFO - sg_trainer.py - Using EMA with params {'decay': 0.9999, 'decay_type': 'exp', 'beta': 15}\n",
      "[2023-11-07 16:30:17] INFO - sg_trainer_utils.py - TRAINING PARAMETERS:\n",
      "    - Mode:                         OFF\n",
      "    - Number of GPUs:               0          (0 available on the machine)\n",
      "    - Full dataset size:            20         (len(train_set))\n",
      "    - Batch size per GPU:           4          (batch_size)\n",
      "    - Batch Accumulate:             1          (batch_accumulate)\n",
      "    - Total batch size:             4          (num_gpus * batch_size)\n",
      "    - Effective Batch size:         4          (num_gpus * batch_size * batch_accumulate)\n",
      "    - Iterations per epoch:         5          (len(train_loader))\n",
      "    - Gradient updates per epoch:   5          (len(train_loader) / batch_accumulate)\n",
      "\n",
      "[2023-11-07 16:30:17] INFO - sg_trainer.py - Started training for 10 epochs (0/9)\n",
      "\n",
      "Train epoch 0: 100%|██████████| 5/5 [00:12<00:00,  2.50s/it, YoloXDetectionLoss/Loss=5.01, YoloXDetectionLoss/cls=0.00116, YoloXDetectionLoss/iou=1, YoloXDetectionLoss/l1=0, YoloXDetectionLoss/num_fg=1, YoloXDetectionLoss/obj=0.00985, gpu_mem=0]\n",
      "Validating: 100%|██████████| 5/5 [00:02<00:00,  1.88it/s]\n",
      "[2023-11-07 16:30:33] INFO - base_sg_logger.py - Checkpoint saved in .\\transfer_learning_object_detection_yolo_x_n\\RUN_20231107_163014_800986\\ckpt_best.pth\n",
      "[2023-11-07 16:30:33] INFO - sg_trainer.py - Best checkpoint overriden: validation mAP@0.50:0.95: 0.0\n"
     ]
    },
    {
     "name": "stdout",
     "output_type": "stream",
     "text": [
      "===========================================================\n",
      "SUMMARY OF EPOCH 0\n",
      "├── Train\n",
      "│   ├── Yoloxdetectionloss/iou = 1.0\n",
      "│   ├── Yoloxdetectionloss/obj = 0.0098\n",
      "│   ├── Yoloxdetectionloss/cls = 0.0012\n",
      "│   ├── Yoloxdetectionloss/l1 = 0.0\n",
      "│   ├── Yoloxdetectionloss/num_fg = 1.0\n",
      "│   └── Yoloxdetectionloss/loss = 5.011\n",
      "└── Validation\n",
      "    ├── Yoloxdetectionloss/iou = 1.0\n",
      "    ├── Yoloxdetectionloss/obj = 16.7276\n",
      "    ├── Yoloxdetectionloss/cls = 0.0189\n",
      "    ├── Yoloxdetectionloss/l1 = 0.0\n",
      "    ├── Yoloxdetectionloss/num_fg = 0.88\n",
      "    ├── Yoloxdetectionloss/loss = 21.7465\n",
      "    ├── Precision@0.50:0.95 = 0.0\n",
      "    ├── Recall@0.50:0.95 = 0.0\n",
      "    ├── Map@0.50:0.95 = 0.0\n",
      "    └── F1@0.50:0.95 = 0.0\n",
      "\n",
      "===========================================================\n"
     ]
    },
    {
     "name": "stderr",
     "output_type": "stream",
     "text": [
      "Train epoch 1: 100%|██████████| 5/5 [00:06<00:00,  1.30s/it, YoloXDetectionLoss/Loss=5.01, YoloXDetectionLoss/cls=0.00114, YoloXDetectionLoss/iou=1, YoloXDetectionLoss/l1=0, YoloXDetectionLoss/num_fg=1, YoloXDetectionLoss/obj=0.00943, gpu_mem=0] \n",
      "Validating epoch 1: 100%|██████████| 5/5 [00:02<00:00,  2.11it/s]\n"
     ]
    },
    {
     "name": "stdout",
     "output_type": "stream",
     "text": [
      "===========================================================\n",
      "SUMMARY OF EPOCH 1\n",
      "├── Train\n",
      "│   ├── Yoloxdetectionloss/iou = 1.0\n",
      "│   │   ├── Epoch N-1      = 1.0    (\u001b[37m= 0.0\u001b[0m)\n",
      "│   │   └── Best until now = 1.0    (\u001b[37m= 0.0\u001b[0m)\n",
      "│   ├── Yoloxdetectionloss/obj = 0.0094\n",
      "│   │   ├── Epoch N-1      = 0.0098 (\u001b[32m↘ -0.0004\u001b[0m)\n",
      "│   │   └── Best until now = 0.0098 (\u001b[32m↘ -0.0004\u001b[0m)\n",
      "│   ├── Yoloxdetectionloss/cls = 0.0011\n",
      "│   │   ├── Epoch N-1      = 0.0012 (\u001b[32m↘ -0.0\u001b[0m)\n",
      "│   │   └── Best until now = 0.0012 (\u001b[32m↘ -0.0\u001b[0m)\n",
      "│   ├── Yoloxdetectionloss/l1 = 0.0\n",
      "│   │   ├── Epoch N-1      = 0.0    (\u001b[37m= 0.0\u001b[0m)\n",
      "│   │   └── Best until now = 0.0    (\u001b[37m= 0.0\u001b[0m)\n",
      "│   ├── Yoloxdetectionloss/num_fg = 1.0\n",
      "│   │   ├── Epoch N-1      = 1.0    (\u001b[37m= 0.0\u001b[0m)\n",
      "│   │   └── Best until now = 1.0    (\u001b[37m= 0.0\u001b[0m)\n",
      "│   └── Yoloxdetectionloss/loss = 5.0106\n",
      "│       ├── Epoch N-1      = 5.011  (\u001b[32m↘ -0.0004\u001b[0m)\n",
      "│       └── Best until now = 5.011  (\u001b[32m↘ -0.0004\u001b[0m)\n",
      "└── Validation\n",
      "    ├── Yoloxdetectionloss/iou = 1.0\n",
      "    │   ├── Epoch N-1      = 1.0    (\u001b[37m= 0.0\u001b[0m)\n",
      "    │   └── Best until now = 1.0    (\u001b[37m= 0.0\u001b[0m)\n",
      "    ├── Yoloxdetectionloss/obj = 17.0798\n",
      "    │   ├── Epoch N-1      = 16.7276 (\u001b[31m↗ 0.3522\u001b[0m)\n",
      "    │   └── Best until now = 16.7276 (\u001b[31m↗ 0.3522\u001b[0m)\n",
      "    ├── Yoloxdetectionloss/cls = 0.0188\n",
      "    │   ├── Epoch N-1      = 0.0189 (\u001b[32m↘ -0.0\u001b[0m)\n",
      "    │   └── Best until now = 0.0189 (\u001b[32m↘ -0.0\u001b[0m)\n",
      "    ├── Yoloxdetectionloss/l1 = 0.0\n",
      "    │   ├── Epoch N-1      = 0.0    (\u001b[37m= 0.0\u001b[0m)\n",
      "    │   └── Best until now = 0.0    (\u001b[37m= 0.0\u001b[0m)\n",
      "    ├── Yoloxdetectionloss/num_fg = 0.88\n",
      "    │   ├── Epoch N-1      = 0.88   (\u001b[37m= 0.0\u001b[0m)\n",
      "    │   └── Best until now = 0.88   (\u001b[37m= 0.0\u001b[0m)\n",
      "    ├── Yoloxdetectionloss/loss = 22.0987\n",
      "    │   ├── Epoch N-1      = 21.7465 (\u001b[31m↗ 0.3522\u001b[0m)\n",
      "    │   └── Best until now = 21.7465 (\u001b[31m↗ 0.3522\u001b[0m)\n",
      "    ├── Precision@0.50:0.95 = 0.0\n",
      "    │   ├── Epoch N-1      = 0.0    (\u001b[37m= 0.0\u001b[0m)\n",
      "    │   └── Best until now = 0.0    (\u001b[37m= 0.0\u001b[0m)\n",
      "    ├── Recall@0.50:0.95 = 0.0\n",
      "    │   ├── Epoch N-1      = 0.0    (\u001b[37m= 0.0\u001b[0m)\n",
      "    │   └── Best until now = 0.0    (\u001b[37m= 0.0\u001b[0m)\n",
      "    ├── Map@0.50:0.95 = 0.0\n",
      "    │   ├── Epoch N-1      = 0.0    (\u001b[37m= 0.0\u001b[0m)\n",
      "    │   └── Best until now = 0.0    (\u001b[37m= 0.0\u001b[0m)\n",
      "    └── F1@0.50:0.95 = 0.0\n",
      "        ├── Epoch N-1      = 0.0    (\u001b[37m= 0.0\u001b[0m)\n",
      "        └── Best until now = 0.0    (\u001b[37m= 0.0\u001b[0m)\n",
      "\n",
      "===========================================================\n"
     ]
    },
    {
     "name": "stderr",
     "output_type": "stream",
     "text": [
      "Train epoch 2: 100%|██████████| 5/5 [00:06<00:00,  1.29s/it, YoloXDetectionLoss/Loss=5.01, YoloXDetectionLoss/cls=0.00115, YoloXDetectionLoss/iou=1, YoloXDetectionLoss/l1=0, YoloXDetectionLoss/num_fg=1, YoloXDetectionLoss/obj=0.00948, gpu_mem=0]\n",
      "Validating epoch 2: 100%|██████████| 5/5 [00:02<00:00,  2.01it/s]\n"
     ]
    },
    {
     "name": "stdout",
     "output_type": "stream",
     "text": [
      "===========================================================\n",
      "SUMMARY OF EPOCH 2\n",
      "├── Train\n",
      "│   ├── Yoloxdetectionloss/iou = 1.0\n",
      "│   │   ├── Epoch N-1      = 1.0    (\u001b[37m= 0.0\u001b[0m)\n",
      "│   │   └── Best until now = 1.0    (\u001b[37m= 0.0\u001b[0m)\n",
      "│   ├── Yoloxdetectionloss/obj = 0.0095\n",
      "│   │   ├── Epoch N-1      = 0.0094 (\u001b[31m↗ 0.0\u001b[0m)\n",
      "│   │   └── Best until now = 0.0094 (\u001b[31m↗ 0.0\u001b[0m)\n",
      "│   ├── Yoloxdetectionloss/cls = 0.0011\n",
      "│   │   ├── Epoch N-1      = 0.0011 (\u001b[31m↗ 0.0\u001b[0m)\n",
      "│   │   └── Best until now = 0.0011 (\u001b[31m↗ 0.0\u001b[0m)\n",
      "│   ├── Yoloxdetectionloss/l1 = 0.0\n",
      "│   │   ├── Epoch N-1      = 0.0    (\u001b[37m= 0.0\u001b[0m)\n",
      "│   │   └── Best until now = 0.0    (\u001b[37m= 0.0\u001b[0m)\n",
      "│   ├── Yoloxdetectionloss/num_fg = 1.0\n",
      "│   │   ├── Epoch N-1      = 1.0    (\u001b[37m= 0.0\u001b[0m)\n",
      "│   │   └── Best until now = 1.0    (\u001b[37m= 0.0\u001b[0m)\n",
      "│   └── Yoloxdetectionloss/loss = 5.0106\n",
      "│       ├── Epoch N-1      = 5.0106 (\u001b[31m↗ 1e-04\u001b[0m)\n",
      "│       └── Best until now = 5.0106 (\u001b[31m↗ 1e-04\u001b[0m)\n",
      "└── Validation\n",
      "    ├── Yoloxdetectionloss/iou = 1.0\n",
      "    │   ├── Epoch N-1      = 1.0    (\u001b[37m= 0.0\u001b[0m)\n",
      "    │   └── Best until now = 1.0    (\u001b[37m= 0.0\u001b[0m)\n",
      "    ├── Yoloxdetectionloss/obj = 17.2258\n",
      "    │   ├── Epoch N-1      = 17.0798 (\u001b[31m↗ 0.1459\u001b[0m)\n",
      "    │   └── Best until now = 16.7276 (\u001b[31m↗ 0.4981\u001b[0m)\n",
      "    ├── Yoloxdetectionloss/cls = 0.0188\n",
      "    │   ├── Epoch N-1      = 0.0188 (\u001b[32m↘ -0.0\u001b[0m)\n",
      "    │   └── Best until now = 0.0188 (\u001b[32m↘ -0.0\u001b[0m)\n",
      "    ├── Yoloxdetectionloss/l1 = 0.0\n",
      "    │   ├── Epoch N-1      = 0.0    (\u001b[37m= 0.0\u001b[0m)\n",
      "    │   └── Best until now = 0.0    (\u001b[37m= 0.0\u001b[0m)\n",
      "    ├── Yoloxdetectionloss/num_fg = 0.88\n",
      "    │   ├── Epoch N-1      = 0.88   (\u001b[37m= 0.0\u001b[0m)\n",
      "    │   └── Best until now = 0.88   (\u001b[37m= 0.0\u001b[0m)\n",
      "    ├── Yoloxdetectionloss/loss = 22.2446\n",
      "    │   ├── Epoch N-1      = 22.0987 (\u001b[31m↗ 0.1459\u001b[0m)\n",
      "    │   └── Best until now = 21.7465 (\u001b[31m↗ 0.4981\u001b[0m)\n",
      "    ├── Precision@0.50:0.95 = 0.0\n",
      "    │   ├── Epoch N-1      = 0.0    (\u001b[37m= 0.0\u001b[0m)\n",
      "    │   └── Best until now = 0.0    (\u001b[37m= 0.0\u001b[0m)\n",
      "    ├── Recall@0.50:0.95 = 0.0\n",
      "    │   ├── Epoch N-1      = 0.0    (\u001b[37m= 0.0\u001b[0m)\n",
      "    │   └── Best until now = 0.0    (\u001b[37m= 0.0\u001b[0m)\n",
      "    ├── Map@0.50:0.95 = 0.0\n",
      "    │   ├── Epoch N-1      = 0.0    (\u001b[37m= 0.0\u001b[0m)\n",
      "    │   └── Best until now = 0.0    (\u001b[37m= 0.0\u001b[0m)\n",
      "    └── F1@0.50:0.95 = 0.0\n",
      "        ├── Epoch N-1      = 0.0    (\u001b[37m= 0.0\u001b[0m)\n",
      "        └── Best until now = 0.0    (\u001b[37m= 0.0\u001b[0m)\n",
      "\n",
      "===========================================================\n"
     ]
    },
    {
     "name": "stderr",
     "output_type": "stream",
     "text": [
      "Train epoch 3: 100%|██████████| 5/5 [00:06<00:00,  1.30s/it, YoloXDetectionLoss/Loss=5.01, YoloXDetectionLoss/cls=0.00114, YoloXDetectionLoss/iou=1, YoloXDetectionLoss/l1=0, YoloXDetectionLoss/num_fg=1, YoloXDetectionLoss/obj=0.00911, gpu_mem=0] \n",
      "Validating epoch 3: 100%|██████████| 5/5 [00:02<00:00,  1.71it/s]\n"
     ]
    },
    {
     "name": "stdout",
     "output_type": "stream",
     "text": [
      "===========================================================\n",
      "SUMMARY OF EPOCH 3\n",
      "├── Train\n",
      "│   ├── Yoloxdetectionloss/iou = 1.0\n",
      "│   │   ├── Epoch N-1      = 1.0    (\u001b[37m= 0.0\u001b[0m)\n",
      "│   │   └── Best until now = 1.0    (\u001b[37m= 0.0\u001b[0m)\n",
      "│   ├── Yoloxdetectionloss/obj = 0.0091\n",
      "│   │   ├── Epoch N-1      = 0.0095 (\u001b[32m↘ -0.0004\u001b[0m)\n",
      "│   │   └── Best until now = 0.0094 (\u001b[32m↘ -0.0003\u001b[0m)\n",
      "│   ├── Yoloxdetectionloss/cls = 0.0011\n",
      "│   │   ├── Epoch N-1      = 0.0011 (\u001b[32m↘ -0.0\u001b[0m)\n",
      "│   │   └── Best until now = 0.0011 (\u001b[32m↘ -0.0\u001b[0m)\n",
      "│   ├── Yoloxdetectionloss/l1 = 0.0\n",
      "│   │   ├── Epoch N-1      = 0.0    (\u001b[37m= 0.0\u001b[0m)\n",
      "│   │   └── Best until now = 0.0    (\u001b[37m= 0.0\u001b[0m)\n",
      "│   ├── Yoloxdetectionloss/num_fg = 1.0\n",
      "│   │   ├── Epoch N-1      = 1.0    (\u001b[37m= 0.0\u001b[0m)\n",
      "│   │   └── Best until now = 1.0    (\u001b[37m= 0.0\u001b[0m)\n",
      "│   └── Yoloxdetectionloss/loss = 5.0103\n",
      "│       ├── Epoch N-1      = 5.0106 (\u001b[32m↘ -0.0004\u001b[0m)\n",
      "│       └── Best until now = 5.0106 (\u001b[32m↘ -0.0003\u001b[0m)\n",
      "└── Validation\n",
      "    ├── Yoloxdetectionloss/iou = 1.0\n",
      "    │   ├── Epoch N-1      = 1.0    (\u001b[37m= 0.0\u001b[0m)\n",
      "    │   └── Best until now = 1.0    (\u001b[37m= 0.0\u001b[0m)\n",
      "    ├── Yoloxdetectionloss/obj = 17.2763\n",
      "    │   ├── Epoch N-1      = 17.2258 (\u001b[31m↗ 0.0506\u001b[0m)\n",
      "    │   └── Best until now = 16.7276 (\u001b[31m↗ 0.5487\u001b[0m)\n",
      "    ├── Yoloxdetectionloss/cls = 0.0188\n",
      "    │   ├── Epoch N-1      = 0.0188 (\u001b[32m↘ -0.0\u001b[0m)\n",
      "    │   └── Best until now = 0.0188 (\u001b[32m↘ -0.0\u001b[0m)\n",
      "    ├── Yoloxdetectionloss/l1 = 0.0\n",
      "    │   ├── Epoch N-1      = 0.0    (\u001b[37m= 0.0\u001b[0m)\n",
      "    │   └── Best until now = 0.0    (\u001b[37m= 0.0\u001b[0m)\n",
      "    ├── Yoloxdetectionloss/num_fg = 0.88\n",
      "    │   ├── Epoch N-1      = 0.88   (\u001b[37m= 0.0\u001b[0m)\n",
      "    │   └── Best until now = 0.88   (\u001b[37m= 0.0\u001b[0m)\n",
      "    ├── Yoloxdetectionloss/loss = 22.2951\n",
      "    │   ├── Epoch N-1      = 22.2446 (\u001b[31m↗ 0.0506\u001b[0m)\n",
      "    │   └── Best until now = 21.7465 (\u001b[31m↗ 0.5486\u001b[0m)\n",
      "    ├── Precision@0.50:0.95 = 0.0\n",
      "    │   ├── Epoch N-1      = 0.0    (\u001b[37m= 0.0\u001b[0m)\n",
      "    │   └── Best until now = 0.0    (\u001b[37m= 0.0\u001b[0m)\n",
      "    ├── Recall@0.50:0.95 = 0.0\n",
      "    │   ├── Epoch N-1      = 0.0    (\u001b[37m= 0.0\u001b[0m)\n",
      "    │   └── Best until now = 0.0    (\u001b[37m= 0.0\u001b[0m)\n",
      "    ├── Map@0.50:0.95 = 0.0\n",
      "    │   ├── Epoch N-1      = 0.0    (\u001b[37m= 0.0\u001b[0m)\n",
      "    │   └── Best until now = 0.0    (\u001b[37m= 0.0\u001b[0m)\n",
      "    └── F1@0.50:0.95 = 0.0\n",
      "        ├── Epoch N-1      = 0.0    (\u001b[37m= 0.0\u001b[0m)\n",
      "        └── Best until now = 0.0    (\u001b[37m= 0.0\u001b[0m)\n",
      "\n",
      "===========================================================\n"
     ]
    },
    {
     "name": "stderr",
     "output_type": "stream",
     "text": [
      "Train epoch 4: 100%|██████████| 5/5 [00:06<00:00,  1.31s/it, YoloXDetectionLoss/Loss=5.01, YoloXDetectionLoss/cls=0.00115, YoloXDetectionLoss/iou=1, YoloXDetectionLoss/l1=0, YoloXDetectionLoss/num_fg=1, YoloXDetectionLoss/obj=0.00932, gpu_mem=0]\n",
      "Validating epoch 4: 100%|██████████| 5/5 [00:02<00:00,  2.09it/s]\n"
     ]
    },
    {
     "name": "stdout",
     "output_type": "stream",
     "text": [
      "===========================================================\n",
      "SUMMARY OF EPOCH 4\n",
      "├── Train\n",
      "│   ├── Yoloxdetectionloss/iou = 1.0\n",
      "│   │   ├── Epoch N-1      = 1.0    (\u001b[37m= 0.0\u001b[0m)\n",
      "│   │   └── Best until now = 1.0    (\u001b[37m= 0.0\u001b[0m)\n",
      "│   ├── Yoloxdetectionloss/obj = 0.0093\n",
      "│   │   ├── Epoch N-1      = 0.0091 (\u001b[31m↗ 0.0002\u001b[0m)\n",
      "│   │   └── Best until now = 0.0091 (\u001b[31m↗ 0.0002\u001b[0m)\n",
      "│   ├── Yoloxdetectionloss/cls = 0.0012\n",
      "│   │   ├── Epoch N-1      = 0.0011 (\u001b[31m↗ 0.0\u001b[0m)\n",
      "│   │   └── Best until now = 0.0011 (\u001b[31m↗ 0.0\u001b[0m)\n",
      "│   ├── Yoloxdetectionloss/l1 = 0.0\n",
      "│   │   ├── Epoch N-1      = 0.0    (\u001b[37m= 0.0\u001b[0m)\n",
      "│   │   └── Best until now = 0.0    (\u001b[37m= 0.0\u001b[0m)\n",
      "│   ├── Yoloxdetectionloss/num_fg = 1.0\n",
      "│   │   ├── Epoch N-1      = 1.0    (\u001b[37m= 0.0\u001b[0m)\n",
      "│   │   └── Best until now = 1.0    (\u001b[37m= 0.0\u001b[0m)\n",
      "│   └── Yoloxdetectionloss/loss = 5.0105\n",
      "│       ├── Epoch N-1      = 5.0103 (\u001b[31m↗ 0.0002\u001b[0m)\n",
      "│       └── Best until now = 5.0103 (\u001b[31m↗ 0.0002\u001b[0m)\n",
      "└── Validation\n",
      "    ├── Yoloxdetectionloss/iou = 1.0\n",
      "    │   ├── Epoch N-1      = 1.0    (\u001b[37m= 0.0\u001b[0m)\n",
      "    │   └── Best until now = 1.0    (\u001b[37m= 0.0\u001b[0m)\n",
      "    ├── Yoloxdetectionloss/obj = 17.2927\n",
      "    │   ├── Epoch N-1      = 17.2763 (\u001b[31m↗ 0.0164\u001b[0m)\n",
      "    │   └── Best until now = 16.7276 (\u001b[31m↗ 0.5651\u001b[0m)\n",
      "    ├── Yoloxdetectionloss/cls = 0.0188\n",
      "    │   ├── Epoch N-1      = 0.0188 (\u001b[32m↘ -0.0\u001b[0m)\n",
      "    │   └── Best until now = 0.0188 (\u001b[32m↘ -0.0\u001b[0m)\n",
      "    ├── Yoloxdetectionloss/l1 = 0.0\n",
      "    │   ├── Epoch N-1      = 0.0    (\u001b[37m= 0.0\u001b[0m)\n",
      "    │   └── Best until now = 0.0    (\u001b[37m= 0.0\u001b[0m)\n",
      "    ├── Yoloxdetectionloss/num_fg = 0.88\n",
      "    │   ├── Epoch N-1      = 0.88   (\u001b[37m= 0.0\u001b[0m)\n",
      "    │   └── Best until now = 0.88   (\u001b[37m= 0.0\u001b[0m)\n",
      "    ├── Yoloxdetectionloss/loss = 22.3115\n",
      "    │   ├── Epoch N-1      = 22.2951 (\u001b[31m↗ 0.0164\u001b[0m)\n",
      "    │   └── Best until now = 21.7465 (\u001b[31m↗ 0.565\u001b[0m)\n",
      "    ├── Precision@0.50:0.95 = 0.0\n",
      "    │   ├── Epoch N-1      = 0.0    (\u001b[37m= 0.0\u001b[0m)\n",
      "    │   └── Best until now = 0.0    (\u001b[37m= 0.0\u001b[0m)\n",
      "    ├── Recall@0.50:0.95 = 0.0\n",
      "    │   ├── Epoch N-1      = 0.0    (\u001b[37m= 0.0\u001b[0m)\n",
      "    │   └── Best until now = 0.0    (\u001b[37m= 0.0\u001b[0m)\n",
      "    ├── Map@0.50:0.95 = 0.0\n",
      "    │   ├── Epoch N-1      = 0.0    (\u001b[37m= 0.0\u001b[0m)\n",
      "    │   └── Best until now = 0.0    (\u001b[37m= 0.0\u001b[0m)\n",
      "    └── F1@0.50:0.95 = 0.0\n",
      "        ├── Epoch N-1      = 0.0    (\u001b[37m= 0.0\u001b[0m)\n",
      "        └── Best until now = 0.0    (\u001b[37m= 0.0\u001b[0m)\n",
      "\n",
      "===========================================================\n"
     ]
    },
    {
     "name": "stderr",
     "output_type": "stream",
     "text": [
      "Train epoch 5: 100%|██████████| 5/5 [00:06<00:00,  1.38s/it, YoloXDetectionLoss/Loss=5.01, YoloXDetectionLoss/cls=0.00115, YoloXDetectionLoss/iou=1, YoloXDetectionLoss/l1=0, YoloXDetectionLoss/num_fg=1, YoloXDetectionLoss/obj=0.0086, gpu_mem=0]  \n",
      "Validating epoch 5: 100%|██████████| 5/5 [00:02<00:00,  2.10it/s]\n"
     ]
    },
    {
     "name": "stdout",
     "output_type": "stream",
     "text": [
      "===========================================================\n",
      "SUMMARY OF EPOCH 5\n",
      "├── Train\n",
      "│   ├── Yoloxdetectionloss/iou = 1.0\n",
      "│   │   ├── Epoch N-1      = 1.0    (\u001b[37m= 0.0\u001b[0m)\n",
      "│   │   └── Best until now = 1.0    (\u001b[37m= 0.0\u001b[0m)\n",
      "│   ├── Yoloxdetectionloss/obj = 0.0086\n",
      "│   │   ├── Epoch N-1      = 0.0093 (\u001b[32m↘ -0.0007\u001b[0m)\n",
      "│   │   └── Best until now = 0.0091 (\u001b[32m↘ -0.0005\u001b[0m)\n",
      "│   ├── Yoloxdetectionloss/cls = 0.0012\n",
      "│   │   ├── Epoch N-1      = 0.0012 (\u001b[32m↘ -0.0\u001b[0m)\n",
      "│   │   └── Best until now = 0.0011 (\u001b[31m↗ 0.0\u001b[0m)\n",
      "│   ├── Yoloxdetectionloss/l1 = 0.0\n",
      "│   │   ├── Epoch N-1      = 0.0    (\u001b[37m= 0.0\u001b[0m)\n",
      "│   │   └── Best until now = 0.0    (\u001b[37m= 0.0\u001b[0m)\n",
      "│   ├── Yoloxdetectionloss/num_fg = 1.0\n",
      "│   │   ├── Epoch N-1      = 1.0    (\u001b[37m= 0.0\u001b[0m)\n",
      "│   │   └── Best until now = 1.0    (\u001b[37m= 0.0\u001b[0m)\n",
      "│   └── Yoloxdetectionloss/loss = 5.0098\n",
      "│       ├── Epoch N-1      = 5.0105 (\u001b[32m↘ -0.0007\u001b[0m)\n",
      "│       └── Best until now = 5.0103 (\u001b[32m↘ -0.0005\u001b[0m)\n",
      "└── Validation\n",
      "    ├── Yoloxdetectionloss/iou = 1.0\n",
      "    │   ├── Epoch N-1      = 1.0    (\u001b[37m= 0.0\u001b[0m)\n",
      "    │   └── Best until now = 1.0    (\u001b[37m= 0.0\u001b[0m)\n",
      "    ├── Yoloxdetectionloss/obj = 17.2986\n",
      "    │   ├── Epoch N-1      = 17.2927 (\u001b[31m↗ 0.0059\u001b[0m)\n",
      "    │   └── Best until now = 16.7276 (\u001b[31m↗ 0.5709\u001b[0m)\n",
      "    ├── Yoloxdetectionloss/cls = 0.0188\n",
      "    │   ├── Epoch N-1      = 0.0188 (\u001b[32m↘ -0.0\u001b[0m)\n",
      "    │   └── Best until now = 0.0188 (\u001b[32m↘ -0.0\u001b[0m)\n",
      "    ├── Yoloxdetectionloss/l1 = 0.0\n",
      "    │   ├── Epoch N-1      = 0.0    (\u001b[37m= 0.0\u001b[0m)\n",
      "    │   └── Best until now = 0.0    (\u001b[37m= 0.0\u001b[0m)\n",
      "    ├── Yoloxdetectionloss/num_fg = 0.88\n",
      "    │   ├── Epoch N-1      = 0.88   (\u001b[37m= 0.0\u001b[0m)\n",
      "    │   └── Best until now = 0.88   (\u001b[37m= 0.0\u001b[0m)\n",
      "    ├── Yoloxdetectionloss/loss = 22.3174\n",
      "    │   ├── Epoch N-1      = 22.3115 (\u001b[31m↗ 0.0059\u001b[0m)\n",
      "    │   └── Best until now = 21.7465 (\u001b[31m↗ 0.5709\u001b[0m)\n",
      "    ├── Precision@0.50:0.95 = 0.0\n",
      "    │   ├── Epoch N-1      = 0.0    (\u001b[37m= 0.0\u001b[0m)\n",
      "    │   └── Best until now = 0.0    (\u001b[37m= 0.0\u001b[0m)\n",
      "    ├── Recall@0.50:0.95 = 0.0\n",
      "    │   ├── Epoch N-1      = 0.0    (\u001b[37m= 0.0\u001b[0m)\n",
      "    │   └── Best until now = 0.0    (\u001b[37m= 0.0\u001b[0m)\n",
      "    ├── Map@0.50:0.95 = 0.0\n",
      "    │   ├── Epoch N-1      = 0.0    (\u001b[37m= 0.0\u001b[0m)\n",
      "    │   └── Best until now = 0.0    (\u001b[37m= 0.0\u001b[0m)\n",
      "    └── F1@0.50:0.95 = 0.0\n",
      "        ├── Epoch N-1      = 0.0    (\u001b[37m= 0.0\u001b[0m)\n",
      "        └── Best until now = 0.0    (\u001b[37m= 0.0\u001b[0m)\n",
      "\n",
      "===========================================================\n"
     ]
    },
    {
     "name": "stderr",
     "output_type": "stream",
     "text": [
      "Train epoch 6: 100%|██████████| 5/5 [00:07<00:00,  1.42s/it, YoloXDetectionLoss/Loss=5.01, YoloXDetectionLoss/cls=0.00116, YoloXDetectionLoss/iou=1, YoloXDetectionLoss/l1=0, YoloXDetectionLoss/num_fg=1, YoloXDetectionLoss/obj=0.00845, gpu_mem=0]\n",
      "Validating epoch 6: 100%|██████████| 5/5 [00:02<00:00,  1.95it/s]\n"
     ]
    },
    {
     "name": "stdout",
     "output_type": "stream",
     "text": [
      "===========================================================\n",
      "SUMMARY OF EPOCH 6\n",
      "├── Train\n",
      "│   ├── Yoloxdetectionloss/iou = 1.0\n",
      "│   │   ├── Epoch N-1      = 1.0    (\u001b[37m= 0.0\u001b[0m)\n",
      "│   │   └── Best until now = 1.0    (\u001b[37m= 0.0\u001b[0m)\n",
      "│   ├── Yoloxdetectionloss/obj = 0.0084\n",
      "│   │   ├── Epoch N-1      = 0.0086 (\u001b[32m↘ -0.0002\u001b[0m)\n",
      "│   │   └── Best until now = 0.0086 (\u001b[32m↘ -0.0002\u001b[0m)\n",
      "│   ├── Yoloxdetectionloss/cls = 0.0012\n",
      "│   │   ├── Epoch N-1      = 0.0012 (\u001b[31m↗ 0.0\u001b[0m)\n",
      "│   │   └── Best until now = 0.0011 (\u001b[31m↗ 0.0\u001b[0m)\n",
      "│   ├── Yoloxdetectionloss/l1 = 0.0\n",
      "│   │   ├── Epoch N-1      = 0.0    (\u001b[37m= 0.0\u001b[0m)\n",
      "│   │   └── Best until now = 0.0    (\u001b[37m= 0.0\u001b[0m)\n",
      "│   ├── Yoloxdetectionloss/num_fg = 1.0\n",
      "│   │   ├── Epoch N-1      = 1.0    (\u001b[37m= 0.0\u001b[0m)\n",
      "│   │   └── Best until now = 1.0    (\u001b[37m= 0.0\u001b[0m)\n",
      "│   └── Yoloxdetectionloss/loss = 5.0096\n",
      "│       ├── Epoch N-1      = 5.0098 (\u001b[32m↘ -1e-04\u001b[0m)\n",
      "│       └── Best until now = 5.0098 (\u001b[32m↘ -1e-04\u001b[0m)\n",
      "└── Validation\n",
      "    ├── Yoloxdetectionloss/iou = 1.0\n",
      "    │   ├── Epoch N-1      = 1.0    (\u001b[37m= 0.0\u001b[0m)\n",
      "    │   └── Best until now = 1.0    (\u001b[37m= 0.0\u001b[0m)\n",
      "    ├── Yoloxdetectionloss/obj = 17.3017\n",
      "    │   ├── Epoch N-1      = 17.2986 (\u001b[31m↗ 0.0031\u001b[0m)\n",
      "    │   └── Best until now = 16.7276 (\u001b[31m↗ 0.5741\u001b[0m)\n",
      "    ├── Yoloxdetectionloss/cls = 0.0188\n",
      "    │   ├── Epoch N-1      = 0.0188 (\u001b[32m↘ -0.0\u001b[0m)\n",
      "    │   └── Best until now = 0.0188 (\u001b[32m↘ -0.0\u001b[0m)\n",
      "    ├── Yoloxdetectionloss/l1 = 0.0\n",
      "    │   ├── Epoch N-1      = 0.0    (\u001b[37m= 0.0\u001b[0m)\n",
      "    │   └── Best until now = 0.0    (\u001b[37m= 0.0\u001b[0m)\n",
      "    ├── Yoloxdetectionloss/num_fg = 0.88\n",
      "    │   ├── Epoch N-1      = 0.88   (\u001b[37m= 0.0\u001b[0m)\n",
      "    │   └── Best until now = 0.88   (\u001b[37m= 0.0\u001b[0m)\n",
      "    ├── Yoloxdetectionloss/loss = 22.3205\n",
      "    │   ├── Epoch N-1      = 22.3174 (\u001b[31m↗ 0.0031\u001b[0m)\n",
      "    │   └── Best until now = 21.7465 (\u001b[31m↗ 0.574\u001b[0m)\n",
      "    ├── Precision@0.50:0.95 = 0.0\n",
      "    │   ├── Epoch N-1      = 0.0    (\u001b[37m= 0.0\u001b[0m)\n",
      "    │   └── Best until now = 0.0    (\u001b[37m= 0.0\u001b[0m)\n",
      "    ├── Recall@0.50:0.95 = 0.0\n",
      "    │   ├── Epoch N-1      = 0.0    (\u001b[37m= 0.0\u001b[0m)\n",
      "    │   └── Best until now = 0.0    (\u001b[37m= 0.0\u001b[0m)\n",
      "    ├── Map@0.50:0.95 = 0.0\n",
      "    │   ├── Epoch N-1      = 0.0    (\u001b[37m= 0.0\u001b[0m)\n",
      "    │   └── Best until now = 0.0    (\u001b[37m= 0.0\u001b[0m)\n",
      "    └── F1@0.50:0.95 = 0.0\n",
      "        ├── Epoch N-1      = 0.0    (\u001b[37m= 0.0\u001b[0m)\n",
      "        └── Best until now = 0.0    (\u001b[37m= 0.0\u001b[0m)\n",
      "\n",
      "===========================================================\n"
     ]
    },
    {
     "name": "stderr",
     "output_type": "stream",
     "text": [
      "Train epoch 7: 100%|██████████| 5/5 [00:06<00:00,  1.33s/it, YoloXDetectionLoss/Loss=5.01, YoloXDetectionLoss/cls=0.00114, YoloXDetectionLoss/iou=1, YoloXDetectionLoss/l1=0, YoloXDetectionLoss/num_fg=1, YoloXDetectionLoss/obj=0.00781, gpu_mem=0]\n",
      "Validating epoch 7: 100%|██████████| 5/5 [00:02<00:00,  2.04it/s]\n"
     ]
    },
    {
     "name": "stdout",
     "output_type": "stream",
     "text": [
      "===========================================================\n",
      "SUMMARY OF EPOCH 7\n",
      "├── Train\n",
      "│   ├── Yoloxdetectionloss/iou = 1.0\n",
      "│   │   ├── Epoch N-1      = 1.0    (\u001b[37m= 0.0\u001b[0m)\n",
      "│   │   └── Best until now = 1.0    (\u001b[37m= 0.0\u001b[0m)\n",
      "│   ├── Yoloxdetectionloss/obj = 0.0078\n",
      "│   │   ├── Epoch N-1      = 0.0084 (\u001b[32m↘ -0.0006\u001b[0m)\n",
      "│   │   └── Best until now = 0.0084 (\u001b[32m↘ -0.0006\u001b[0m)\n",
      "│   ├── Yoloxdetectionloss/cls = 0.0011\n",
      "│   │   ├── Epoch N-1      = 0.0012 (\u001b[32m↘ -0.0\u001b[0m)\n",
      "│   │   └── Best until now = 0.0011 (\u001b[31m↗ 0.0\u001b[0m)\n",
      "│   ├── Yoloxdetectionloss/l1 = 0.0\n",
      "│   │   ├── Epoch N-1      = 0.0    (\u001b[37m= 0.0\u001b[0m)\n",
      "│   │   └── Best until now = 0.0    (\u001b[37m= 0.0\u001b[0m)\n",
      "│   ├── Yoloxdetectionloss/num_fg = 1.0\n",
      "│   │   ├── Epoch N-1      = 1.0    (\u001b[37m= 0.0\u001b[0m)\n",
      "│   │   └── Best until now = 1.0    (\u001b[37m= 0.0\u001b[0m)\n",
      "│   └── Yoloxdetectionloss/loss = 5.009\n",
      "│       ├── Epoch N-1      = 5.0096 (\u001b[32m↘ -0.0007\u001b[0m)\n",
      "│       └── Best until now = 5.0096 (\u001b[32m↘ -0.0007\u001b[0m)\n",
      "└── Validation\n",
      "    ├── Yoloxdetectionloss/iou = 1.0\n",
      "    │   ├── Epoch N-1      = 1.0    (\u001b[37m= 0.0\u001b[0m)\n",
      "    │   └── Best until now = 1.0    (\u001b[37m= 0.0\u001b[0m)\n",
      "    ├── Yoloxdetectionloss/obj = 17.3043\n",
      "    │   ├── Epoch N-1      = 17.3017 (\u001b[31m↗ 0.0026\u001b[0m)\n",
      "    │   └── Best until now = 16.7276 (\u001b[31m↗ 0.5767\u001b[0m)\n",
      "    ├── Yoloxdetectionloss/cls = 0.0188\n",
      "    │   ├── Epoch N-1      = 0.0188 (\u001b[32m↘ -0.0\u001b[0m)\n",
      "    │   └── Best until now = 0.0188 (\u001b[32m↘ -0.0\u001b[0m)\n",
      "    ├── Yoloxdetectionloss/l1 = 0.0\n",
      "    │   ├── Epoch N-1      = 0.0    (\u001b[37m= 0.0\u001b[0m)\n",
      "    │   └── Best until now = 0.0    (\u001b[37m= 0.0\u001b[0m)\n",
      "    ├── Yoloxdetectionloss/num_fg = 0.88\n",
      "    │   ├── Epoch N-1      = 0.88   (\u001b[37m= 0.0\u001b[0m)\n",
      "    │   └── Best until now = 0.88   (\u001b[37m= 0.0\u001b[0m)\n",
      "    ├── Yoloxdetectionloss/loss = 22.3231\n",
      "    │   ├── Epoch N-1      = 22.3205 (\u001b[31m↗ 0.0026\u001b[0m)\n",
      "    │   └── Best until now = 21.7465 (\u001b[31m↗ 0.5766\u001b[0m)\n",
      "    ├── Precision@0.50:0.95 = 0.0\n",
      "    │   ├── Epoch N-1      = 0.0    (\u001b[37m= 0.0\u001b[0m)\n",
      "    │   └── Best until now = 0.0    (\u001b[37m= 0.0\u001b[0m)\n",
      "    ├── Recall@0.50:0.95 = 0.0\n",
      "    │   ├── Epoch N-1      = 0.0    (\u001b[37m= 0.0\u001b[0m)\n",
      "    │   └── Best until now = 0.0    (\u001b[37m= 0.0\u001b[0m)\n",
      "    ├── Map@0.50:0.95 = 0.0\n",
      "    │   ├── Epoch N-1      = 0.0    (\u001b[37m= 0.0\u001b[0m)\n",
      "    │   └── Best until now = 0.0    (\u001b[37m= 0.0\u001b[0m)\n",
      "    └── F1@0.50:0.95 = 0.0\n",
      "        ├── Epoch N-1      = 0.0    (\u001b[37m= 0.0\u001b[0m)\n",
      "        └── Best until now = 0.0    (\u001b[37m= 0.0\u001b[0m)\n",
      "\n",
      "===========================================================\n"
     ]
    },
    {
     "name": "stderr",
     "output_type": "stream",
     "text": [
      "Train epoch 8: 100%|██████████| 5/5 [00:06<00:00,  1.36s/it, YoloXDetectionLoss/Loss=5.01, YoloXDetectionLoss/cls=0.00116, YoloXDetectionLoss/iou=1, YoloXDetectionLoss/l1=0, YoloXDetectionLoss/num_fg=1, YoloXDetectionLoss/obj=0.00754, gpu_mem=0] \n",
      "Validating epoch 8: 100%|██████████| 5/5 [00:02<00:00,  2.08it/s]\n"
     ]
    },
    {
     "name": "stdout",
     "output_type": "stream",
     "text": [
      "===========================================================\n",
      "SUMMARY OF EPOCH 8\n",
      "├── Train\n",
      "│   ├── Yoloxdetectionloss/iou = 1.0\n",
      "│   │   ├── Epoch N-1      = 1.0    (\u001b[37m= 0.0\u001b[0m)\n",
      "│   │   └── Best until now = 1.0    (\u001b[37m= 0.0\u001b[0m)\n",
      "│   ├── Yoloxdetectionloss/obj = 0.0075\n",
      "│   │   ├── Epoch N-1      = 0.0078 (\u001b[32m↘ -0.0003\u001b[0m)\n",
      "│   │   └── Best until now = 0.0078 (\u001b[32m↘ -0.0003\u001b[0m)\n",
      "│   ├── Yoloxdetectionloss/cls = 0.0012\n",
      "│   │   ├── Epoch N-1      = 0.0011 (\u001b[31m↗ 0.0\u001b[0m)\n",
      "│   │   └── Best until now = 0.0011 (\u001b[31m↗ 0.0\u001b[0m)\n",
      "│   ├── Yoloxdetectionloss/l1 = 0.0\n",
      "│   │   ├── Epoch N-1      = 0.0    (\u001b[37m= 0.0\u001b[0m)\n",
      "│   │   └── Best until now = 0.0    (\u001b[37m= 0.0\u001b[0m)\n",
      "│   ├── Yoloxdetectionloss/num_fg = 1.0\n",
      "│   │   ├── Epoch N-1      = 1.0    (\u001b[37m= 0.0\u001b[0m)\n",
      "│   │   └── Best until now = 1.0    (\u001b[37m= 0.0\u001b[0m)\n",
      "│   └── Yoloxdetectionloss/loss = 5.0087\n",
      "│       ├── Epoch N-1      = 5.009  (\u001b[32m↘ -0.0003\u001b[0m)\n",
      "│       └── Best until now = 5.009  (\u001b[32m↘ -0.0003\u001b[0m)\n",
      "└── Validation\n",
      "    ├── Yoloxdetectionloss/iou = 1.0\n",
      "    │   ├── Epoch N-1      = 1.0    (\u001b[37m= 0.0\u001b[0m)\n",
      "    │   └── Best until now = 1.0    (\u001b[37m= 0.0\u001b[0m)\n",
      "    ├── Yoloxdetectionloss/obj = 17.3069\n",
      "    │   ├── Epoch N-1      = 17.3043 (\u001b[31m↗ 0.0026\u001b[0m)\n",
      "    │   └── Best until now = 16.7276 (\u001b[31m↗ 0.5792\u001b[0m)\n",
      "    ├── Yoloxdetectionloss/cls = 0.0188\n",
      "    │   ├── Epoch N-1      = 0.0188 (\u001b[32m↘ -0.0\u001b[0m)\n",
      "    │   └── Best until now = 0.0188 (\u001b[32m↘ -0.0\u001b[0m)\n",
      "    ├── Yoloxdetectionloss/l1 = 0.0\n",
      "    │   ├── Epoch N-1      = 0.0    (\u001b[37m= 0.0\u001b[0m)\n",
      "    │   └── Best until now = 0.0    (\u001b[37m= 0.0\u001b[0m)\n",
      "    ├── Yoloxdetectionloss/num_fg = 0.88\n",
      "    │   ├── Epoch N-1      = 0.88   (\u001b[37m= 0.0\u001b[0m)\n",
      "    │   └── Best until now = 0.88   (\u001b[37m= 0.0\u001b[0m)\n",
      "    ├── Yoloxdetectionloss/loss = 22.3257\n",
      "    │   ├── Epoch N-1      = 22.3231 (\u001b[31m↗ 0.0026\u001b[0m)\n",
      "    │   └── Best until now = 21.7465 (\u001b[31m↗ 0.5792\u001b[0m)\n",
      "    ├── Precision@0.50:0.95 = 0.0\n",
      "    │   ├── Epoch N-1      = 0.0    (\u001b[37m= 0.0\u001b[0m)\n",
      "    │   └── Best until now = 0.0    (\u001b[37m= 0.0\u001b[0m)\n",
      "    ├── Recall@0.50:0.95 = 0.0\n",
      "    │   ├── Epoch N-1      = 0.0    (\u001b[37m= 0.0\u001b[0m)\n",
      "    │   └── Best until now = 0.0    (\u001b[37m= 0.0\u001b[0m)\n",
      "    ├── Map@0.50:0.95 = 0.0\n",
      "    │   ├── Epoch N-1      = 0.0    (\u001b[37m= 0.0\u001b[0m)\n",
      "    │   └── Best until now = 0.0    (\u001b[37m= 0.0\u001b[0m)\n",
      "    └── F1@0.50:0.95 = 0.0\n",
      "        ├── Epoch N-1      = 0.0    (\u001b[37m= 0.0\u001b[0m)\n",
      "        └── Best until now = 0.0    (\u001b[37m= 0.0\u001b[0m)\n",
      "\n",
      "===========================================================\n"
     ]
    },
    {
     "name": "stderr",
     "output_type": "stream",
     "text": [
      "Train epoch 9: 100%|██████████| 5/5 [00:07<00:00,  1.43s/it, YoloXDetectionLoss/Loss=5.01, YoloXDetectionLoss/cls=0.00116, YoloXDetectionLoss/iou=1, YoloXDetectionLoss/l1=0, YoloXDetectionLoss/num_fg=1, YoloXDetectionLoss/obj=0.00723, gpu_mem=0] \n",
      "Validating epoch 9: 100%|██████████| 5/5 [00:02<00:00,  2.09it/s]\n"
     ]
    },
    {
     "name": "stdout",
     "output_type": "stream",
     "text": [
      "===========================================================\n",
      "SUMMARY OF EPOCH 9\n",
      "├── Train\n",
      "│   ├── Yoloxdetectionloss/iou = 1.0\n",
      "│   │   ├── Epoch N-1      = 1.0    (\u001b[37m= 0.0\u001b[0m)\n",
      "│   │   └── Best until now = 1.0    (\u001b[37m= 0.0\u001b[0m)\n",
      "│   ├── Yoloxdetectionloss/obj = 0.0072\n",
      "│   │   ├── Epoch N-1      = 0.0075 (\u001b[32m↘ -0.0003\u001b[0m)\n",
      "│   │   └── Best until now = 0.0075 (\u001b[32m↘ -0.0003\u001b[0m)\n",
      "│   ├── Yoloxdetectionloss/cls = 0.0012\n",
      "│   │   ├── Epoch N-1      = 0.0012 (\u001b[31m↗ 0.0\u001b[0m)\n",
      "│   │   └── Best until now = 0.0011 (\u001b[31m↗ 0.0\u001b[0m)\n",
      "│   ├── Yoloxdetectionloss/l1 = 0.0\n",
      "│   │   ├── Epoch N-1      = 0.0    (\u001b[37m= 0.0\u001b[0m)\n",
      "│   │   └── Best until now = 0.0    (\u001b[37m= 0.0\u001b[0m)\n",
      "│   ├── Yoloxdetectionloss/num_fg = 1.0\n",
      "│   │   ├── Epoch N-1      = 1.0    (\u001b[37m= 0.0\u001b[0m)\n",
      "│   │   └── Best until now = 1.0    (\u001b[37m= 0.0\u001b[0m)\n",
      "│   └── Yoloxdetectionloss/loss = 5.0084\n",
      "│       ├── Epoch N-1      = 5.0087 (\u001b[32m↘ -0.0003\u001b[0m)\n",
      "│       └── Best until now = 5.0087 (\u001b[32m↘ -0.0003\u001b[0m)\n",
      "└── Validation\n",
      "    ├── Yoloxdetectionloss/iou = 1.0\n",
      "    │   ├── Epoch N-1      = 1.0    (\u001b[37m= 0.0\u001b[0m)\n",
      "    │   └── Best until now = 1.0    (\u001b[37m= 0.0\u001b[0m)\n",
      "    ├── Yoloxdetectionloss/obj = 17.3096\n",
      "    │   ├── Epoch N-1      = 17.3069 (\u001b[31m↗ 0.0028\u001b[0m)\n",
      "    │   └── Best until now = 16.7276 (\u001b[31m↗ 0.582\u001b[0m)\n",
      "    ├── Yoloxdetectionloss/cls = 0.0188\n",
      "    │   ├── Epoch N-1      = 0.0188 (\u001b[32m↘ -0.0\u001b[0m)\n",
      "    │   └── Best until now = 0.0188 (\u001b[32m↘ -0.0\u001b[0m)\n",
      "    ├── Yoloxdetectionloss/l1 = 0.0\n",
      "    │   ├── Epoch N-1      = 0.0    (\u001b[37m= 0.0\u001b[0m)\n",
      "    │   └── Best until now = 0.0    (\u001b[37m= 0.0\u001b[0m)\n",
      "    ├── Yoloxdetectionloss/num_fg = 0.88\n",
      "    │   ├── Epoch N-1      = 0.88   (\u001b[37m= 0.0\u001b[0m)\n",
      "    │   └── Best until now = 0.88   (\u001b[37m= 0.0\u001b[0m)\n",
      "    ├── Yoloxdetectionloss/loss = 22.3284\n",
      "    │   ├── Epoch N-1      = 22.3257 (\u001b[31m↗ 0.0028\u001b[0m)\n",
      "    │   └── Best until now = 21.7465 (\u001b[31m↗ 0.5819\u001b[0m)\n",
      "    ├── Precision@0.50:0.95 = 0.0\n",
      "    │   ├── Epoch N-1      = 0.0    (\u001b[37m= 0.0\u001b[0m)\n",
      "    │   └── Best until now = 0.0    (\u001b[37m= 0.0\u001b[0m)\n",
      "    ├── Recall@0.50:0.95 = 0.0\n",
      "    │   ├── Epoch N-1      = 0.0    (\u001b[37m= 0.0\u001b[0m)\n",
      "    │   └── Best until now = 0.0    (\u001b[37m= 0.0\u001b[0m)\n",
      "    ├── Map@0.50:0.95 = 0.0\n",
      "    │   ├── Epoch N-1      = 0.0    (\u001b[37m= 0.0\u001b[0m)\n",
      "    │   └── Best until now = 0.0    (\u001b[37m= 0.0\u001b[0m)\n",
      "    └── F1@0.50:0.95 = 0.0\n",
      "        ├── Epoch N-1      = 0.0    (\u001b[37m= 0.0\u001b[0m)\n",
      "        └── Best until now = 0.0    (\u001b[37m= 0.0\u001b[0m)\n",
      "\n",
      "===========================================================\n"
     ]
    },
    {
     "name": "stderr",
     "output_type": "stream",
     "text": [
      "[2023-11-07 16:32:18] INFO - sg_trainer.py - RUNNING ADDITIONAL TEST ON THE AVERAGED MODEL...\n",
      "Validating epoch 10:  80%|████████  | 4/5 [00:01<00:00,  2.19it/s]"
     ]
    }
   ],
   "source": [
    "trainer.train(model=model, training_params=train_params, train_loader=train_dataloader, valid_loader=val_dataloader)"
   ]
  },
  {
   "cell_type": "code",
   "execution_count": 62,
   "metadata": {},
   "outputs": [
    {
     "data": {
      "text/plain": [
       "torch.Size([3, 320, 320])"
      ]
     },
     "execution_count": 62,
     "metadata": {},
     "output_type": "execute_result"
    }
   ],
   "source": [
    "val_dataset.__getitem__(0)[0].shape"
   ]
  },
  {
   "cell_type": "code",
   "execution_count": 57,
   "metadata": {},
   "outputs": [
    {
     "name": "stderr",
     "output_type": "stream",
     "text": [
      "Validating epoch 10: 100%|██████████| 5/5 [00:02<00:00,  2.17it/s]\n",
      "[2023-11-07 16:32:20] INFO - base_sg_logger.py - [CLEANUP] - Successfully stopped system monitoring process\n"
     ]
    }
   ],
   "source": [
    "image_test_tensor = torch.tensor(np.array(val_dataset.__getitem__(0)[0])).permute(1, 2, 0).float()"
   ]
  },
  {
   "cell_type": "code",
   "execution_count": 58,
   "metadata": {},
   "outputs": [
    {
     "data": {
      "text/plain": [
       "(1, 3, 320, 320)"
      ]
     },
     "execution_count": 58,
     "metadata": {},
     "output_type": "execute_result"
    }
   ],
   "source": [
    "np.expand_dims(val_dataset.__getitem__(0)[0],axis=0).shape"
   ]
  },
  {
   "cell_type": "code",
   "execution_count": 59,
   "metadata": {},
   "outputs": [
    {
     "data": {
      "text/plain": [
       "(1, 320, 320, 3)"
      ]
     },
     "execution_count": 59,
     "metadata": {},
     "output_type": "execute_result"
    }
   ],
   "source": [
    "np.expand_dims(image_test_tensor,axis=0).shape"
   ]
  },
  {
   "cell_type": "code",
   "execution_count": 66,
   "metadata": {},
   "outputs": [
    {
     "name": "stderr",
     "output_type": "stream",
     "text": [
      "c:\\Users\\dpatricio\\Anaconda3\\envs\\valor_venal\\lib\\site-packages\\torch\\amp\\autocast_mode.py:250: UserWarning: User provided device_type of 'cuda', but CUDA is not available. Disabling\n",
      "  warnings.warn(\n",
      "[2023-11-07 16:33:51] INFO - pipelines.py - Fusing some of the model's layers. If this takes too much memory, you can deactivate it by setting `fuse_model=False`\n"
     ]
    }
   ],
   "source": [
    "predicoes = model.predict(val_dataset.__getitem__(0)[0])"
   ]
  },
  {
   "cell_type": "code",
   "execution_count": 73,
   "metadata": {},
   "outputs": [],
   "source": [
    "for image_prediction in predicoes:\n",
    "    class_names = image_prediction.class_names\n",
    "    labels = image_prediction.prediction.labels\n",
    "    confidence = image_prediction.prediction.confidence\n",
    "    bboxes = image_prediction.prediction.bboxes_xyxy\n",
    "    for i, (label, conf, bbox) in enumerate(zip(labels, confidence, bboxes)):\n",
    "        print(\"prediction: \", i)\n",
    "        print(\"label_id: \", label)\n",
    "        print(\"label_name: \", class_names[int(label)])\n",
    "        print(\"confidence: \", conf)\n",
    "        print(\"bbox: \", bbox)\n",
    "        print(\"--\" * 10)"
   ]
  },
  {
   "cell_type": "code",
   "execution_count": 69,
   "metadata": {},
   "outputs": [
    {
     "data": {
      "image/png": "[encoded data removed]",
      "text/plain": [
       "<Figure size 320x320 with 1 Axes>"
      ]
     },
     "metadata": {},
     "output_type": "display_data"
    },
    {
     "name": "stderr",
     "output_type": "stream",
     "text": [
      "[2023-11-07 16:37:50] WARNING - image.py - Clipping input data to the valid range for imshow with RGB data ([0..1] for floats or [0..255] for integers).\n"
     ]
    }
   ],
   "source": [
    "predicoes.show(show_confidence=True)"
   ]
  },
  {
   "cell_type": "code",
   "execution_count": 68,
   "metadata": {},
   "outputs": [
    {
     "data": {
      "text/plain": [
       "ImagesDetectionPrediction(_images_prediction_lst=[ImageDetectionPrediction(image=array([[[0., 0., 0.],\n",
       "        [0., 0., 0.],\n",
       "        [0., 0., 0.],\n",
       "        ...,\n",
       "        [0., 0., 0.],\n",
       "        [0., 0., 0.],\n",
       "        [0., 0., 0.]],\n",
       "\n",
       "       [[0., 0., 0.],\n",
       "        [0., 0., 0.],\n",
       "        [0., 0., 0.],\n",
       "        ...,\n",
       "        [0., 0., 0.],\n",
       "        [0., 0., 0.],\n",
       "        [0., 0., 0.]],\n",
       "\n",
       "       [[0., 0., 0.],\n",
       "        [0., 0., 0.],\n",
       "        [0., 0., 0.],\n",
       "        ...,\n",
       "        [0., 0., 0.],\n",
       "        [0., 0., 0.],\n",
       "        [0., 0., 0.]],\n",
       "\n",
       "       ...,\n",
       "\n",
       "       [[0., 0., 0.],\n",
       "        [0., 0., 0.],\n",
       "        [0., 0., 0.],\n",
       "        ...,\n",
       "        [0., 0., 0.],\n",
       "        [0., 0., 0.],\n",
       "        [0., 0., 0.]],\n",
       "\n",
       "       [[0., 0., 0.],\n",
       "        [0., 0., 0.],\n",
       "        [0., 0., 0.],\n",
       "        ...,\n",
       "        [0., 0., 0.],\n",
       "        [0., 0., 0.],\n",
       "        [0., 0., 0.]],\n",
       "\n",
       "       [[0., 0., 0.],\n",
       "        [0., 0., 0.],\n",
       "        [0., 0., 0.],\n",
       "        ...,\n",
       "        [0., 0., 0.],\n",
       "        [0., 0., 0.],\n",
       "        [0., 0., 0.]]], dtype=float32), prediction=DetectionPrediction(bboxes_xyxy=array([], shape=(0, 4), dtype=float32), confidence=array([], dtype=float32), labels=array([], dtype=float32)), class_names=['negative', 'positive'])])"
      ]
     },
     "execution_count": 68,
     "metadata": {},
     "output_type": "execute_result"
    }
   ],
   "source": [
    "predicoes"
   ]
  }
 ],
 "metadata": {
  "kernelspec": {
   "display_name": "valor_venal",
   "language": "python",
   "name": "python3"
  },
  "language_info": {
   "codemirror_mode": {
    "name": "ipython",
    "version": 3
   },
   "file_extension": ".py",
   "mimetype": "text/x-python",
   "name": "python",
   "nbconvert_exporter": "python",
   "pygments_lexer": "ipython3",
   "version": "3.9.15"
  }
 },
 "nbformat": 4,
 "nbformat_minor": 2
}
