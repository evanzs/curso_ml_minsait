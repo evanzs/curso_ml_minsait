{
 "cells": [
  {
   "cell_type": "code",
   "execution_count": 1,
   "id": "849d3482",
   "metadata": {},
   "outputs": [],
   "source": [
    "from tensorflow import keras\n",
    "import matplotlib.pyplot as plt\n",
    "import numpy as np\n",
    "from sklearn.preprocessing import OneHotEncoder\n",
    "from sklearn.metrics import confusion_matrix\n",
    "from sklearn.metrics import accuracy_score\n",
    "import pathlib"
   ]
  },
  {
   "cell_type": "markdown",
   "id": "d549ae25",
   "metadata": {},
   "source": [
    "# Prática\n",
    "## Classificacao CNN\n",
    "1. Aquisição e pré-processamento dos dados\n",
    "2. Treinamento\n",
    "* Implementar arquitetura\n",
    "* Definir otimizadores, métricas e regularizadores\n",
    "3. Teste (avaliação de desempenho)\n",
    "## Deteccao CNN\n",
    "1. Usar a lib super_gradients(https://github.com/Deci-AI/super-gradients)\n",
    "2. Utilizar Yolox_nano,PP-YOLOE small ou SSD lite MobileNet v2\n",
    "   1. Para checar hiperparametros disponíveis:\n",
    "      1. https://github.com/Deci-AI/super-gradients/tree/master/src/super_gradients/recipes\n",
    "   2. Para checar modelos disponiveis\n",
    "      1. https://docs.deci.ai/super-gradients/latest/documentation/source/model_zoo.html#computer-vision-models-pretrained-checkpoints\n",
    "3. Visualizar resultados\n",
    "## Segmentacao CNN\n",
    "   1. Usar lib segmentation_models(https://github.com/qubvel/segmentation_models)\n",
    "   2. Usar mobilenet,mobilenetv2 ou seresnet18 como backbone\n",
    "   3. Usar FPN como arquitetura base\n",
    "   4. Visualizar resultados"
   ]
  }
 ],
 "metadata": {
  "kernelspec": {
   "display_name": "Python 3 (ipykernel)",
   "language": "python",
   "name": "python3"
  },
  "language_info": {
   "codemirror_mode": {
    "name": "ipython",
    "version": 3
   },
   "file_extension": ".py",
   "mimetype": "text/x-python",
   "name": "python",
   "nbconvert_exporter": "python",
   "pygments_lexer": "ipython3",
   "version": "3.9.7"
  }
 },
 "nbformat": 4,
 "nbformat_minor": 5
}
