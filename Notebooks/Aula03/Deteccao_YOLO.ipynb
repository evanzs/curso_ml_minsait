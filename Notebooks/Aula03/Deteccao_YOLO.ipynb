{
 "cells": [
  {
   "cell_type": "code",
   "execution_count": 6,
   "metadata": {},
   "outputs": [
    {
     "ename": "ModuleNotFoundError",
     "evalue": "No module named 'super_gradients'",
     "output_type": "error",
     "traceback": [
      "\u001b[1;31m---------------------------------------------------------------------------\u001b[0m",
      "\u001b[1;31mModuleNotFoundError\u001b[0m                       Traceback (most recent call last)",
      "\u001b[1;32mC:\\Users\\TALMEI~1\\AppData\\Local\\Temp/ipykernel_1780/2207397028.py\u001b[0m in \u001b[0;36m<module>\u001b[1;34m\u001b[0m\n\u001b[1;32m----> 1\u001b[1;33m \u001b[1;32mimport\u001b[0m \u001b[0msuper_gradients\u001b[0m\u001b[1;33m\u001b[0m\u001b[1;33m\u001b[0m\u001b[0m\n\u001b[0m",
      "\u001b[1;31mModuleNotFoundError\u001b[0m: No module named 'super_gradients'"
     ]
    }
   ],
   "source": [
    "import super_gradients"
   ]
  },
  {
   "cell_type": "code",
   "execution_count": 1,
   "metadata": {},
   "outputs": [],
   "source": [
    "import pycocotools"
   ]
  },
  {
   "cell_type": "code",
   "execution_count": 14,
   "metadata": {},
   "outputs": [
    {
     "name": "stdout",
     "output_type": "stream",
     "text": [
      "Collecting Cmake\n",
      "  Downloading cmake-3.27.7-py2.py3-none-win_amd64.whl.metadata (6.8 kB)\n",
      "Downloading cmake-3.27.7-py2.py3-none-win_amd64.whl (34.6 MB)\n",
      "   ---------------------------------------- 34.6/34.6 MB 18.2 MB/s eta 0:00:00\n",
      "Installing collected packages: Cmake\n",
      "Successfully installed Cmake-3.27.7\n"
     ]
    },
    {
     "name": "stderr",
     "output_type": "stream",
     "text": [
      "WARNING: Ignoring invalid distribution -rotobuf (c:\\users\\talmeidar\\anaconda3\\lib\\site-packages)\n",
      "WARNING: Ignoring invalid distribution -rotobuf (c:\\users\\talmeidar\\anaconda3\\lib\\site-packages)\n",
      "DEPRECATION: pyodbc 4.0.0-unsupported has a non-standard version number. pip 24.0 will enforce this behaviour change. A possible replacement is to upgrade to a newer version of pyodbc or contact the author to suggest that they release a version with a conforming version number. Discussion can be found at https://github.com/pypa/pip/issues/12063\n"
     ]
    }
   ],
   "source": [
    "!pip install Cmake"
   ]
  },
  {
   "cell_type": "code",
   "execution_count": 10,
   "metadata": {},
   "outputs": [
    {
     "name": "stdout",
     "output_type": "stream",
     "text": [
      "Requirement already satisfied: cython in c:\\users\\talmeidar\\anaconda3\\lib\\site-packages (0.29.24)\n"
     ]
    },
    {
     "name": "stderr",
     "output_type": "stream",
     "text": [
      "WARNING: Ignoring invalid distribution -rotobuf (c:\\users\\talmeidar\\anaconda3\\lib\\site-packages)\n",
      "WARNING: Ignoring invalid distribution -rotobuf (c:\\users\\talmeidar\\anaconda3\\lib\\site-packages)\n",
      "DEPRECATION: pyodbc 4.0.0-unsupported has a non-standard version number. pip 24.0 will enforce this behaviour change. A possible replacement is to upgrade to a newer version of pyodbc or contact the author to suggest that they release a version with a conforming version number. Discussion can be found at https://github.com/pypa/pip/issues/12063\n"
     ]
    }
   ],
   "source": [
    "!pip install cython "
   ]
  },
  {
   "cell_type": "code",
   "execution_count": 15,
   "metadata": {},
   "outputs": [
    {
     "name": "stdout",
     "output_type": "stream",
     "text": [
      "Collecting git+https://github.com/philferriere/cocoapi.git#subdirectory=PythonAPI\n",
      "  Cloning https://github.com/philferriere/cocoapi.git to c:\\users\\talmeidar\\appdata\\local\\temp\\pip-req-build-p6ndt9_u\n",
      "  Resolved https://github.com/philferriere/cocoapi.git to commit 2929bd2ef6b451054755dfd7ceb09278f935f7ad\n",
      "  Preparing metadata (setup.py): started\n",
      "  Preparing metadata (setup.py): finished with status 'done'\n",
      "Building wheels for collected packages: pycocotools\n",
      "  Building wheel for pycocotools (setup.py): started\n",
      "  Building wheel for pycocotools (setup.py): finished with status 'error'\n",
      "  Running setup.py clean for pycocotools\n",
      "Failed to build pycocotools\n"
     ]
    },
    {
     "name": "stderr",
     "output_type": "stream",
     "text": [
      "WARNING: Ignoring invalid distribution -rotobuf (c:\\users\\talmeidar\\anaconda3\\lib\\site-packages)\n",
      "  Running command git clone --filter=blob:none --quiet https://github.com/philferriere/cocoapi.git 'C:\\Users\\talmeidar\\AppData\\Local\\Temp\\pip-req-build-p6ndt9_u'\n",
      "  error: subprocess-exited-with-error\n",
      "  \n",
      "  × python setup.py bdist_wheel did not run successfully.\n",
      "  │ exit code: 1\n",
      "  ╰─> [13 lines of output]\n",
      "      running bdist_wheel\n",
      "      running build\n",
      "      running build_py\n",
      "      creating build\n",
      "      creating build\\lib.win-amd64-3.9\n",
      "      creating build\\lib.win-amd64-3.9\\pycocotools\n",
      "      copying pycocotools\\coco.py -> build\\lib.win-amd64-3.9\\pycocotools\n",
      "      copying pycocotools\\cocoeval.py -> build\\lib.win-amd64-3.9\\pycocotools\n",
      "      copying pycocotools\\mask.py -> build\\lib.win-amd64-3.9\\pycocotools\n",
      "      copying pycocotools\\__init__.py -> build\\lib.win-amd64-3.9\\pycocotools\n",
      "      running build_ext\n",
      "      building 'pycocotools._mask' extension\n",
      "      error: Microsoft Visual C++ 14.0 or greater is required. Get it with \"Microsoft C++ Build Tools\": https://visualstudio.microsoft.com/visual-cpp-build-tools/\n",
      "      [end of output]\n",
      "  \n",
      "  note: This error originates from a subprocess, and is likely not a problem with pip.\n",
      "  ERROR: Failed building wheel for pycocotools\n",
      "  error: subprocess-exited-with-error\n",
      "  \n",
      "  × python setup.py clean did not run successfully.\n",
      "  │ exit code: 1\n",
      "  ╰─> [12 lines of output]\n",
      "      Traceback (most recent call last):\n",
      "        File \"<string>\", line 2, in <module>\n",
      "        File \"<pip-setuptools-caller>\", line 34, in <module>\n",
      "        File \"C:\\Users\\talmeidar\\AppData\\Local\\Temp\\pip-req-build-p6ndt9_u\\PythonAPI\\setup.py\", line 25, in <module>\n",
      "          cythonize(ext_modules)\n",
      "        File \"C:\\Users\\talmeidar\\Anaconda3\\lib\\site-packages\\Cython\\Build\\Dependencies.py\", line 965, in cythonize\n",
      "          module_list, module_metadata = create_extension_list(\n",
      "        File \"C:\\Users\\talmeidar\\Anaconda3\\lib\\site-packages\\Cython\\Build\\Dependencies.py\", line 815, in create_extension_list\n",
      "          for file in nonempty(sorted(extended_iglob(filepattern)), \"'%s' doesn't match any files\" % filepattern):\n",
      "        File \"C:\\Users\\talmeidar\\Anaconda3\\lib\\site-packages\\Cython\\Build\\Dependencies.py\", line 114, in nonempty\n",
      "          raise ValueError(error_msg)\n",
      "      ValueError: 'pycocotools/_mask.pyx' doesn't match any files\n",
      "      [end of output]\n",
      "  \n",
      "  note: This error originates from a subprocess, and is likely not a problem with pip.\n",
      "  ERROR: Failed cleaning build dir for pycocotools\n",
      "ERROR: Could not build wheels for pycocotools, which is required to install pyproject.toml-based projects\n"
     ]
    }
   ],
   "source": [
    "!pip install git+https://github.com/philferriere/cocoapi.git#subdirectory=PythonAPI"
   ]
  },
  {
   "cell_type": "code",
   "execution_count": 5,
   "metadata": {},
   "outputs": [
    {
     "name": "stdout",
     "output_type": "stream",
     "text": [
      "Collecting super-gradients\n",
      "  Using cached super_gradients-3.3.1-py3-none-any.whl.metadata (37 kB)\n",
      "Collecting torch>=1.9.0 (from super-gradients)\n",
      "  Using cached torch-2.1.0-cp39-cp39-win_amd64.whl.metadata (24 kB)\n",
      "Requirement already satisfied: tqdm>=4.57.0 in c:\\users\\talmeidar\\anaconda3\\lib\\site-packages (from super-gradients) (4.62.3)\n",
      "Collecting boto3>=1.17.15 (from super-gradients)\n",
      "  Using cached boto3-1.28.75-py3-none-any.whl.metadata (6.7 kB)\n",
      "Requirement already satisfied: jsonschema>=3.2.0 in c:\\users\\talmeidar\\anaconda3\\lib\\site-packages (from super-gradients) (3.2.0)\n",
      "Collecting Deprecated>=1.2.11 (from super-gradients)\n",
      "  Using cached Deprecated-1.2.14-py2.py3-none-any.whl.metadata (5.4 kB)\n",
      "Requirement already satisfied: opencv-python>=4.5.1 in c:\\users\\talmeidar\\anaconda3\\lib\\site-packages (from super-gradients) (4.7.0.72)\n",
      "Requirement already satisfied: scipy>=1.6.1 in c:\\users\\talmeidar\\anaconda3\\lib\\site-packages (from super-gradients) (1.7.1)\n",
      "Requirement already satisfied: matplotlib>=3.3.4 in c:\\users\\talmeidar\\anaconda3\\lib\\site-packages (from super-gradients) (3.4.3)\n",
      "Requirement already satisfied: psutil>=5.8.0 in c:\\users\\talmeidar\\anaconda3\\lib\\site-packages (from super-gradients) (5.8.0)\n",
      "Requirement already satisfied: tensorboard>=2.4.1 in c:\\users\\talmeidar\\anaconda3\\lib\\site-packages (from super-gradients) (2.9.1)\n",
      "Requirement already satisfied: setuptools>=21.0.0 in c:\\users\\talmeidar\\anaconda3\\lib\\site-packages (from super-gradients) (58.0.4)\n",
      "Collecting coverage~=5.3.1 (from super-gradients)\n",
      "  Using cached coverage-5.3.1-cp39-cp39-win_amd64.whl (212 kB)\n",
      "Collecting torchvision>=0.10.0 (from super-gradients)\n",
      "  Using cached torchvision-0.16.0-cp39-cp39-win_amd64.whl.metadata (6.6 kB)\n",
      "Collecting sphinx~=4.0.2 (from super-gradients)\n",
      "  Using cached Sphinx-4.0.3-py3-none-any.whl (2.9 MB)\n",
      "Collecting sphinx-rtd-theme (from super-gradients)\n",
      "  Using cached sphinx_rtd_theme-1.3.0-py2.py3-none-any.whl.metadata (4.5 kB)\n",
      "Collecting torchmetrics==0.8 (from super-gradients)\n",
      "  Using cached torchmetrics-0.8.0-py3-none-any.whl (408 kB)\n",
      "Collecting hydra-core>=1.2.0 (from super-gradients)\n",
      "  Using cached hydra_core-1.3.2-py3-none-any.whl (154 kB)\n",
      "Collecting omegaconf (from super-gradients)\n",
      "  Using cached omegaconf-2.3.0-py3-none-any.whl (79 kB)\n",
      "Collecting onnxruntime==1.13.1 (from super-gradients)\n",
      "  Using cached onnxruntime-1.13.1-cp39-cp39-win_amd64.whl (5.9 MB)\n",
      "Collecting onnx==1.13.0 (from super-gradients)\n",
      "  Using cached onnx-1.13.0-cp39-cp39-win_amd64.whl (12.2 MB)\n",
      "Requirement already satisfied: pillow!=8.3,>=5.3.0 in c:\\users\\talmeidar\\anaconda3\\lib\\site-packages (from super-gradients) (8.4.0)\n",
      "Collecting pip-tools>=6.12.1 (from super-gradients)\n",
      "  Using cached pip_tools-7.3.0-py3-none-any.whl.metadata (23 kB)\n",
      "Collecting pyparsing==2.4.5 (from super-gradients)\n",
      "  Using cached pyparsing-2.4.5-py2.py3-none-any.whl (67 kB)\n",
      "Collecting einops==0.3.2 (from super-gradients)\n",
      "  Using cached einops-0.3.2-py3-none-any.whl (25 kB)\n",
      "Collecting pycocotools==2.0.6 (from super-gradients)\n",
      "  Using cached pycocotools-2.0.6.tar.gz (24 kB)\n",
      "  Installing build dependencies: started\n",
      "  Installing build dependencies: finished with status 'done'\n",
      "  Getting requirements to build wheel: started\n",
      "  Getting requirements to build wheel: finished with status 'done'\n",
      "  Preparing metadata (pyproject.toml): started\n",
      "  Preparing metadata (pyproject.toml): finished with status 'done'\n",
      "Collecting protobuf==3.20.3 (from super-gradients)\n",
      "  Using cached protobuf-3.20.3-cp39-cp39-win_amd64.whl (904 kB)\n",
      "Collecting treelib==1.6.1 (from super-gradients)\n",
      "  Using cached treelib-1.6.1-py3-none-any.whl\n",
      "Requirement already satisfied: termcolor==1.1.0 in c:\\users\\talmeidar\\anaconda3\\lib\\site-packages (from super-gradients) (1.1.0)\n",
      "Requirement already satisfied: packaging>=20.4 in c:\\users\\talmeidar\\anaconda3\\lib\\site-packages (from super-gradients) (21.0)\n",
      "Collecting wheel>=0.38.0 (from super-gradients)\n",
      "  Using cached wheel-0.41.3-py3-none-any.whl.metadata (2.2 kB)\n",
      "Requirement already satisfied: pygments>=2.7.4 in c:\\users\\talmeidar\\anaconda3\\lib\\site-packages (from super-gradients) (2.10.0)\n",
      "Collecting stringcase>=1.2.0 (from super-gradients)\n",
      "  Using cached stringcase-1.2.0-py3-none-any.whl\n",
      "Requirement already satisfied: numpy<=1.23 in c:\\users\\talmeidar\\anaconda3\\lib\\site-packages (from super-gradients) (1.20.3)\n",
      "Collecting rapidfuzz (from super-gradients)\n",
      "  Using cached rapidfuzz-3.5.1-cp39-cp39-win_amd64.whl.metadata (11 kB)\n",
      "Collecting json-tricks==3.16.1 (from super-gradients)"
     ]
    },
    {
     "name": "stderr",
     "output_type": "stream",
     "text": [
      "WARNING: Ignoring invalid distribution -rotobuf (c:\\users\\talmeidar\\anaconda3\\lib\\site-packages)\n",
      "  error: subprocess-exited-with-error\n",
      "  \n",
      "  × Building wheel for pycocotools (pyproject.toml) did not run successfully.\n",
      "  │ exit code: 1\n",
      "  ╰─> [17 lines of output]\n",
      "      running bdist_wheel\n",
      "      running build\n",
      "      running build_py\n",
      "      creating build\n",
      "      creating build\\lib.win-amd64-cpython-39\n",
      "      creating build\\lib.win-amd64-cpython-39\\pycocotools\n",
      "      copying pycocotools\\coco.py -> build\\lib.win-amd64-cpython-39\\pycocotools\n",
      "      copying pycocotools\\cocoeval.py -> build\\lib.win-amd64-cpython-39\\pycocotools\n",
      "      copying pycocotools\\mask.py -> build\\lib.win-amd64-cpython-39\\pycocotools\n",
      "      copying pycocotools\\__init__.py -> build\\lib.win-amd64-cpython-39\\pycocotools\n",
      "      running build_ext\n",
      "      Compiling pycocotools/_mask.pyx because it changed.\n",
      "      [1/1] Cythonizing pycocotools/_mask.pyx\n",
      "      C:\\Users\\talmeidar\\AppData\\Local\\Temp\\pip-build-env-18leu1_4\\overlay\\Lib\\site-packages\\Cython\\Compiler\\Main.py:381: FutureWarning: Cython directive 'language_level' not set, using '3str' for now (Py3). This has changed from earlier releases! File: C:\\Users\\talmeidar\\AppData\\Local\\Temp\\pip-install-jhqhp8ay\\pycocotools_82078f75d1a44a878efd64f8313afb8f\\pycocotools\\_mask.pyx\n",
      "        tree = Parsing.p_module(s, pxd, full_module_name)\n",
      "      building 'pycocotools._mask' extension\n",
      "      error: Microsoft Visual C++ 14.0 or greater is required. Get it with \"Microsoft C++ Build Tools\": https://visualstudio.microsoft.com/visual-cpp-build-tools/\n",
      "      [end of output]\n",
      "  \n",
      "  note: This error originates from a subprocess, and is likely not a problem with pip.\n",
      "  ERROR: Failed building wheel for pycocotools\n",
      "ERROR: Could not build wheels for pycocotools, which is required to install pyproject.toml-based projects\n"
     ]
    },
    {
     "name": "stdout",
     "output_type": "stream",
     "text": [
      "\n",
      "  Using cached json_tricks-3.16.1-py2.py3-none-any.whl (27 kB)\n",
      "Collecting onnx-simplifier<1.0,>=0.3.6 (from super-gradients)\n",
      "  Using cached onnx_simplifier-0.4.35-cp39-cp39-win_amd64.whl.metadata (4.4 kB)\n",
      "Collecting data-gradients>=0.2.2 (from super-gradients)\n",
      "  Using cached data_gradients-0.2.2-py3-none-any.whl.metadata (20 kB)\n",
      "Requirement already satisfied: typing-extensions>=3.6.2.1 in c:\\users\\talmeidar\\anaconda3\\lib\\site-packages (from onnx==1.13.0->super-gradients) (4.8.0)\n",
      "Collecting coloredlogs (from onnxruntime==1.13.1->super-gradients)\n",
      "  Using cached coloredlogs-15.0.1-py2.py3-none-any.whl (46 kB)\n",
      "Requirement already satisfied: flatbuffers in c:\\users\\talmeidar\\anaconda3\\lib\\site-packages (from onnxruntime==1.13.1->super-gradients) (1.12)\n",
      "Collecting numpy<=1.23 (from super-gradients)\n",
      "  Using cached numpy-1.23.0-cp39-cp39-win_amd64.whl (14.7 MB)\n",
      "Requirement already satisfied: sympy in c:\\users\\talmeidar\\anaconda3\\lib\\site-packages (from onnxruntime==1.13.1->super-gradients) (1.9)\n",
      "Collecting pyDeprecate==0.3.* (from torchmetrics==0.8->super-gradients)\n",
      "  Using cached pyDeprecate-0.3.2-py3-none-any.whl (10 kB)\n",
      "Requirement already satisfied: future in c:\\users\\talmeidar\\anaconda3\\lib\\site-packages (from treelib==1.6.1->super-gradients) (0.18.2)\n",
      "Collecting botocore<1.32.0,>=1.31.75 (from boto3>=1.17.15->super-gradients)\n",
      "  Using cached botocore-1.31.75-py3-none-any.whl.metadata (6.1 kB)\n",
      "Collecting jmespath<2.0.0,>=0.7.1 (from boto3>=1.17.15->super-gradients)\n",
      "  Using cached jmespath-1.0.1-py3-none-any.whl (20 kB)\n",
      "Collecting s3transfer<0.8.0,>=0.7.0 (from boto3>=1.17.15->super-gradients)\n",
      "  Using cached s3transfer-0.7.0-py3-none-any.whl.metadata (1.8 kB)\n",
      "Collecting pygments>=2.7.4 (from super-gradients)\n",
      "  Using cached Pygments-2.16.1-py3-none-any.whl.metadata (2.5 kB)\n",
      "Collecting tqdm>=4.57.0 (from super-gradients)\n",
      "  Using cached tqdm-4.66.1-py3-none-any.whl.metadata (57 kB)\n",
      "Collecting platformdirs>=2.5.2 (from data-gradients>=0.2.2->super-gradients)\n",
      "  Using cached platformdirs-3.11.0-py3-none-any.whl.metadata (11 kB)\n",
      "Requirement already satisfied: seaborn in c:\\users\\talmeidar\\anaconda3\\lib\\site-packages (from data-gradients>=0.2.2->super-gradients) (0.11.2)\n",
      "Collecting xhtml2pdf (from data-gradients>=0.2.2->super-gradients)\n",
      "  Using cached xhtml2pdf-0.2.11-py3-none-any.whl\n",
      "Requirement already satisfied: jinja2 in c:\\users\\talmeidar\\appdata\\roaming\\python\\python39\\site-packages (from data-gradients>=0.2.2->super-gradients) (3.1.2)\n",
      "Collecting imagededup (from data-gradients>=0.2.2->super-gradients)\n",
      "  Using cached imagededup-0.3.2-cp39-cp39-win_amd64.whl (53 kB)\n",
      "Requirement already satisfied: wrapt<2,>=1.10 in c:\\users\\talmeidar\\anaconda3\\lib\\site-packages (from Deprecated>=1.2.11->super-gradients) (1.12.1)\n",
      "Collecting antlr4-python3-runtime==4.9.* (from hydra-core>=1.2.0->super-gradients)\n",
      "  Using cached antlr4_python3_runtime-4.9.3-py3-none-any.whl\n",
      "Requirement already satisfied: attrs>=17.4.0 in c:\\users\\talmeidar\\anaconda3\\lib\\site-packages (from jsonschema>=3.2.0->super-gradients) (21.2.0)\n",
      "Requirement already satisfied: pyrsistent>=0.14.0 in c:\\users\\talmeidar\\anaconda3\\lib\\site-packages (from jsonschema>=3.2.0->super-gradients) (0.18.0)\n",
      "Requirement already satisfied: six>=1.11.0 in c:\\users\\talmeidar\\anaconda3\\lib\\site-packages (from jsonschema>=3.2.0->super-gradients) (1.16.0)\n",
      "Requirement already satisfied: cycler>=0.10 in c:\\users\\talmeidar\\anaconda3\\lib\\site-packages (from matplotlib>=3.3.4->super-gradients) (0.10.0)\n",
      "Requirement already satisfied: kiwisolver>=1.0.1 in c:\\users\\talmeidar\\anaconda3\\lib\\site-packages (from matplotlib>=3.3.4->super-gradients) (1.3.1)\n",
      "Requirement already satisfied: python-dateutil>=2.7 in c:\\users\\talmeidar\\anaconda3\\lib\\site-packages (from matplotlib>=3.3.4->super-gradients) (2.8.2)\n",
      "Requirement already satisfied: PyYAML>=5.1.0 in c:\\users\\talmeidar\\anaconda3\\lib\\site-packages (from omegaconf->super-gradients) (6.0)\n",
      "Collecting rich (from onnx-simplifier<1.0,>=0.3.6->super-gradients)\n",
      "  Using cached rich-13.6.0-py3-none-any.whl.metadata (18 kB)\n",
      "Collecting build (from pip-tools>=6.12.1->super-gradients)\n",
      "  Using cached build-1.0.3-py3-none-any.whl.metadata (4.2 kB)\n",
      "Requirement already satisfied: click>=8 in c:\\users\\talmeidar\\anaconda3\\lib\\site-packages (from pip-tools>=6.12.1->super-gradients) (8.0.3)\n",
      "Requirement already satisfied: pip>=22.2 in c:\\users\\talmeidar\\anaconda3\\lib\\site-packages (from pip-tools>=6.12.1->super-gradients) (23.3.1)\n",
      "Collecting tomli (from pip-tools>=6.12.1->super-gradients)\n",
      "  Using cached tomli-2.0.1-py3-none-any.whl (12 kB)\n"
     ]
    },
    {
     "name": "stdout",
     "output_type": "stream",
     "text": [
      "Collecting numpy<=1.23 (from super-gradients)\n",
      "  Using cached numpy-1.22.4-cp39-cp39-win_amd64.whl (14.7 MB)\n",
      "Requirement already satisfied: sphinxcontrib-applehelp in c:\\users\\talmeidar\\anaconda3\\lib\\site-packages (from sphinx~=4.0.2->super-gradients) (1.0.2)\n",
      "Requirement already satisfied: sphinxcontrib-devhelp in c:\\users\\talmeidar\\anaconda3\\lib\\site-packages (from sphinx~=4.0.2->super-gradients) (1.0.2)\n",
      "Requirement already satisfied: sphinxcontrib-jsmath in c:\\users\\talmeidar\\anaconda3\\lib\\site-packages (from sphinx~=4.0.2->super-gradients) (1.0.1)\n",
      "Requirement already satisfied: sphinxcontrib-htmlhelp in c:\\users\\talmeidar\\anaconda3\\lib\\site-packages (from sphinx~=4.0.2->super-gradients) (2.0.0)\n",
      "Requirement already satisfied: sphinxcontrib-serializinghtml in c:\\users\\talmeidar\\anaconda3\\lib\\site-packages (from sphinx~=4.0.2->super-gradients) (1.1.5)\n",
      "Requirement already satisfied: sphinxcontrib-qthelp in c:\\users\\talmeidar\\anaconda3\\lib\\site-packages (from sphinx~=4.0.2->super-gradients) (1.0.3)\n",
      "Requirement already satisfied: docutils<0.18,>=0.14 in c:\\users\\talmeidar\\anaconda3\\lib\\site-packages (from sphinx~=4.0.2->super-gradients) (0.17.1)\n",
      "Requirement already satisfied: snowballstemmer>=1.1 in c:\\users\\talmeidar\\anaconda3\\lib\\site-packages (from sphinx~=4.0.2->super-gradients) (2.1.0)\n",
      "Requirement already satisfied: babel>=1.3 in c:\\users\\talmeidar\\anaconda3\\lib\\site-packages (from sphinx~=4.0.2->super-gradients) (2.9.1)\n",
      "Requirement already satisfied: alabaster<0.8,>=0.7 in c:\\users\\talmeidar\\anaconda3\\lib\\site-packages (from sphinx~=4.0.2->super-gradients) (0.7.12)\n",
      "Requirement already satisfied: imagesize in c:\\users\\talmeidar\\anaconda3\\lib\\site-packages (from sphinx~=4.0.2->super-gradients) (1.2.0)\n",
      "Requirement already satisfied: requests>=2.5.0 in c:\\users\\talmeidar\\anaconda3\\lib\\site-packages (from sphinx~=4.0.2->super-gradients) (2.26.0)\n",
      "Requirement already satisfied: colorama>=0.3.5 in c:\\users\\talmeidar\\anaconda3\\lib\\site-packages (from sphinx~=4.0.2->super-gradients) (0.4.4)\n",
      "Requirement already satisfied: absl-py>=0.4 in c:\\users\\talmeidar\\anaconda3\\lib\\site-packages (from tensorboard>=2.4.1->super-gradients) (1.2.0)\n",
      "Requirement already satisfied: grpcio>=1.24.3 in c:\\users\\talmeidar\\anaconda3\\lib\\site-packages (from tensorboard>=2.4.1->super-gradients) (1.47.0)\n",
      "Requirement already satisfied: google-auth<3,>=1.6.3 in c:\\users\\talmeidar\\anaconda3\\lib\\site-packages (from tensorboard>=2.4.1->super-gradients) (2.11.0)\n",
      "Requirement already satisfied: google-auth-oauthlib<0.5,>=0.4.1 in c:\\users\\talmeidar\\anaconda3\\lib\\site-packages (from tensorboard>=2.4.1->super-gradients) (0.4.6)\n",
      "Requirement already satisfied: markdown>=2.6.8 in c:\\users\\talmeidar\\anaconda3\\lib\\site-packages (from tensorboard>=2.4.1->super-gradients) (3.4.1)\n",
      "INFO: pip is looking at multiple versions of tensorboard to determine which version is compatible with other requirements. This could take a while.\n",
      "Collecting tensorboard>=2.4.1 (from super-gradients)\n",
      "  Using cached tensorboard-2.15.0-py3-none-any.whl.metadata (1.7 kB)\n",
      "Collecting grpcio>=1.48.2 (from tensorboard>=2.4.1->super-gradients)\n",
      "  Using cached grpcio-1.59.2-cp39-cp39-win_amd64.whl.metadata (4.2 kB)\n",
      "Collecting google-auth-oauthlib<2,>=0.5 (from tensorboard>=2.4.1->super-gradients)\n",
      "  Using cached google_auth_oauthlib-1.1.0-py2.py3-none-any.whl.metadata (2.7 kB)\n",
      "Collecting tensorboard-data-server<0.8.0,>=0.7.0 (from tensorboard>=2.4.1->super-gradients)\n",
      "  Using cached tensorboard_data_server-0.7.2-py3-none-any.whl.metadata (1.1 kB)\n",
      "Requirement already satisfied: werkzeug>=1.0.1 in c:\\users\\talmeidar\\anaconda3\\lib\\site-packages (from tensorboard>=2.4.1->super-gradients) (2.0.2)\n",
      "Requirement already satisfied: filelock in c:\\users\\talmeidar\\anaconda3\\lib\\site-packages (from torch>=1.9.0->super-gradients) (3.3.1)\n",
      "Requirement already satisfied: networkx in c:\\users\\talmeidar\\anaconda3\\lib\\site-packages (from torch>=1.9.0->super-gradients) (2.6.3)\n",
      "Requirement already satisfied: fsspec in c:\\users\\talmeidar\\anaconda3\\lib\\site-packages (from torch>=1.9.0->super-gradients) (2021.10.1)\n",
      "Collecting sphinxcontrib-jquery<5,>=4 (from sphinx-rtd-theme->super-gradients)\n",
      "  Using cached sphinxcontrib_jquery-4.1-py2.py3-none-any.whl (121 kB)\n",
      "Requirement already satisfied: pytz>=2015.7 in c:\\users\\talmeidar\\anaconda3\\lib\\site-packages (from babel>=1.3->sphinx~=4.0.2->super-gradients) (2023.3)\n",
      "Requirement already satisfied: urllib3<1.27,>=1.25.4 in c:\\users\\talmeidar\\anaconda3\\lib\\site-packages (from botocore<1.32.0,>=1.31.75->boto3>=1.17.15->super-gradients) (1.26.7)\n",
      "Requirement already satisfied: cachetools<6.0,>=2.0.0 in c:\\users\\talmeidar\\anaconda3\\lib\\site-packages (from google-auth<3,>=1.6.3->tensorboard>=2.4.1->super-gradients) (5.2.0)\n",
      "Requirement already satisfied: pyasn1-modules>=0.2.1 in c:\\users\\talmeidar\\anaconda3\\lib\\site-packages (from google-auth<3,>=1.6.3->tensorboard>=2.4.1->super-gradients) (0.2.8)\n",
      "Requirement already satisfied: rsa<5,>=3.1.4 in c:\\users\\talmeidar\\anaconda3\\lib\\site-packages (from google-auth<3,>=1.6.3->tensorboard>=2.4.1->super-gradients) (4.9)\n",
      "Collecting google-auth<3,>=1.6.3 (from tensorboard>=2.4.1->super-gradients)\n",
      "  Using cached google_auth-2.23.4-py2.py3-none-any.whl.metadata (4.7 kB)\n",
      "Requirement already satisfied: requests-oauthlib>=0.7.0 in c:\\users\\talmeidar\\anaconda3\\lib\\site-packages (from google-auth-oauthlib<2,>=0.5->tensorboard>=2.4.1->super-gradients) (1.3.1)\n",
      "Requirement already satisfied: MarkupSafe>=2.0 in c:\\users\\talmeidar\\anaconda3\\lib\\site-packages (from jinja2->data-gradients>=0.2.2->super-gradients) (2.0.1)\n",
      "Requirement already satisfied: importlib-metadata>=4.4 in c:\\users\\talmeidar\\anaconda3\\lib\\site-packages (from markdown>=2.6.8->tensorboard>=2.4.1->super-gradients) (4.8.1)\n",
      "Requirement already satisfied: certifi>=2017.4.17 in c:\\users\\talmeidar\\anaconda3\\lib\\site-packages (from requests>=2.5.0->sphinx~=4.0.2->super-gradients) (2021.10.8)\n",
      "Requirement already satisfied: charset-normalizer~=2.0.0 in c:\\users\\talmeidar\\anaconda3\\lib\\site-packages (from requests>=2.5.0->sphinx~=4.0.2->super-gradients) (2.0.4)\n",
      "Requirement already satisfied: idna<4,>=2.5 in c:\\users\\talmeidar\\anaconda3\\lib\\site-packages (from requests>=2.5.0->sphinx~=4.0.2->super-gradients) (3.2)\n",
      "Collecting pyproject_hooks (from build->pip-tools>=6.12.1->super-gradients)\n",
      "  Using cached pyproject_hooks-1.0.0-py3-none-any.whl (9.3 kB)\n",
      "Collecting humanfriendly>=9.1 (from coloredlogs->onnxruntime==1.13.1->super-gradients)\n",
      "  Using cached humanfriendly-10.0-py2.py3-none-any.whl (86 kB)\n",
      "Collecting pillow!=8.3,>=5.3.0 (from super-gradients)\n",
      "  Using cached Pillow-10.1.0-cp39-cp39-win_amd64.whl.metadata (9.6 kB)\n",
      "Requirement already satisfied: scikit-learn in c:\\users\\talmeidar\\anaconda3\\lib\\site-packages (from imagededup->data-gradients>=0.2.2->super-gradients) (1.2.2)\n",
      "Requirement already satisfied: PyWavelets in c:\\users\\talmeidar\\anaconda3\\lib\\site-packages (from imagededup->data-gradients>=0.2.2->super-gradients) (1.1.1)\n",
      "Collecting markdown-it-py>=2.2.0 (from rich->onnx-simplifier<1.0,>=0.3.6->super-gradients)\n",
      "  Using cached markdown_it_py-3.0.0-py3-none-any.whl.metadata (6.9 kB)\n",
      "Requirement already satisfied: pandas>=0.23 in c:\\users\\talmeidar\\anaconda3\\lib\\site-packages (from seaborn->data-gradients>=0.2.2->super-gradients) (1.3.4)\n",
      "Requirement already satisfied: mpmath>=0.19 in c:\\users\\talmeidar\\anaconda3\\lib\\site-packages (from sympy->onnxruntime==1.13.1->super-gradients) (1.2.1)\n",
      "Collecting arabic-reshaper>=3.0.0 (from xhtml2pdf->data-gradients>=0.2.2->super-gradients)\n",
      "  Using cached arabic_reshaper-3.0.0-py3-none-any.whl (20 kB)\n",
      "Requirement already satisfied: html5lib>=1.0.1 in c:\\users\\talmeidar\\anaconda3\\lib\\site-packages (from xhtml2pdf->data-gradients>=0.2.2->super-gradients) (1.1)\n",
      "Collecting pyHanko>=0.12.1 (from xhtml2pdf->data-gradients>=0.2.2->super-gradients)\n",
      "  Using cached pyHanko-0.20.1-py3-none-any.whl.metadata (9.2 kB)\n",
      "Collecting pyhanko-certvalidator>=0.19.5 (from xhtml2pdf->data-gradients>=0.2.2->super-gradients)\n",
      "  Using cached pyhanko_certvalidator-0.25.0-py3-none-any.whl.metadata (5.3 kB)\n",
      "Collecting pypdf>=3.1.0 (from xhtml2pdf->data-gradients>=0.2.2->super-gradients)\n",
      "  Using cached pypdf-3.17.0-py3-none-any.whl.metadata (7.5 kB)\n",
      "Collecting python-bidi>=0.4.2 (from xhtml2pdf->data-gradients>=0.2.2->super-gradients)\n",
      "  Using cached python_bidi-0.4.2-py2.py3-none-any.whl (30 kB)\n",
      "Collecting reportlab<4,>=3.5.53 (from xhtml2pdf->data-gradients>=0.2.2->super-gradients)\n",
      "  Using cached reportlab-3.6.13-cp39-cp39-win_amd64.whl (2.3 MB)\n",
      "Collecting svglib>=1.2.1 (from xhtml2pdf->data-gradients>=0.2.2->super-gradients)\n",
      "  Using cached svglib-1.5.1-py3-none-any.whl\n",
      "Requirement already satisfied: webencodings in c:\\users\\talmeidar\\anaconda3\\lib\\site-packages (from html5lib>=1.0.1->xhtml2pdf->data-gradients>=0.2.2->super-gradients) (0.5.1)\n",
      "Collecting pyreadline3 (from humanfriendly>=9.1->coloredlogs->onnxruntime==1.13.1->super-gradients)\n",
      "  Using cached pyreadline3-3.4.1-py3-none-any.whl (95 kB)\n",
      "Requirement already satisfied: zipp>=0.5 in c:\\users\\talmeidar\\anaconda3\\lib\\site-packages (from importlib-metadata>=4.4->markdown>=2.6.8->tensorboard>=2.4.1->super-gradients) (3.6.0)\n",
      "Collecting mdurl~=0.1 (from markdown-it-py>=2.2.0->rich->onnx-simplifier<1.0,>=0.3.6->super-gradients)\n",
      "  Using cached mdurl-0.1.2-py3-none-any.whl (10.0 kB)\n",
      "Requirement already satisfied: pyasn1<0.5.0,>=0.4.6 in c:\\users\\talmeidar\\anaconda3\\lib\\site-packages (from pyasn1-modules>=0.2.1->google-auth<3,>=1.6.3->tensorboard>=2.4.1->super-gradients) (0.4.8)\n",
      "Collecting asn1crypto>=1.5.1 (from pyHanko>=0.12.1->xhtml2pdf->data-gradients>=0.2.2->super-gradients)\n",
      "  Using cached asn1crypto-1.5.1-py2.py3-none-any.whl (105 kB)\n",
      "Collecting qrcode>=6.1 (from pyHanko>=0.12.1->xhtml2pdf->data-gradients>=0.2.2->super-gradients)\n",
      "  Using cached qrcode-7.4.2-py3-none-any.whl (46 kB)\n",
      "Collecting tzlocal>=4.3 (from pyHanko>=0.12.1->xhtml2pdf->data-gradients>=0.2.2->super-gradients)\n",
      "  Using cached tzlocal-5.2-py3-none-any.whl.metadata (7.8 kB)\n",
      "Collecting pyhanko-certvalidator>=0.19.5 (from xhtml2pdf->data-gradients>=0.2.2->super-gradients)\n",
      "  Using cached pyhanko_certvalidator-0.24.1-py3-none-any.whl.metadata (5.3 kB)\n",
      "Requirement already satisfied: cryptography>=3.3.1 in c:\\users\\talmeidar\\anaconda3\\lib\\site-packages (from pyHanko>=0.12.1->xhtml2pdf->data-gradients>=0.2.2->super-gradients) (3.4.8)\n",
      "Collecting oscrypto>=1.1.0 (from pyhanko-certvalidator>=0.19.5->xhtml2pdf->data-gradients>=0.2.2->super-gradients)\n",
      "  Using cached oscrypto-1.3.0-py2.py3-none-any.whl (194 kB)\n",
      "Collecting uritools>=3.0.1 (from pyhanko-certvalidator>=0.19.5->xhtml2pdf->data-gradients>=0.2.2->super-gradients)\n",
      "  Using cached uritools-4.0.2-py3-none-any.whl.metadata (4.7 kB)\n",
      "Requirement already satisfied: oauthlib>=3.0.0 in c:\\users\\talmeidar\\anaconda3\\lib\\site-packages (from requests-oauthlib>=0.7.0->google-auth-oauthlib<2,>=0.5->tensorboard>=2.4.1->super-gradients) (3.2.0)\n",
      "Requirement already satisfied: lxml in c:\\users\\talmeidar\\anaconda3\\lib\\site-packages (from svglib>=1.2.1->xhtml2pdf->data-gradients>=0.2.2->super-gradients) (4.9.2)\n",
      "Collecting tinycss2>=0.6.0 (from svglib>=1.2.1->xhtml2pdf->data-gradients>=0.2.2->super-gradients)\n",
      "  Using cached tinycss2-1.2.1-py3-none-any.whl (21 kB)\n",
      "Collecting cssselect2>=0.2.0 (from svglib>=1.2.1->xhtml2pdf->data-gradients>=0.2.2->super-gradients)\n",
      "  Using cached cssselect2-0.7.0-py3-none-any.whl (15 kB)\n",
      "Requirement already satisfied: joblib>=1.1.1 in c:\\users\\talmeidar\\anaconda3\\lib\\site-packages (from scikit-learn->imagededup->data-gradients>=0.2.2->super-gradients) (1.2.0)\n",
      "Requirement already satisfied: threadpoolctl>=2.0.0 in c:\\users\\talmeidar\\anaconda3\\lib\\site-packages (from scikit-learn->imagededup->data-gradients>=0.2.2->super-gradients) (2.2.0)\n",
      "Requirement already satisfied: cffi>=1.12 in c:\\users\\talmeidar\\anaconda3\\lib\\site-packages (from cryptography>=3.3.1->pyHanko>=0.12.1->xhtml2pdf->data-gradients>=0.2.2->super-gradients) (1.14.6)\n",
      "Collecting pypng (from qrcode>=6.1->pyHanko>=0.12.1->xhtml2pdf->data-gradients>=0.2.2->super-gradients)\n",
      "  Using cached pypng-0.20220715.0-py3-none-any.whl (58 kB)\n",
      "Collecting tzdata (from tzlocal>=4.3->pyHanko>=0.12.1->xhtml2pdf->data-gradients>=0.2.2->super-gradients)\n",
      "  Using cached tzdata-2023.3-py2.py3-none-any.whl (341 kB)\n",
      "Requirement already satisfied: pycparser in c:\\users\\talmeidar\\anaconda3\\lib\\site-packages (from cffi>=1.12->cryptography>=3.3.1->pyHanko>=0.12.1->xhtml2pdf->data-gradients>=0.2.2->super-gradients) (2.20)\n",
      "Using cached super_gradients-3.3.1-py3-none-any.whl (6.5 MB)\n",
      "Using cached boto3-1.28.75-py3-none-any.whl (135 kB)\n",
      "Using cached data_gradients-0.2.2-py3-none-any.whl (454 kB)\n",
      "Using cached Deprecated-1.2.14-py2.py3-none-any.whl (9.6 kB)\n",
      "Using cached onnx_simplifier-0.4.35-cp39-cp39-win_amd64.whl (1.2 MB)\n",
      "Using cached pip_tools-7.3.0-py3-none-any.whl (57 kB)\n",
      "Using cached Pygments-2.16.1-py3-none-any.whl (1.2 MB)\n",
      "Using cached tensorboard-2.15.0-py3-none-any.whl (5.6 MB)\n",
      "Using cached torch-2.1.0-cp39-cp39-win_amd64.whl (192.2 MB)\n",
      "Using cached torchvision-0.16.0-cp39-cp39-win_amd64.whl (1.3 MB)\n",
      "Using cached tqdm-4.66.1-py3-none-any.whl (78 kB)\n",
      "Using cached wheel-0.41.3-py3-none-any.whl (65 kB)\n",
      "Using cached rapidfuzz-3.5.1-cp39-cp39-win_amd64.whl (1.7 MB)\n",
      "Using cached sphinx_rtd_theme-1.3.0-py2.py3-none-any.whl (2.8 MB)\n",
      "Using cached botocore-1.31.75-py3-none-any.whl (11.3 MB)\n",
      "Using cached google_auth_oauthlib-1.1.0-py2.py3-none-any.whl (19 kB)\n",
      "Using cached google_auth-2.23.4-py2.py3-none-any.whl (183 kB)\n",
      "Using cached grpcio-1.59.2-cp39-cp39-win_amd64.whl (3.7 MB)\n",
      "Using cached platformdirs-3.11.0-py3-none-any.whl (17 kB)\n",
      "Using cached s3transfer-0.7.0-py3-none-any.whl (79 kB)\n",
      "Using cached tensorboard_data_server-0.7.2-py3-none-any.whl (2.4 kB)\n",
      "Using cached build-1.0.3-py3-none-any.whl (18 kB)\n",
      "Using cached Pillow-10.1.0-cp39-cp39-win_amd64.whl (2.6 MB)\n",
      "Using cached rich-13.6.0-py3-none-any.whl (239 kB)\n",
      "Using cached markdown_it_py-3.0.0-py3-none-any.whl (87 kB)\n",
      "Using cached pyHanko-0.20.1-py3-none-any.whl (407 kB)\n",
      "Using cached pyhanko_certvalidator-0.24.1-py3-none-any.whl (106 kB)\n",
      "Using cached pypdf-3.17.0-py3-none-any.whl (277 kB)\n",
      "Using cached tzlocal-5.2-py3-none-any.whl (17 kB)\n",
      "Using cached uritools-4.0.2-py3-none-any.whl (10 kB)\n",
      "Building wheels for collected packages: pycocotools\n",
      "  Building wheel for pycocotools (pyproject.toml): started\n",
      "  Building wheel for pycocotools (pyproject.toml): finished with status 'error'\n",
      "Failed to build pycocotools\n"
     ]
    }
   ],
   "source": [
    "!pip install super-gradients"
   ]
  },
  {
   "cell_type": "code",
   "execution_count": 2,
   "metadata": {},
   "outputs": [],
   "source": [
    "from super_gradients.training import models\n",
    "from super_gradients.common.object_names import Models"
   ]
  },
  {
   "cell_type": "code",
   "execution_count": 3,
   "metadata": {},
   "outputs": [],
   "source": [
    "model = models.get(Models.YOLO_NAS_S, num_classes=3)"
   ]
  },
  {
   "cell_type": "code",
   "execution_count": 4,
   "metadata": {
    "notebookRunGroups": {
     "groupValue": "1"
    }
   },
   "outputs": [],
   "source": [
    "import torch\n",
    "from torch.utils.data import Dataset\n",
    "import json\n",
    "import os\n",
    "from PIL import Image\n",
    "from torchvision import transforms, utils\n",
    "import numpy as np\n",
    "import glob\n",
    "import random\n",
    "\n",
    "\n",
    "class CustomDataset(Dataset):\n",
    "    \"\"\"\n",
    "    A PyTorch Dataset class to be used in a PyTorch DataLoader to create batches.\n",
    "    \"\"\"\n",
    "\n",
    "    def __init__(self, data_folder, split, keep_difficult=False):\n",
    "        \"\"\"\n",
    "        :param data_folder: folder where data files are stored\n",
    "        :param split: split, one of 'TRAIN' or 'TEST'\n",
    "        :param keep_difficult: keep or discard objects that are considered difficult to detect?\n",
    "        \"\"\"\n",
    "        self.split = split.lower()\n",
    "\n",
    "        assert self.split in {'train', 'test'}\n",
    "\n",
    "        self.data_folder = data_folder\n",
    "        self.keep_difficult = keep_difficult\n",
    "\n",
    "        # Read data files\n",
    "        # with open(os.path.join(data_folder, self.split + '.txt'), 'r') as j:\n",
    "        #     self.images = j.readlines()\n",
    "        self.images = glob.glob(data_folder+\"images/\"+self.split+\"/\"+\"*.jpg\")\n",
    "        self.images = [i.replace(\"\\\\\",\"/\") for i in self.images]\n",
    "        self.images = random.sample(self.images,20)\n",
    "\n",
    "    def __getitem__(self, i):\n",
    "        # Read image and label\n",
    "        image = Image.open(self.images[i].replace(\"\\n\",\"\").replace(\"\\\\\",\"/\"), mode='r').resize((320, 320))\n",
    "        image = image.convert(\"RGB\")\n",
    "        # image_tensor = torch.tensor(np.expand_dims(image,axis=-1)).permute(2, 0, 1).float()\n",
    "        image_tensor = torch.tensor(np.array(image)).permute(2, 0, 1).float()\n",
    "        labels = np.loadtxt(self.images[i].replace(\"jpg\",\"txt\").replace(\"images\", \"labels\"))\n",
    "        if len(labels.shape) == 1:\n",
    "            labels = np.transpose(np.expand_dims(labels,axis=-1))\n",
    "        return image_tensor, torch.tensor(labels,dtype=torch.float)\n",
    "        \n",
    "\n",
    "    def __len__(self):\n",
    "        return len(self.images)"
   ]
  },
  {
   "cell_type": "code",
   "execution_count": 6,
   "metadata": {
    "notebookRunGroups": {
     "groupValue": "1"
    }
   },
   "outputs": [],
   "source": [
    "train_dataset = CustomDataset(\"dataset_deteccao/axial_t1wce_2_class_corrigida/\",split=\"train\")\n",
    "val_dataset = CustomDataset(\"dataset_deteccao/axial_t1wce_2_class_corrigida/\",split=\"test\")"
   ]
  },
  {
   "cell_type": "code",
   "execution_count": 7,
   "metadata": {
    "notebookRunGroups": {
     "groupValue": "1"
    }
   },
   "outputs": [],
   "source": [
    "from torch.utils.data import Dataset, DataLoader\n",
    "from super_gradients.training.utils.collate_fn.detection_collate_fn import DetectionCollateFN\n",
    "\n",
    "train_dataloader = DataLoader(train_dataset, batch_size=4, shuffle=True, num_workers=0, collate_fn=DetectionCollateFN())\n",
    "val_dataloader = DataLoader(val_dataset, batch_size=4, shuffle=False, num_workers=0, collate_fn=DetectionCollateFN())"
   ]
  },
  {
   "cell_type": "code",
   "execution_count": 8,
   "metadata": {},
   "outputs": [],
   "source": [
    "from super_gradients.training import training_hyperparams\n",
    "\n",
    "from prettyformatter import pprint\n",
    "\n",
    "train_params = training_hyperparams.get('coco2017_yolo_nas_s')\n",
    "print('Training parameters:')\n",
    "pprint(train_params, json=True)"
   ]
  },
  {
   "cell_type": "code",
   "execution_count": 9,
   "metadata": {},
   "outputs": [],
   "source": [
    "train_params['max_epochs'] = 1\n",
    "# train_params['lr_warmup_epochs'] = 0\n",
    "# train_params['lr_cooldown_epochs'] = 0\n",
    "train_params['criterion_params']['num_classes'] = 3\n",
    "# train_params['average_best_models'] = False\n",
    "# train_params['initial_lr'] = 0.01\n",
    "# train_params['cosine_final_lr_ratio'] = 0.9\n",
    "# train_params['mixed_precision'] = False\n",
    "# train_params['phase_callbacks'] = []\n",
    "# train_params['lr_warmup_steps'] = 10\n",
    "# train_params['valid_metrics_list'] = [{\"DetectionMetrics\": {\"post_prediction_callback\": super_gradients.training.utils.ssd_utils.SSDPostPredictCallback(), \"num_cls\": 3}}]"
   ]
  },
  {
   "cell_type": "code",
   "execution_count": 36,
   "metadata": {},
   "outputs": [
    {
     "name": "stdout",
     "output_type": "stream",
     "text": [
      "{\n",
      "    \"resume\"    : null,\n",
      "    \"run_id\"    : null,\n",
      "    \"resume_path\"       : null,\n",
      "    \"resume_from_remote_sg_logger\"      : false,\n",
      "    \"ckpt_name\" : \"ckpt_latest.pth\",\n",
      "    \"lr_mode\"   : \"CosineLRScheduler\",\n",
      "    \"lr_schedule_function\"  : null,\n",
      "    \"lr_warmup_epochs\"  : 0,\n",
      "    \"lr_warmup_steps\"   : 1000,\n",
      "    \"lr_cooldown_epochs\": 0,\n",
      "    \"warmup_initial_lr\" : 1e-06,\n",
      "    \"step_lr_update_freq\"   : null,\n",
      "    \"cosine_final_lr_ratio\" : 0.1,\n",
      "    \"warmup_mode\"       : \"LinearBatchLRWarmup\",\n",
      "    \"lr_updates\": [],\n",
      "    \"pre_prediction_callback\"   : null,\n",
      "    \"optimizer\" : \"AdamW\",\n",
      "    \"optimizer_params\"  : {\"weight_decay\": 1e-05},\n",
      "    \"load_opt_params\"   : true,\n",
      "    \"zero_weight_decay_on_bias_and_bn\"  : true,\n",
      "    \"loss\"      : \"PPYoloELoss\",\n",
      "    \"criterion_params\"  : {\"use_static_assigner\": false, \"num_classes\": 3, \"reg_max\": 16},\n",
      "    \"ema\"       : true,\n",
      "    \"ema_params\": {\"decay\": 0.9997, \"decay_type\": \"threshold\", \"beta\": 15},\n",
      "    \"train_metrics_list\": [],\n",
      "    \"valid_metrics_list\":\n",
      "        [\n",
      "            {\n",
      "                \"DetectionMetrics\":\n",
      "                    {\n",
      "                        \"score_thres\"       : 0.1,\n",
      "                        \"top_k_predictions\" : 300,\n",
      "                        \"num_cls\"   : 80,\n",
      "                        \"normalize_targets\" : true,\n",
      "                        \"post_prediction_callback\"  : PPYoloEPostPredictionCallback()\n",
      "                    }\n",
      "            }\n",
      "        ],\n",
      "    \"metric_to_watch\"   : \"mAP@0.50:0.95\",\n",
      "    \"greater_metric_to_watch_is_better\" : true,\n",
      "    \"launch_tensorboard\": false,\n",
      "    \"tensorboard_port\"  : null,\n",
      "    \"tb_files_user_prompt\"  : false,\n",
      "    \"save_tensorboard_to_s3\": false,\n",
      "    \"precise_bn\": false,\n",
      "    \"precise_bn_batch_size\" : null,\n",
      "    \"sync_bn\"   : true,\n",
      "    \"silent_mode\"       : false,\n",
      "    \"mixed_precision\"   : true,\n",
      "    \"save_ckpt_epoch_list\"  : [100, 200, 250],\n",
      "    \"average_best_models\"   : true,\n",
      "    \"dataset_statistics\": false,\n",
      "    \"batch_accumulate\"  : 1,\n",
      "    \"run_validation_freq\"   : 1,\n",
      "    \"run_test_freq\"     : 1,\n",
      "    \"save_model\": true,\n",
      "    \"seed\"      : 42,\n",
      "    \"phase_callbacks\"   : [],\n",
      "    \"log_installed_packages\": true,\n",
      "    \"clip_grad_norm\"    : null,\n",
      "    \"ckpt_best_name\"    : \"ckpt_best.pth\",\n",
      "    \"max_train_batches\" : null,\n",
      "    \"max_valid_batches\" : null,\n",
      "    \"sg_logger\" : \"base_sg_logger\",\n",
      "    \"sg_logger_params\":\n",
      "        {\n",
      "            \"tb_files_user_prompt\"      : false,\n",
      "            \"launch_tensorboard\": false,\n",
      "            \"tensorboard_port\"  : null,\n",
      "            \"save_checkpoints_remote\"   : false,\n",
      "            \"save_tensorboard_remote\"   : false,\n",
      "            \"save_logs_remote\"  : false,\n",
      "            \"monitor_system\"    : true\n",
      "        },\n",
      "    \"torch_compile\"     : false,\n",
      "    \"torch_compile_loss\": false,\n",
      "    \"torch_compile_options\":\n",
      "        {\n",
      "            \"mode\"      : \"reduce-overhead\",\n",
      "            \"fullgraph\" : false,\n",
      "            \"dynamic\"   : false,\n",
      "            \"backend\"   : \"inductor\",\n",
      "            \"options\"   : null,\n",
      "            \"disable\"   : false\n",
      "        },\n",
      "    \"_convert_\" : \"all\",\n",
      "    \"max_epochs\": 1,\n",
      "    \"initial_lr\": 0.0002\n",
      "}\n"
     ]
    }
   ],
   "source": [
    "pprint(train_params, json=True)"
   ]
  },
  {
   "cell_type": "code",
   "execution_count": 11,
   "metadata": {},
   "outputs": [],
   "source": [
    "from super_gradients.training import Trainer, MultiGPUMode"
   ]
  },
  {
   "cell_type": "code",
   "execution_count": 12,
   "metadata": {},
   "outputs": [],
   "source": [
    "CHECKPOINT_DIR = '.'"
   ]
  },
  {
   "cell_type": "code",
   "execution_count": 13,
   "metadata": {},
   "outputs": [
    {
     "name": "stdout",
     "output_type": "stream",
     "text": [
      "Training parameters:\n",
      "{\n",
      "    \"resume\"    : null,\n",
      "    \"run_id\"    : null,\n",
      "    \"resume_path\"       : null,\n",
      "    \"resume_from_remote_sg_logger\"      : false,\n",
      "    \"ckpt_name\" : \"ckpt_latest.pth\",\n",
      "    \"lr_mode\"   : \"CosineLRScheduler\",\n",
      "    \"lr_schedule_function\"  : null,\n",
      "    \"lr_warmup_epochs\"  : 0,\n",
      "    \"lr_warmup_steps\"   : 1000,\n",
      "    \"lr_cooldown_epochs\": 0,\n",
      "    \"warmup_initial_lr\" : 1e-06,\n",
      "    \"step_lr_update_freq\"   : null,\n",
      "    \"cosine_final_lr_ratio\" : 0.1,\n",
      "    \"warmup_mode\"       : \"LinearBatchLRWarmup\",\n",
      "    \"lr_updates\": [],\n",
      "    \"pre_prediction_callback\"   : null,\n",
      "    \"optimizer\" : \"AdamW\",\n",
      "    \"optimizer_params\"  : {\"weight_decay\": 1e-05},\n",
      "    \"load_opt_params\"   : true,\n",
      "    \"zero_weight_decay_on_bias_and_bn\"  : true,\n",
      "    \"loss\"      : \"PPYoloELoss\",\n",
      "    \"criterion_params\"  : {\"use_static_assigner\": false, \"num_classes\": 80, \"reg_max\": 16},\n",
      "    \"ema\"       : true,\n",
      "    \"ema_params\": {\"decay\": 0.9997, \"decay_type\": \"threshold\", \"beta\": 15},\n",
      "    \"train_metrics_list\": [],\n",
      "    \"valid_metrics_list\":\n",
      "        [\n",
      "            {\n",
      "                \"DetectionMetrics\":\n",
      "                    {\n",
      "                        \"score_thres\"       : 0.1,\n",
      "                        \"top_k_predictions\" : 300,\n",
      "                        \"num_cls\"   : 80,\n",
      "                        \"normalize_targets\" : true,\n",
      "                        \"post_prediction_callback\"  : PPYoloEPostPredictionCallback()\n",
      "                    }\n",
      "            }\n",
      "        ],\n",
      "    \"metric_to_watch\"   : \"mAP@0.50:0.95\",\n",
      "    \"greater_metric_to_watch_is_better\" : true,\n",
      "    \"launch_tensorboard\": false,\n",
      "    \"tensorboard_port\"  : null,\n",
      "    \"tb_files_user_prompt\"  : false,\n",
      "    \"save_tensorboard_to_s3\": false,\n",
      "    \"precise_bn\": false,\n",
      "    \"precise_bn_batch_size\" : null,\n",
      "    \"sync_bn\"   : true,\n",
      "    \"silent_mode\"       : false,\n",
      "    \"mixed_precision\"   : true,\n",
      "    \"save_ckpt_epoch_list\"  : [100, 200, 250],\n",
      "    \"average_best_models\"   : true,\n",
      "    \"dataset_statistics\": false,\n",
      "    \"batch_accumulate\"  : 1,\n",
      "    \"run_validation_freq\"   : 1,\n",
      "    \"run_test_freq\"     : 1,\n",
      "    \"save_model\": true,\n",
      "    \"seed\"      : 42,\n",
      "    \"phase_callbacks\"   : [],\n",
      "    \"log_installed_packages\": true,\n",
      "    \"clip_grad_norm\"    : null,\n",
      "    \"ckpt_best_name\"    : \"ckpt_best.pth\",\n",
      "    \"max_train_batches\" : null,\n",
      "    \"max_valid_batches\" : null,\n",
      "    \"sg_logger\" : \"base_sg_logger\",\n",
      "    \"sg_logger_params\":\n",
      "        {\n",
      "            \"tb_files_user_prompt\"      : false,\n",
      "            \"launch_tensorboard\": false,\n",
      "            \"tensorboard_port\"  : null,\n",
      "            \"save_checkpoints_remote\"   : false,\n",
      "            \"save_tensorboard_remote\"   : false,\n",
      "            \"save_logs_remote\"  : false,\n",
      "            \"monitor_system\"    : true\n",
      "        },\n",
      "    \"torch_compile\"     : false,\n",
      "    \"torch_compile_loss\": false,\n",
      "    \"torch_compile_options\":\n",
      "        {\n",
      "            \"mode\"      : \"reduce-overhead\",\n",
      "            \"fullgraph\" : false,\n",
      "            \"dynamic\"   : false,\n",
      "            \"backend\"   : \"inductor\",\n",
      "            \"options\"   : null,\n",
      "            \"disable\"   : false\n",
      "        },\n",
      "    \"_convert_\" : \"all\",\n",
      "    \"max_epochs\": 300,\n",
      "    \"initial_lr\": 0.0002\n",
      "}\n",
      "{\n",
      "    \"resume\"    : null,\n",
      "    \"run_id\"    : null,\n",
      "    \"resume_path\"       : null,\n",
      "    \"resume_from_remote_sg_logger\"      : false,\n",
      "    \"ckpt_name\" : \"ckpt_latest.pth\",\n",
      "    \"lr_mode\"   : \"CosineLRScheduler\",\n",
      "    \"lr_schedule_function\"  : null,\n",
      "    \"lr_warmup_epochs\"  : 0,\n",
      "    \"lr_warmup_steps\"   : 1000,\n",
      "    \"lr_cooldown_epochs\": 0,\n",
      "    \"warmup_initial_lr\" : 1e-06,\n",
      "    \"step_lr_update_freq\"   : null,\n",
      "    \"cosine_final_lr_ratio\" : 0.1,\n",
      "    \"warmup_mode\"       : \"LinearBatchLRWarmup\",\n",
      "    \"lr_updates\": [],\n",
      "    \"pre_prediction_callback\"   : null,\n",
      "    \"optimizer\" : \"AdamW\",\n",
      "    \"optimizer_params\"  : {\"weight_decay\": 1e-05},\n",
      "    \"load_opt_params\"   : true,\n",
      "    \"zero_weight_decay_on_bias_and_bn\"  : true,\n",
      "    \"loss\"      : \"PPYoloELoss\",\n",
      "    \"criterion_params\"  : {\"use_static_assigner\": false, \"num_classes\": 3, \"reg_max\": 16},\n",
      "    \"ema\"       : true,\n",
      "    \"ema_params\": {\"decay\": 0.9997, \"decay_type\": \"threshold\", \"beta\": 15},\n",
      "    \"train_metrics_list\": [],\n",
      "    \"valid_metrics_list\":\n",
      "        [\n",
      "            {\n",
      "                \"DetectionMetrics\":\n",
      "                    {\n",
      "                        \"score_thres\"       : 0.1,\n",
      "                        \"top_k_predictions\" : 300,\n",
      "                        \"num_cls\"   : 80,\n",
      "                        \"normalize_targets\" : true,\n",
      "                        \"post_prediction_callback\"  : PPYoloEPostPredictionCallback()\n",
      "                    }\n",
      "            }\n",
      "        ],\n",
      "    \"metric_to_watch\"   : \"mAP@0.50:0.95\",\n",
      "    \"greater_metric_to_watch_is_better\" : true,\n",
      "    \"launch_tensorboard\": false,\n",
      "    \"tensorboard_port\"  : null,\n",
      "    \"tb_files_user_prompt\"  : false,\n",
      "    \"save_tensorboard_to_s3\": false,\n",
      "    \"precise_bn\": false,\n",
      "    \"precise_bn_batch_size\" : null,\n",
      "    \"sync_bn\"   : true,\n",
      "    \"silent_mode\"       : false,\n",
      "    \"mixed_precision\"   : true,\n",
      "    \"save_ckpt_epoch_list\"  : [100, 200, 250],\n",
      "    \"average_best_models\"   : true,\n",
      "    \"dataset_statistics\": false,\n",
      "    \"batch_accumulate\"  : 1,\n",
      "    \"run_validation_freq\"   : 1,\n",
      "    \"run_test_freq\"     : 1,\n",
      "    \"save_model\": true,\n",
      "    \"seed\"      : 42,\n",
      "    \"phase_callbacks\"   : [],\n",
      "    \"log_installed_packages\": true,\n",
      "    \"clip_grad_norm\"    : null,\n",
      "    \"ckpt_best_name\"    : \"ckpt_best.pth\",\n",
      "    \"max_train_batches\" : null,\n",
      "    \"max_valid_batches\" : null,\n",
      "    \"sg_logger\" : \"base_sg_logger\",\n",
      "    \"sg_logger_params\":\n",
      "        {\n",
      "            \"tb_files_user_prompt\"      : false,\n",
      "            \"launch_tensorboard\": false,\n",
      "            \"tensorboard_port\"  : null,\n",
      "            \"save_checkpoints_remote\"   : false,\n",
      "            \"save_tensorboard_remote\"   : false,\n",
      "            \"save_logs_remote\"  : false,\n",
      "            \"monitor_system\"    : true\n",
      "        },\n",
      "    \"torch_compile\"     : false,\n",
      "    \"torch_compile_loss\": false,\n",
      "    \"torch_compile_options\":\n",
      "        {\n",
      "            \"mode\"      : \"reduce-overhead\",\n",
      "            \"fullgraph\" : false,\n",
      "            \"dynamic\"   : false,\n",
      "            \"backend\"   : \"inductor\",\n",
      "            \"options\"   : null,\n",
      "            \"disable\"   : false\n",
      "        },\n",
      "    \"_convert_\" : \"all\",\n",
      "    \"max_epochs\": 1,\n",
      "    \"initial_lr\": 0.0002\n",
      "}\n"
     ]
    },
    {
     "name": "stderr",
     "output_type": "stream",
     "text": [
      "[2023-10-31 17:50:17] WARNING - distributed_training_utils.py - CUDA device is not available on your device... Moving to CPU.\n"
     ]
    }
   ],
   "source": [
    "super_gradients.setup_device(num_gpus=0)"
   ]
  },
  {
   "cell_type": "code",
   "execution_count": 31,
   "metadata": {},
   "outputs": [],
   "source": [
    "from super_gradients.training.processing import ImagePermute, ComposeProcessing\n",
    "\n",
    "image_processor = ComposeProcessing(\n",
    "    [\n",
    "        # Resize(320),\n",
    "        ImagePermute(permutation=(2, 0, 1)),\n",
    "    ]\n",
    ")\n"
   ]
  },
  {
   "cell_type": "code",
   "execution_count": 32,
   "metadata": {},
   "outputs": [],
   "source": [
    "model.set_dataset_processing_params(iou=0.5,class_names=['negative','positive'],conf=0.5,image_processor=image_processor)"
   ]
  },
  {
   "cell_type": "code",
   "execution_count": 16,
   "metadata": {},
   "outputs": [],
   "source": [
    "trainer = Trainer(experiment_name='transfer_learning_object_detection_yolo_nas_s', ckpt_root_dir=CHECKPOINT_DIR)"
   ]
  },
  {
   "cell_type": "code",
   "execution_count": 33,
   "metadata": {
    "notebookRunGroups": {
     "groupValue": "1"
    }
   },
   "outputs": [
    {
     "name": "stderr",
     "output_type": "stream",
     "text": [
      "[2023-10-31 18:06:12] INFO - sg_trainer.py - Starting a new run with `run_id=RUN_20231031_180612_193611`\n",
      "[2023-10-31 18:06:12] INFO - sg_trainer.py - Checkpoints directory: .\\transfer_learning_object_detection_yolo_nas_s\\RUN_20231031_180612_193611\n"
     ]
    },
    {
     "name": "stdout",
     "output_type": "stream",
     "text": [
      "The console stream is now moved to .\\transfer_learning_object_detection_yolo_nas_s\\RUN_20231031_180612_193611/console_Oct31_18_06_12.txt\n"
     ]
    },
    {
     "name": "stderr",
     "output_type": "stream",
     "text": [
      "[2023-10-31 18:06:12] INFO - sg_trainer.py - Using EMA with params {'decay': 0.9997, 'decay_type': 'threshold', 'beta': 15}\n",
      "[2023-10-31 18:06:12] WARNING - callbacks.py - Number of warmup steps (1000) is greater than number of steps in epoch (5). Warmup steps will be capped to number of steps in epoch to avoid interfering with any pre-epoch LR schedulers.\n",
      "[2023-10-31 18:06:12] INFO - sg_trainer_utils.py - TRAINING PARAMETERS:\n",
      "    - Mode:                         OFF\n",
      "    - Number of GPUs:               0          (0 available on the machine)\n",
      "    - Full dataset size:            20         (len(train_set))\n",
      "    - Batch size per GPU:           4          (batch_size)\n",
      "    - Batch Accumulate:             1          (batch_accumulate)\n",
      "    - Total batch size:             4          (num_gpus * batch_size)\n",
      "    - Effective Batch size:         4          (num_gpus * batch_size * batch_accumulate)\n",
      "    - Iterations per epoch:         5          (len(train_loader))\n",
      "    - Gradient updates per epoch:   5          (len(train_loader) / batch_accumulate)\n",
      "\n",
      "[2023-10-31 18:06:12] INFO - sg_trainer.py - Started training for 1 epochs (0/0)\n",
      "\n",
      "Train epoch 0: 100%|██████████| 5/5 [00:20<00:00,  4.12s/it, PPYoloELoss/loss=0.0222, PPYoloELoss/loss_cls=0.0222, PPYoloELoss/loss_dfl=-, PPYoloELoss/loss_iou=0, gpu_mem=0]\n",
      "Validating: 100%|██████████| 5/5 [00:06<00:00,  1.23s/it]\n",
      "[2023-10-31 18:06:41] INFO - base_sg_logger.py - Checkpoint saved in .\\transfer_learning_object_detection_yolo_nas_s\\RUN_20231031_180612_193611\\ckpt_best.pth\n",
      "[2023-10-31 18:06:41] INFO - sg_trainer.py - Best checkpoint overriden: validation mAP@0.50:0.95: 0.0\n"
     ]
    },
    {
     "name": "stdout",
     "output_type": "stream",
     "text": [
      "===========================================================\n",
      "SUMMARY OF EPOCH 0\n",
      "├── Train\n",
      "│   ├── Ppyoloeloss/loss_cls = 0.0222\n",
      "│   ├── Ppyoloeloss/loss_iou = 0.0\n",
      "│   ├── Ppyoloeloss/loss_dfl = -0.0\n",
      "│   └── Ppyoloeloss/loss = 0.0222\n",
      "└── Validation\n",
      "    ├── Ppyoloeloss/loss_cls = 0.0189\n",
      "    ├── Ppyoloeloss/loss_iou = 0.0\n",
      "    ├── Ppyoloeloss/loss_dfl = -0.0\n",
      "    ├── Ppyoloeloss/loss = 0.0189\n",
      "    ├── Precision@0.50:0.95 = 0.0\n",
      "    ├── Recall@0.50:0.95 = 0.0\n",
      "    ├── Map@0.50:0.95 = 0.0\n",
      "    └── F1@0.50:0.95 = 0.0\n",
      "\n",
      "===========================================================\n"
     ]
    },
    {
     "name": "stderr",
     "output_type": "stream",
     "text": [
      "[2023-10-31 18:06:55] INFO - sg_trainer.py - RUNNING ADDITIONAL TEST ON THE AVERAGED MODEL...\n",
      "Validating epoch 1: 100%|██████████| 5/5 [00:14<00:00,  2.92s/it]\n"
     ]
    },
    {
     "name": "stderr",
     "output_type": "stream",
     "text": [
      "[2023-10-31 18:07:14] INFO - base_sg_logger.py - [CLEANUP] - Successfully stopped system monitoring process\n"
     ]
    }
   ],
   "source": [
    "trainer.train(model=model, training_params=train_params, train_loader=train_dataloader, valid_loader=val_dataloader)"
   ]
  },
  {
   "cell_type": "code",
   "execution_count": 18,
   "metadata": {},
   "outputs": [
    {
     "data": {
      "text/plain": [
       "tensor([[[0., 0., 0.,  ..., 0., 0., 0.],\n",
       "         [0., 0., 0.,  ..., 0., 0., 0.],\n",
       "         [0., 0., 0.,  ..., 0., 0., 0.],\n",
       "         ...,\n",
       "         [0., 0., 0.,  ..., 0., 0., 0.],\n",
       "         [0., 0., 0.,  ..., 0., 0., 0.],\n",
       "         [0., 0., 0.,  ..., 0., 0., 0.]],\n",
       "\n",
       "        [[0., 0., 0.,  ..., 0., 0., 0.],\n",
       "         [0., 0., 0.,  ..., 0., 0., 0.],\n",
       "         [0., 0., 0.,  ..., 0., 0., 0.],\n",
       "         ...,\n",
       "         [0., 0., 0.,  ..., 0., 0., 0.],\n",
       "         [0., 0., 0.,  ..., 0., 0., 0.],\n",
       "         [0., 0., 0.,  ..., 0., 0., 0.]],\n",
       "\n",
       "        [[0., 0., 0.,  ..., 0., 0., 0.],\n",
       "         [0., 0., 0.,  ..., 0., 0., 0.],\n",
       "         [0., 0., 0.,  ..., 0., 0., 0.],\n",
       "         ...,\n",
       "         [0., 0., 0.,  ..., 0., 0., 0.],\n",
       "         [0., 0., 0.,  ..., 0., 0., 0.],\n",
       "         [0., 0., 0.,  ..., 0., 0., 0.]]])"
      ]
     },
     "execution_count": 18,
     "metadata": {},
     "output_type": "execute_result"
    }
   ],
   "source": [
    "val_dataset.__getitem__(0)[0]"
   ]
  },
  {
   "cell_type": "code",
   "execution_count": 34,
   "metadata": {},
   "outputs": [
    {
     "name": "stderr",
     "output_type": "stream",
     "text": [
      "[2023-10-31 18:07:56] INFO - pipelines.py - Fusing some of the model's layers. If this takes too much memory, you can deactivate it by setting `fuse_model=False`\n"
     ]
    }
   ],
   "source": [
    "predicoes = model.predict(val_dataset.__getitem__(0)[0])"
   ]
  },
  {
   "cell_type": "code",
   "execution_count": 35,
   "metadata": {},
   "outputs": [
    {
     "data": {
      "image/png": "[encoded data removed]",
      "text/plain": [
       "<Figure size 320x320 with 1 Axes>"
      ]
     },
     "metadata": {},
     "output_type": "display_data"
    },
    {
     "name": "stderr",
     "output_type": "stream",
     "text": [
      "[2023-10-31 18:08:03] WARNING - image.py - Clipping input data to the valid range for imshow with RGB data ([0..1] for floats or [0..255] for integers).\n"
     ]
    }
   ],
   "source": [
    "predicoes.show()"
   ]
  }
 ],
 "metadata": {
  "kernelspec": {
   "display_name": "valor_venal",
   "language": "python",
   "name": "python3"
  },
  "language_info": {
   "codemirror_mode": {
    "name": "ipython",
    "version": 3
   },
   "file_extension": ".py",
   "mimetype": "text/x-python",
   "name": "python",
   "nbconvert_exporter": "python",
   "pygments_lexer": "ipython3",
   "version": "3.9.7"
  }
 },
 "nbformat": 4,
 "nbformat_minor": 2
}
