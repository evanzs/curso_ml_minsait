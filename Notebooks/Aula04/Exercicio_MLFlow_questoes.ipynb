{
 "cells": [
  {
   "cell_type": "markdown",
   "metadata": {},
   "source": [
    "# Prática\n",
    "- Treine um classificador de ensemble e uma rede do keras para o dataset de diabetes.\n",
    "- Treine um classificador com CNN para o dataset de imagens do cérebro\n",
    "- Nomeie seu experimento Grupo seguido de underscore, seguido dos primeiros nomes de cada participante do grupo separados por underscore exemplo: \"Grupo_Diego_Thais\" \n",
    "- Use MLFLow para salvar as ***estatísticas*** e ***hiperparametros*** de cada modelo.\n",
    "- Faça deploy ***localmente*** de cada modelo\n",
    "- Faça uma requisição pro deploy de cadas modelo\n",
    "- Inclua no envio: \n",
    "  - Os ***arquivos*** do modelo\n",
    "  - Um ***print*** da ***ui*** do mlflow com ***estatisticas*** e ***hiperparametros*** do seu modelo\n",
    "  - Requisição feita para o modelo\n",
    "  - Resposta da requisição feita para o modelo"
   ]
  }
 ],
 "metadata": {
  "kernelspec": {
   "display_name": "valor_venal",
   "language": "python",
   "name": "python3"
  },
  "language_info": {
   "codemirror_mode": {
    "name": "ipython",
    "version": 3
   },
   "file_extension": ".py",
   "mimetype": "text/x-python",
   "name": "python",
   "nbconvert_exporter": "python",
   "pygments_lexer": "ipython3",
   "version": "3.9.15"
  }
 },
 "nbformat": 4,
 "nbformat_minor": 2
}
