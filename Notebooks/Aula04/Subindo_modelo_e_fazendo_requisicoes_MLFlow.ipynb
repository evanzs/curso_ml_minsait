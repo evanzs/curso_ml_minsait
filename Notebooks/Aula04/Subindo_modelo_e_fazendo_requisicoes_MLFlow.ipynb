{
 "cells": [
  {
   "cell_type": "markdown",
   "metadata": {},
   "source": [
    "# Subindo o modelo\n",
    "No terminal do conda com seu environment ativo, digite: mlflow models serve -m runs:/<run_id>/<model_name>\n"
   ]
  },
  {
   "cell_type": "markdown",
   "metadata": {},
   "source": [
    "## XGBoost"
   ]
  },
  {
   "cell_type": "markdown",
   "metadata": {},
   "source": [
    "No meu caso aqui vai ser mlflow models serve -m runs:/1507bc65599b4d31bb4f60bd130b3ade/XGBoost"
   ]
  },
  {
   "cell_type": "markdown",
   "metadata": {},
   "source": [
    "## Keras estruturado"
   ]
  },
  {
   "cell_type": "markdown",
   "metadata": {},
   "source": [
    "No meu caso aqui vai ser mlflow models serve -m runs:/1507bc65599b4d31bb4f60bd130b3ade/XGBoost"
   ]
  },
  {
   "cell_type": "markdown",
   "metadata": {},
   "source": [
    "## Keras não estruturado"
   ]
  },
  {
   "cell_type": "markdown",
   "metadata": {},
   "source": [
    "No meu caso aqui vai ser mlflow models serve -m runs:/1507bc65599b4d31bb4f60bd130b3ade/XGBoost"
   ]
  },
  {
   "cell_type": "markdown",
   "metadata": {},
   "source": [
    "# Fazendo requisicoes para os modelos"
   ]
  },
  {
   "cell_type": "markdown",
   "metadata": {},
   "source": [
    "Os dados precisam estar em uma de 4 formas possíveis\n",
    "\n",
    "**Forma 1**:\n",
    "  ```json\n",
    "    {\n",
    "      \"dataframe_split\": {\n",
    "          \"columns\": [\"a\", \"b\", \"c\"],\n",
    "          \"data\": [[1, 2, 3], [4, 5, 6]]\n",
    "      }\n",
    "    }\n",
    "  ```\n",
    "   \n",
    "**Forma 2**:\n",
    "  ```json\n",
    "    {\n",
    "      \"dataframe_records\": [\n",
    "        {\"a\": 1,\"b\": 2,\"c\": 3},\n",
    "        {\"a\": 4,\"b\": 5,\"c\": 6}\n",
    "      ]\n",
    "    }\n",
    "  ```\n",
    "**Forma 3**:\n",
    "  ```json\n",
    "    {\n",
    "      \"instances\": [\n",
    "          {\"a\": \"s1\", \"b\": 1, \"c\": [1, 2, 3]},\n",
    "          {\"a\": \"s2\", \"b\": 2, \"c\": [4, 5, 6]},\n",
    "          {\"a\": \"s3\", \"b\": 3, \"c\": [7, 8, 9]}\n",
    "      ]\n",
    "    }\n",
    "  ```\n",
    "**Forma 4**:\n",
    "  ```json\n",
    "    {\n",
    "      \"inputs\": {\"question\": [\"What color is it?\"],\n",
    "                \"context\": [\"Some people said it was green but I know that it is pink.\"]},\n",
    "      \"params\": {\"max_answer_len\": 10}\n",
    "    }\n",
    "  ```"
   ]
  },
  {
   "cell_type": "code",
   "execution_count": 1,
   "metadata": {},
   "outputs": [],
   "source": [
    "import requests\n",
    "import json\n",
    "import tensorflow as tf\n",
    "import numpy as np"
   ]
  },
  {
   "cell_type": "markdown",
   "metadata": {},
   "source": [
    "## XGBoost"
   ]
  },
  {
   "cell_type": "markdown",
   "metadata": {},
   "source": [
    "### Aqui será usada a forma 1"
   ]
  },
  {
   "cell_type": "code",
   "execution_count": 17,
   "metadata": {},
   "outputs": [],
   "source": [
    "dados = {\n",
    "    'columns':['age', 'sex', 'cp', 'trestbps', 'chol', 'fbs', 'restecg', 'thalach',\n",
    "       'exang', 'oldpeak', 'slope', 'ca', 'thal'],\n",
    "    'data':[[ 62. ,   1. ,   1. , 120. , 281. ,   0. ,   0. , 103. ,   0. ,\n",
    "         1.4,   1. ,   1. ,   3. ]]   \n",
    "}"
   ]
  },
  {
   "cell_type": "code",
   "execution_count": 18,
   "metadata": {},
   "outputs": [],
   "source": [
    "dataframe_split = {'dataframe_split':dados}"
   ]
  },
  {
   "cell_type": "code",
   "execution_count": 19,
   "metadata": {},
   "outputs": [],
   "source": [
    "dados_json = json.dumps(dataframe_split)"
   ]
  },
  {
   "cell_type": "code",
   "execution_count": 20,
   "metadata": {},
   "outputs": [],
   "source": [
    "previsao = requests.post(url='http://localhost:5001/invocations', \n",
    "                         headers={'Content-Type' : 'application/json' , }, data=dados_json)"
   ]
  },
  {
   "cell_type": "code",
   "execution_count": 21,
   "metadata": {},
   "outputs": [
    {
     "data": {
      "text/plain": [
       "'{\"predictions\": [0]}'"
      ]
     },
     "execution_count": 21,
     "metadata": {},
     "output_type": "execute_result"
    }
   ],
   "source": [
    "previsao.text"
   ]
  },
  {
   "cell_type": "markdown",
   "metadata": {},
   "source": [
    "## Keras estruturado"
   ]
  },
  {
   "cell_type": "markdown",
   "metadata": {},
   "source": [
    "### Aqui será usada a forma 1"
   ]
  },
  {
   "cell_type": "code",
   "execution_count": 14,
   "metadata": {},
   "outputs": [],
   "source": [
    "dados = {\n",
    "    'columns':['age', 'sex', 'cp', 'trestbps', 'chol', 'fbs', 'restecg', 'thalach',\n",
    "       'exang', 'oldpeak', 'slope', 'ca', 'thal'],\n",
    "    'data':[[ 62. ,   1. ,   1. , 120. , 281. ,   0. ,   0. , 103. ,   0. ,\n",
    "         1.4,   1. ,   1. ,   3. ]]   \n",
    "}"
   ]
  },
  {
   "cell_type": "code",
   "execution_count": 15,
   "metadata": {},
   "outputs": [],
   "source": [
    "dataframe_split = {'dataframe_split':dados}"
   ]
  },
  {
   "cell_type": "code",
   "execution_count": 16,
   "metadata": {},
   "outputs": [],
   "source": [
    "dados_json = json.dumps(dataframe_split)"
   ]
  },
  {
   "cell_type": "code",
   "execution_count": 17,
   "metadata": {},
   "outputs": [],
   "source": [
    "previsao = requests.post(url='http://localhost:5001/invocations', \n",
    "                         headers={'Content-Type' : 'application/json' , }, data=dados_json)"
   ]
  },
  {
   "cell_type": "code",
   "execution_count": 18,
   "metadata": {},
   "outputs": [
    {
     "data": {
      "text/plain": [
       "'{\"predictions\": [{\"0\": 0.2638627886772156}]}'"
      ]
     },
     "execution_count": 18,
     "metadata": {},
     "output_type": "execute_result"
    }
   ],
   "source": [
    "previsao.text"
   ]
  },
  {
   "cell_type": "markdown",
   "metadata": {},
   "source": [
    "## Keras não estruturado"
   ]
  },
  {
   "cell_type": "markdown",
   "metadata": {},
   "source": [
    "### Aqui será usada a forma 4"
   ]
  },
  {
   "cell_type": "code",
   "execution_count": 2,
   "metadata": {},
   "outputs": [],
   "source": [
    "(x_train, y_train), (x_test, y_test) = tf.keras.datasets.mnist.load_data()\n",
    "m = np.max(x_train)\n",
    "x_train = x_train/m\n",
    "x_test = x_test/m\n",
    "x_test = np.expand_dims(x_test,axis=-1)"
   ]
  },
  {
   "cell_type": "code",
   "execution_count": 3,
   "metadata": {},
   "outputs": [],
   "source": [
    "dados = [x_test[0].tolist(),x_test[1].tolist()]"
   ]
  },
  {
   "cell_type": "code",
   "execution_count": 5,
   "metadata": {},
   "outputs": [],
   "source": [
    "inputs = {\"instances\":dados}"
   ]
  },
  {
   "cell_type": "code",
   "execution_count": 6,
   "metadata": {},
   "outputs": [],
   "source": [
    "inputs_json = json.dumps(inputs)"
   ]
  },
  {
   "cell_type": "code",
   "execution_count": 7,
   "metadata": {},
   "outputs": [],
   "source": [
    "previsao = requests.post(url='http://localhost:5001/invocations', \n",
    "                         headers={'Content-Type' : 'application/json'}, data=inputs_json)"
   ]
  },
  {
   "cell_type": "code",
   "execution_count": 8,
   "metadata": {},
   "outputs": [
    {
     "data": {
      "text/plain": [
       "'{\"predictions\": [[2.5471723347436637e-05, 2.5978971862627986e-08, 1.5691597582190298e-05, 0.00037669745506718755, 5.5897126003401354e-05, 2.4391134502366185e-05, 8.72670327112246e-08, 0.996576726436615, 0.00013180830865167081, 0.0027930845972150564], [0.001173503464087844, 0.00012517916911747307, 0.9791313409805298, 0.0028648499865084887, 6.740989988429646e-08, 0.004117809701710939, 0.008625703863799572, 2.0426994817857036e-10, 0.003961524460464716, 1.5547259479831155e-08]]}'"
      ]
     },
     "execution_count": 8,
     "metadata": {},
     "output_type": "execute_result"
    }
   ],
   "source": [
    "previsao.text"
   ]
  },
  {
   "cell_type": "code",
   "execution_count": 9,
   "metadata": {},
   "outputs": [],
   "source": [
    "previsoes = json.loads(previsao.text)"
   ]
  },
  {
   "cell_type": "code",
   "execution_count": 10,
   "metadata": {},
   "outputs": [],
   "source": [
    "array_resposta = np.array(previsoes['predictions'][0])"
   ]
  },
  {
   "cell_type": "code",
   "execution_count": 11,
   "metadata": {},
   "outputs": [
    {
     "data": {
      "text/plain": [
       "7"
      ]
     },
     "execution_count": 11,
     "metadata": {},
     "output_type": "execute_result"
    }
   ],
   "source": [
    "array_resposta.argmax(0)"
   ]
  }
 ],
 "metadata": {
  "kernelspec": {
   "display_name": "valor_venal",
   "language": "python",
   "name": "python3"
  },
  "language_info": {
   "codemirror_mode": {
    "name": "ipython",
    "version": 3
   },
   "file_extension": ".py",
   "mimetype": "text/x-python",
   "name": "python",
   "nbconvert_exporter": "python",
   "pygments_lexer": "ipython3",
   "version": "3.9.15"
  }
 },
 "nbformat": 4,
 "nbformat_minor": 2
}
