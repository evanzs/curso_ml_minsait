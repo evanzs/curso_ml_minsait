{
 "cells": [
  {
   "cell_type": "markdown",
   "id": "ffcb22fd",
   "metadata": {},
   "source": [
    "# Exercício"
   ]
  },
  {
   "cell_type": "markdown",
   "id": "de0e1681",
   "metadata": {},
   "source": [
    "# Regressão"
   ]
  },
  {
   "cell_type": "markdown",
   "id": "6d0f5db4",
   "metadata": {},
   "source": [
    "**Exercício: Prever o gasto com seguro**\n",
    "\n",
    "**Arquivo insurance.csv**\n",
    "\n",
    "**Passos:**\n",
    "\n",
    "1. Carregue o conjunto de dados em um DataFrame usando a biblioteca pandas.\n",
    "2. Explore e visualize os dados para entender suas características.\n",
    "3. Divida os dados em recursos (X) e rótulos (y).\n",
    "4. Divida o conjunto de dados em conjuntos de treinamento e teste.\n",
    "5. Utilização do KNN `KNeighborsRegressor`.\n",
    "6. Utilização da regressão linear (`LinearRegression`).\n",
    "7. Utilização da árvore de decisão `DecisionTreeRegressor`."
   ]
  },
  {
   "cell_type": "markdown",
   "id": "81f24fc9",
   "metadata": {},
   "source": [
    "# Classificação"
   ]
  },
  {
   "cell_type": "markdown",
   "id": "8672e280",
   "metadata": {},
   "source": [
    "**Exercício: Classificação se o funcionário vai sair ou não**\n",
    "\n",
    "**Arquivo Employee.csv**\n",
    "\n",
    "**Passos:**\n",
    "\n",
    "1. Carregue o conjunto de dados em um DataFrame usando a biblioteca pandas.\n",
    "2. Explore e visualize os dados para entender suas características.\n",
    "3. Divida os dados em recursos (X) e rótulos (y).\n",
    "4. Divida o conjunto de dados em conjuntos de treinamento e teste.\n",
    "5. Utilização da árvore de decisão `DecisionTreeClassifier`.\n",
    "   1. Inicialize o modelo de árvore de decisão.\n",
    "   2. Treine o modelo usando o conjunto de treinamento.\n",
    "   3. Faça previsões usando o conjunto de teste.\n",
    "   4. Avalie o desempenho do modelo usando métricas como acurácia, matriz de confusão, etc.\n",
    "   5.  Visualize a árvore de decisão resultante (opcional).\n",
    "   \n",
    "6. Utilização do KNN:\n",
    "   1. Importe a classe `KNeighborsClassifier` da biblioteca scikit-learn.\n",
    "   2. Inicialize o modelo k-NN com um valor de k desejado.\n",
    "   3. Treine o modelo usando o conjunto de treinamento.\n",
    "   4. Faça previsões usando o conjunto de teste.\n",
    "   5. Avalie o desempenho do modelo usando métricas como acurácia, matriz de confusão, etc.\n",
    "   6. Experimente diferentes valores de k e avalie como eles afetam o desempenho."
   ]
  },
  {
   "cell_type": "markdown",
   "id": "e0886d70",
   "metadata": {},
   "source": [
    "# Agrupamento"
   ]
  },
  {
   "cell_type": "markdown",
   "id": "edad138c",
   "metadata": {},
   "source": [
    "**Segmentação de Clientes com K-Means**\n",
    "\n",
    "**Arquivo Credit Card Customer Data.csv**\n",
    "\n",
    "**Passos:**\n",
    "\n",
    "1. Carregue o conjunto de dados de clientes de um arquivo CSV usando a biblioteca pandas.\n",
    "2. Explore e visualize os dados para entender suas características e distribuição.\n",
    "3. Selecione as colunas relevantes para a segmentação.\n",
    "4. Pré-processe os dados, se necessário (normalização, tratamento de valores ausentes, etc.).\n",
    "5. Importe a classe `KMeans` da biblioteca scikit-learn.\n",
    "6. Inicialize o modelo K-Means com um número de clusters desejado.\n",
    "7. Treine o modelo usando os dados pré-processados.\n",
    "8. Obtenha os rótulos de cluster para cada cliente no conjunto de dados.\n",
    "9. Analise e interprete os clusters resultantes.\n",
    "10. Visualize os clusters para entender como os clientes estão agrupados.\n",
    "11. Explore diferentes números de clusters para encontrar a melhor segmentação."
   ]
  }
 ],
 "metadata": {
  "kernelspec": {
   "display_name": "Python 3 (ipykernel)",
   "language": "python",
   "name": "python3"
  },
  "language_info": {
   "codemirror_mode": {
    "name": "ipython",
    "version": 3
   },
   "file_extension": ".py",
   "mimetype": "text/x-python",
   "name": "python",
   "nbconvert_exporter": "python",
   "pygments_lexer": "ipython3",
   "version": "3.9.15"
  }
 },
 "nbformat": 4,
 "nbformat_minor": 5
}
