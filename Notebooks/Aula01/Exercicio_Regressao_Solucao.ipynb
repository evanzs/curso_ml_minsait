{
 "cells": [
  {
   "cell_type": "markdown",
   "id": "ffcb22fd",
   "metadata": {},
   "source": [
    "# Exercício"
   ]
  },
  {
   "cell_type": "markdown",
   "id": "de0e1681",
   "metadata": {},
   "source": [
    "# Regressão"
   ]
  },
  {
   "cell_type": "markdown",
   "id": "6d0f5db4",
   "metadata": {},
   "source": [
    "**Exercício: Prever o gasto com seguro**\n",
    "\n",
    "**Arquivo insurance.csv**\n",
    "\n",
    "**Passos:**\n",
    "\n",
    "1. Carregue o conjunto de dados em um DataFrame usando a biblioteca pandas.\n",
    "2. Explore e visualize os dados para entender suas características.\n",
    "3. Divida os dados em recursos (X) e rótulos (y).\n",
    "4. Divida o conjunto de dados em conjuntos de treinamento e teste.\n",
    "5. Utilização do KNN `KNeighborsRegressor`.\n",
    "6. Utilização da regressão linear (`LinearRegression`).\n",
    "7. Utilização da árvore de decisão `DecisionTreeRegressor`."
   ]
  },
  {
   "cell_type": "code",
   "execution_count": 1,
   "id": "7b7ae93a",
   "metadata": {},
   "outputs": [],
   "source": [
    "import numpy as np\n",
    "import pandas as pd\n",
    "import matplotlib.pyplot as plt\n",
    "from sklearn.preprocessing import StandardScaler\n",
    "from sklearn.preprocessing import RobustScaler\n",
    "from sklearn import preprocessing\n",
    "import seaborn as sns\n",
    "from sklearn.metrics import accuracy_score, confusion_matrix, classification_report, r2_score\n",
    "from sklearn.model_selection import train_test_split\n",
    "import math\n",
    "from sklearn.neighbors import DistanceMetric, KNeighborsClassifier\n",
    "from sklearn import neighbors\n",
    "from sklearn.metrics import mean_squared_error,mean_absolute_error, mean_absolute_percentage_error, r2_score\n",
    "from sklearn.cluster import KMeans\n",
    "from sklearn import tree\n",
    "import graphviz\n",
    "from scipy import stats"
   ]
  },
  {
   "cell_type": "markdown",
   "id": "3dc9efea",
   "metadata": {},
   "source": [
    "# Regressão"
   ]
  },
  {
   "cell_type": "code",
   "execution_count": 3,
   "id": "b9e06fb7",
   "metadata": {},
   "outputs": [
    {
     "data": {
      "text/html": [
       "<div>\n",
       "<style scoped>\n",
       "    .dataframe tbody tr th:only-of-type {\n",
       "        vertical-align: middle;\n",
       "    }\n",
       "\n",
       "    .dataframe tbody tr th {\n",
       "        vertical-align: top;\n",
       "    }\n",
       "\n",
       "    .dataframe thead th {\n",
       "        text-align: right;\n",
       "    }\n",
       "</style>\n",
       "<table border=\"1\" class=\"dataframe\">\n",
       "  <thead>\n",
       "    <tr style=\"text-align: right;\">\n",
       "      <th></th>\n",
       "      <th>sex</th>\n",
       "      <th>bmi</th>\n",
       "      <th>children</th>\n",
       "      <th>smoker</th>\n",
       "      <th>region</th>\n",
       "      <th>charges</th>\n",
       "    </tr>\n",
       "  </thead>\n",
       "  <tbody>\n",
       "    <tr>\n",
       "      <th>0</th>\n",
       "      <td>female</td>\n",
       "      <td>27.900</td>\n",
       "      <td>0</td>\n",
       "      <td>yes</td>\n",
       "      <td>southwest</td>\n",
       "      <td>16884.92400</td>\n",
       "    </tr>\n",
       "    <tr>\n",
       "      <th>1</th>\n",
       "      <td>male</td>\n",
       "      <td>33.770</td>\n",
       "      <td>1</td>\n",
       "      <td>no</td>\n",
       "      <td>southeast</td>\n",
       "      <td>1725.55230</td>\n",
       "    </tr>\n",
       "    <tr>\n",
       "      <th>2</th>\n",
       "      <td>male</td>\n",
       "      <td>33.000</td>\n",
       "      <td>3</td>\n",
       "      <td>no</td>\n",
       "      <td>southeast</td>\n",
       "      <td>4449.46200</td>\n",
       "    </tr>\n",
       "    <tr>\n",
       "      <th>3</th>\n",
       "      <td>male</td>\n",
       "      <td>22.705</td>\n",
       "      <td>0</td>\n",
       "      <td>no</td>\n",
       "      <td>northwest</td>\n",
       "      <td>21984.47061</td>\n",
       "    </tr>\n",
       "    <tr>\n",
       "      <th>4</th>\n",
       "      <td>male</td>\n",
       "      <td>28.880</td>\n",
       "      <td>0</td>\n",
       "      <td>no</td>\n",
       "      <td>northwest</td>\n",
       "      <td>3866.85520</td>\n",
       "    </tr>\n",
       "    <tr>\n",
       "      <th>...</th>\n",
       "      <td>...</td>\n",
       "      <td>...</td>\n",
       "      <td>...</td>\n",
       "      <td>...</td>\n",
       "      <td>...</td>\n",
       "      <td>...</td>\n",
       "    </tr>\n",
       "    <tr>\n",
       "      <th>1333</th>\n",
       "      <td>male</td>\n",
       "      <td>30.970</td>\n",
       "      <td>3</td>\n",
       "      <td>no</td>\n",
       "      <td>northwest</td>\n",
       "      <td>10600.54830</td>\n",
       "    </tr>\n",
       "    <tr>\n",
       "      <th>1334</th>\n",
       "      <td>female</td>\n",
       "      <td>31.920</td>\n",
       "      <td>0</td>\n",
       "      <td>no</td>\n",
       "      <td>northeast</td>\n",
       "      <td>2205.98080</td>\n",
       "    </tr>\n",
       "    <tr>\n",
       "      <th>1335</th>\n",
       "      <td>female</td>\n",
       "      <td>36.850</td>\n",
       "      <td>0</td>\n",
       "      <td>no</td>\n",
       "      <td>southeast</td>\n",
       "      <td>1629.83350</td>\n",
       "    </tr>\n",
       "    <tr>\n",
       "      <th>1336</th>\n",
       "      <td>female</td>\n",
       "      <td>25.800</td>\n",
       "      <td>0</td>\n",
       "      <td>no</td>\n",
       "      <td>southwest</td>\n",
       "      <td>2007.94500</td>\n",
       "    </tr>\n",
       "    <tr>\n",
       "      <th>1337</th>\n",
       "      <td>female</td>\n",
       "      <td>29.070</td>\n",
       "      <td>0</td>\n",
       "      <td>yes</td>\n",
       "      <td>northwest</td>\n",
       "      <td>29141.36030</td>\n",
       "    </tr>\n",
       "  </tbody>\n",
       "</table>\n",
       "<p>1338 rows × 6 columns</p>\n",
       "</div>"
      ],
      "text/plain": [
       "         sex     bmi  children smoker     region      charges\n",
       "0     female  27.900         0    yes  southwest  16884.92400\n",
       "1       male  33.770         1     no  southeast   1725.55230\n",
       "2       male  33.000         3     no  southeast   4449.46200\n",
       "3       male  22.705         0     no  northwest  21984.47061\n",
       "4       male  28.880         0     no  northwest   3866.85520\n",
       "...      ...     ...       ...    ...        ...          ...\n",
       "1333    male  30.970         3     no  northwest  10600.54830\n",
       "1334  female  31.920         0     no  northeast   2205.98080\n",
       "1335  female  36.850         0     no  southeast   1629.83350\n",
       "1336  female  25.800         0     no  southwest   2007.94500\n",
       "1337  female  29.070         0    yes  northwest  29141.36030\n",
       "\n",
       "[1338 rows x 6 columns]"
      ]
     },
     "execution_count": 3,
     "metadata": {},
     "output_type": "execute_result"
    }
   ],
   "source": [
    "df_regression = pd.read_csv('../../Datasets/insurance.csv', sep = \",\", low_memory=False)\n",
    "\n",
    "#removendo os ids\n",
    "df_regression = df_regression.drop(df_regression.columns[0], axis=1)\n",
    "df_regression"
   ]
  },
  {
   "cell_type": "code",
   "execution_count": 5,
   "id": "bb8f6223",
   "metadata": {},
   "outputs": [
    {
     "data": {
      "text/plain": [
       "1"
      ]
     },
     "execution_count": 5,
     "metadata": {},
     "output_type": "execute_result"
    }
   ],
   "source": [
    "df_regression.duplicated().sum()"
   ]
  },
  {
   "cell_type": "code",
   "execution_count": 6,
   "id": "ee1d3dec",
   "metadata": {},
   "outputs": [],
   "source": [
    "df_regression.drop_duplicates(keep='first', inplace=True)"
   ]
  },
  {
   "cell_type": "code",
   "execution_count": 7,
   "id": "90e8c170",
   "metadata": {},
   "outputs": [
    {
     "data": {
      "text/plain": [
       "0"
      ]
     },
     "execution_count": 7,
     "metadata": {},
     "output_type": "execute_result"
    }
   ],
   "source": [
    "df_regression.isna().sum().sum()"
   ]
  },
  {
   "cell_type": "code",
   "execution_count": 8,
   "id": "6d3a3e0f",
   "metadata": {},
   "outputs": [
    {
     "name": "stdout",
     "output_type": "stream",
     "text": [
      "<class 'pandas.core.frame.DataFrame'>\n",
      "Int64Index: 1337 entries, 0 to 1337\n",
      "Data columns (total 6 columns):\n",
      " #   Column    Non-Null Count  Dtype  \n",
      "---  ------    --------------  -----  \n",
      " 0   sex       1337 non-null   object \n",
      " 1   bmi       1337 non-null   float64\n",
      " 2   children  1337 non-null   int64  \n",
      " 3   smoker    1337 non-null   object \n",
      " 4   region    1337 non-null   object \n",
      " 5   charges   1337 non-null   float64\n",
      "dtypes: float64(2), int64(1), object(3)\n",
      "memory usage: 73.1+ KB\n"
     ]
    }
   ],
   "source": [
    "df_regression.info()"
   ]
  },
  {
   "cell_type": "code",
   "execution_count": 9,
   "id": "db1eeb68",
   "metadata": {},
   "outputs": [
    {
     "data": {
      "text/html": [
       "<div>\n",
       "<style scoped>\n",
       "    .dataframe tbody tr th:only-of-type {\n",
       "        vertical-align: middle;\n",
       "    }\n",
       "\n",
       "    .dataframe tbody tr th {\n",
       "        vertical-align: top;\n",
       "    }\n",
       "\n",
       "    .dataframe thead th {\n",
       "        text-align: right;\n",
       "    }\n",
       "</style>\n",
       "<table border=\"1\" class=\"dataframe\">\n",
       "  <thead>\n",
       "    <tr style=\"text-align: right;\">\n",
       "      <th></th>\n",
       "      <th>sex</th>\n",
       "      <th>bmi</th>\n",
       "      <th>children</th>\n",
       "      <th>smoker</th>\n",
       "      <th>region</th>\n",
       "      <th>charges</th>\n",
       "    </tr>\n",
       "  </thead>\n",
       "  <tbody>\n",
       "    <tr>\n",
       "      <th>0</th>\n",
       "      <td>0</td>\n",
       "      <td>27.900</td>\n",
       "      <td>0</td>\n",
       "      <td>1</td>\n",
       "      <td>3</td>\n",
       "      <td>16884.92400</td>\n",
       "    </tr>\n",
       "    <tr>\n",
       "      <th>1</th>\n",
       "      <td>1</td>\n",
       "      <td>33.770</td>\n",
       "      <td>1</td>\n",
       "      <td>0</td>\n",
       "      <td>2</td>\n",
       "      <td>1725.55230</td>\n",
       "    </tr>\n",
       "    <tr>\n",
       "      <th>2</th>\n",
       "      <td>1</td>\n",
       "      <td>33.000</td>\n",
       "      <td>3</td>\n",
       "      <td>0</td>\n",
       "      <td>2</td>\n",
       "      <td>4449.46200</td>\n",
       "    </tr>\n",
       "    <tr>\n",
       "      <th>3</th>\n",
       "      <td>1</td>\n",
       "      <td>22.705</td>\n",
       "      <td>0</td>\n",
       "      <td>0</td>\n",
       "      <td>1</td>\n",
       "      <td>21984.47061</td>\n",
       "    </tr>\n",
       "    <tr>\n",
       "      <th>4</th>\n",
       "      <td>1</td>\n",
       "      <td>28.880</td>\n",
       "      <td>0</td>\n",
       "      <td>0</td>\n",
       "      <td>1</td>\n",
       "      <td>3866.85520</td>\n",
       "    </tr>\n",
       "  </tbody>\n",
       "</table>\n",
       "</div>"
      ],
      "text/plain": [
       "   sex     bmi  children  smoker  region      charges\n",
       "0    0  27.900         0       1       3  16884.92400\n",
       "1    1  33.770         1       0       2   1725.55230\n",
       "2    1  33.000         3       0       2   4449.46200\n",
       "3    1  22.705         0       0       1  21984.47061\n",
       "4    1  28.880         0       0       1   3866.85520"
      ]
     },
     "execution_count": 9,
     "metadata": {},
     "output_type": "execute_result"
    }
   ],
   "source": [
    "# label encoder\n",
    "\n",
    "le = preprocessing.LabelEncoder()\n",
    "for column in df_regression.columns:\n",
    "    if(df_regression[column].dtypes=='object'):\n",
    "        df_regression[column] = le.fit_transform(df_regression[column])\n",
    "        \n",
    "df_regression.head()"
   ]
  },
  {
   "cell_type": "code",
   "execution_count": 10,
   "id": "e3d27c33",
   "metadata": {},
   "outputs": [
    {
     "data": {
      "text/html": [
       "<style type=\"text/css\">\n",
       "#T_9ce2f_row0_col0, #T_9ce2f_row1_col1, #T_9ce2f_row2_col2, #T_9ce2f_row3_col3, #T_9ce2f_row4_col4, #T_9ce2f_row5_col5 {\n",
       "  background-color: #b40426;\n",
       "  color: #f1f1f1;\n",
       "}\n",
       "#T_9ce2f_row0_col1, #T_9ce2f_row1_col0 {\n",
       "  background-color: #465ecf;\n",
       "  color: #f1f1f1;\n",
       "}\n",
       "#T_9ce2f_row0_col2, #T_9ce2f_row0_col4, #T_9ce2f_row2_col1, #T_9ce2f_row2_col3, #T_9ce2f_row4_col2 {\n",
       "  background-color: #3d50c3;\n",
       "  color: #f1f1f1;\n",
       "}\n",
       "#T_9ce2f_row0_col3 {\n",
       "  background-color: #536edd;\n",
       "  color: #f1f1f1;\n",
       "}\n",
       "#T_9ce2f_row0_col5 {\n",
       "  background-color: #4e68d8;\n",
       "  color: #f1f1f1;\n",
       "}\n",
       "#T_9ce2f_row1_col2, #T_9ce2f_row1_col3, #T_9ce2f_row3_col4 {\n",
       "  background-color: #3c4ec2;\n",
       "  color: #f1f1f1;\n",
       "}\n",
       "#T_9ce2f_row1_col4 {\n",
       "  background-color: #6e90f2;\n",
       "  color: #f1f1f1;\n",
       "}\n",
       "#T_9ce2f_row1_col5 {\n",
       "  background-color: #7da0f9;\n",
       "  color: #f1f1f1;\n",
       "}\n",
       "#T_9ce2f_row2_col0 {\n",
       "  background-color: #3e51c5;\n",
       "  color: #f1f1f1;\n",
       "}\n",
       "#T_9ce2f_row2_col4 {\n",
       "  background-color: #4055c8;\n",
       "  color: #f1f1f1;\n",
       "}\n",
       "#T_9ce2f_row2_col5, #T_9ce2f_row3_col0 {\n",
       "  background-color: #506bda;\n",
       "  color: #f1f1f1;\n",
       "}\n",
       "#T_9ce2f_row3_col1, #T_9ce2f_row3_col2, #T_9ce2f_row4_col0, #T_9ce2f_row4_col3, #T_9ce2f_row4_col5, #T_9ce2f_row5_col4 {\n",
       "  background-color: #3b4cc0;\n",
       "  color: #f1f1f1;\n",
       "}\n",
       "#T_9ce2f_row3_col5, #T_9ce2f_row5_col3 {\n",
       "  background-color: #f08a6c;\n",
       "  color: #f1f1f1;\n",
       "}\n",
       "#T_9ce2f_row4_col1 {\n",
       "  background-color: #6b8df0;\n",
       "  color: #f1f1f1;\n",
       "}\n",
       "#T_9ce2f_row5_col0 {\n",
       "  background-color: #4a63d3;\n",
       "  color: #f1f1f1;\n",
       "}\n",
       "#T_9ce2f_row5_col1 {\n",
       "  background-color: #7a9df8;\n",
       "  color: #f1f1f1;\n",
       "}\n",
       "#T_9ce2f_row5_col2 {\n",
       "  background-color: #4c66d6;\n",
       "  color: #f1f1f1;\n",
       "}\n",
       "</style>\n",
       "<table id=\"T_9ce2f_\">\n",
       "  <thead>\n",
       "    <tr>\n",
       "      <th class=\"blank level0\" >&nbsp;</th>\n",
       "      <th class=\"col_heading level0 col0\" >sex</th>\n",
       "      <th class=\"col_heading level0 col1\" >bmi</th>\n",
       "      <th class=\"col_heading level0 col2\" >children</th>\n",
       "      <th class=\"col_heading level0 col3\" >smoker</th>\n",
       "      <th class=\"col_heading level0 col4\" >region</th>\n",
       "      <th class=\"col_heading level0 col5\" >charges</th>\n",
       "    </tr>\n",
       "  </thead>\n",
       "  <tbody>\n",
       "    <tr>\n",
       "      <th id=\"T_9ce2f_level0_row0\" class=\"row_heading level0 row0\" >sex</th>\n",
       "      <td id=\"T_9ce2f_row0_col0\" class=\"data row0 col0\" >1.000000</td>\n",
       "      <td id=\"T_9ce2f_row0_col1\" class=\"data row0 col1\" >0.046397</td>\n",
       "      <td id=\"T_9ce2f_row0_col2\" class=\"data row0 col2\" >0.017848</td>\n",
       "      <td id=\"T_9ce2f_row0_col3\" class=\"data row0 col3\" >0.076596</td>\n",
       "      <td id=\"T_9ce2f_row0_col4\" class=\"data row0 col4\" >0.004936</td>\n",
       "      <td id=\"T_9ce2f_row0_col5\" class=\"data row0 col5\" >0.058044</td>\n",
       "    </tr>\n",
       "    <tr>\n",
       "      <th id=\"T_9ce2f_level0_row1\" class=\"row_heading level0 row1\" >bmi</th>\n",
       "      <td id=\"T_9ce2f_row1_col0\" class=\"data row1 col0\" >0.046397</td>\n",
       "      <td id=\"T_9ce2f_row1_col1\" class=\"data row1 col1\" >1.000000</td>\n",
       "      <td id=\"T_9ce2f_row1_col2\" class=\"data row1 col2\" >0.012755</td>\n",
       "      <td id=\"T_9ce2f_row1_col3\" class=\"data row1 col3\" >0.003746</td>\n",
       "      <td id=\"T_9ce2f_row1_col4\" class=\"data row1 col4\" >0.157574</td>\n",
       "      <td id=\"T_9ce2f_row1_col5\" class=\"data row1 col5\" >0.198401</td>\n",
       "    </tr>\n",
       "    <tr>\n",
       "      <th id=\"T_9ce2f_level0_row2\" class=\"row_heading level0 row2\" >children</th>\n",
       "      <td id=\"T_9ce2f_row2_col0\" class=\"data row2 col0\" >0.017848</td>\n",
       "      <td id=\"T_9ce2f_row2_col1\" class=\"data row2 col1\" >0.012755</td>\n",
       "      <td id=\"T_9ce2f_row2_col2\" class=\"data row2 col2\" >1.000000</td>\n",
       "      <td id=\"T_9ce2f_row2_col3\" class=\"data row2 col3\" >0.007331</td>\n",
       "      <td id=\"T_9ce2f_row2_col4\" class=\"data row2 col4\" >0.016258</td>\n",
       "      <td id=\"T_9ce2f_row2_col5\" class=\"data row2 col5\" >0.067389</td>\n",
       "    </tr>\n",
       "    <tr>\n",
       "      <th id=\"T_9ce2f_level0_row3\" class=\"row_heading level0 row3\" >smoker</th>\n",
       "      <td id=\"T_9ce2f_row3_col0\" class=\"data row3 col0\" >0.076596</td>\n",
       "      <td id=\"T_9ce2f_row3_col1\" class=\"data row3 col1\" >0.003746</td>\n",
       "      <td id=\"T_9ce2f_row3_col2\" class=\"data row3 col2\" >0.007331</td>\n",
       "      <td id=\"T_9ce2f_row3_col3\" class=\"data row3 col3\" >1.000000</td>\n",
       "      <td id=\"T_9ce2f_row3_col4\" class=\"data row3 col4\" >-0.002358</td>\n",
       "      <td id=\"T_9ce2f_row3_col5\" class=\"data row3 col5\" >0.787234</td>\n",
       "    </tr>\n",
       "    <tr>\n",
       "      <th id=\"T_9ce2f_level0_row4\" class=\"row_heading level0 row4\" >region</th>\n",
       "      <td id=\"T_9ce2f_row4_col0\" class=\"data row4 col0\" >0.004936</td>\n",
       "      <td id=\"T_9ce2f_row4_col1\" class=\"data row4 col1\" >0.157574</td>\n",
       "      <td id=\"T_9ce2f_row4_col2\" class=\"data row4 col2\" >0.016258</td>\n",
       "      <td id=\"T_9ce2f_row4_col3\" class=\"data row4 col3\" >-0.002358</td>\n",
       "      <td id=\"T_9ce2f_row4_col4\" class=\"data row4 col4\" >1.000000</td>\n",
       "      <td id=\"T_9ce2f_row4_col5\" class=\"data row4 col5\" >-0.006547</td>\n",
       "    </tr>\n",
       "    <tr>\n",
       "      <th id=\"T_9ce2f_level0_row5\" class=\"row_heading level0 row5\" >charges</th>\n",
       "      <td id=\"T_9ce2f_row5_col0\" class=\"data row5 col0\" >0.058044</td>\n",
       "      <td id=\"T_9ce2f_row5_col1\" class=\"data row5 col1\" >0.198401</td>\n",
       "      <td id=\"T_9ce2f_row5_col2\" class=\"data row5 col2\" >0.067389</td>\n",
       "      <td id=\"T_9ce2f_row5_col3\" class=\"data row5 col3\" >0.787234</td>\n",
       "      <td id=\"T_9ce2f_row5_col4\" class=\"data row5 col4\" >-0.006547</td>\n",
       "      <td id=\"T_9ce2f_row5_col5\" class=\"data row5 col5\" >1.000000</td>\n",
       "    </tr>\n",
       "  </tbody>\n",
       "</table>\n"
      ],
      "text/plain": [
       "<pandas.io.formats.style.Styler at 0x1f30bc58e50>"
      ]
     },
     "execution_count": 10,
     "metadata": {},
     "output_type": "execute_result"
    }
   ],
   "source": [
    "# Correlação\n",
    "\n",
    "corr = df_regression.corr()\n",
    "corr.style.background_gradient(cmap = 'coolwarm')"
   ]
  },
  {
   "cell_type": "markdown",
   "id": "11defa84",
   "metadata": {},
   "source": [
    "### Separando o alvo (charges) dos atributos"
   ]
  },
  {
   "cell_type": "code",
   "execution_count": 11,
   "id": "0ab5f05f",
   "metadata": {},
   "outputs": [],
   "source": [
    "target_regression = pd.DataFrame(df_regression, columns=[\"charges\"])"
   ]
  },
  {
   "cell_type": "code",
   "execution_count": 12,
   "id": "710729cb",
   "metadata": {},
   "outputs": [],
   "source": [
    "X_regression = df_regression.drop(df_regression.columns[5], axis=1)\n",
    "y_regression = target_regression"
   ]
  },
  {
   "cell_type": "code",
   "execution_count": 13,
   "id": "708823a9",
   "metadata": {},
   "outputs": [],
   "source": [
    "X_train_regression, X_test_regression, y_train_regression, y_test_regression = train_test_split(X_regression, y_regression, test_size = 0.2, random_state = 0)"
   ]
  },
  {
   "cell_type": "code",
   "execution_count": 14,
   "id": "ad4a4add",
   "metadata": {},
   "outputs": [],
   "source": [
    "def results_regression(y_test,y_pred):\n",
    "\n",
    "    mse = mean_squared_error(y_test,y_pred)\n",
    "    rmse = math.sqrt(mse)\n",
    "    mae = mean_absolute_error(y_test,y_pred)\n",
    "    mape = mean_absolute_percentage_error(y_test,y_pred)\n",
    "    r2 = r2_score(y_test,y_pred)\n",
    "\n",
    "    print(f\"mse: {mse}\\n rmse: {rmse}\\n mae: {mae}\\n mape: {mape}\\n r2_score {r2}\")"
   ]
  },
  {
   "cell_type": "markdown",
   "id": "8f6327dd",
   "metadata": {},
   "source": [
    "### Regressão Linear"
   ]
  },
  {
   "cell_type": "code",
   "execution_count": 15,
   "id": "5bac11cc",
   "metadata": {},
   "outputs": [],
   "source": [
    "from sklearn.linear_model import LinearRegression"
   ]
  },
  {
   "cell_type": "code",
   "execution_count": 16,
   "id": "ccfee16d",
   "metadata": {},
   "outputs": [],
   "source": [
    "def regressaoLinear(X_train,y_train,X_test,y_test):\n",
    "    #Criando objeto de regressão\n",
    "    lr = LinearRegression()\n",
    "\n",
    "    #Treinando regressão\n",
    "    lr.fit(X_train,y_train)\n",
    "    y_pred = lr.predict(X_test) \n",
    "    \n",
    "    results_regression(y_test,y_pred)\n",
    "\n",
    "    return y_pred,lr"
   ]
  },
  {
   "cell_type": "code",
   "execution_count": 18,
   "id": "3127b920",
   "metadata": {},
   "outputs": [
    {
     "name": "stdout",
     "output_type": "stream",
     "text": [
      "mse: 58853899.606580175\n",
      " rmse: 7671.629527458959\n",
      " mae: 5714.915504776208\n",
      " mape: 0.7698688580793931\n",
      " r2_score 0.6501572186968587\n"
     ]
    }
   ],
   "source": [
    "y_pred, lr = regressaoLinear(X_train_regression, y_train_regression, X_test_regression, y_test_regression)"
   ]
  },
  {
   "cell_type": "markdown",
   "id": "f8b7c6dd",
   "metadata": {},
   "source": [
    "#### Removendo outliers utilizando z score"
   ]
  },
  {
   "cell_type": "code",
   "execution_count": 19,
   "id": "6920dee5",
   "metadata": {},
   "outputs": [],
   "source": [
    "df_without_outliers_regression_z = df_regression[(np.abs(stats.zscore(df_regression)) < 3).all(axis=1)]"
   ]
  },
  {
   "cell_type": "markdown",
   "id": "f815679e",
   "metadata": {},
   "source": [
    "Separando o alvo (charges) dos atributos"
   ]
  },
  {
   "cell_type": "code",
   "execution_count": 20,
   "id": "59d48cde",
   "metadata": {},
   "outputs": [],
   "source": [
    "target_regression_z = pd.DataFrame(df_without_outliers_regression_z, columns=[\"charges\"])"
   ]
  },
  {
   "cell_type": "code",
   "execution_count": 21,
   "id": "3caac80e",
   "metadata": {},
   "outputs": [],
   "source": [
    "X_regression_z = df_without_outliers_regression_z.drop(df_without_outliers_regression_z.columns[5], axis=1)\n",
    "y_regression_z = target_regression_z"
   ]
  },
  {
   "cell_type": "code",
   "execution_count": 22,
   "id": "be092b1f",
   "metadata": {},
   "outputs": [],
   "source": [
    "X_train_regression_z, X_test_regression_z, y_train_regression_z, y_test_regression_z = train_test_split(X_regression_z, y_regression_z, test_size = 0.2, random_state = 0)"
   ]
  },
  {
   "cell_type": "markdown",
   "id": "c69db0d1",
   "metadata": {},
   "source": [
    "Simples"
   ]
  },
  {
   "cell_type": "code",
   "execution_count": 23,
   "id": "13321e60",
   "metadata": {},
   "outputs": [
    {
     "name": "stdout",
     "output_type": "stream",
     "text": [
      "mse: 47257168.10383655\n",
      " rmse: 6874.384925492356\n",
      " mae: 5331.426220476478\n",
      " mape: 0.7425245420184374\n",
      " r2_score 0.693963912262842\n"
     ]
    }
   ],
   "source": [
    "y_pred, lr = regressaoLinear(X_train_regression_z,y_train_regression_z,X_test_regression_z,y_test_regression_z)"
   ]
  },
  {
   "cell_type": "markdown",
   "id": "ab73b931",
   "metadata": {},
   "source": [
    "### Usando apenas as colunas mais correlacionadas"
   ]
  },
  {
   "cell_type": "code",
   "execution_count": 24,
   "id": "276f9030",
   "metadata": {},
   "outputs": [],
   "source": [
    "X_train_regression_z_corr, X_test_regression_z_corr, y_train_regression_z_corr, y_test_regression_z_corr = train_test_split(X_regression_z[['smoker', 'bmi']],\n",
    "                                                                                                         y_regression_z, test_size = 0.2, random_state = 0)"
   ]
  },
  {
   "cell_type": "code",
   "execution_count": 25,
   "id": "1c2f99ba",
   "metadata": {},
   "outputs": [
    {
     "name": "stdout",
     "output_type": "stream",
     "text": [
      "mse: 46870935.36705851\n",
      " rmse: 6846.235123559409\n",
      " mae: 5327.864605562998\n",
      " mape: 0.7710904254183321\n",
      " r2_score 0.6964651445724008\n"
     ]
    }
   ],
   "source": [
    "y_pred, lr = regressaoLinear(X_train_regression_z_corr,y_train_regression_z_corr,\n",
    "                             X_test_regression_z_corr,y_test_regression_z_corr)"
   ]
  },
  {
   "cell_type": "markdown",
   "id": "9e255b88",
   "metadata": {},
   "source": [
    "Aplicando standard Scaler"
   ]
  },
  {
   "cell_type": "code",
   "execution_count": 26,
   "id": "2bc4a8cc",
   "metadata": {},
   "outputs": [],
   "source": [
    "sc = StandardScaler()\n",
    "X_train_regression_standard_z_corr = sc.fit_transform(X_train_regression_z_corr)\n",
    "X_test_regression_standard_z_corr = sc.transform(X_test_regression_z_corr)"
   ]
  },
  {
   "cell_type": "code",
   "execution_count": 27,
   "id": "4d11b2a8",
   "metadata": {},
   "outputs": [
    {
     "name": "stdout",
     "output_type": "stream",
     "text": [
      "mse: 46870935.367058516\n",
      " rmse: 6846.235123559409\n",
      " mae: 5327.864605562998\n",
      " mape: 0.7710904254183323\n",
      " r2_score 0.6964651445724008\n"
     ]
    }
   ],
   "source": [
    "y_pred, lr = regressaoLinear(X_train_regression_standard_z_corr,y_train_regression_z_corr,\n",
    "                             X_test_regression_standard_z_corr,y_test_regression_z_corr)"
   ]
  },
  {
   "cell_type": "markdown",
   "id": "dc63570d",
   "metadata": {},
   "source": [
    "### Árvore de Decisão"
   ]
  },
  {
   "cell_type": "code",
   "execution_count": 46,
   "id": "4513d53e",
   "metadata": {},
   "outputs": [],
   "source": [
    "def computeRegressionDecisionTree(X_train, y_train, X_test, y_test):\n",
    "    arvore_regressao = tree.DecisionTreeRegressor()\n",
    "    arvore_regressao.fit(X_train,y_train)\n",
    "    y_pred = arvore_regressao.predict(X_test)\n",
    "        \n",
    "    return results_regression(y_test, y_pred)"
   ]
  },
  {
   "cell_type": "code",
   "execution_count": 47,
   "id": "4db6d18b",
   "metadata": {},
   "outputs": [
    {
     "name": "stdout",
     "output_type": "stream",
     "text": [
      "mse: 62988246.25878726\n",
      " rmse: 7936.513482555628\n",
      " mae: 6078.76910782061\n",
      " mape: 0.9099885539636255\n",
      " r2_score 0.5920898938313877\n"
     ]
    }
   ],
   "source": [
    "computeRegressionDecisionTree(X_train_regression_z,y_train_regression_z,\n",
    "                                             X_test_regression_z,y_test_regression_z)"
   ]
  },
  {
   "cell_type": "code",
   "execution_count": 51,
   "id": "7482add3",
   "metadata": {},
   "outputs": [
    {
     "name": "stdout",
     "output_type": "stream",
     "text": [
      "mse: 51273315.83334256\n",
      " rmse: 7160.53879490521\n",
      " mae: 5341.174954407125\n",
      " mape: 0.8067870163889442\n",
      " r2_score 0.6679554528432708\n"
     ]
    }
   ],
   "source": [
    "computeRegressionDecisionTree(X_train_regression_z_corr,y_train_regression_z_corr,\n",
    "                                             X_test_regression_z_corr,y_test_regression_z_corr)"
   ]
  },
  {
   "cell_type": "code",
   "execution_count": 52,
   "id": "5d035e6d",
   "metadata": {},
   "outputs": [
    {
     "name": "stdout",
     "output_type": "stream",
     "text": [
      "mse: 50554414.54213072\n",
      " rmse: 7110.162764812822\n",
      " mae: 5329.665634407125\n",
      " mape: 0.8036512526930207\n",
      " r2_score 0.6726110373283216\n"
     ]
    }
   ],
   "source": [
    "computeRegressionDecisionTree(X_train_regression_standard_z_corr,y_train_regression_z_corr,\n",
    "                                             X_test_regression_standard_z_corr,y_test_regression_z_corr)"
   ]
  },
  {
   "cell_type": "markdown",
   "id": "582d08ca",
   "metadata": {},
   "source": [
    "### KNN"
   ]
  },
  {
   "cell_type": "code",
   "execution_count": 28,
   "id": "b828624f",
   "metadata": {},
   "outputs": [],
   "source": [
    "def computeKNNRegression(X_train,y_train,X_test,y_test,printResults=True,n_neighbors=3, algorithm='auto'):\n",
    "    knn = neighbors.KNeighborsRegressor(n_neighbors = n_neighbors, algorithm=algorithm)\n",
    "    knn.fit(X_train, y_train)\n",
    "    y_pred = knn.predict(X_test)\n",
    "    if printResults:\n",
    "        results_regression(y_test,y_pred)\n",
    "    return y_pred,knn"
   ]
  },
  {
   "cell_type": "markdown",
   "id": "b82d55e9",
   "metadata": {},
   "source": [
    "Simples"
   ]
  },
  {
   "cell_type": "code",
   "execution_count": 32,
   "id": "a757e057",
   "metadata": {},
   "outputs": [
    {
     "name": "stdout",
     "output_type": "stream",
     "text": [
      "mse: 82262113.91039817\n",
      " rmse: 9069.846410518658\n",
      " mae: 6751.009462309161\n",
      " mape: 0.8413361128031683\n",
      " r2_score 0.46727287054505373\n"
     ]
    }
   ],
   "source": [
    "y_pred_regression,knn = computeKNNRegression(X_train_regression_z,y_train_regression_z,\n",
    "                                             X_test_regression_z,y_test_regression_z,n_neighbors=5)"
   ]
  },
  {
   "cell_type": "markdown",
   "id": "feada51a",
   "metadata": {},
   "source": [
    "##### KNN usando apenas as colunas mais correlacionadas"
   ]
  },
  {
   "cell_type": "code",
   "execution_count": 33,
   "id": "ca83ddf2",
   "metadata": {},
   "outputs": [
    {
     "name": "stdout",
     "output_type": "stream",
     "text": [
      "mse: 43761037.73820491\n",
      " rmse: 6615.212599622548\n",
      " mae: 4785.875581942749\n",
      " mape: 0.7946766364180167\n",
      " r2_score 0.7166047539012161\n"
     ]
    }
   ],
   "source": [
    "y_pred_regression,knn = computeKNNRegression(X_train_regression_z_corr,y_train_regression_z_corr,\n",
    "                                             X_test_regression_z_corr,y_test_regression_z_corr,n_neighbors=5)"
   ]
  },
  {
   "cell_type": "markdown",
   "id": "74a65c6c",
   "metadata": {},
   "source": [
    "Aplicando standard scaler"
   ]
  },
  {
   "cell_type": "code",
   "execution_count": 43,
   "id": "ab33ff7b",
   "metadata": {},
   "outputs": [
    {
     "name": "stdout",
     "output_type": "stream",
     "text": [
      "mse: 34010927.39196345\n",
      " rmse: 5831.888835700099\n",
      " mae: 4434.748487159033\n",
      " mape: 0.7627148404722448\n",
      " r2_score 0.7797461934985473\n"
     ]
    }
   ],
   "source": [
    "y_pred_regression,knn = computeKNNRegression(X_train_regression_standard_z_corr,y_train_regression_z_corr,\n",
    "                                             X_test_regression_standard_z_corr,y_test_regression_z_corr,n_neighbors=9)"
   ]
  }
 ],
 "metadata": {
  "kernelspec": {
   "display_name": "Python 3 (ipykernel)",
   "language": "python",
   "name": "python3"
  },
  "language_info": {
   "codemirror_mode": {
    "name": "ipython",
    "version": 3
   },
   "file_extension": ".py",
   "mimetype": "text/x-python",
   "name": "python",
   "nbconvert_exporter": "python",
   "pygments_lexer": "ipython3",
   "version": "3.9.7"
  }
 },
 "nbformat": 4,
 "nbformat_minor": 5
}
