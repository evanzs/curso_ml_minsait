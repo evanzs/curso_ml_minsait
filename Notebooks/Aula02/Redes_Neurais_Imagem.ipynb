{
 "cells": [
  {
   "cell_type": "code",
   "execution_count": 1,
   "id": "849d3482",
   "metadata": {},
   "outputs": [],
   "source": [
    "from tensorflow import keras\n",
    "import matplotlib.pyplot as plt\n",
    "import numpy as np\n",
    "from sklearn.preprocessing import OneHotEncoder"
   ]
  },
  {
   "cell_type": "markdown",
   "id": "144ca55e",
   "metadata": {},
   "source": [
    "# Classificação"
   ]
  },
  {
   "cell_type": "markdown",
   "id": "ca61a45a",
   "metadata": {},
   "source": [
    "#### 1. Aquisição dos dados"
   ]
  },
  {
   "cell_type": "code",
   "execution_count": 14,
   "id": "0be97072",
   "metadata": {},
   "outputs": [],
   "source": [
    "(x_train, y_train), (x_test, y_test) = keras.datasets.mnist.load_data()"
   ]
  },
  {
   "cell_type": "code",
   "execution_count": 3,
   "id": "70e60765",
   "metadata": {},
   "outputs": [
    {
     "name": "stdout",
     "output_type": "stream",
     "text": [
      "(60000, 28, 28)\n",
      "(10000, 28, 28)\n",
      "(10000,)\n"
     ]
    }
   ],
   "source": [
    "print(x_train.shape)\n",
    "print(x_test.shape)\n",
    "print(y_test.shape)"
   ]
  },
  {
   "cell_type": "code",
   "execution_count": 7,
   "id": "29f36dcd",
   "metadata": {},
   "outputs": [
    {
     "data": {
      "text/plain": [
       "array([[  0,   0,   0,   0,   0,   0,   0,   0,   0,   0,   0,   0,   0,\n",
       "          0,   0,   0,   0,   0,   0,   0,   0,   0,   0,   0,   0,   0,\n",
       "          0,   0],\n",
       "       [  0,   0,   0,   0,   0,   0,   0,   0,   0,   0,   0,   0,   0,\n",
       "          0,   0,   0,   0,   0,   0,   0,   0,   0,   0,   0,   0,   0,\n",
       "          0,   0],\n",
       "       [  0,   0,   0,   0,   0,   0,   0,   0,   0,   0,   0,   0,   0,\n",
       "          0,   0,   0,   0,   0,   0,   0,   0,   0,   0,   0,   0,   0,\n",
       "          0,   0],\n",
       "       [  0,   0,   0,   0,   0,   0,   0,   0,   0,   0,   0,   0,   0,\n",
       "          0,   0,   0,   0,   0,   0,   0,   0,   0,   0,   0,   0,   0,\n",
       "          0,   0],\n",
       "       [  0,   0,   0,   0,   0,   0,   0,   0,   0,   0,   0,   0,   0,\n",
       "          0,   0,   0,   0,   0,   0,   0,   0,   0,   0,   0,   0,   0,\n",
       "          0,   0],\n",
       "       [  0,   0,   0,   0,   0,   0,   0,   0,   0,   0,   0,   0,   3,\n",
       "         18,  18,  18, 126, 136, 175,  26, 166, 255, 247, 127,   0,   0,\n",
       "          0,   0],\n",
       "       [  0,   0,   0,   0,   0,   0,   0,   0,  30,  36,  94, 154, 170,\n",
       "        253, 253, 253, 253, 253, 225, 172, 253, 242, 195,  64,   0,   0,\n",
       "          0,   0],\n",
       "       [  0,   0,   0,   0,   0,   0,   0,  49, 238, 253, 253, 253, 253,\n",
       "        253, 253, 253, 253, 251,  93,  82,  82,  56,  39,   0,   0,   0,\n",
       "          0,   0],\n",
       "       [  0,   0,   0,   0,   0,   0,   0,  18, 219, 253, 253, 253, 253,\n",
       "        253, 198, 182, 247, 241,   0,   0,   0,   0,   0,   0,   0,   0,\n",
       "          0,   0],\n",
       "       [  0,   0,   0,   0,   0,   0,   0,   0,  80, 156, 107, 253, 253,\n",
       "        205,  11,   0,  43, 154,   0,   0,   0,   0,   0,   0,   0,   0,\n",
       "          0,   0],\n",
       "       [  0,   0,   0,   0,   0,   0,   0,   0,   0,  14,   1, 154, 253,\n",
       "         90,   0,   0,   0,   0,   0,   0,   0,   0,   0,   0,   0,   0,\n",
       "          0,   0],\n",
       "       [  0,   0,   0,   0,   0,   0,   0,   0,   0,   0,   0, 139, 253,\n",
       "        190,   2,   0,   0,   0,   0,   0,   0,   0,   0,   0,   0,   0,\n",
       "          0,   0],\n",
       "       [  0,   0,   0,   0,   0,   0,   0,   0,   0,   0,   0,  11, 190,\n",
       "        253,  70,   0,   0,   0,   0,   0,   0,   0,   0,   0,   0,   0,\n",
       "          0,   0],\n",
       "       [  0,   0,   0,   0,   0,   0,   0,   0,   0,   0,   0,   0,  35,\n",
       "        241, 225, 160, 108,   1,   0,   0,   0,   0,   0,   0,   0,   0,\n",
       "          0,   0],\n",
       "       [  0,   0,   0,   0,   0,   0,   0,   0,   0,   0,   0,   0,   0,\n",
       "         81, 240, 253, 253, 119,  25,   0,   0,   0,   0,   0,   0,   0,\n",
       "          0,   0],\n",
       "       [  0,   0,   0,   0,   0,   0,   0,   0,   0,   0,   0,   0,   0,\n",
       "          0,  45, 186, 253, 253, 150,  27,   0,   0,   0,   0,   0,   0,\n",
       "          0,   0],\n",
       "       [  0,   0,   0,   0,   0,   0,   0,   0,   0,   0,   0,   0,   0,\n",
       "          0,   0,  16,  93, 252, 253, 187,   0,   0,   0,   0,   0,   0,\n",
       "          0,   0],\n",
       "       [  0,   0,   0,   0,   0,   0,   0,   0,   0,   0,   0,   0,   0,\n",
       "          0,   0,   0,   0, 249, 253, 249,  64,   0,   0,   0,   0,   0,\n",
       "          0,   0],\n",
       "       [  0,   0,   0,   0,   0,   0,   0,   0,   0,   0,   0,   0,   0,\n",
       "          0,  46, 130, 183, 253, 253, 207,   2,   0,   0,   0,   0,   0,\n",
       "          0,   0],\n",
       "       [  0,   0,   0,   0,   0,   0,   0,   0,   0,   0,   0,   0,  39,\n",
       "        148, 229, 253, 253, 253, 250, 182,   0,   0,   0,   0,   0,   0,\n",
       "          0,   0],\n",
       "       [  0,   0,   0,   0,   0,   0,   0,   0,   0,   0,  24, 114, 221,\n",
       "        253, 253, 253, 253, 201,  78,   0,   0,   0,   0,   0,   0,   0,\n",
       "          0,   0],\n",
       "       [  0,   0,   0,   0,   0,   0,   0,   0,  23,  66, 213, 253, 253,\n",
       "        253, 253, 198,  81,   2,   0,   0,   0,   0,   0,   0,   0,   0,\n",
       "          0,   0],\n",
       "       [  0,   0,   0,   0,   0,   0,  18, 171, 219, 253, 253, 253, 253,\n",
       "        195,  80,   9,   0,   0,   0,   0,   0,   0,   0,   0,   0,   0,\n",
       "          0,   0],\n",
       "       [  0,   0,   0,   0,  55, 172, 226, 253, 253, 253, 253, 244, 133,\n",
       "         11,   0,   0,   0,   0,   0,   0,   0,   0,   0,   0,   0,   0,\n",
       "          0,   0],\n",
       "       [  0,   0,   0,   0, 136, 253, 253, 253, 212, 135, 132,  16,   0,\n",
       "          0,   0,   0,   0,   0,   0,   0,   0,   0,   0,   0,   0,   0,\n",
       "          0,   0],\n",
       "       [  0,   0,   0,   0,   0,   0,   0,   0,   0,   0,   0,   0,   0,\n",
       "          0,   0,   0,   0,   0,   0,   0,   0,   0,   0,   0,   0,   0,\n",
       "          0,   0],\n",
       "       [  0,   0,   0,   0,   0,   0,   0,   0,   0,   0,   0,   0,   0,\n",
       "          0,   0,   0,   0,   0,   0,   0,   0,   0,   0,   0,   0,   0,\n",
       "          0,   0],\n",
       "       [  0,   0,   0,   0,   0,   0,   0,   0,   0,   0,   0,   0,   0,\n",
       "          0,   0,   0,   0,   0,   0,   0,   0,   0,   0,   0,   0,   0,\n",
       "          0,   0]], dtype=uint8)"
      ]
     },
     "execution_count": 7,
     "metadata": {},
     "output_type": "execute_result"
    }
   ],
   "source": [
    "x_train[0]"
   ]
  },
  {
   "cell_type": "code",
   "execution_count": 5,
   "id": "87348262",
   "metadata": {},
   "outputs": [
    {
     "data": {
      "image/png": "[encoded data removed]",
      "text/plain": [
       "<Figure size 432x288 with 1 Axes>"
      ]
     },
     "metadata": {
      "needs_background": "light"
     },
     "output_type": "display_data"
    }
   ],
   "source": [
    "# Escolhendo uma imagem para plotar\n",
    "sample = 10\n",
    "image = x_train[sample]\n",
    "\n",
    "# Plotando a imagem\n",
    "fig = plt.figure\n",
    "plt.imshow(image, cmap='gray')\n",
    "plt.show()"
   ]
  },
  {
   "cell_type": "markdown",
   "id": "0b3eb79c",
   "metadata": {},
   "source": [
    "#### 2. Pré-processamento"
   ]
  },
  {
   "cell_type": "markdown",
   "id": "d00677a0",
   "metadata": {},
   "source": [
    "#### Normalização"
   ]
  },
  {
   "cell_type": "code",
   "execution_count": 15,
   "id": "346325c0",
   "metadata": {},
   "outputs": [],
   "source": [
    "m = np.max(x_train)\n",
    "x_train = x_train/m\n",
    "x_test = x_test/m"
   ]
  },
  {
   "cell_type": "markdown",
   "id": "4e0ccb1f",
   "metadata": {},
   "source": [
    "#### One hot encoder na variável alvo"
   ]
  },
  {
   "cell_type": "code",
   "execution_count": 15,
   "id": "67323164",
   "metadata": {},
   "outputs": [
    {
     "data": {
      "text/plain": [
       "array([5, 0, 4, ..., 5, 6, 8], dtype=uint8)"
      ]
     },
     "execution_count": 15,
     "metadata": {},
     "output_type": "execute_result"
    }
   ],
   "source": [
    "y_train"
   ]
  },
  {
   "cell_type": "code",
   "execution_count": 16,
   "id": "6ea284a3",
   "metadata": {},
   "outputs": [],
   "source": [
    "hot = OneHotEncoder()\n",
    "y_train = hot.fit_transform(y_train.reshape(-1, 1)).toarray()\n",
    "y_test = hot.transform(y_test.reshape(-1, 1)).toarray()"
   ]
  },
  {
   "cell_type": "code",
   "execution_count": 6,
   "id": "e8739951",
   "metadata": {},
   "outputs": [
    {
     "data": {
      "text/plain": [
       "array([[0., 0., 0., ..., 0., 0., 0.],\n",
       "       [1., 0., 0., ..., 0., 0., 0.],\n",
       "       [0., 0., 0., ..., 0., 0., 0.],\n",
       "       ...,\n",
       "       [0., 0., 0., ..., 0., 0., 0.],\n",
       "       [0., 0., 0., ..., 0., 0., 0.],\n",
       "       [0., 0., 0., ..., 0., 1., 0.]])"
      ]
     },
     "execution_count": 6,
     "metadata": {},
     "output_type": "execute_result"
    }
   ],
   "source": [
    "y_train"
   ]
  },
  {
   "cell_type": "markdown",
   "id": "c03fe70d",
   "metadata": {},
   "source": [
    "#### 3. Particionamento de base de dados"
   ]
  },
  {
   "cell_type": "code",
   "execution_count": 17,
   "id": "89855dbc",
   "metadata": {},
   "outputs": [
    {
     "data": {
      "text/plain": [
       "((48000, 28, 28),\n",
       " (12000, 28, 28),\n",
       " (10000, 28, 28),\n",
       " (48000, 10),\n",
       " (12000, 10),\n",
       " (10000, 10))"
      ]
     },
     "execution_count": 17,
     "metadata": {},
     "output_type": "execute_result"
    }
   ],
   "source": [
    "from sklearn.model_selection import train_test_split\n",
    "\n",
    "x_treino, x_val, y_treino, y_val = train_test_split(x_train, y_train, test_size = 0.2, random_state = 13)\n",
    "\n",
    "x_treino.shape, x_val.shape, x_test.shape, y_treino.shape, y_val.shape, y_test.shape, "
   ]
  },
  {
   "cell_type": "code",
   "execution_count": 7,
   "id": "ccfa6335",
   "metadata": {},
   "outputs": [],
   "source": [
    "from keras.layers import Dense, Activation, Dropout, Flatten\n",
    "from keras.models import Sequential\n",
    "from keras.callbacks import EarlyStopping"
   ]
  },
  {
   "cell_type": "markdown",
   "id": "68e916e7",
   "metadata": {},
   "source": [
    "#### 4. Treinamento - definição de arquitetura\n",
    "1. Definir quantas camadas são necessárias par o problema\n",
    "2. A quantidade de neurônios em cada camada\n",
    "3. A função de ativação de cada camada\n",
    "4. A função de ativação da saída\n",
    "* softmax (saída não binária)\n",
    "* sigmoid (saída binária)"
   ]
  },
  {
   "cell_type": "code",
   "execution_count": 8,
   "id": "48fa0a22",
   "metadata": {},
   "outputs": [
    {
     "data": {
      "text/plain": [
       "(48000, 28, 28)"
      ]
     },
     "execution_count": 8,
     "metadata": {},
     "output_type": "execute_result"
    }
   ],
   "source": [
    "x_treino.shape"
   ]
  },
  {
   "cell_type": "code",
   "execution_count": 10,
   "id": "afa36372",
   "metadata": {},
   "outputs": [
    {
     "data": {
      "text/plain": [
       "784"
      ]
     },
     "execution_count": 10,
     "metadata": {},
     "output_type": "execute_result"
    }
   ],
   "source": [
    "28 * 28"
   ]
  },
  {
   "cell_type": "code",
   "execution_count": 18,
   "id": "063e35bd",
   "metadata": {},
   "outputs": [],
   "source": [
    "rede_simples = Sequential()\n",
    "\n",
    "rede_simples.add(Flatten())\n",
    "rede_simples.add(Dense(25,  input_dim = 784))\n",
    "rede_simples.add(Activation('relu'))\n",
    "rede_simples.add(Dense(25))\n",
    "rede_simples.add(Activation('relu'))\n",
    "rede_simples.add(Dense(25))\n",
    "rede_simples.add(Activation('relu'))\n",
    "rede_simples.add(Dense(10))\n",
    "rede_simples.add(Activation('softmax'))"
   ]
  },
  {
   "cell_type": "markdown",
   "id": "96bc3311",
   "metadata": {},
   "source": [
    "### 5. Definir otimizadores"
   ]
  },
  {
   "cell_type": "code",
   "execution_count": 19,
   "id": "13237757",
   "metadata": {},
   "outputs": [],
   "source": [
    "rede_simples.compile(loss = 'categorical_crossentropy', optimizer = 'Adam', metrics=['accuracy'])"
   ]
  },
  {
   "cell_type": "markdown",
   "id": "381b3f8c",
   "metadata": {},
   "source": [
    "#### 6. Treinamento\n",
    "\n",
    "1. Adicionar conjuntos de treinamento e validação\n",
    "2. Determinar a quantidade de épocas"
   ]
  },
  {
   "cell_type": "code",
   "execution_count": 20,
   "id": "197d2e09",
   "metadata": {},
   "outputs": [
    {
     "name": "stdout",
     "output_type": "stream",
     "text": [
      "Epoch 1/100\n",
      "1500/1500 [==============================] - 5s 3ms/step - loss: 0.4157 - accuracy: 0.8759 - val_loss: 0.2546 - val_accuracy: 0.9234\n",
      "Epoch 2/100\n",
      "1500/1500 [==============================] - 4s 3ms/step - loss: 0.2067 - accuracy: 0.9395 - val_loss: 0.2057 - val_accuracy: 0.9402\n",
      "Epoch 3/100\n",
      "1500/1500 [==============================] - 4s 3ms/step - loss: 0.1682 - accuracy: 0.9493 - val_loss: 0.1889 - val_accuracy: 0.9462\n",
      "Epoch 4/100\n",
      "1500/1500 [==============================] - 4s 3ms/step - loss: 0.1444 - accuracy: 0.9562 - val_loss: 0.1651 - val_accuracy: 0.9512\n",
      "Epoch 5/100\n",
      "1500/1500 [==============================] - 4s 2ms/step - loss: 0.1289 - accuracy: 0.9605 - val_loss: 0.1709 - val_accuracy: 0.9512\n",
      "Epoch 6/100\n",
      "1500/1500 [==============================] - 4s 2ms/step - loss: 0.1164 - accuracy: 0.9643 - val_loss: 0.1526 - val_accuracy: 0.9563\n",
      "Epoch 7/100\n",
      "1500/1500 [==============================] - 4s 3ms/step - loss: 0.1043 - accuracy: 0.9680 - val_loss: 0.1615 - val_accuracy: 0.9535\n",
      "Epoch 8/100\n",
      "1500/1500 [==============================] - 4s 3ms/step - loss: 0.0973 - accuracy: 0.9700 - val_loss: 0.1687 - val_accuracy: 0.9517\n",
      "Epoch 9/100\n",
      "1500/1500 [==============================] - 4s 3ms/step - loss: 0.0878 - accuracy: 0.9721 - val_loss: 0.1542 - val_accuracy: 0.9579\n",
      "Epoch 10/100\n",
      "1500/1500 [==============================] - 4s 3ms/step - loss: 0.0838 - accuracy: 0.9736 - val_loss: 0.1468 - val_accuracy: 0.9587\n",
      "Epoch 11/100\n",
      "1500/1500 [==============================] - 4s 3ms/step - loss: 0.0774 - accuracy: 0.9756 - val_loss: 0.1481 - val_accuracy: 0.9601\n",
      "Epoch 12/100\n",
      "1500/1500 [==============================] - 4s 3ms/step - loss: 0.0723 - accuracy: 0.9772 - val_loss: 0.1618 - val_accuracy: 0.9582\n",
      "Epoch 13/100\n",
      "1500/1500 [==============================] - 4s 3ms/step - loss: 0.0679 - accuracy: 0.9784 - val_loss: 0.1767 - val_accuracy: 0.9543\n",
      "Epoch 14/100\n",
      "1500/1500 [==============================] - 4s 3ms/step - loss: 0.0644 - accuracy: 0.9788 - val_loss: 0.1603 - val_accuracy: 0.9604\n",
      "Epoch 15/100\n",
      "1500/1500 [==============================] - 4s 3ms/step - loss: 0.0609 - accuracy: 0.9801 - val_loss: 0.1694 - val_accuracy: 0.9593\n",
      "Epoch 16/100\n",
      "1500/1500 [==============================] - 4s 3ms/step - loss: 0.0560 - accuracy: 0.9820 - val_loss: 0.1735 - val_accuracy: 0.9602\n",
      "Epoch 17/100\n",
      "1500/1500 [==============================] - 4s 3ms/step - loss: 0.0557 - accuracy: 0.9816 - val_loss: 0.1748 - val_accuracy: 0.9588\n",
      "Epoch 18/100\n",
      "1500/1500 [==============================] - 4s 3ms/step - loss: 0.0529 - accuracy: 0.9831 - val_loss: 0.1621 - val_accuracy: 0.9617\n",
      "Epoch 19/100\n",
      "1500/1500 [==============================] - 4s 3ms/step - loss: 0.0513 - accuracy: 0.9837 - val_loss: 0.1752 - val_accuracy: 0.9608\n",
      "Epoch 20/100\n",
      "1500/1500 [==============================] - 4s 3ms/step - loss: 0.0469 - accuracy: 0.9842 - val_loss: 0.1715 - val_accuracy: 0.9586\n",
      "Epoch 21/100\n",
      "1500/1500 [==============================] - 4s 3ms/step - loss: 0.0450 - accuracy: 0.9854 - val_loss: 0.1744 - val_accuracy: 0.9581\n",
      "Epoch 22/100\n",
      "1500/1500 [==============================] - 4s 3ms/step - loss: 0.0436 - accuracy: 0.9856 - val_loss: 0.1819 - val_accuracy: 0.9578\n",
      "Epoch 23/100\n",
      "1500/1500 [==============================] - 4s 3ms/step - loss: 0.0418 - accuracy: 0.9858 - val_loss: 0.1894 - val_accuracy: 0.9590\n",
      "Epoch 24/100\n",
      "1500/1500 [==============================] - 4s 3ms/step - loss: 0.0399 - accuracy: 0.9866 - val_loss: 0.1883 - val_accuracy: 0.9592\n",
      "Epoch 25/100\n",
      "1500/1500 [==============================] - 4s 2ms/step - loss: 0.0375 - accuracy: 0.9875 - val_loss: 0.1805 - val_accuracy: 0.9612\n",
      "Epoch 26/100\n",
      "1500/1500 [==============================] - 4s 3ms/step - loss: 0.0376 - accuracy: 0.9879 - val_loss: 0.1863 - val_accuracy: 0.9597\n",
      "Epoch 27/100\n",
      "1500/1500 [==============================] - 4s 3ms/step - loss: 0.0359 - accuracy: 0.9879 - val_loss: 0.2077 - val_accuracy: 0.9585\n",
      "Epoch 28/100\n",
      "1500/1500 [==============================] - 4s 3ms/step - loss: 0.0338 - accuracy: 0.9891 - val_loss: 0.2128 - val_accuracy: 0.9564\n",
      "Epoch 29/100\n",
      "1500/1500 [==============================] - 4s 3ms/step - loss: 0.0337 - accuracy: 0.9888 - val_loss: 0.2095 - val_accuracy: 0.9589\n",
      "Epoch 30/100\n",
      "1500/1500 [==============================] - 4s 2ms/step - loss: 0.0324 - accuracy: 0.9889 - val_loss: 0.2193 - val_accuracy: 0.9592\n",
      "Epoch 31/100\n",
      "1500/1500 [==============================] - 4s 3ms/step - loss: 0.0303 - accuracy: 0.9902 - val_loss: 0.2082 - val_accuracy: 0.9600\n",
      "Epoch 32/100\n",
      "1500/1500 [==============================] - 4s 3ms/step - loss: 0.0305 - accuracy: 0.9904 - val_loss: 0.2268 - val_accuracy: 0.9591\n",
      "Epoch 33/100\n",
      "1500/1500 [==============================] - 4s 3ms/step - loss: 0.0274 - accuracy: 0.9906 - val_loss: 0.2269 - val_accuracy: 0.9592\n",
      "Epoch 34/100\n",
      "1500/1500 [==============================] - 4s 3ms/step - loss: 0.0292 - accuracy: 0.9907 - val_loss: 0.2324 - val_accuracy: 0.9569\n",
      "Epoch 35/100\n",
      "1500/1500 [==============================] - 4s 3ms/step - loss: 0.0273 - accuracy: 0.9907 - val_loss: 0.2580 - val_accuracy: 0.9542\n",
      "Epoch 36/100\n",
      "1500/1500 [==============================] - 4s 3ms/step - loss: 0.0267 - accuracy: 0.9906 - val_loss: 0.2380 - val_accuracy: 0.9588\n",
      "Epoch 37/100\n",
      "1500/1500 [==============================] - 4s 3ms/step - loss: 0.0257 - accuracy: 0.9911 - val_loss: 0.2307 - val_accuracy: 0.9613\n",
      "Epoch 38/100\n",
      "1500/1500 [==============================] - 4s 3ms/step - loss: 0.0243 - accuracy: 0.9921 - val_loss: 0.2430 - val_accuracy: 0.9603\n",
      "Epoch 39/100\n",
      "1500/1500 [==============================] - 4s 3ms/step - loss: 0.0233 - accuracy: 0.9927 - val_loss: 0.2502 - val_accuracy: 0.9597\n",
      "Epoch 40/100\n",
      "1500/1500 [==============================] - 4s 3ms/step - loss: 0.0238 - accuracy: 0.9917 - val_loss: 0.2821 - val_accuracy: 0.9531\n",
      "Epoch 41/100\n",
      "1500/1500 [==============================] - 4s 3ms/step - loss: 0.0255 - accuracy: 0.9915 - val_loss: 0.2592 - val_accuracy: 0.9587\n",
      "Epoch 42/100\n",
      "1500/1500 [==============================] - 4s 2ms/step - loss: 0.0234 - accuracy: 0.9923 - val_loss: 0.2551 - val_accuracy: 0.9581\n",
      "Epoch 43/100\n",
      "1500/1500 [==============================] - 4s 3ms/step - loss: 0.0254 - accuracy: 0.9916 - val_loss: 0.2597 - val_accuracy: 0.9600\n",
      "Epoch 44/100\n",
      "1500/1500 [==============================] - 4s 3ms/step - loss: 0.0178 - accuracy: 0.9936 - val_loss: 0.2765 - val_accuracy: 0.9576\n",
      "Epoch 45/100\n",
      "1500/1500 [==============================] - 4s 3ms/step - loss: 0.0220 - accuracy: 0.9928 - val_loss: 0.2735 - val_accuracy: 0.9593\n",
      "Epoch 46/100\n",
      "1500/1500 [==============================] - 4s 3ms/step - loss: 0.0220 - accuracy: 0.9924 - val_loss: 0.2793 - val_accuracy: 0.9597\n",
      "Epoch 47/100\n",
      "1500/1500 [==============================] - 4s 3ms/step - loss: 0.0213 - accuracy: 0.9928 - val_loss: 0.2836 - val_accuracy: 0.9585\n",
      "Epoch 48/100\n",
      "1500/1500 [==============================] - 4s 3ms/step - loss: 0.0194 - accuracy: 0.9934 - val_loss: 0.2812 - val_accuracy: 0.9575\n",
      "Epoch 49/100\n",
      "1500/1500 [==============================] - 4s 3ms/step - loss: 0.0182 - accuracy: 0.9936 - val_loss: 0.2659 - val_accuracy: 0.9607\n",
      "Epoch 50/100\n",
      "1500/1500 [==============================] - 4s 3ms/step - loss: 0.0199 - accuracy: 0.9934 - val_loss: 0.2753 - val_accuracy: 0.9592\n",
      "Epoch 51/100\n",
      "1500/1500 [==============================] - 4s 3ms/step - loss: 0.0169 - accuracy: 0.9944 - val_loss: 0.3143 - val_accuracy: 0.9573\n",
      "Epoch 52/100\n",
      "1500/1500 [==============================] - 4s 3ms/step - loss: 0.0187 - accuracy: 0.9938 - val_loss: 0.3047 - val_accuracy: 0.9589\n",
      "Epoch 53/100\n",
      "1500/1500 [==============================] - 4s 3ms/step - loss: 0.0183 - accuracy: 0.9940 - val_loss: 0.2985 - val_accuracy: 0.9581\n",
      "Epoch 54/100\n",
      "1500/1500 [==============================] - 4s 3ms/step - loss: 0.0208 - accuracy: 0.9928 - val_loss: 0.3148 - val_accuracy: 0.9573\n",
      "Epoch 55/100\n",
      "1500/1500 [==============================] - 4s 3ms/step - loss: 0.0184 - accuracy: 0.9941 - val_loss: 0.3097 - val_accuracy: 0.9578\n",
      "Epoch 56/100\n",
      "1500/1500 [==============================] - 4s 3ms/step - loss: 0.0168 - accuracy: 0.9945 - val_loss: 0.3307 - val_accuracy: 0.9558\n",
      "Epoch 57/100\n",
      "1500/1500 [==============================] - 4s 3ms/step - loss: 0.0213 - accuracy: 0.9933 - val_loss: 0.3158 - val_accuracy: 0.9590\n",
      "Epoch 58/100\n",
      "1500/1500 [==============================] - 4s 3ms/step - loss: 0.0151 - accuracy: 0.9950 - val_loss: 0.3216 - val_accuracy: 0.9589\n",
      "Epoch 59/100\n",
      "1500/1500 [==============================] - 4s 3ms/step - loss: 0.0170 - accuracy: 0.9942 - val_loss: 0.3262 - val_accuracy: 0.9579\n",
      "Epoch 60/100\n",
      "1500/1500 [==============================] - 4s 3ms/step - loss: 0.0179 - accuracy: 0.9940 - val_loss: 0.3079 - val_accuracy: 0.9588\n",
      "Epoch 61/100\n",
      "1500/1500 [==============================] - 4s 3ms/step - loss: 0.0165 - accuracy: 0.9944 - val_loss: 0.3410 - val_accuracy: 0.9580\n",
      "Epoch 62/100\n",
      "1500/1500 [==============================] - 4s 3ms/step - loss: 0.0174 - accuracy: 0.9938 - val_loss: 0.3172 - val_accuracy: 0.9584\n",
      "Epoch 63/100\n",
      "1500/1500 [==============================] - 4s 3ms/step - loss: 0.0163 - accuracy: 0.9947 - val_loss: 0.3419 - val_accuracy: 0.9550\n",
      "Epoch 64/100\n",
      "1500/1500 [==============================] - 4s 3ms/step - loss: 0.0169 - accuracy: 0.9939 - val_loss: 0.3236 - val_accuracy: 0.9612\n",
      "Epoch 65/100\n",
      "1500/1500 [==============================] - 4s 3ms/step - loss: 0.0136 - accuracy: 0.9953 - val_loss: 0.3460 - val_accuracy: 0.9582\n",
      "Epoch 66/100\n",
      "1500/1500 [==============================] - 4s 3ms/step - loss: 0.0159 - accuracy: 0.9947 - val_loss: 0.3410 - val_accuracy: 0.9589\n",
      "Epoch 67/100\n",
      "1500/1500 [==============================] - 4s 3ms/step - loss: 0.0185 - accuracy: 0.9942 - val_loss: 0.3547 - val_accuracy: 0.9587\n",
      "Epoch 68/100\n",
      "1500/1500 [==============================] - 4s 3ms/step - loss: 0.0146 - accuracy: 0.9951 - val_loss: 0.3594 - val_accuracy: 0.9594\n",
      "Epoch 69/100\n",
      "1500/1500 [==============================] - 4s 3ms/step - loss: 0.0158 - accuracy: 0.9952 - val_loss: 0.3479 - val_accuracy: 0.9597\n",
      "Epoch 70/100\n",
      "1500/1500 [==============================] - 4s 3ms/step - loss: 0.0135 - accuracy: 0.9957 - val_loss: 0.3569 - val_accuracy: 0.9579\n",
      "Epoch 71/100\n",
      "1500/1500 [==============================] - 4s 3ms/step - loss: 0.0136 - accuracy: 0.9955 - val_loss: 0.3626 - val_accuracy: 0.9587\n",
      "Epoch 72/100\n",
      "1500/1500 [==============================] - 4s 3ms/step - loss: 0.0183 - accuracy: 0.9942 - val_loss: 0.3723 - val_accuracy: 0.9553\n",
      "Epoch 73/100\n",
      "1500/1500 [==============================] - 4s 3ms/step - loss: 0.0146 - accuracy: 0.9951 - val_loss: 0.3421 - val_accuracy: 0.9607\n",
      "Epoch 74/100\n",
      "1500/1500 [==============================] - 4s 3ms/step - loss: 0.0158 - accuracy: 0.9951 - val_loss: 0.3476 - val_accuracy: 0.9604\n",
      "Epoch 75/100\n",
      "1500/1500 [==============================] - 4s 3ms/step - loss: 0.0103 - accuracy: 0.9969 - val_loss: 0.3415 - val_accuracy: 0.9615\n",
      "Epoch 76/100\n",
      "1500/1500 [==============================] - 4s 3ms/step - loss: 0.0159 - accuracy: 0.9948 - val_loss: 0.3501 - val_accuracy: 0.9607\n",
      "Epoch 77/100\n",
      "1500/1500 [==============================] - 4s 3ms/step - loss: 0.0196 - accuracy: 0.9940 - val_loss: 0.3660 - val_accuracy: 0.9595\n",
      "Epoch 78/100\n",
      "1500/1500 [==============================] - 4s 3ms/step - loss: 0.0135 - accuracy: 0.9957 - val_loss: 0.3657 - val_accuracy: 0.9594\n",
      "Epoch 79/100\n",
      "1500/1500 [==============================] - 4s 3ms/step - loss: 0.0100 - accuracy: 0.9967 - val_loss: 0.3875 - val_accuracy: 0.9562\n",
      "Epoch 80/100\n",
      "1500/1500 [==============================] - 4s 3ms/step - loss: 0.0175 - accuracy: 0.9944 - val_loss: 0.3990 - val_accuracy: 0.9542\n",
      "Epoch 81/100\n",
      "1500/1500 [==============================] - 4s 3ms/step - loss: 0.0127 - accuracy: 0.9958 - val_loss: 0.3438 - val_accuracy: 0.9617\n",
      "Epoch 82/100\n",
      "1500/1500 [==============================] - 4s 3ms/step - loss: 0.0149 - accuracy: 0.9956 - val_loss: 0.3863 - val_accuracy: 0.9585\n",
      "Epoch 83/100\n",
      "1500/1500 [==============================] - 4s 3ms/step - loss: 0.0135 - accuracy: 0.9953 - val_loss: 0.3879 - val_accuracy: 0.9588\n",
      "Epoch 84/100\n",
      "1500/1500 [==============================] - 4s 3ms/step - loss: 0.0143 - accuracy: 0.9954 - val_loss: 0.3587 - val_accuracy: 0.9610\n",
      "Epoch 85/100\n",
      "1500/1500 [==============================] - 4s 3ms/step - loss: 0.0104 - accuracy: 0.9968 - val_loss: 0.3811 - val_accuracy: 0.9594\n",
      "Epoch 86/100\n",
      "1500/1500 [==============================] - 4s 3ms/step - loss: 0.0169 - accuracy: 0.9948 - val_loss: 0.3922 - val_accuracy: 0.9602\n",
      "Epoch 87/100\n",
      "1500/1500 [==============================] - 4s 3ms/step - loss: 0.0130 - accuracy: 0.9955 - val_loss: 0.3812 - val_accuracy: 0.9597\n",
      "Epoch 88/100\n",
      "1500/1500 [==============================] - 4s 3ms/step - loss: 0.0137 - accuracy: 0.9956 - val_loss: 0.3904 - val_accuracy: 0.9621\n",
      "Epoch 89/100\n",
      "1500/1500 [==============================] - 4s 3ms/step - loss: 0.0117 - accuracy: 0.9966 - val_loss: 0.4172 - val_accuracy: 0.9604\n",
      "Epoch 90/100\n",
      "1500/1500 [==============================] - 4s 3ms/step - loss: 0.0157 - accuracy: 0.9952 - val_loss: 0.3884 - val_accuracy: 0.9617\n",
      "Epoch 91/100\n",
      "1500/1500 [==============================] - 4s 3ms/step - loss: 0.0114 - accuracy: 0.9962 - val_loss: 0.4132 - val_accuracy: 0.9582\n",
      "Epoch 92/100\n",
      "1500/1500 [==============================] - 4s 3ms/step - loss: 0.0154 - accuracy: 0.9955 - val_loss: 0.4061 - val_accuracy: 0.9575\n",
      "Epoch 93/100\n",
      "1500/1500 [==============================] - 4s 3ms/step - loss: 0.0112 - accuracy: 0.9964 - val_loss: 0.3895 - val_accuracy: 0.9610\n",
      "Epoch 94/100\n",
      "1500/1500 [==============================] - 4s 3ms/step - loss: 0.0115 - accuracy: 0.9961 - val_loss: 0.4276 - val_accuracy: 0.9568\n",
      "Epoch 95/100\n",
      "1500/1500 [==============================] - 4s 3ms/step - loss: 0.0136 - accuracy: 0.9958 - val_loss: 0.4172 - val_accuracy: 0.9603\n",
      "Epoch 96/100\n",
      "1500/1500 [==============================] - 4s 3ms/step - loss: 0.0118 - accuracy: 0.9961 - val_loss: 0.4010 - val_accuracy: 0.9610\n",
      "Epoch 97/100\n",
      "1500/1500 [==============================] - 4s 3ms/step - loss: 0.0143 - accuracy: 0.9961 - val_loss: 0.4236 - val_accuracy: 0.9603\n",
      "Epoch 98/100\n",
      "1500/1500 [==============================] - 4s 3ms/step - loss: 0.0101 - accuracy: 0.9966 - val_loss: 0.4242 - val_accuracy: 0.9597\n",
      "Epoch 99/100\n",
      "1500/1500 [==============================] - 4s 3ms/step - loss: 0.0143 - accuracy: 0.9954 - val_loss: 0.4323 - val_accuracy: 0.9585\n",
      "Epoch 100/100\n",
      "1500/1500 [==============================] - 4s 3ms/step - loss: 0.0102 - accuracy: 0.9967 - val_loss: 0.4333 - val_accuracy: 0.9588\n"
     ]
    }
   ],
   "source": [
    "#### 6. Treinamento\n",
    "\n",
    "historico = rede_simples.fit(x_treino, \n",
    "                             y_treino, \n",
    "                             epochs = 100, \n",
    "                             verbose = 1,\n",
    "                             validation_data = (x_val, y_val))"
   ]
  },
  {
   "cell_type": "markdown",
   "id": "211001b7",
   "metadata": {},
   "source": [
    "##### 7. Avaliação do modelo"
   ]
  },
  {
   "cell_type": "code",
   "execution_count": 22,
   "id": "c7571f08",
   "metadata": {},
   "outputs": [
    {
     "name": "stdout",
     "output_type": "stream",
     "text": [
      "313/313 [==============================] - 1s 2ms/step\n"
     ]
    },
    {
     "data": {
      "text/plain": [
       "0.9613"
      ]
     },
     "execution_count": 22,
     "metadata": {},
     "output_type": "execute_result"
    }
   ],
   "source": [
    "from sklearn.metrics import confusion_matrix\n",
    "from sklearn.metrics import accuracy_score\n",
    "\n",
    "pred_simples = rede_simples.predict(x_test)\n",
    "\n",
    "accuracy_score(y_test.argmax(1), pred_simples.argmax(1))"
   ]
  },
  {
   "cell_type": "code",
   "execution_count": 24,
   "id": "5cafac25",
   "metadata": {},
   "outputs": [
    {
     "data": {
      "text/plain": [
       "array([7, 2, 1, ..., 4, 5, 6], dtype=int64)"
      ]
     },
     "execution_count": 24,
     "metadata": {},
     "output_type": "execute_result"
    }
   ],
   "source": [
    "y_test.argmax(1)"
   ]
  },
  {
   "cell_type": "code",
   "execution_count": 25,
   "id": "0de346b9",
   "metadata": {},
   "outputs": [
    {
     "data": {
      "text/plain": [
       "array([0., 0., 0., 0., 0., 0., 0., 1., 0., 0.])"
      ]
     },
     "execution_count": 25,
     "metadata": {},
     "output_type": "execute_result"
    }
   ],
   "source": [
    "y_test[0]"
   ]
  },
  {
   "cell_type": "code",
   "execution_count": 28,
   "id": "0fd96b06",
   "metadata": {},
   "outputs": [
    {
     "data": {
      "text/plain": [
       "array([7, 2, 1, ..., 4, 5, 6], dtype=int64)"
      ]
     },
     "execution_count": 28,
     "metadata": {},
     "output_type": "execute_result"
    }
   ],
   "source": [
    "pred_simples.argmax(1)"
   ]
  },
  {
   "cell_type": "code",
   "execution_count": 29,
   "id": "58f97186",
   "metadata": {},
   "outputs": [
    {
     "data": {
      "text/plain": [
       "array([2.3222662e-32, 6.3953097e-21, 1.5786006e-12, 6.9616120e-14,\n",
       "       1.3827852e-24, 4.7833543e-18, 0.0000000e+00, 1.0000000e+00,\n",
       "       1.5175813e-23, 1.7658272e-14], dtype=float32)"
      ]
     },
     "execution_count": 29,
     "metadata": {},
     "output_type": "execute_result"
    }
   ],
   "source": [
    "pred_simples[0]"
   ]
  },
  {
   "cell_type": "code",
   "execution_count": 53,
   "id": "ce299114",
   "metadata": {},
   "outputs": [
    {
     "data": {
      "image/png": "[encoded data removed]",
      "text/plain": [
       "<Figure size 432x288 with 1 Axes>"
      ]
     },
     "metadata": {
      "needs_background": "light"
     },
     "output_type": "display_data"
    }
   ],
   "source": [
    "loss = historico.history['loss']\n",
    "val_loss = historico.history['val_loss']\n",
    "epochs = range(len(loss))\n",
    "plt.figure()\n",
    "plt.plot(epochs, loss, 'bo', label = 'Training loss')\n",
    "plt.plot(epochs, val_loss, 'b', label = 'Validation loss')\n",
    "plt.title('Training and validation loss')\n",
    "plt.legend()\n",
    "plt.show()"
   ]
  },
  {
   "cell_type": "markdown",
   "id": "649f54da",
   "metadata": {},
   "source": [
    "#### 8. Regularização\n",
    "1. Early Stopping: determinar quando encerrar o treinamento\n",
    "2. Dropout: selecionar neurônios aleatoriamente para o treinamento"
   ]
  },
  {
   "cell_type": "code",
   "execution_count": 12,
   "id": "8cda5aee",
   "metadata": {},
   "outputs": [
    {
     "name": "stdout",
     "output_type": "stream",
     "text": [
      "Epoch 1/150\n",
      "1500/1500 [==============================] - 3s 2ms/step - loss: 0.4145 - accuracy: 0.8777 - val_loss: 0.2230 - val_accuracy: 0.9359\n",
      "Epoch 2/150\n",
      "1500/1500 [==============================] - 2s 1ms/step - loss: 0.1906 - accuracy: 0.9456 - val_loss: 0.1823 - val_accuracy: 0.9481\n",
      "Epoch 3/150\n",
      "1500/1500 [==============================] - 2s 1ms/step - loss: 0.1539 - accuracy: 0.9554 - val_loss: 0.1700 - val_accuracy: 0.9500\n",
      "Epoch 4/150\n",
      "1500/1500 [==============================] - 2s 1ms/step - loss: 0.1345 - accuracy: 0.9602 - val_loss: 0.1537 - val_accuracy: 0.9541\n",
      "Epoch 5/150\n",
      "1500/1500 [==============================] - 2s 1ms/step - loss: 0.1186 - accuracy: 0.9641 - val_loss: 0.1445 - val_accuracy: 0.9583\n",
      "Epoch 6/150\n",
      "1500/1500 [==============================] - 2s 1ms/step - loss: 0.1072 - accuracy: 0.9669 - val_loss: 0.1544 - val_accuracy: 0.9565\n",
      "Epoch 7/150\n",
      "1500/1500 [==============================] - 2s 1ms/step - loss: 0.0971 - accuracy: 0.9702 - val_loss: 0.1535 - val_accuracy: 0.9559\n",
      "Epoch 8/150\n",
      "1500/1500 [==============================] - 2s 1ms/step - loss: 0.0894 - accuracy: 0.9724 - val_loss: 0.1587 - val_accuracy: 0.9548\n",
      "Epoch 9/150\n",
      "1500/1500 [==============================] - 2s 1ms/step - loss: 0.0849 - accuracy: 0.9741 - val_loss: 0.1377 - val_accuracy: 0.9607\n",
      "Epoch 10/150\n",
      "1500/1500 [==============================] - 2s 1ms/step - loss: 0.0787 - accuracy: 0.9756 - val_loss: 0.1513 - val_accuracy: 0.9572\n",
      "Epoch 11/150\n",
      "1500/1500 [==============================] - 2s 1ms/step - loss: 0.0723 - accuracy: 0.9763 - val_loss: 0.1426 - val_accuracy: 0.9606\n",
      "Epoch 12/150\n",
      "1500/1500 [==============================] - 2s 1ms/step - loss: 0.0691 - accuracy: 0.9784 - val_loss: 0.1353 - val_accuracy: 0.9633\n",
      "Epoch 13/150\n",
      "1500/1500 [==============================] - 2s 1ms/step - loss: 0.0641 - accuracy: 0.9798 - val_loss: 0.1373 - val_accuracy: 0.9631\n",
      "Epoch 14/150\n",
      "1500/1500 [==============================] - 2s 1ms/step - loss: 0.0620 - accuracy: 0.9798 - val_loss: 0.1417 - val_accuracy: 0.9631\n",
      "Epoch 15/150\n",
      "1500/1500 [==============================] - 2s 1ms/step - loss: 0.0591 - accuracy: 0.9813 - val_loss: 0.1405 - val_accuracy: 0.9632\n",
      "Epoch 16/150\n",
      "1500/1500 [==============================] - 2s 1ms/step - loss: 0.0554 - accuracy: 0.9825 - val_loss: 0.1419 - val_accuracy: 0.9638\n",
      "Epoch 17/150\n",
      "1500/1500 [==============================] - 2s 1ms/step - loss: 0.0511 - accuracy: 0.9839 - val_loss: 0.1757 - val_accuracy: 0.9556\n",
      "Epoch 18/150\n",
      "1500/1500 [==============================] - 2s 1ms/step - loss: 0.0519 - accuracy: 0.9836 - val_loss: 0.1526 - val_accuracy: 0.9614\n",
      "Epoch 19/150\n",
      "1500/1500 [==============================] - 2s 1ms/step - loss: 0.0466 - accuracy: 0.9847 - val_loss: 0.1727 - val_accuracy: 0.9578\n",
      "Epoch 20/150\n",
      "1500/1500 [==============================] - 2s 1ms/step - loss: 0.0451 - accuracy: 0.9849 - val_loss: 0.1630 - val_accuracy: 0.9622\n",
      "Epoch 21/150\n",
      "1500/1500 [==============================] - 2s 1ms/step - loss: 0.0444 - accuracy: 0.9852 - val_loss: 0.1608 - val_accuracy: 0.9604\n",
      "Epoch 22/150\n",
      "1500/1500 [==============================] - 2s 1ms/step - loss: 0.0404 - accuracy: 0.9869 - val_loss: 0.1688 - val_accuracy: 0.9609\n",
      "Epoch 00022: early stopping\n"
     ]
    }
   ],
   "source": [
    "es = EarlyStopping(monitor = 'val_loss', min_delta = 0.001, patience = 10, verbose = 1, mode = 'auto')\n",
    "\n",
    "# Setamos os pesos iniciais iguais à versão antes do treinamento pra ter um comparativo mais real.\n",
    "#rede_simples.set_weights(pesos_iniciais)\n",
    "\n",
    "historico = rede_simples.fit(x_treino, \n",
    "                             y_treino, \n",
    "                             epochs = 150, \n",
    "                             verbose = 1,\n",
    "                             validation_data = (x_val, y_val),\n",
    "                             callbacks = [es])"
   ]
  },
  {
   "cell_type": "code",
   "execution_count": 13,
   "id": "0b40397b",
   "metadata": {},
   "outputs": [
    {
     "data": {
      "image/png": "[encoded data removed]",
      "text/plain": [
       "<Figure size 432x288 with 1 Axes>"
      ]
     },
     "metadata": {
      "needs_background": "light"
     },
     "output_type": "display_data"
    }
   ],
   "source": [
    "loss = historico.history['loss']\n",
    "val_loss = historico.history['val_loss']\n",
    "epochs = range(len(loss))\n",
    "plt.figure()\n",
    "plt.plot(epochs, loss, 'bo', label = 'Training loss')\n",
    "plt.plot(epochs, val_loss, 'b', label = 'Validation loss')\n",
    "plt.title('Training and validation loss')\n",
    "plt.legend()\n",
    "plt.show()"
   ]
  },
  {
   "cell_type": "code",
   "execution_count": 16,
   "id": "1961c951",
   "metadata": {},
   "outputs": [
    {
     "data": {
      "text/plain": [
       "0.9656"
      ]
     },
     "execution_count": 16,
     "metadata": {},
     "output_type": "execute_result"
    }
   ],
   "source": [
    "from sklearn.metrics import confusion_matrix\n",
    "from sklearn.metrics import accuracy_score\n",
    "\n",
    "pred_es = rede_simples.predict(x_test)\n",
    "\n",
    "accuracy_score(y_test.argmax(1), pred_es.argmax(1))"
   ]
  },
  {
   "cell_type": "code",
   "execution_count": 18,
   "id": "ac1f5c31",
   "metadata": {},
   "outputs": [
    {
     "data": {
      "text/plain": [
       "array([[ 956,    0,    1,    1,    3,    4,    4,    3,    3,    5],\n",
       "       [   0, 1125,    1,    3,    0,    1,    4,    0,    1,    0],\n",
       "       [   3,    3,  989,    9,    8,    1,    1,   10,    8,    0],\n",
       "       [   0,    3,    7,  967,    0,   12,    0,    6,    5,   10],\n",
       "       [   2,    0,    0,    1,  958,    1,    6,    0,    2,   12],\n",
       "       [   3,    1,    0,   12,    1,  851,    6,    4,    5,    9],\n",
       "       [   3,    4,    1,    1,    5,   11,  931,    0,    2,    0],\n",
       "       [   0,    5,    9,    2,    4,    0,    0,  998,    0,   10],\n",
       "       [   3,    4,    3,    7,    9,    9,    5,    5,  909,   20],\n",
       "       [   3,    3,    0,    0,   16,    5,    0,    6,    4,  972]],\n",
       "      dtype=int64)"
      ]
     },
     "execution_count": 18,
     "metadata": {},
     "output_type": "execute_result"
    }
   ],
   "source": [
    "confusion_matrix(y_test.argmax(1), pred_es.argmax(1))"
   ]
  },
  {
   "cell_type": "markdown",
   "id": "ad5828ba",
   "metadata": {},
   "source": [
    "### Regularização - Dropout\n",
    "\n",
    "* Alterna quais neurônios vão otimizar os pesos a cada rodada do treinamento"
   ]
  },
  {
   "cell_type": "code",
   "execution_count": 25,
   "id": "c61aad6a",
   "metadata": {},
   "outputs": [],
   "source": [
    "rede_dropout = Sequential()\n",
    "rede_dropout.add(Flatten())\n",
    "rede_dropout.add(Dense(25,  input_dim = 784))\n",
    "rede_dropout.add(Activation('relu'))\n",
    "rede_dropout.add(Dropout(0.3))\n",
    "rede_dropout.add(Dense(25))\n",
    "rede_dropout.add(Activation('relu'))\n",
    "rede_dropout.add(Dense(25))\n",
    "rede_dropout.add(Dropout(0.3))\n",
    "rede_dropout.add(Activation('relu'))\n",
    "rede_dropout.add(Dense(10))\n",
    "rede_dropout.add(Activation('softmax'))\n",
    "\n",
    "rede_dropout.compile(loss = 'categorical_crossentropy', optimizer = 'Adam', metrics=['accuracy'])\n"
   ]
  },
  {
   "cell_type": "code",
   "execution_count": 26,
   "id": "8d9e65e1",
   "metadata": {},
   "outputs": [
    {
     "name": "stdout",
     "output_type": "stream",
     "text": [
      "Epoch 1/150\n",
      "1500/1500 [==============================] - 3s 1ms/step - loss: 0.8188 - accuracy: 0.7358 - val_loss: 0.3064 - val_accuracy: 0.9117\n",
      "Epoch 2/150\n",
      "1500/1500 [==============================] - 2s 1ms/step - loss: 0.4956 - accuracy: 0.8546 - val_loss: 0.2409 - val_accuracy: 0.9293\n",
      "Epoch 3/150\n",
      "1500/1500 [==============================] - 2s 1ms/step - loss: 0.4436 - accuracy: 0.8718 - val_loss: 0.2294 - val_accuracy: 0.9330\n",
      "Epoch 4/150\n",
      "1500/1500 [==============================] - 2s 1ms/step - loss: 0.4134 - accuracy: 0.8780 - val_loss: 0.2213 - val_accuracy: 0.9347\n",
      "Epoch 5/150\n",
      "1500/1500 [==============================] - 2s 1ms/step - loss: 0.3936 - accuracy: 0.8850 - val_loss: 0.2091 - val_accuracy: 0.9392\n",
      "Epoch 6/150\n",
      "1500/1500 [==============================] - 2s 1ms/step - loss: 0.3798 - accuracy: 0.8894 - val_loss: 0.2096 - val_accuracy: 0.9387\n",
      "Epoch 7/150\n",
      "1500/1500 [==============================] - 2s 1ms/step - loss: 0.3725 - accuracy: 0.8913 - val_loss: 0.2041 - val_accuracy: 0.9410\n",
      "Epoch 8/150\n",
      "1500/1500 [==============================] - 2s 1ms/step - loss: 0.3535 - accuracy: 0.8982 - val_loss: 0.2002 - val_accuracy: 0.9423\n",
      "Epoch 9/150\n",
      "1500/1500 [==============================] - 2s 1ms/step - loss: 0.3483 - accuracy: 0.9005 - val_loss: 0.1932 - val_accuracy: 0.9442\n",
      "Epoch 10/150\n",
      "1500/1500 [==============================] - 2s 1ms/step - loss: 0.3450 - accuracy: 0.9001 - val_loss: 0.1962 - val_accuracy: 0.9433\n",
      "Epoch 11/150\n",
      "1500/1500 [==============================] - 2s 1ms/step - loss: 0.3372 - accuracy: 0.9031 - val_loss: 0.1919 - val_accuracy: 0.9448\n",
      "Epoch 12/150\n",
      "1500/1500 [==============================] - 2s 1ms/step - loss: 0.3313 - accuracy: 0.9032 - val_loss: 0.1921 - val_accuracy: 0.9442\n",
      "Epoch 13/150\n",
      "1500/1500 [==============================] - 2s 1ms/step - loss: 0.3258 - accuracy: 0.9062 - val_loss: 0.1894 - val_accuracy: 0.9454\n",
      "Epoch 14/150\n",
      "1500/1500 [==============================] - 2s 1ms/step - loss: 0.3177 - accuracy: 0.9078 - val_loss: 0.1932 - val_accuracy: 0.9448\n",
      "Epoch 15/150\n",
      "1500/1500 [==============================] - 2s 1ms/step - loss: 0.3204 - accuracy: 0.9063 - val_loss: 0.1833 - val_accuracy: 0.9457\n",
      "Epoch 16/150\n",
      "1500/1500 [==============================] - 2s 1ms/step - loss: 0.3174 - accuracy: 0.9085 - val_loss: 0.1876 - val_accuracy: 0.9468\n",
      "Epoch 17/150\n",
      "1500/1500 [==============================] - 2s 1ms/step - loss: 0.3134 - accuracy: 0.9078 - val_loss: 0.1904 - val_accuracy: 0.9452\n",
      "Epoch 18/150\n",
      "1500/1500 [==============================] - 2s 1ms/step - loss: 0.3131 - accuracy: 0.9094 - val_loss: 0.1893 - val_accuracy: 0.9453\n",
      "Epoch 19/150\n",
      "1500/1500 [==============================] - 2s 1ms/step - loss: 0.3017 - accuracy: 0.9112 - val_loss: 0.1843 - val_accuracy: 0.9477\n",
      "Epoch 20/150\n",
      "1500/1500 [==============================] - 2s 1ms/step - loss: 0.3034 - accuracy: 0.9116 - val_loss: 0.1895 - val_accuracy: 0.9469\n",
      "Epoch 21/150\n",
      "1500/1500 [==============================] - 2s 1ms/step - loss: 0.3001 - accuracy: 0.9128 - val_loss: 0.1803 - val_accuracy: 0.9492\n",
      "Epoch 22/150\n",
      "1500/1500 [==============================] - 2s 1ms/step - loss: 0.2922 - accuracy: 0.9152 - val_loss: 0.1795 - val_accuracy: 0.9497\n",
      "Epoch 23/150\n",
      "1500/1500 [==============================] - 2s 1ms/step - loss: 0.2989 - accuracy: 0.9143 - val_loss: 0.1861 - val_accuracy: 0.9465\n",
      "Epoch 24/150\n",
      "1500/1500 [==============================] - 2s 1ms/step - loss: 0.2960 - accuracy: 0.9138 - val_loss: 0.1799 - val_accuracy: 0.9484\n",
      "Epoch 25/150\n",
      "1500/1500 [==============================] - 2s 1ms/step - loss: 0.2919 - accuracy: 0.9170 - val_loss: 0.1862 - val_accuracy: 0.9456\n",
      "Epoch 26/150\n",
      "1500/1500 [==============================] - 2s 1ms/step - loss: 0.2903 - accuracy: 0.9158 - val_loss: 0.1810 - val_accuracy: 0.9485\n",
      "Epoch 27/150\n",
      "1500/1500 [==============================] - 2s 1ms/step - loss: 0.2859 - accuracy: 0.9168 - val_loss: 0.1722 - val_accuracy: 0.9517\n",
      "Epoch 28/150\n",
      "1500/1500 [==============================] - 2s 1ms/step - loss: 0.2857 - accuracy: 0.9171 - val_loss: 0.1783 - val_accuracy: 0.9494\n",
      "Epoch 29/150\n",
      "1500/1500 [==============================] - 2s 1ms/step - loss: 0.2819 - accuracy: 0.9175 - val_loss: 0.1891 - val_accuracy: 0.9481\n",
      "Epoch 30/150\n",
      "1500/1500 [==============================] - 2s 1ms/step - loss: 0.2835 - accuracy: 0.9181 - val_loss: 0.1861 - val_accuracy: 0.9474\n",
      "Epoch 31/150\n",
      "1500/1500 [==============================] - 2s 1ms/step - loss: 0.2830 - accuracy: 0.9175 - val_loss: 0.1780 - val_accuracy: 0.9498\n",
      "Epoch 32/150\n",
      "1500/1500 [==============================] - 2s 1ms/step - loss: 0.2774 - accuracy: 0.9190 - val_loss: 0.1889 - val_accuracy: 0.9480\n",
      "Epoch 33/150\n",
      "1500/1500 [==============================] - 2s 1ms/step - loss: 0.2720 - accuracy: 0.9208 - val_loss: 0.1876 - val_accuracy: 0.9480\n",
      "Epoch 34/150\n",
      "1500/1500 [==============================] - 2s 1ms/step - loss: 0.2767 - accuracy: 0.9199 - val_loss: 0.1802 - val_accuracy: 0.9500\n",
      "Epoch 35/150\n",
      "1500/1500 [==============================] - 2s 1ms/step - loss: 0.2752 - accuracy: 0.9209 - val_loss: 0.1810 - val_accuracy: 0.9482\n",
      "Epoch 36/150\n",
      "1500/1500 [==============================] - 2s 1ms/step - loss: 0.2697 - accuracy: 0.9215 - val_loss: 0.1737 - val_accuracy: 0.9503\n",
      "Epoch 37/150\n",
      "1500/1500 [==============================] - 2s 1ms/step - loss: 0.2771 - accuracy: 0.9184 - val_loss: 0.1835 - val_accuracy: 0.9486\n",
      "Epoch 00037: early stopping\n"
     ]
    }
   ],
   "source": [
    "historico = rede_dropout.fit(x_treino, \n",
    "                             y_treino, \n",
    "                             epochs = 150, \n",
    "                             verbose = 1,\n",
    "                             validation_data = (x_val, y_val),\n",
    "                             callbacks = [es])"
   ]
  },
  {
   "cell_type": "code",
   "execution_count": 27,
   "id": "3e7565d3",
   "metadata": {},
   "outputs": [
    {
     "data": {
      "image/png": "[encoded data removed]",
      "text/plain": [
       "<Figure size 432x288 with 1 Axes>"
      ]
     },
     "metadata": {
      "needs_background": "light"
     },
     "output_type": "display_data"
    }
   ],
   "source": [
    "loss = historico.history['loss']\n",
    "val_loss = historico.history['val_loss']\n",
    "epochs = range(len(loss))\n",
    "plt.figure()\n",
    "plt.plot(epochs, loss, 'bo', label = 'Training loss')\n",
    "plt.plot(epochs, val_loss, 'b', label = 'Validation loss')\n",
    "plt.title('Training and validation loss')\n",
    "plt.legend()\n",
    "plt.show()"
   ]
  },
  {
   "cell_type": "code",
   "execution_count": 28,
   "id": "ae92ff6c",
   "metadata": {},
   "outputs": [
    {
     "data": {
      "text/plain": [
       "0.9519"
      ]
     },
     "execution_count": 28,
     "metadata": {},
     "output_type": "execute_result"
    }
   ],
   "source": [
    "pred_dropout = rede_dropout.predict(x_test)\n",
    "\n",
    "accuracy_score(y_test.argmax(1), pred_dropout.argmax(1))"
   ]
  },
  {
   "cell_type": "code",
   "execution_count": 29,
   "id": "b83a1b13",
   "metadata": {},
   "outputs": [
    {
     "data": {
      "text/plain": [
       "array([[ 964,    0,    0,    1,    0,    4,    4,    5,    2,    0],\n",
       "       [   0, 1113,    4,    1,    1,    1,    3,    1,    9,    2],\n",
       "       [   5,    5,  973,    8,    4,    1,    8,   15,   12,    1],\n",
       "       [   3,    4,   10,  936,    0,   36,    0,   11,    7,    3],\n",
       "       [   1,    0,    2,    0,  944,    0,   14,    6,    2,   13],\n",
       "       [   6,    3,    1,    9,    3,  839,   12,    2,   10,    7],\n",
       "       [   9,    2,    1,    0,    5,    7,  932,    0,    2,    0],\n",
       "       [   0,    7,    9,    4,    1,    0,    0,  995,    0,   12],\n",
       "       [  16,   12,    1,    6,    7,   16,    9,   10,  891,    6],\n",
       "       [   2,    7,    0,    7,   33,   16,    1,    9,    2,  932]],\n",
       "      dtype=int64)"
      ]
     },
     "execution_count": 29,
     "metadata": {},
     "output_type": "execute_result"
    }
   ],
   "source": [
    "confusion_matrix(y_test.argmax(1), pred_dropout.argmax(1))"
   ]
  },
  {
   "cell_type": "markdown",
   "id": "08fa1e6c",
   "metadata": {},
   "source": [
    "# Regressão"
   ]
  },
  {
   "cell_type": "code",
   "execution_count": null,
   "id": "234b4647",
   "metadata": {},
   "outputs": [],
   "source": [
    "(x_train, y_train), (x_test, y_test) = keras.datasets.boston_housing.load_data()"
   ]
  },
  {
   "cell_type": "code",
   "execution_count": null,
   "id": "2d985257",
   "metadata": {},
   "outputs": [],
   "source": [
    "mean = x_train.mean(axis=0)\n",
    "x_train -= mean\n",
    "std = x_train.std(axis=0)\n",
    "x_train /= std\n",
    "\n",
    "x_test -= mean\n",
    "x_test /= std"
   ]
  },
  {
   "cell_type": "code",
   "execution_count": null,
   "id": "1bf7785a",
   "metadata": {},
   "outputs": [
    {
     "data": {
      "text/plain": [
       "((323, 13), (81, 13), (102, 13), (323,), (81,), (102,))"
      ]
     },
     "metadata": {},
     "output_type": "display_data"
    }
   ],
   "source": [
    "from sklearn.model_selection import train_test_split\n",
    "\n",
    "x_treino, x_val, y_treino, y_val = train_test_split(x_train, y_train, test_size = 0.2, random_state = 13)\n",
    "\n",
    "x_treino.shape, x_val.shape, x_test.shape, y_treino.shape, y_val.shape, y_test.shape, "
   ]
  },
  {
   "cell_type": "code",
   "execution_count": null,
   "id": "ae55ea00",
   "metadata": {},
   "outputs": [],
   "source": [
    "model = Sequential()\n",
    "model.add(Dense(64, activation='relu', input_shape=(x_treino.shape[1],)))\n",
    "model.add(Dense(64, activation='relu'))\n",
    "model.add(Dense(1))\n",
    "\n",
    "model.compile(optimizer='rmsprop',\n",
    "              loss='mse',\n",
    "              metrics=['mae'])"
   ]
  },
  {
   "cell_type": "code",
   "execution_count": null,
   "id": "cdb24aa3",
   "metadata": {},
   "outputs": [
    {
     "name": "stdout",
     "output_type": "stream",
     "text": [
      "Epoch 1/150\n"
     ]
    },
    {
     "name": "stdout",
     "output_type": "stream",
     "text": [
      "6/6 [==============================] - 1s 48ms/step - loss: 566.7054 - mae: 22.0761 - val_loss: 493.4975 - val_mae: 20.0933\n",
      "Epoch 2/150\n",
      "6/6 [==============================] - 0s 9ms/step - loss: 512.3425 - mae: 20.9262 - val_loss: 447.1916 - val_mae: 18.9710\n",
      "Epoch 3/150\n",
      "6/6 [==============================] - 0s 9ms/step - loss: 463.2422 - mae: 19.8024 - val_loss: 405.4670 - val_mae: 17.8868\n",
      "Epoch 4/150\n",
      "6/6 [==============================] - 0s 9ms/step - loss: 416.3006 - mae: 18.6654 - val_loss: 356.1069 - val_mae: 16.5545\n",
      "Epoch 5/150\n",
      "6/6 [==============================] - 0s 10ms/step - loss: 362.0445 - mae: 17.3027 - val_loss: 310.2535 - val_mae: 15.2239\n",
      "Epoch 6/150\n",
      "6/6 [==============================] - 0s 9ms/step - loss: 311.0588 - mae: 15.8696 - val_loss: 267.9813 - val_mae: 13.9418\n",
      "Epoch 7/150\n",
      "6/6 [==============================] - 0s 9ms/step - loss: 264.2944 - mae: 14.4725 - val_loss: 229.8788 - val_mae: 12.7672\n",
      "Epoch 8/150\n",
      "6/6 [==============================] - 0s 10ms/step - loss: 221.8481 - mae: 13.0191 - val_loss: 192.5143 - val_mae: 11.4848\n",
      "Epoch 9/150\n",
      "6/6 [==============================] - 0s 9ms/step - loss: 180.5875 - mae: 11.4457 - val_loss: 153.2208 - val_mae: 10.0059\n",
      "Epoch 10/150\n",
      "6/6 [==============================] - 0s 8ms/step - loss: 139.0075 - mae: 9.7932 - val_loss: 130.6356 - val_mae: 9.1735\n",
      "Epoch 11/150\n",
      "6/6 [==============================] - 0s 9ms/step - loss: 113.7149 - mae: 8.6754 - val_loss: 112.1795 - val_mae: 8.5001\n",
      "Epoch 12/150\n",
      "6/6 [==============================] - 0s 8ms/step - loss: 92.9716 - mae: 7.8285 - val_loss: 93.9057 - val_mae: 7.7606\n",
      "Epoch 13/150\n",
      "6/6 [==============================] - 0s 9ms/step - loss: 73.6763 - mae: 6.9283 - val_loss: 85.3013 - val_mae: 7.3679\n",
      "Epoch 14/150\n",
      "6/6 [==============================] - 0s 9ms/step - loss: 63.8236 - mae: 6.4216 - val_loss: 76.3506 - val_mae: 6.9043\n",
      "Epoch 15/150\n",
      "6/6 [==============================] - 0s 9ms/step - loss: 54.5579 - mae: 5.9208 - val_loss: 68.6926 - val_mae: 6.5001\n",
      "Epoch 16/150\n",
      "6/6 [==============================] - 0s 10ms/step - loss: 47.1364 - mae: 5.4894 - val_loss: 61.0625 - val_mae: 6.0029\n",
      "Epoch 17/150\n",
      "6/6 [==============================] - 0s 9ms/step - loss: 40.4164 - mae: 4.9933 - val_loss: 55.2983 - val_mae: 5.5852\n",
      "Epoch 18/150\n",
      "6/6 [==============================] - 0s 8ms/step - loss: 36.1734 - mae: 4.5992 - val_loss: 50.8989 - val_mae: 5.3504\n",
      "Epoch 19/150\n",
      "6/6 [==============================] - 0s 14ms/step - loss: 32.0011 - mae: 4.3325 - val_loss: 47.2916 - val_mae: 5.1047\n",
      "Epoch 20/150\n",
      "6/6 [==============================] - 0s 10ms/step - loss: 29.5341 - mae: 4.1379 - val_loss: 43.3755 - val_mae: 4.8209\n",
      "Epoch 21/150\n",
      "6/6 [==============================] - 0s 8ms/step - loss: 26.6991 - mae: 3.8643 - val_loss: 39.9786 - val_mae: 4.6122\n",
      "Epoch 22/150\n",
      "6/6 [==============================] - 0s 9ms/step - loss: 24.6290 - mae: 3.6726 - val_loss: 35.6130 - val_mae: 4.2567\n",
      "Epoch 23/150\n",
      "6/6 [==============================] - 0s 9ms/step - loss: 22.3792 - mae: 3.4357 - val_loss: 33.4138 - val_mae: 4.0723\n",
      "Epoch 24/150\n",
      "6/6 [==============================] - 0s 10ms/step - loss: 21.5801 - mae: 3.3305 - val_loss: 31.5995 - val_mae: 3.8809\n",
      "Epoch 25/150\n",
      "6/6 [==============================] - 0s 10ms/step - loss: 20.6482 - mae: 3.1975 - val_loss: 30.1162 - val_mae: 3.8509\n",
      "Epoch 26/150\n",
      "6/6 [==============================] - 0s 10ms/step - loss: 19.8628 - mae: 3.1703 - val_loss: 30.6112 - val_mae: 3.8216\n",
      "Epoch 27/150\n",
      "6/6 [==============================] - 0s 9ms/step - loss: 19.6121 - mae: 3.1246 - val_loss: 28.1967 - val_mae: 3.6964\n",
      "Epoch 28/150\n",
      "6/6 [==============================] - 0s 8ms/step - loss: 18.6311 - mae: 3.0552 - val_loss: 26.5532 - val_mae: 3.5506\n",
      "Epoch 29/150\n",
      "6/6 [==============================] - 0s 8ms/step - loss: 17.9197 - mae: 2.9767 - val_loss: 26.6888 - val_mae: 3.5368\n",
      "Epoch 30/150\n",
      "6/6 [==============================] - 0s 8ms/step - loss: 17.4153 - mae: 2.9168 - val_loss: 25.8937 - val_mae: 3.4959\n",
      "Epoch 31/150\n",
      "6/6 [==============================] - 0s 8ms/step - loss: 17.0223 - mae: 2.9195 - val_loss: 25.4447 - val_mae: 3.2983\n",
      "Epoch 32/150\n",
      "6/6 [==============================] - 0s 7ms/step - loss: 16.9970 - mae: 2.8495 - val_loss: 24.2707 - val_mae: 3.2966\n",
      "Epoch 33/150\n",
      "6/6 [==============================] - 0s 8ms/step - loss: 16.4752 - mae: 2.8355 - val_loss: 23.6602 - val_mae: 3.2741\n",
      "Epoch 34/150\n",
      "6/6 [==============================] - 0s 7ms/step - loss: 15.8653 - mae: 2.7644 - val_loss: 22.7253 - val_mae: 3.3239\n",
      "Epoch 35/150\n",
      "6/6 [==============================] - 0s 8ms/step - loss: 15.4993 - mae: 2.8172 - val_loss: 22.1435 - val_mae: 3.2074\n",
      "Epoch 36/150\n",
      "6/6 [==============================] - 0s 8ms/step - loss: 15.0386 - mae: 2.7340 - val_loss: 21.3980 - val_mae: 2.9979\n",
      "Epoch 37/150\n",
      "6/6 [==============================] - 0s 8ms/step - loss: 14.7934 - mae: 2.6417 - val_loss: 20.9997 - val_mae: 3.0917\n",
      "Epoch 38/150\n",
      "6/6 [==============================] - 0s 7ms/step - loss: 14.6092 - mae: 2.6535 - val_loss: 21.4335 - val_mae: 3.0721\n",
      "Epoch 39/150\n",
      "6/6 [==============================] - 0s 8ms/step - loss: 14.5226 - mae: 2.6333 - val_loss: 19.4930 - val_mae: 2.9297\n",
      "Epoch 40/150\n",
      "6/6 [==============================] - 0s 9ms/step - loss: 13.9348 - mae: 2.5837 - val_loss: 19.9948 - val_mae: 3.1360\n",
      "Epoch 41/150\n",
      "6/6 [==============================] - 0s 8ms/step - loss: 13.9020 - mae: 2.6223 - val_loss: 18.5341 - val_mae: 2.9808\n",
      "Epoch 42/150\n",
      "6/6 [==============================] - 0s 8ms/step - loss: 13.3571 - mae: 2.5413 - val_loss: 18.1784 - val_mae: 2.8802\n",
      "Epoch 43/150\n",
      "6/6 [==============================] - 0s 8ms/step - loss: 13.0096 - mae: 2.5023 - val_loss: 18.6480 - val_mae: 2.7452\n",
      "Epoch 44/150\n",
      "6/6 [==============================] - 0s 8ms/step - loss: 12.8213 - mae: 2.4509 - val_loss: 17.5486 - val_mae: 2.8067\n",
      "Epoch 45/150\n",
      "6/6 [==============================] - 0s 8ms/step - loss: 12.8601 - mae: 2.4876 - val_loss: 17.1018 - val_mae: 2.8325\n",
      "Epoch 46/150\n",
      "6/6 [==============================] - 0s 9ms/step - loss: 12.5213 - mae: 2.4619 - val_loss: 16.6280 - val_mae: 2.7268\n",
      "Epoch 47/150\n",
      "6/6 [==============================] - 0s 17ms/step - loss: 12.3421 - mae: 2.4232 - val_loss: 16.6216 - val_mae: 2.6766\n",
      "Epoch 48/150\n",
      "6/6 [==============================] - 0s 8ms/step - loss: 12.2748 - mae: 2.4256 - val_loss: 16.9341 - val_mae: 2.6104\n",
      "Epoch 49/150\n",
      "6/6 [==============================] - 0s 8ms/step - loss: 12.0138 - mae: 2.3797 - val_loss: 16.3812 - val_mae: 2.8503\n",
      "Epoch 50/150\n",
      "6/6 [==============================] - 0s 8ms/step - loss: 11.9335 - mae: 2.3721 - val_loss: 15.8271 - val_mae: 2.6191\n",
      "Epoch 51/150\n",
      "6/6 [==============================] - 0s 7ms/step - loss: 11.7701 - mae: 2.3691 - val_loss: 17.1491 - val_mae: 2.9013\n",
      "Epoch 52/150\n",
      "6/6 [==============================] - 0s 9ms/step - loss: 12.0264 - mae: 2.4057 - val_loss: 15.2604 - val_mae: 2.6528\n",
      "Epoch 53/150\n",
      "6/6 [==============================] - 0s 9ms/step - loss: 11.4673 - mae: 2.3379 - val_loss: 14.8553 - val_mae: 2.5773\n",
      "Epoch 54/150\n",
      "6/6 [==============================] - 0s 8ms/step - loss: 11.4059 - mae: 2.3470 - val_loss: 15.1466 - val_mae: 2.6737\n",
      "Epoch 55/150\n",
      "6/6 [==============================] - 0s 8ms/step - loss: 11.4326 - mae: 2.3494 - val_loss: 16.6041 - val_mae: 2.7739\n",
      "Epoch 56/150\n",
      "6/6 [==============================] - 0s 9ms/step - loss: 11.5107 - mae: 2.3191 - val_loss: 15.0450 - val_mae: 2.7421\n",
      "Epoch 57/150\n",
      "6/6 [==============================] - 0s 8ms/step - loss: 11.4988 - mae: 2.4011 - val_loss: 15.3856 - val_mae: 2.4774\n",
      "Epoch 58/150\n",
      "6/6 [==============================] - 0s 8ms/step - loss: 11.1635 - mae: 2.2897 - val_loss: 14.7521 - val_mae: 2.5691\n",
      "Epoch 59/150\n",
      "6/6 [==============================] - 0s 8ms/step - loss: 10.8707 - mae: 2.2882 - val_loss: 14.6157 - val_mae: 2.6474\n",
      "Epoch 60/150\n",
      "6/6 [==============================] - 0s 8ms/step - loss: 10.9126 - mae: 2.3176 - val_loss: 15.8298 - val_mae: 2.5384\n",
      "Epoch 61/150\n",
      "6/6 [==============================] - 0s 8ms/step - loss: 11.0013 - mae: 2.2499 - val_loss: 14.7737 - val_mae: 2.4648\n",
      "Epoch 62/150\n",
      "6/6 [==============================] - 0s 10ms/step - loss: 10.8332 - mae: 2.2462 - val_loss: 15.3239 - val_mae: 2.6803\n",
      "Epoch 63/150\n",
      "6/6 [==============================] - 0s 9ms/step - loss: 11.3730 - mae: 2.3887 - val_loss: 14.5406 - val_mae: 2.5602\n",
      "Epoch 64/150\n",
      "6/6 [==============================] - 0s 8ms/step - loss: 10.6031 - mae: 2.2361 - val_loss: 14.5723 - val_mae: 2.5791\n",
      "Epoch 65/150\n",
      "6/6 [==============================] - 0s 8ms/step - loss: 10.5377 - mae: 2.2474 - val_loss: 14.3596 - val_mae: 2.4653\n",
      "Epoch 66/150\n",
      "6/6 [==============================] - 0s 8ms/step - loss: 10.5010 - mae: 2.2221 - val_loss: 14.6534 - val_mae: 2.5562\n",
      "Epoch 67/150\n",
      "6/6 [==============================] - 0s 9ms/step - loss: 10.8222 - mae: 2.2807 - val_loss: 15.0396 - val_mae: 2.4099\n",
      "Epoch 68/150\n",
      "6/6 [==============================] - 0s 8ms/step - loss: 10.7719 - mae: 2.2206 - val_loss: 14.4537 - val_mae: 2.4216\n",
      "Epoch 69/150\n",
      "6/6 [==============================] - 0s 8ms/step - loss: 10.4391 - mae: 2.1965 - val_loss: 13.5889 - val_mae: 2.4459\n",
      "Epoch 70/150\n",
      "6/6 [==============================] - 0s 9ms/step - loss: 10.4105 - mae: 2.2211 - val_loss: 14.4697 - val_mae: 2.5295\n",
      "Epoch 71/150\n",
      "6/6 [==============================] - 0s 14ms/step - loss: 10.3429 - mae: 2.1818 - val_loss: 14.8143 - val_mae: 2.5602\n",
      "Epoch 72/150\n",
      "6/6 [==============================] - 0s 8ms/step - loss: 10.4373 - mae: 2.1860 - val_loss: 15.1749 - val_mae: 2.6644\n",
      "Epoch 73/150\n",
      "6/6 [==============================] - 0s 8ms/step - loss: 10.3646 - mae: 2.1966 - val_loss: 13.5691 - val_mae: 2.4794\n",
      "Epoch 74/150\n",
      "6/6 [==============================] - 0s 8ms/step - loss: 10.0772 - mae: 2.1974 - val_loss: 13.4018 - val_mae: 2.4263\n",
      "Epoch 75/150\n",
      "6/6 [==============================] - 0s 10ms/step - loss: 10.1434 - mae: 2.2056 - val_loss: 14.8237 - val_mae: 2.5981\n",
      "Epoch 76/150\n",
      "6/6 [==============================] - 0s 8ms/step - loss: 10.3694 - mae: 2.2050 - val_loss: 12.8749 - val_mae: 2.4686\n",
      "Epoch 77/150\n",
      "6/6 [==============================] - 0s 8ms/step - loss: 10.0399 - mae: 2.2303 - val_loss: 13.0749 - val_mae: 2.4135\n",
      "Epoch 78/150\n",
      "6/6 [==============================] - 0s 8ms/step - loss: 9.7538 - mae: 2.1601 - val_loss: 14.2614 - val_mae: 2.5490\n",
      "Epoch 79/150\n",
      "6/6 [==============================] - 0s 8ms/step - loss: 9.9718 - mae: 2.1615 - val_loss: 13.0710 - val_mae: 2.4980\n",
      "Epoch 80/150\n",
      "6/6 [==============================] - 0s 9ms/step - loss: 9.8310 - mae: 2.1872 - val_loss: 12.9280 - val_mae: 2.5511\n",
      "Epoch 81/150\n",
      "6/6 [==============================] - 0s 9ms/step - loss: 9.9782 - mae: 2.1994 - val_loss: 12.9077 - val_mae: 2.4458\n",
      "Epoch 82/150\n",
      "6/6 [==============================] - 0s 8ms/step - loss: 9.7429 - mae: 2.1518 - val_loss: 13.0585 - val_mae: 2.3975\n",
      "Epoch 83/150\n",
      "6/6 [==============================] - 0s 8ms/step - loss: 9.5188 - mae: 2.1032 - val_loss: 13.7884 - val_mae: 2.5569\n",
      "Epoch 84/150\n",
      "6/6 [==============================] - 0s 8ms/step - loss: 10.3818 - mae: 2.2691 - val_loss: 12.9488 - val_mae: 2.4337\n",
      "Epoch 85/150\n",
      "6/6 [==============================] - 0s 11ms/step - loss: 9.7969 - mae: 2.1688 - val_loss: 12.9191 - val_mae: 2.4053\n",
      "Epoch 86/150\n",
      "6/6 [==============================] - 0s 9ms/step - loss: 9.5037 - mae: 2.1090 - val_loss: 13.3673 - val_mae: 2.3786\n",
      "Epoch 86: early stopping\n"
     ]
    }
   ],
   "source": [
    "es = EarlyStopping(monitor = 'val_loss', min_delta = 0.001, patience = 10, verbose = 1, mode = 'auto')\n",
    "\n",
    "historico = model.fit(x_treino, \n",
    "                             y_treino, \n",
    "                             epochs = 150, \n",
    "                             batch_size=64,\n",
    "                             verbose = 1,\n",
    "                             validation_data = (x_val, y_val),\n",
    "                             callbacks = [es])"
   ]
  },
  {
   "cell_type": "code",
   "execution_count": null,
   "id": "a9e98860",
   "metadata": {},
   "outputs": [
    {
     "name": "stdout",
     "output_type": "stream",
     "text": [
      "4/4 [==============================] - 0s 2ms/step\n"
     ]
    }
   ],
   "source": [
    "pred_simples = model.predict(x_test)"
   ]
  },
  {
   "cell_type": "code",
   "execution_count": null,
   "id": "d1f49503",
   "metadata": {},
   "outputs": [
    {
     "data": {
      "text/plain": [
       "3.211255595263313"
      ]
     },
     "metadata": {},
     "output_type": "display_data"
    }
   ],
   "source": [
    "from sklearn.metrics import mean_absolute_error\n",
    "\n",
    "mean_absolute_error(y_test, pred_simples)"
   ]
  },
  {
   "cell_type": "code",
   "execution_count": null,
   "id": "147e8ece",
   "metadata": {},
   "outputs": [
    {
     "data": {
      "text/html": [
       "<div>\n",
       "<style scoped>\n",
       "    .dataframe tbody tr th:only-of-type {\n",
       "        vertical-align: middle;\n",
       "    }\n",
       "\n",
       "    .dataframe tbody tr th {\n",
       "        vertical-align: top;\n",
       "    }\n",
       "\n",
       "    .dataframe thead th {\n",
       "        text-align: right;\n",
       "    }\n",
       "</style>\n",
       "<table border=\"1\" class=\"dataframe\">\n",
       "  <thead>\n",
       "    <tr style=\"text-align: right;\">\n",
       "      <th></th>\n",
       "      <th>y_test</th>\n",
       "      <th>y_pred</th>\n",
       "    </tr>\n",
       "  </thead>\n",
       "  <tbody>\n",
       "    <tr>\n",
       "      <th>0</th>\n",
       "      <td>7.2</td>\n",
       "      <td>7.012816</td>\n",
       "    </tr>\n",
       "    <tr>\n",
       "      <th>1</th>\n",
       "      <td>18.8</td>\n",
       "      <td>17.909698</td>\n",
       "    </tr>\n",
       "    <tr>\n",
       "      <th>2</th>\n",
       "      <td>19.0</td>\n",
       "      <td>20.573135</td>\n",
       "    </tr>\n",
       "    <tr>\n",
       "      <th>3</th>\n",
       "      <td>27.0</td>\n",
       "      <td>31.341089</td>\n",
       "    </tr>\n",
       "    <tr>\n",
       "      <th>4</th>\n",
       "      <td>22.2</td>\n",
       "      <td>24.925478</td>\n",
       "    </tr>\n",
       "    <tr>\n",
       "      <th>...</th>\n",
       "      <td>...</td>\n",
       "      <td>...</td>\n",
       "    </tr>\n",
       "    <tr>\n",
       "      <th>97</th>\n",
       "      <td>21.9</td>\n",
       "      <td>54.880924</td>\n",
       "    </tr>\n",
       "    <tr>\n",
       "      <th>98</th>\n",
       "      <td>24.1</td>\n",
       "      <td>25.952681</td>\n",
       "    </tr>\n",
       "    <tr>\n",
       "      <th>99</th>\n",
       "      <td>50.0</td>\n",
       "      <td>47.812099</td>\n",
       "    </tr>\n",
       "    <tr>\n",
       "      <th>100</th>\n",
       "      <td>26.7</td>\n",
       "      <td>33.146236</td>\n",
       "    </tr>\n",
       "    <tr>\n",
       "      <th>101</th>\n",
       "      <td>25.0</td>\n",
       "      <td>20.189716</td>\n",
       "    </tr>\n",
       "  </tbody>\n",
       "</table>\n",
       "<p>102 rows × 2 columns</p>\n",
       "</div>"
      ],
      "text/plain": [
       "     y_test     y_pred\n",
       "0       7.2   7.012816\n",
       "1      18.8  17.909698\n",
       "2      19.0  20.573135\n",
       "3      27.0  31.341089\n",
       "4      22.2  24.925478\n",
       "..      ...        ...\n",
       "97     21.9  54.880924\n",
       "98     24.1  25.952681\n",
       "99     50.0  47.812099\n",
       "100    26.7  33.146236\n",
       "101    25.0  20.189716\n",
       "\n",
       "[102 rows x 2 columns]"
      ]
     },
     "metadata": {},
     "output_type": "display_data"
    }
   ],
   "source": [
    "import pandas as pd\n",
    "\n",
    "resultado = pd.DataFrame()\n",
    "resultado['y_test'] = y_test\n",
    "resultado['y_pred'] = pred_simples\n",
    "\n",
    "resultado"
   ]
  }
 ],
 "metadata": {
  "kernelspec": {
   "display_name": "Python 3 (ipykernel)",
   "language": "python",
   "name": "python3"
  },
  "language_info": {
   "codemirror_mode": {
    "name": "ipython",
    "version": 3
   },
   "file_extension": ".py",
   "mimetype": "text/x-python",
   "name": "python",
   "nbconvert_exporter": "python",
   "pygments_lexer": "ipython3",
   "version": "3.9.7"
  }
 },
 "nbformat": 4,
 "nbformat_minor": 5
}
