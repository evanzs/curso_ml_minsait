{
 "cells": [
  {
   "cell_type": "code",
   "execution_count": 1,
   "id": "849d3482",
   "metadata": {},
   "outputs": [],
   "source": [
    "from tensorflow import keras\n",
    "import matplotlib.pyplot as plt\n",
    "import numpy as np\n",
    "from sklearn.preprocessing import OneHotEncoder\n",
    "from sklearn.metrics import confusion_matrix\n",
    "from sklearn.metrics import accuracy_score"
   ]
  },
  {
   "cell_type": "markdown",
   "id": "d549ae25",
   "metadata": {},
   "source": [
    "### Prática\n",
    "1. Aquisição e pré-processamento dos dados\n",
    "2. Treinamento\n",
    "* Implementar arquitetura\n",
    "* Definir otimizadores, métricas e regularizadores\n",
    "3. Teste (avaliação de desempenho)"
   ]
  },
  {
   "cell_type": "markdown",
   "id": "82d3ffa6",
   "metadata": {},
   "source": [
    "# Prática - CIFAR 10"
   ]
  },
  {
   "cell_type": "markdown",
   "id": "ca61a45a",
   "metadata": {},
   "source": [
    "#### 1. Aquisição dos dados\n"
   ]
  },
  {
   "cell_type": "code",
   "execution_count": 2,
   "id": "0b1e00e0",
   "metadata": {},
   "outputs": [],
   "source": [
    "(x_train, y_train), (x_test, y_test) = keras.datasets.cifar10.load_data()"
   ]
  },
  {
   "cell_type": "code",
   "execution_count": 3,
   "id": "396c9f1e",
   "metadata": {},
   "outputs": [
    {
     "name": "stdout",
     "output_type": "stream",
     "text": [
      "(50000, 32, 32, 3)\n",
      "(10000, 32, 32, 3)\n",
      "(10000, 1)\n"
     ]
    }
   ],
   "source": [
    "print(x_train.shape)\n",
    "print(x_test.shape)\n",
    "print(y_test.shape)"
   ]
  },
  {
   "cell_type": "code",
   "execution_count": 4,
   "id": "bb069ec6",
   "metadata": {},
   "outputs": [
    {
     "data": {
      "image/png": "[encoded data removed]",
      "text/plain": [
       "<Figure size 432x288 with 1 Axes>"
      ]
     },
     "metadata": {
      "needs_background": "light"
     },
     "output_type": "display_data"
    }
   ],
   "source": [
    "# Escolhendo uma imagem para plotar\n",
    "sample = 10\n",
    "image = x_train[sample]\n",
    "\n",
    "# Plotando a imagem\n",
    "fig = plt.figure\n",
    "plt.imshow(image)\n",
    "plt.show()"
   ]
  },
  {
   "cell_type": "markdown",
   "id": "6878b512",
   "metadata": {},
   "source": [
    "#### 2. Pré-processamento\n",
    "\n",
    "#### Normalização"
   ]
  },
  {
   "cell_type": "code",
   "execution_count": 5,
   "id": "88502b31",
   "metadata": {},
   "outputs": [
    {
     "data": {
      "text/plain": [
       "255"
      ]
     },
     "execution_count": 5,
     "metadata": {},
     "output_type": "execute_result"
    }
   ],
   "source": [
    "np.max(x_train)"
   ]
  },
  {
   "cell_type": "code",
   "execution_count": 6,
   "id": "512212eb",
   "metadata": {},
   "outputs": [],
   "source": [
    "m = np.max(x_train)\n",
    "x_train = x_train/m\n",
    "x_test = x_test/m"
   ]
  },
  {
   "cell_type": "code",
   "execution_count": 14,
   "id": "c88ad95b",
   "metadata": {},
   "outputs": [
    {
     "data": {
      "text/plain": [
       "array([[6],\n",
       "       [9],\n",
       "       [9],\n",
       "       ...,\n",
       "       [9],\n",
       "       [1],\n",
       "       [1]], dtype=uint8)"
      ]
     },
     "execution_count": 14,
     "metadata": {},
     "output_type": "execute_result"
    }
   ],
   "source": [
    "y_train"
   ]
  },
  {
   "cell_type": "markdown",
   "id": "165d74ac",
   "metadata": {},
   "source": [
    "#### One hot encoder na variável alvo"
   ]
  },
  {
   "cell_type": "code",
   "execution_count": 7,
   "id": "9df17052",
   "metadata": {},
   "outputs": [
    {
     "data": {
      "text/plain": [
       "array([[0., 0., 0., ..., 0., 0., 0.],\n",
       "       [0., 0., 0., ..., 0., 0., 1.],\n",
       "       [0., 0., 0., ..., 0., 0., 1.],\n",
       "       ...,\n",
       "       [0., 0., 0., ..., 0., 0., 1.],\n",
       "       [0., 1., 0., ..., 0., 0., 0.],\n",
       "       [0., 1., 0., ..., 0., 0., 0.]])"
      ]
     },
     "execution_count": 7,
     "metadata": {},
     "output_type": "execute_result"
    }
   ],
   "source": [
    "hot = OneHotEncoder()\n",
    "y_train = hot.fit_transform(y_train.reshape(-1, 1)).toarray()\n",
    "y_test = hot.transform(y_test.reshape(-1, 1)).toarray()\n",
    "\n",
    "\n",
    "y_train"
   ]
  },
  {
   "cell_type": "markdown",
   "id": "efb302b6",
   "metadata": {},
   "source": [
    "#### 3. Particionamento de base de dados"
   ]
  },
  {
   "cell_type": "code",
   "execution_count": 8,
   "id": "ab9d3a18",
   "metadata": {},
   "outputs": [
    {
     "data": {
      "text/plain": [
       "((40000, 32, 32, 3),\n",
       " (10000, 32, 32, 3),\n",
       " (10000, 32, 32, 3),\n",
       " (40000, 10),\n",
       " (10000, 10),\n",
       " (10000, 10))"
      ]
     },
     "execution_count": 8,
     "metadata": {},
     "output_type": "execute_result"
    }
   ],
   "source": [
    "from sklearn.model_selection import train_test_split\n",
    "\n",
    "x_treino, x_val, y_treino, y_val = train_test_split(x_train, y_train, test_size = 0.2, random_state = 13)\n",
    "\n",
    "x_treino.shape, x_val.shape, x_test.shape, y_treino.shape, y_val.shape, y_test.shape, "
   ]
  },
  {
   "cell_type": "markdown",
   "id": "d26653b6",
   "metadata": {},
   "source": [
    "#### 4. Treinamento - definição de arquitetura\n",
    "1. Definir quantas camadas são necessárias par o problema\n",
    "2. A quantidade de neurônios em cada camada\n",
    "3. A função de ativação de cada camada\n",
    "4. A função de ativação da saída\n",
    "* softmax (saída não binária)\n",
    "* sigmoid (saída binária)"
   ]
  },
  {
   "cell_type": "code",
   "execution_count": 9,
   "id": "87ec35fd",
   "metadata": {},
   "outputs": [],
   "source": [
    "from keras.layers import Dense, Activation, Dropout, Flatten\n",
    "from keras.models import Sequential\n",
    "from keras.callbacks import EarlyStopping"
   ]
  },
  {
   "cell_type": "code",
   "execution_count": 10,
   "id": "375ffb16",
   "metadata": {},
   "outputs": [],
   "source": [
    "rede_simples = Sequential()\n",
    "\n",
    "rede_simples.add(Flatten())\n",
    "rede_simples.add(Dense(240, input_dim = 1024))\n",
    "rede_simples.add(Activation('relu'))\n",
    "rede_simples.add(Dropout(0.3))\n",
    "rede_simples.add(Dense(10))\n",
    "rede_simples.add(Activation('softmax'))"
   ]
  },
  {
   "cell_type": "code",
   "execution_count": 11,
   "id": "2e053a0c",
   "metadata": {},
   "outputs": [],
   "source": [
    "import tensorflow as tf\n",
    "\n",
    "rede_simples.compile(loss = 'categorical_crossentropy', optimizer = 'Adam', metrics=['accuracy'])"
   ]
  },
  {
   "cell_type": "code",
   "execution_count": 12,
   "id": "29893d9d",
   "metadata": {},
   "outputs": [
    {
     "name": "stdout",
     "output_type": "stream",
     "text": [
      "Epoch 1/50\n",
      "625/625 [==============================] - 5s 7ms/step - loss: 2.0270 - accuracy: 0.2558 - val_loss: 1.8428 - val_accuracy: 0.3450\n",
      "Epoch 2/50\n",
      "625/625 [==============================] - 4s 6ms/step - loss: 1.9239 - accuracy: 0.2905 - val_loss: 1.7893 - val_accuracy: 0.3613\n",
      "Epoch 3/50\n",
      "625/625 [==============================] - 4s 6ms/step - loss: 1.8949 - accuracy: 0.3032 - val_loss: 1.7704 - val_accuracy: 0.3694\n",
      "Epoch 4/50\n",
      "625/625 [==============================] - 4s 6ms/step - loss: 1.8697 - accuracy: 0.3142 - val_loss: 1.7438 - val_accuracy: 0.3786\n",
      "Epoch 5/50\n",
      "625/625 [==============================] - 4s 6ms/step - loss: 1.8596 - accuracy: 0.3234 - val_loss: 1.7487 - val_accuracy: 0.3727\n",
      "Epoch 6/50\n",
      "625/625 [==============================] - 4s 6ms/step - loss: 1.8509 - accuracy: 0.3275 - val_loss: 1.7744 - val_accuracy: 0.3729\n",
      "Epoch 7/50\n",
      "625/625 [==============================] - 4s 6ms/step - loss: 1.8308 - accuracy: 0.3333 - val_loss: 1.7516 - val_accuracy: 0.3806\n",
      "Epoch 8/50\n",
      "625/625 [==============================] - 4s 6ms/step - loss: 1.8280 - accuracy: 0.3386 - val_loss: 1.7214 - val_accuracy: 0.3850\n",
      "Epoch 9/50\n",
      "625/625 [==============================] - 4s 6ms/step - loss: 1.8234 - accuracy: 0.3361 - val_loss: 1.6994 - val_accuracy: 0.3981\n",
      "Epoch 10/50\n",
      "625/625 [==============================] - 4s 6ms/step - loss: 1.8069 - accuracy: 0.3437 - val_loss: 1.6879 - val_accuracy: 0.3837\n",
      "Epoch 11/50\n",
      "625/625 [==============================] - 4s 6ms/step - loss: 1.7997 - accuracy: 0.3457 - val_loss: 1.7047 - val_accuracy: 0.3921\n",
      "Epoch 12/50\n",
      "625/625 [==============================] - 4s 6ms/step - loss: 1.7953 - accuracy: 0.3511 - val_loss: 1.6680 - val_accuracy: 0.4102\n",
      "Epoch 13/50\n",
      "625/625 [==============================] - 4s 6ms/step - loss: 1.7885 - accuracy: 0.3520 - val_loss: 1.6600 - val_accuracy: 0.4121\n",
      "Epoch 14/50\n",
      "625/625 [==============================] - 4s 6ms/step - loss: 1.7816 - accuracy: 0.3550 - val_loss: 1.6650 - val_accuracy: 0.4078\n",
      "Epoch 15/50\n",
      "625/625 [==============================] - 4s 6ms/step - loss: 1.7782 - accuracy: 0.3566 - val_loss: 1.6928 - val_accuracy: 0.3964\n",
      "Epoch 16/50\n",
      "625/625 [==============================] - 4s 6ms/step - loss: 1.7715 - accuracy: 0.3591 - val_loss: 1.6507 - val_accuracy: 0.4116\n",
      "Epoch 17/50\n",
      "625/625 [==============================] - 4s 6ms/step - loss: 1.7723 - accuracy: 0.3563 - val_loss: 1.6695 - val_accuracy: 0.4070\n",
      "Epoch 18/50\n",
      "625/625 [==============================] - 4s 6ms/step - loss: 1.7696 - accuracy: 0.3610 - val_loss: 1.6715 - val_accuracy: 0.4078\n",
      "Epoch 19/50\n",
      "625/625 [==============================] - 4s 6ms/step - loss: 1.7643 - accuracy: 0.3608 - val_loss: 1.6442 - val_accuracy: 0.4195\n",
      "Epoch 20/50\n",
      "625/625 [==============================] - 4s 6ms/step - loss: 1.7554 - accuracy: 0.3651 - val_loss: 1.6486 - val_accuracy: 0.4154\n",
      "Epoch 21/50\n",
      "625/625 [==============================] - 4s 6ms/step - loss: 1.7541 - accuracy: 0.3652 - val_loss: 1.6484 - val_accuracy: 0.4185\n",
      "Epoch 22/50\n",
      "625/625 [==============================] - 4s 6ms/step - loss: 1.7560 - accuracy: 0.3665 - val_loss: 1.6687 - val_accuracy: 0.4013\n",
      "Epoch 23/50\n",
      "625/625 [==============================] - 4s 6ms/step - loss: 1.7453 - accuracy: 0.3661 - val_loss: 1.6545 - val_accuracy: 0.4086\n",
      "Epoch 24/50\n",
      "625/625 [==============================] - 4s 6ms/step - loss: 1.7541 - accuracy: 0.3659 - val_loss: 1.6378 - val_accuracy: 0.4190\n",
      "Epoch 25/50\n",
      "625/625 [==============================] - 4s 6ms/step - loss: 1.7447 - accuracy: 0.3668 - val_loss: 1.6430 - val_accuracy: 0.4249\n",
      "Epoch 26/50\n",
      "625/625 [==============================] - 4s 6ms/step - loss: 1.7460 - accuracy: 0.3670 - val_loss: 1.6450 - val_accuracy: 0.4105\n",
      "Epoch 27/50\n",
      "625/625 [==============================] - 4s 6ms/step - loss: 1.7386 - accuracy: 0.3710 - val_loss: 1.6443 - val_accuracy: 0.4078\n",
      "Epoch 28/50\n",
      "625/625 [==============================] - 4s 6ms/step - loss: 1.7338 - accuracy: 0.3693 - val_loss: 1.6268 - val_accuracy: 0.4207\n",
      "Epoch 29/50\n",
      "625/625 [==============================] - 4s 6ms/step - loss: 1.7391 - accuracy: 0.3677 - val_loss: 1.6363 - val_accuracy: 0.4209\n",
      "Epoch 30/50\n",
      "625/625 [==============================] - 4s 6ms/step - loss: 1.7298 - accuracy: 0.3725 - val_loss: 1.6175 - val_accuracy: 0.4306\n",
      "Epoch 31/50\n",
      "625/625 [==============================] - 4s 6ms/step - loss: 1.7309 - accuracy: 0.3737 - val_loss: 1.6192 - val_accuracy: 0.4245\n",
      "Epoch 32/50\n",
      "625/625 [==============================] - 4s 6ms/step - loss: 1.7273 - accuracy: 0.3742 - val_loss: 1.6224 - val_accuracy: 0.4265\n",
      "Epoch 33/50\n",
      "625/625 [==============================] - 4s 6ms/step - loss: 1.7291 - accuracy: 0.3737 - val_loss: 1.6313 - val_accuracy: 0.4123\n",
      "Epoch 34/50\n",
      "625/625 [==============================] - 4s 6ms/step - loss: 1.7262 - accuracy: 0.3726 - val_loss: 1.6096 - val_accuracy: 0.4334\n",
      "Epoch 35/50\n",
      "625/625 [==============================] - 4s 6ms/step - loss: 1.7238 - accuracy: 0.3718 - val_loss: 1.6159 - val_accuracy: 0.4180\n",
      "Epoch 36/50\n",
      "625/625 [==============================] - 4s 6ms/step - loss: 1.7197 - accuracy: 0.3777 - val_loss: 1.6127 - val_accuracy: 0.4243\n",
      "Epoch 37/50\n",
      "625/625 [==============================] - 4s 6ms/step - loss: 1.7178 - accuracy: 0.3747 - val_loss: 1.6345 - val_accuracy: 0.4175\n",
      "Epoch 38/50\n",
      "625/625 [==============================] - 4s 6ms/step - loss: 1.7146 - accuracy: 0.3755 - val_loss: 1.6472 - val_accuracy: 0.4220\n",
      "Epoch 39/50\n",
      "625/625 [==============================] - 4s 6ms/step - loss: 1.7199 - accuracy: 0.3766 - val_loss: 1.6013 - val_accuracy: 0.4301\n",
      "Epoch 40/50\n",
      "625/625 [==============================] - 4s 6ms/step - loss: 1.7135 - accuracy: 0.3771 - val_loss: 1.6118 - val_accuracy: 0.4261\n",
      "Epoch 41/50\n",
      "625/625 [==============================] - 4s 6ms/step - loss: 1.7150 - accuracy: 0.3772 - val_loss: 1.6165 - val_accuracy: 0.4179\n",
      "Epoch 42/50\n",
      "625/625 [==============================] - 4s 6ms/step - loss: 1.7179 - accuracy: 0.3765 - val_loss: 1.6191 - val_accuracy: 0.4168\n",
      "Epoch 43/50\n",
      "625/625 [==============================] - 4s 6ms/step - loss: 1.7122 - accuracy: 0.3770 - val_loss: 1.6363 - val_accuracy: 0.4096\n",
      "Epoch 44/50\n",
      "625/625 [==============================] - 4s 6ms/step - loss: 1.7094 - accuracy: 0.3812 - val_loss: 1.6239 - val_accuracy: 0.4234\n",
      "Epoch 45/50\n",
      "625/625 [==============================] - 4s 6ms/step - loss: 1.7100 - accuracy: 0.3768 - val_loss: 1.6167 - val_accuracy: 0.4183\n",
      "Epoch 46/50\n",
      "625/625 [==============================] - 4s 6ms/step - loss: 1.7123 - accuracy: 0.3776 - val_loss: 1.6180 - val_accuracy: 0.4217\n",
      "Epoch 47/50\n",
      "625/625 [==============================] - 4s 6ms/step - loss: 1.7041 - accuracy: 0.3846 - val_loss: 1.6328 - val_accuracy: 0.4093\n",
      "Epoch 48/50\n",
      "625/625 [==============================] - 4s 6ms/step - loss: 1.7051 - accuracy: 0.3794 - val_loss: 1.6067 - val_accuracy: 0.4277\n",
      "Epoch 49/50\n",
      "625/625 [==============================] - 4s 6ms/step - loss: 1.7004 - accuracy: 0.3822 - val_loss: 1.6151 - val_accuracy: 0.4257\n",
      "Epoch 49: early stopping\n"
     ]
    }
   ],
   "source": [
    "es = EarlyStopping(monitor = 'val_loss', min_delta = 0.001, patience = 10, verbose = 1, mode = 'auto')\n",
    "    \n",
    "historico = rede_simples.fit(x_treino, \n",
    "                             y_treino, \n",
    "                             epochs = 50, \n",
    "                             batch_size=64,\n",
    "                             verbose = 1,\n",
    "                             validation_data = (x_val, y_val),\n",
    "                             callbacks = [es])"
   ]
  },
  {
   "cell_type": "code",
   "execution_count": 14,
   "id": "44f96807",
   "metadata": {},
   "outputs": [
    {
     "name": "stdout",
     "output_type": "stream",
     "text": [
      "313/313 [==============================] - 1s 2ms/step\n",
      "0.4258\n",
      "[[395  55  74  27  65  10  20  69 241  44]\n",
      " [ 38 610  25  19  25  21  21  31  90 120]\n",
      " [ 75  36 166  47 301  62 150 108  38  17]\n",
      " [ 10  46  82 217 135 153 190  89  44  34]\n",
      " [ 39   8  68  31 451  38 195 118  37  15]\n",
      " [  8  32  85 147 161 290 106  98  55  18]\n",
      " [  8  14  39  61 189  40 572  40  19  18]\n",
      " [ 25  30  66  35 133  62  48 529  31  41]\n",
      " [126  80  13  28  35  16  15  23 613  51]\n",
      " [ 52 266   9  21  22  14  37  80  84 415]]\n"
     ]
    }
   ],
   "source": [
    "from sklearn.metrics import confusion_matrix\n",
    "from sklearn.metrics import accuracy_score\n",
    "\n",
    "pred_simples = rede_simples.predict(x_test)\n",
    "\n",
    "print(accuracy_score(y_test.argmax(1), pred_simples.argmax(1)))\n",
    "print(confusion_matrix(y_test.argmax(1), pred_simples.argmax(1)))"
   ]
  },
  {
   "cell_type": "code",
   "execution_count": 15,
   "id": "155aaff7",
   "metadata": {},
   "outputs": [
    {
     "data": {
      "image/png": "[encoded data removed]",
      "text/plain": [
       "<Figure size 432x288 with 1 Axes>"
      ]
     },
     "metadata": {
      "needs_background": "light"
     },
     "output_type": "display_data"
    }
   ],
   "source": [
    "loss = historico.history['loss']\n",
    "val_loss = historico.history['val_loss']\n",
    "epochs = range(len(loss))\n",
    "plt.figure()\n",
    "plt.plot(epochs, loss, 'bo', label = 'Training loss')\n",
    "plt.plot(epochs, val_loss, 'b', label = 'Validation loss')\n",
    "plt.title('Training and validation loss')\n",
    "plt.legend()\n",
    "plt.show()"
   ]
  }
 ],
 "metadata": {
  "kernelspec": {
   "display_name": "Python 3 (ipykernel)",
   "language": "python",
   "name": "python3"
  },
  "language_info": {
   "codemirror_mode": {
    "name": "ipython",
    "version": 3
   },
   "file_extension": ".py",
   "mimetype": "text/x-python",
   "name": "python",
   "nbconvert_exporter": "python",
   "pygments_lexer": "ipython3",
   "version": "3.9.7"
  }
 },
 "nbformat": 4,
 "nbformat_minor": 5
}
